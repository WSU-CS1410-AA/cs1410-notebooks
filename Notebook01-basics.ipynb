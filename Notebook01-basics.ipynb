{
 "cells": [
  {
   "cell_type": "markdown",
   "metadata": {},
   "source": [
    "# Introduction\n",
    "A *program* is a recipe for solving a problem or producing an outcome. It contains a list of detailed instructions describing precisely what a computer does to achieve that desired solution or outcome. The art and science of writing computer programs is called *programming*. \n",
    "\n",
    "Because computers are machines made of electrical circuitry where only the binary choices of *on* and *off* ( 1 and 0) are recognizable (or have meaning), the programs, that computers are able to run, need to be in this binary format as well. A program written in such a format is said to be in *machine code*, and it can be run (or executed) directly by the computer.\n",
    "\n",
    "The fact that computers only understand machine code, however, presents a problem for *programmers* (the human beings writing programs) who find it extremely difficult and time-consuming to work at that binary level. To bridge this understanding gap, *programming languages* were created. They allow programmers to write programs in a format close to their natural language (mostly English) and provide tools such as *compilers* and *interpreters* to convert their high-level programs into the machine code that the computer understands and is able to run.\n",
    "\n",
    "```                                 \n",
    "                                    \n",
    "Ruby, Python, JavaScript, Scala     ▲       | \n",
    "                                    |       |\n",
    "                                    |       |\n",
    "                       Java, C#     |       |\n",
    "                                    |       |      \n",
    "                                    |       |     \n",
    "                            C++     |       |\n",
    "                              C     |       |\n",
    "                                    |       |     \n",
    "                                    |       |\n",
    "                       Assembly     |       |\n",
    "                                    |       |\n",
    "                   Machine code     |       ▼\n",
    "                   \n",
    "                                  Level   Speed\n",
    "\n",
    "```\n"
   ]
  },
  {
   "cell_type": "markdown",
   "metadata": {},
   "source": [
    "## Programming languages\n",
    "Many programming languages exist today and new ones are invented all the time. Some of these languages are low-level. Assembly is a low-level language with a linear one-to-one mapping between its instructions and their machine code counterparts. Low-level programming has the property of producing the fastest programs, but this gain in performance comes at the cost of its programming being difficult, time-consuming, and prone to errors. High-level languages such as C, C++, Java, C\\# Ruby, Python, JavaScript, and Scala, as the above figure shows, are easier to program but not as fast. Fortunately, programming using high-level languages is fast enough for most of what we need computers for. \n",
    "\n",
    "Using a high-level programming language has many advantages:\n",
    "\n",
    "* It hides the details of computer hardware that programmers do not need to know to create programs.; thus separating hardware (the physical machine with all of its parts and wirings) from software (the programs that run on it.)\n",
    "* It allows programmers to focus more on solving problems rather than formatting programs in machine code.\n",
    "* It makes programming a lot easier to learn.\n",
    "* It makes programs a lot easier to read and understand.\n",
    "\n",
    "Programming languages are classified, based on how often their programs are translated to machine code, into three camps:  compiled, interpreted, and both. A compiled language provides a special program called the *compiler* (thus the name *compiled*) to translate its programs into executable machine code. This translation happens only when the program is first written or when it changes. The generated machine code is used after that to run the program. Examples of compiled programming languages are C, C++, and Go. \n",
    "\n",
    "An interpreted language such as Python, Ruby, and JavaScript uses a program called the *interpreter* to run its programs. The interpreter translates the program to machine code every time it runs. The translation overhead makes interpreted programs slower than compiled ones.\n",
    "\n",
    "Yet some languages such as Java and C\\# are both compiled and interpreted. Their programs are first compiled to an intermediate binary form (bytecode for Java and intermediate language IL for C\\#). This compilation step happens only when the program is first written or when it changes. After that, the compiled intermediate binary form is interpreted every time these programs run.\n"
   ]
  },
  {
   "cell_type": "markdown",
   "metadata": {},
   "source": [
    "## Computers from a programmer's perspective\n",
    "\n",
    "```\n",
    "          +-----------+      +---------------------+      +------------+ \n",
    " Keyboard |           |      |                     |      |            | Screen\n",
    "    Mouse |           |      |                     |      |            | Printer\n",
    "  Scanner |   Input   |----->|        Memory       |----->|   Output   | Speaker\n",
    "     File |           |      |                     |      |            | File\n",
    " Database |           |      |                     |      |            | Database\n",
    "          +-----------+      +---------------------+      +------------+\n",
    "                                 ▲             |   \n",
    "                                 |             |\n",
    "                                 |             |\n",
    "                                 |             ▼\n",
    "                             +---------------------+\n",
    "                             |                     |\n",
    "                             |                     |\n",
    "                             |   Processor (CPU)   |\n",
    "                             |                     |\n",
    "                             |                     |\n",
    "                             +---------------------+ \n",
    "          \n",
    "```\n",
    "\n",
    "As a programmer, you need to have a sense of what a computer can and cannot do. The figure above depicts a simplified model of what a computer is from a programmer's perspective. It consists of four major components: processor, memory, input, and output. All the interactions between these components are initiated by the processor based on the program being executed. To execute a program, the computer does the following:\n",
    "\n",
    "* It loads the program from the file it is saved under into the code section of the memory.\n",
    "* It loads the program to the processor for execution.\n",
    "* It executes the program instructions one at a time in the order specified by the program.\n",
    "* When the program needs to load data from file or get an input via the keyboard, it instructs the relevant parts of the computer to read (or load) data from the input device into the data memory section; It later loads the newly read data into the processor for processing.\n",
    "* Similarly, when the program needs to write some output to a device such as a screen, a printer or even a file on the hard drive, the processor stores that information in memory first and instructs the relevant output device to pick the data from there. \n",
    "\n",
    "The figure above also gives a hint to what a program is: an ordered list of fully-detailed and precise instructions loaded into the memory and executed by the processor to produce the desired output based on the given input. The instructions that make up a program are called *statements* and are of the following kinds:\n",
    "\n",
    "* **Input:** Reads data from a keyboard, a file on the hard drive, or a URL on the web.\n",
    "* **Output:** Displays data on a screen, prints it, or writes it to a file.\n",
    "* **Arithmetics:** Add, subtract, multiply, divide, and compare.\n",
    "* **Conditional execution:** Executes an instruction or a set of instructions only when a certain condition is met.\n",
    "* **Repetitive execution:** Repeats executing an instruction or a set of instructions until a certain condition is met.\n",
    "* **Jumps:** Causes execution to jump from one part of the program to another.\n",
    "\n",
    "In other words, all computers do is perform mathematical and logical arithmetics, move things to/from the processor from/to the memory, jump from one program section to another, do certain things conditionally, and do other things repeatedly. \n",
    "\n",
    "It’s amazing how all the complex and powerful computer applications, that we currently use or can think of, can be stripped down to these six kinds of instructions/statements. This fact is not lost on programming languages; in their own ways, all programming languages support these basic kinds of instructions. \n",
    "\n",
    "It is important to understand here that there is no magic to computers or programming. There is only the human ingenuity, cleverness, and extremely creative engineering that solves the most complex problems using the above instruction kinds. In other words, a computer does not solve a problem, a programmer does by studying the problem, devising a solution, and coding that solution into a program that the computer can execute. \n",
    "\n",
    "The result of this realization is that the computer does exactly what you ask of it: no more and no less. It is as clever, as complex, or as simple as your program is. This is not to belittle what computers do but to stress the fact that anything a computer does is the result of an idea or a set of ideas thought of and reasoned thoroughly by a human and group of humans who took the time and effort to express these ideas in the programming form that computers understand.\n",
    "\n",
    "Having said that, it is truly amazing that an abstract idea expressed in a program can be brought to life or turned into reality by a computer. Perhaps that is the magic of computers: the idea-realizing machines."
   ]
  },
  {
   "cell_type": "markdown",
   "metadata": {},
   "source": [
    "# C++ Programming Basics\n",
    "\n",
    "## The Hello World program\n",
    "Here is the simplest C++ program. It contains only one function named `main`. This function does only one thing: it prints the string \"Hello, World!\" to the screen.\n",
    "\n",
    "``` c++\n",
    "// FILE: ex01-hello.cpp\n",
    "#include <iostream>\n",
    "\n",
    "int main(){\n",
    "  std::cout << \"Hello, world!\" << std::endl;\n",
    "\n",
    "  return 0;\n",
    "}\n",
    "```\n",
    "\n",
    "Use the `std::cout` along with the **insertion operator** `<<` to output text (strings and numbers) to the console. We can use `std::endl` to output a line break. To use `std::cout`, we must first include the `<iostream>` header file.\n",
    "\n",
    "Here is the example hello-world output statement. Run it by selecting and running (using Run button) the following two code cells."
   ]
  },
  {
   "cell_type": "code",
   "execution_count": 1,
   "metadata": {},
   "outputs": [],
   "source": [
    "#include <iostream>"
   ]
  },
  {
   "cell_type": "code",
   "execution_count": 2,
   "metadata": {},
   "outputs": [
    {
     "name": "stdout",
     "output_type": "stream",
     "text": [
      "Hello, world!\n"
     ]
    }
   ],
   "source": [
    "std::cout << \"Hello, world!\" << std::endl;"
   ]
  },
  {
   "cell_type": "markdown",
   "metadata": {},
   "source": [
    "Notice the semicolon `;` at the end of the statement which signals the end of that statement. In C++ semicolons at the end of statements are **required**, and forgetting semicolons is a COMMON error that beginner programmers do.\n",
    "\n",
    "## C++ does not care about white spaces (space, tabs, and new lines)\n",
    "C++ does not care much for white space (spaces, tabs, and new lines). So the above statement would still work if was written as:"
   ]
  },
  {
   "cell_type": "code",
   "execution_count": 3,
   "metadata": {},
   "outputs": [
    {
     "name": "stdout",
     "output_type": "stream",
     "text": [
      "Hello, world!\n"
     ]
    }
   ],
   "source": [
    "std ::  cout <<                \"Hello, world!\" << \n",
    "    std   ::   endl;"
   ]
  },
  {
   "cell_type": "markdown",
   "metadata": {},
   "source": [
    "However, spaces cannot break operators like `::` and `<<` or keywords like `int` or `while`. Doing so will result in errors. Uncomment and run the following statement to see these errors."
   ]
  },
  {
   "cell_type": "code",
   "execution_count": 4,
   "metadata": {},
   "outputs": [],
   "source": [
    "// std::cout < < \"Hello, world!\" <   < std: :endl;"
   ]
  },
  {
   "cell_type": "markdown",
   "metadata": {},
   "source": [
    "### CODING CHALLENGE 1\n",
    "Copy the above statement to the code cell below, fix it and and re-write it such that it spans five lines.  Make sure it still runs."
   ]
  },
  {
   "cell_type": "code",
   "execution_count": 5,
   "metadata": {},
   "outputs": [],
   "source": [
    "//TODO"
   ]
  },
  {
   "cell_type": "markdown",
   "metadata": {},
   "source": [
    "## Outputting new lines\n",
    "We can output new lines using both the manipulator `std::endl` or the character `'\\n'`."
   ]
  },
  {
   "cell_type": "code",
   "execution_count": 6,
   "metadata": {},
   "outputs": [
    {
     "name": "stdout",
     "output_type": "stream",
     "text": [
      "Hello, world!\n",
      "Good\n",
      "morning!\n",
      "Welcome\n",
      "to\n",
      "C++!!!"
     ]
    }
   ],
   "source": [
    "std::cout << \"Hello, world!\" << std::endl;\n",
    "std::cout << \"Good\" << std::endl << \"morning!\" << std::endl;\n",
    "std::cout << \"Welcome\\nto\\nC++!!!\";"
   ]
  },
  {
   "cell_type": "markdown",
   "metadata": {},
   "source": [
    "And we can chain as many output pieces to a single `std::cout` as possible. The statement below is equivalent to the the above three statements."
   ]
  },
  {
   "cell_type": "code",
   "execution_count": 7,
   "metadata": {},
   "outputs": [
    {
     "name": "stdout",
     "output_type": "stream",
     "text": [
      "Hello, world!\n",
      "Good\n",
      "morning!\n",
      "Welcome\n",
      "to\n",
      "C++!!!"
     ]
    }
   ],
   "source": [
    "std::cout << \"Hello, world!\" << std::endl\n",
    "          << \"Good\" << std::endl << \"morning!\" << std::endl\n",
    "          << \"Welcome\\nto\\nC++!!!\";"
   ]
  },
  {
   "cell_type": "markdown",
   "metadata": {},
   "source": [
    "### CODING CHALLENGE 2\n",
    "Rewrite the above statement in the code cell below by replacing `std::endl` with `'\\n'` and vice versa."
   ]
  },
  {
   "cell_type": "code",
   "execution_count": 8,
   "metadata": {},
   "outputs": [],
   "source": [
    "//TODO"
   ]
  },
  {
   "cell_type": "markdown",
   "metadata": {},
   "source": [
    "## Using namespaces\n",
    "To avoid having to put `std::` in front of every `cout`, `endl`, and other functions from the standard C++ library, we could use the `using namespace std;` statement typically, but not necessarily, right after the include directives.\n",
    "\n",
    "``` c++\n",
    "// FILE: ex01-hello-2.cpp\n",
    "#include <iostream>\n",
    "using namespace std;\n",
    "\n",
    "int main(){\n",
    "  cout << \"Hello, world!\\n\";\n",
    "\n",
    "  return 0;\n",
    "}\n",
    "```\n",
    "\n",
    "### CODING CHALLENGE 3\n",
    "\n",
    "Rewrite the \n",
    "``` c++\n",
    "std::cout << \"Hello, world!\" << std::endl\n",
    "          << \"Good\" << std::endl << \"morning!\" << std::endl\n",
    "          << \"Welcome\\nto\\nC++!!!\";\n",
    "```\n",
    "statement in the code cell below by removing the `std::` prefixes. "
   ]
  },
  {
   "cell_type": "code",
   "execution_count": 9,
   "metadata": {},
   "outputs": [],
   "source": [
    "using namespace std;\n",
    "//TODO"
   ]
  },
  {
   "cell_type": "markdown",
   "metadata": {},
   "source": [
    "## Comments\n",
    "Comments are notes you leave in your programs to explain how they work or should be used to yourself or to anyone who reads your code. When the compiler sees these comments, it ignores them. \n",
    "\n",
    "C++ supports two kinds of comments:\n",
    "* Single line comments which start with two forward slashes `//` until end of line"
   ]
  },
  {
   "cell_type": "code",
   "execution_count": 10,
   "metadata": {},
   "outputs": [],
   "source": [
    "// single line comment; until end of line."
   ]
  },
  {
   "cell_type": "markdown",
   "metadata": {},
   "source": [
    "* multi-line comments which start with forward slash star `/*` and ends with star forward slash `*/`."
   ]
  },
  {
   "cell_type": "code",
   "execution_count": 11,
   "metadata": {},
   "outputs": [],
   "source": [
    "/* \n",
    "  multi-line comment; spans\n",
    "  one\n",
    "  or\n",
    "  more \n",
    "  lines.\n",
    "*/"
   ]
  },
  {
   "cell_type": "markdown",
   "metadata": {},
   "source": [
    "## Data types\n",
    "C++ programs work with data of many types. The most common data types are :\n",
    "* Integers like 1, 5, 10, -16: we use the keyword `int` to define integers.\n",
    "* Decimals such as .2, 5.3, 3.2: we use the keyword `double` to define double-precision decimals and the keyword `float` to define single-precision decimals. Use `double` for decimals unless you are told otherwise.\n",
    "* Characters: which are single letters or symbols written between single quotes, such as the letter `'A'`, the digit `'8'`, the symbol `'@'` the line break character `'\\n'`, the tab character `'\\t'`. We use the keyword `char` to define single characters.\n",
    "* Booleans which are either `true` or `false`. We use the keyword `bool` to define booleans.\n",
    "* Strings which are one or more characters between double quotes such as the `\"hello world\"` text or the name `\"Sam\"`. We use the class `string` to define strings, which requires including the `<string>` header file.\n",
    "\n",
    "We must use these data types to define variables. \n",
    "\n",
    "To define a variable, we start with the data type of the variable followed by its name:\n",
    "\n",
    "``` c++\n",
    "  <data-type> <variable-name>;\n",
    "```\n",
    "\n",
    "Optionally we can initialize the variable at the time of its creation by providing an initial value in two ways:\n",
    "\n",
    "\n",
    "``` c++\n",
    "  <data-type> <variable-name> = <initial-value>;\n",
    "```\n",
    "\n",
    "or\n",
    "\n",
    "``` c++\n",
    "  <data-type> <variable-name> { <initial-value> };\n",
    "```\n",
    "\n",
    "\n",
    "Below are example variable definitions: some are initialized; others are not. "
   ]
  },
  {
   "cell_type": "code",
   "execution_count": 12,
   "metadata": {},
   "outputs": [],
   "source": [
    "#include <string> // For the string variables\n",
    "\n",
    "int number;\n",
    "double pi = 3.14;\n",
    "char letter;\n",
    "bool active = true;\n",
    "float half { 0.5f }; // the f in 0.5f is for float\n",
    "string message = \"Good morning!\";\n",
    "char vowel { 'i' };\n",
    "bool married { false };"
   ]
  },
  {
   "cell_type": "markdown",
   "metadata": {},
   "source": [
    "As the examples above show, variable names must be valid **C++ identifiers**. That means they:\n",
    "* can only contain letters, digits, and underscores, \n",
    "* cannot start with a digit, and \n",
    "* cannot be a C++ keyword.\n",
    "\n",
    "And you must always remember that:\n",
    "* **a variable must be defined before it can be used**\n",
    "* **it can only be defined once**. \n",
    "\n",
    "Try running the code cell above again. Do you see the error?\n",
    "\n",
    "### CODING CHALLENGE 4\n",
    "Define eight more new variables in the code cell bellow."
   ]
  },
  {
   "cell_type": "code",
   "execution_count": 13,
   "metadata": {},
   "outputs": [],
   "source": [
    "//TODO"
   ]
  },
  {
   "cell_type": "markdown",
   "metadata": {},
   "source": [
    "## Reading input from the console\n",
    "\n",
    "And just like we used `cout` with the **insertion** `<<` operator to output to the console, we can use `cin` to read input data from the keyboard. To do that, we must first define a variable with the same data type as the input value.\n",
    "\n",
    "Here is an example of reading two integer values. Run it and enter two integers."
   ]
  },
  {
   "cell_type": "code",
   "execution_count": 14,
   "metadata": {},
   "outputs": [
    {
     "name": "stdout",
     "output_type": "stream",
     "text": [
      "Enter two integers: 23 19\n"
     ]
    }
   ],
   "source": [
    "int x, y;\n",
    "cout << \"Enter two integers: \";\n",
    "cin >> x >> y;"
   ]
  },
  {
   "cell_type": "markdown",
   "metadata": {},
   "source": [
    "To display the values you entered:"
   ]
  },
  {
   "cell_type": "code",
   "execution_count": 15,
   "metadata": {},
   "outputs": [
    {
     "name": "stdout",
     "output_type": "stream",
     "text": [
      "23\t19\n"
     ]
    }
   ],
   "source": [
    "cout << x << '\\t' << y << endl;"
   ]
  },
  {
   "cell_type": "markdown",
   "metadata": {},
   "source": [
    "Similarly to receive `double` input, we define a `double` variable:"
   ]
  },
  {
   "cell_type": "code",
   "execution_count": 16,
   "metadata": {},
   "outputs": [
    {
     "name": "stdout",
     "output_type": "stream",
     "text": [
      "Temperature in fahrenheit:\n",
      "98\n"
     ]
    }
   ],
   "source": [
    "double f_temp; // To be entered\n",
    "double c_temp; // To be calculated\n",
    "\n",
    "cout << \"Temperature in fahrenheit:\\n\";\n",
    "cin >> f_temp;"
   ]
  },
  {
   "cell_type": "markdown",
   "metadata": {},
   "source": [
    "And we now can take the entered fahrenheit temperature and convert it into celsius: "
   ]
  },
  {
   "cell_type": "code",
   "execution_count": 17,
   "metadata": {},
   "outputs": [
    {
     "name": "stdout",
     "output_type": "stream",
     "text": [
      "Temperature in Celsius is: 36.6667\n"
     ]
    }
   ],
   "source": [
    "c_temp = (f_temp - 32) * 5.0 / 9.0; \n",
    "cout << \"Temperature in Celsius is: \" << c_temp << '\\n';"
   ]
  },
  {
   "cell_type": "markdown",
   "metadata": {},
   "source": [
    "### CODING CHALLENGE 5\n",
    "In the code cell below, prompt the user to enter the radius of a circle and read it into a `double` variable named `radius`. Calculate and display the area of a circle with that radius."
   ]
  },
  {
   "cell_type": "code",
   "execution_count": 18,
   "metadata": {},
   "outputs": [],
   "source": [
    "// TODO"
   ]
  },
  {
   "cell_type": "markdown",
   "metadata": {},
   "source": [
    "In the challenge above, we needed the value of PI which is a constant whose value is 3.14159. To define constant variables (an oxymoron) we use the keyword `const` in front of the definition statement. And by convention, constants' names are ALL CAPS."
   ]
  },
  {
   "cell_type": "code",
   "execution_count": 19,
   "metadata": {},
   "outputs": [],
   "source": [
    "const double PI = 3.14159;"
   ]
  },
  {
   "cell_type": "markdown",
   "metadata": {},
   "source": [
    "## Arithmetic operators\n",
    "C++ supports multiple arithmetic operators( +, -, \\*, /) representing addition, subtraction, multiplication, and division respectively. We use these operators to create expressions like:"
   ]
  },
  {
   "cell_type": "code",
   "execution_count": 20,
   "metadata": {},
   "outputs": [
    {
     "name": "stdout",
     "output_type": "stream",
     "text": [
      "13\n",
      "18\n",
      "12\n",
      "3\n",
      "1\n",
      "3.5\n"
     ]
    }
   ],
   "source": [
    "cout << 6 + 7   << endl \n",
    "     << x - 5   << endl\n",
    "     << 4 * 3   << endl\n",
    "     << 7 / 2   << endl    // Integer division\n",
    "     << 7 % 2   << endl    // Remainder\n",
    "     << 7 / 2.0 << endl;"
   ]
  },
  {
   "cell_type": "markdown",
   "metadata": {},
   "source": [
    "## Relational operators\n",
    "C++ also support relational operators which are used to compare two values and see if one is >, <, >=, <=, == (equal to), and != (not equal to) the other. These operators return boolean values that evaluate to either `true` or `false`. For example `6 < 7` is true but `2 >= 7` is false. \n",
    "\n",
    "**Note**: We always use two equal signs `==` to check if one value is equal to another. One equal sign `=` means assignment, not equality.\n",
    "\n"
   ]
  },
  {
   "cell_type": "code",
   "execution_count": 21,
   "metadata": {},
   "outputs": [
    {
     "name": "stdout",
     "output_type": "stream",
     "text": [
      "1\n",
      "0\n",
      "1\n",
      "1\n",
      "1\n",
      "1\n",
      "0\n"
     ]
    }
   ],
   "source": [
    "cout << (6.5 < 7) << endl\n",
    "     << ('a' > 'z') << endl\n",
    "     << (4 >= 3) << endl\n",
    "     << (2 <= 7) << endl\n",
    "     << (9 == 9) << endl\n",
    "     << ('x' != 'X') << endl\n",
    "     << (7.1 == 2.0) << endl;"
   ]
  },
  {
   "cell_type": "markdown",
   "metadata": {},
   "source": [
    "Notice how `true` is printed as `1` and `false` as `0` by the `cout` output statement.\n",
    "\n",
    "### CODING CHALLENGE 6\n",
    "Change the statement below such that all expressions become false."
   ]
  },
  {
   "cell_type": "code",
   "execution_count": 22,
   "metadata": {},
   "outputs": [
    {
     "name": "stdout",
     "output_type": "stream",
     "text": [
      "1\n",
      "1\n",
      "1\n",
      "1\n",
      "1\n",
      "1\n"
     ]
    }
   ],
   "source": [
    "//TODO\n",
    "cout << (6 < 7) << endl\n",
    "     << (7 > 5) << endl\n",
    "     << (4 >= 3) << endl\n",
    "     << (2 <= 7) << endl\n",
    "     << ('C' == 'C') << endl\n",
    "     << (7.1 != 2.0) << endl;"
   ]
  },
  {
   "cell_type": "markdown",
   "metadata": {},
   "source": [
    "## Logical operators\n",
    "C++ also allows us to combine multiple boolean expressions using the `&&` (AND) operator or the `||` (OR) operator, or negate a boolean expression using the `!` (NOT) operator. These are called logical operators and like relational operators, they evaluate to either `true` or `false`.\n",
    "\n",
    "### CODING CHALLENGE 7\n",
    "Use the `!` operator to negate the following expressions:"
   ]
  },
  {
   "cell_type": "code",
   "execution_count": 23,
   "metadata": {},
   "outputs": [
    {
     "name": "stdout",
     "output_type": "stream",
     "text": [
      "1\n",
      "1\n"
     ]
    }
   ],
   "source": [
    "//TODO\n",
    "cout << (x < 7 || x > 5) << endl;\n",
    "cout << (x != 5 && x != 7) << endl;"
   ]
  },
  {
   "cell_type": "markdown",
   "metadata": {},
   "source": [
    "## Assignment operators\n",
    "We also have the assignment operators. In its simplest form, the single equal sign `=` is used to assign the value to the right to the variable on the left. And because assignments are full statements, they must have `;` at the end."
   ]
  },
  {
   "cell_type": "code",
   "execution_count": 24,
   "metadata": {},
   "outputs": [],
   "source": [
    "x = 14;\n",
    "y = y + x - 7;"
   ]
  },
  {
   "cell_type": "markdown",
   "metadata": {},
   "source": [
    "C++ also supports the following shorthand arithmetic assignments. For example `x += 3;` is the same as `x = x + 3;`\n",
    "Similarly `y -= 2;` is the same as `y = y - 2;` and so on.\n",
    "\n",
    "### CODING CHALLENGE 8\n",
    "Replace the arithmetic assignments in the code cell below with their equivalent simple assignment alternatives."
   ]
  },
  {
   "cell_type": "code",
   "execution_count": 25,
   "metadata": {},
   "outputs": [
    {
     "name": "stdout",
     "output_type": "stream",
     "text": [
      "37, 30, 60, 20, 2\n"
     ]
    }
   ],
   "source": [
    "// TODO\n",
    "int ans = 27;\n",
    "\n",
    "ans += 10; \n",
    "cout << ans << \", \";\n",
    "ans -= 7; \n",
    "cout << ans << \", \";\n",
    "ans *= 2;\n",
    "cout << ans << \", \";\n",
    "ans /= 3;\n",
    "cout << ans << \", \";\n",
    "ans %= 3; \n",
    "cout << ans << endl;"
   ]
  },
  {
   "cell_type": "markdown",
   "metadata": {},
   "source": [
    "## Increment/Decrement by one operators\n",
    "Finally, C++ supports the increment by one `++` and the decrement `--` operators. For example `x++` is the same as incrementing the value of `x` by `1` and similarly `x--` is like decrementing `x` by `1`. The same goes for `++x` and `--x`.\n",
    "But one must understand the difference between `++x` and `x++`. `++x` is called **prefix increment** which means `x` is incremented at the beginning of the statement, while`x++` is called **postfix increment** meaning that `x` is incremented at the end of the statement.\n",
    "\n",
    "\n",
    "### CODING CHALLENGE 9\n",
    "\n",
    "Run the code cell below with the `++` operator. Change all `++` to `--` and run it again. Does the output make sense?"
   ]
  },
  {
   "cell_type": "code",
   "execution_count": 26,
   "metadata": {},
   "outputs": [
    {
     "name": "stdout",
     "output_type": "stream",
     "text": [
      "count=10\n",
      "count=11\n",
      "count=11\n",
      "count=11\n",
      "count=12\n"
     ]
    }
   ],
   "source": [
    "//TODO\n",
    "int count = 10;\n",
    "\n",
    "cout << \"count=\" << count << endl; \n",
    "cout << \"count=\" << ++count << endl;\n",
    "cout << \"count=\" << count << endl; \n",
    "cout << \"count=\" << count++ << endl;\n",
    "cout << \"count=\" << count << endl; "
   ]
  }
 ],
 "metadata": {
  "kernelspec": {
   "display_name": "C++14",
   "language": "C++14",
   "name": "xcpp14"
  },
  "language_info": {
   "codemirror_mode": "text/x-c++src",
   "file_extension": ".cpp",
   "mimetype": "text/x-c++src",
   "name": "c++",
   "version": "14"
  }
 },
 "nbformat": 4,
 "nbformat_minor": 2
}
