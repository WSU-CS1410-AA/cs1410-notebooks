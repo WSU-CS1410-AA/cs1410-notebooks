{
 "cells": [
  {
   "cell_type": "markdown",
   "metadata": {},
   "source": [
    "<a target=\"_blank\" href=\"https://colab.research.google.com/github/WSU-CS1410-AA/cs1410-notebooks/blob/main/Notebook02-loops_and_decisions.ipynb\">\n",
    "  <img src=\"https://colab.research.google.com/assets/colab-badge.svg\" alt=\"Open In Colab\"/>\n",
    "</a>"
   ]
  },
  {
   "cell_type": "markdown",
   "metadata": {},
   "source": [
    "# Loops\n",
    "We use loops to repeat things over and over. C++, like many other languages, supports three kinds of loops: the `for` loop, the `while` loop, and the `do-while` loop. As of C++11, a forth special loop named the **range-based** `for` loop was added; we will see this new loop later in class.\n",
    "\n",
    "## The `for` loop\n",
    "The `for` loop is perhaps the most popular. It takes the following form:\n",
    "\n",
    "```c++\n",
    "// For repeating a single statement\n",
    "for(initialize; test; increment)\n",
    "  Statement;\n",
    "```\n",
    "or\n",
    "```c++ \n",
    "// For repeating one or more statements\n",
    "for(initialize; test; increment){\n",
    "  Statement(s);\n",
    "}\n",
    "```\n",
    "\n",
    "To control how many times the statement(s) is(are) repeated, the `for` loop uses a loop variable which is initialized in the `initialize` part of the loop, incremented (or decremented) in the `increment` part. The `test` part is a boolean expression (or a condition) that when `true` allows the loop to continue and when `false` terminates it."
   ]
  },
  {
   "cell_type": "code",
   "execution_count": 1,
   "metadata": {},
   "outputs": [],
   "source": [
    "#include <iostream>\n",
    "using namespace std;"
   ]
  },
  {
   "cell_type": "markdown",
   "metadata": {},
   "source": [
    "Let's play a bit with the `for` loop. Here is a simple statement. Run it."
   ]
  },
  {
   "cell_type": "code",
   "execution_count": 2,
   "metadata": {},
   "outputs": [
    {
     "name": "stdout",
     "output_type": "stream",
     "text": [
      "Welcome to C++ programming!\n"
     ]
    }
   ],
   "source": [
    "cout << \"Welcome to C++ programming!\" << endl;"
   ]
  },
  {
   "cell_type": "markdown",
   "metadata": {},
   "source": [
    "Here is one way to repeat it 12 times."
   ]
  },
  {
   "cell_type": "code",
   "execution_count": 3,
   "metadata": {},
   "outputs": [
    {
     "name": "stdout",
     "output_type": "stream",
     "text": [
      "Welcome to C++ programming!\n",
      "Welcome to C++ programming!\n",
      "Welcome to C++ programming!\n",
      "Welcome to C++ programming!\n",
      "Welcome to C++ programming!\n",
      "Welcome to C++ programming!\n",
      "Welcome to C++ programming!\n",
      "Welcome to C++ programming!\n",
      "Welcome to C++ programming!\n",
      "Welcome to C++ programming!\n",
      "Welcome to C++ programming!\n",
      "Welcome to C++ programming!\n"
     ]
    }
   ],
   "source": [
    "for(int i = 1; i <= 12; i++){\n",
    "  cout << \"Welcome to C++ programming!\" << endl;\n",
    "}"
   ]
  },
  {
   "cell_type": "markdown",
   "metadata": {},
   "source": [
    "It's important with regard to the `for` loop to know that:\n",
    "* The **initialize** part (`int i = 1`) runs only once before the first iteration. And because the loop variable `i` is defined within the `for` loop, it's only recognizable within the loop; outside the loop; it does not exist.\n",
    "* The **test** part (`i <= 12`) runs at the beginning of every iteration; that is it runs as many times as number of iterations.\n",
    "* The **increment** part (`i++`) runs after every iteration; it also runs as many times as the number of iterations. \n",
    "\n",
    "Here are other example `for` loops:"
   ]
  },
  {
   "cell_type": "code",
   "execution_count": 4,
   "metadata": {},
   "outputs": [
    {
     "name": "stdout",
     "output_type": "stream",
     "text": [
      "0123456789\n",
      "Hi\n",
      "Hi\n",
      "Hi\n",
      "Hi\n",
      "10987654321\n"
     ]
    }
   ],
   "source": [
    "// Counting up\n",
    "for(int i = 0; i < 10; i++){\n",
    "  cout << i;\n",
    "}\n",
    "cout << endl;\n",
    "\n",
    "for(int k = 0; k < 4; k++){\n",
    "  cout << \"Hi\" << endl;\n",
    "}\n",
    "\n",
    "// Counting down\n",
    "for(int j = 10; j > 0; j--){\n",
    "  cout << j;\n",
    "}\n",
    "cout << endl;"
   ]
  },
  {
   "cell_type": "markdown",
   "metadata": {},
   "source": [
    "### CODING CHALLENGE 1\n",
    "In the code cell below, refactor (re-write) the following loop such that the loop variable `i` goes down from say 12 to 1.\n",
    "\n",
    "``` c++\n",
    "for(int i = 1; i <= 12; i++){\n",
    "  cout << \"Welcome to C++ programming!\" << endl;\n",
    "}\n",
    "```"
   ]
  },
  {
   "cell_type": "code",
   "execution_count": 5,
   "metadata": {},
   "outputs": [],
   "source": [
    "//TODO"
   ]
  },
  {
   "cell_type": "markdown",
   "metadata": {},
   "source": [
    "## The `while` loop\n",
    "The `while` loop is the most general loop of all three. It takes the following form:\n",
    "\n",
    "```c++\n",
    "// For repeating a single statement\n",
    "while(test)\n",
    "  Statement;\n",
    "```\n",
    "or\n",
    "```c++\n",
    "// For repeating one or more statements\n",
    "while(test){\n",
    "  Statement(s);\n",
    "}\n",
    "```\n",
    "\n",
    "It keeps running until the test condition is `false`. Here are a few example `while` loops. Compare these examples to those of the `for` loop."
   ]
  },
  {
   "cell_type": "code",
   "execution_count": 6,
   "metadata": {},
   "outputs": [
    {
     "name": "stdout",
     "output_type": "stream",
     "text": [
      "0123456789\n",
      "Hi\n",
      "Hi\n",
      "Hi\n",
      "Hi\n",
      "10987654321"
     ]
    }
   ],
   "source": [
    "// Counting up\n",
    "int i = 0;\n",
    "while(i < 10){\n",
    "  cout << i; \n",
    "  i++; \n",
    "}\n",
    "cout << endl;\n",
    "\n",
    "int k = 0;\n",
    "while(k < 4){\n",
    "  cout << \"Hi\\n\"; \n",
    "  k++; \n",
    "}\n",
    "\n",
    "// Counting down\n",
    "int j = 10;\n",
    "while(j >= 1){\n",
    "  cout << j; \n",
    "  j--; \n",
    "}"
   ]
  },
  {
   "cell_type": "markdown",
   "metadata": {},
   "source": [
    "Both the `for` and the `while` loops are **pre-test** loops, meaning that the conditions are evaluated before every iteration.\n",
    "\n",
    "## The `do-while` loop\n",
    "This loop is similar to the `while` loop with one exception: it guarantees that its statement(s) will run at least once. It takes the following form:\n",
    "\n",
    "```c++\n",
    "// For repeating a single statement\n",
    "do \n",
    "  Statement;\n",
    "while(condition);\n",
    "```\n",
    "or\n",
    "\n",
    "```c++\n",
    "// For repeating one or more statements\n",
    "do{\n",
    "  Statement(s);\n",
    "} while(test);\n",
    "```\n",
    "Here are a few example `do-while` loops. Again compare these examples to those of the `while` and the `for` loops."
   ]
  },
  {
   "cell_type": "code",
   "execution_count": 7,
   "metadata": {},
   "outputs": [
    {
     "name": "stdout",
     "output_type": "stream",
     "text": [
      "0123456789\n",
      "Hi\n",
      "Hi\n",
      "Hi\n",
      "Hi\n",
      "10987654321"
     ]
    }
   ],
   "source": [
    "// Counting up\n",
    "i = 0; \n",
    "do{ \n",
    "  cout << i; \n",
    "  i++;\n",
    "} while(i < 10);\n",
    "cout << endl;\n",
    "\n",
    "k = 0; \n",
    "do{\n",
    "  cout << \"Hi\\n\"; \n",
    "  k++;\n",
    "} while(k < 4);\n",
    "\n",
    "// Counting down\n",
    "j = 10; \n",
    "do{\n",
    "  cout << j; \n",
    "  j--;\n",
    "} while(j >= 1);"
   ]
  },
  {
   "cell_type": "markdown",
   "metadata": {},
   "source": [
    "**Notice that** while the curly braces `{` and `}` are only required when the body of any of these `for`, `while` and `do while` loops contains more than one statement, it's highly recommended that you use them all the time.\n",
    "\n",
    "Notice also that, unlike the `for` and `while` loops, the `do while` loop is a **post-test** loop; the condition is evaluated after every iteration.\n",
    "\n",
    "### Using `setw` to organize output into tables\n",
    "The code cell below attempts to generate a data table like this:\n",
    "\n",
    "| x | 2 * x | 3 * x | 4 * x | 5 * x |\n",
    "| - | ----- | ----- | ----- | ----- |\n",
    "| 1 | 2     | 3     | 4     | 5     |\n",
    "| 2 | 4     | 6     | 8     | 10    |\n",
    "| 3 | 6     | 9     | 12    | 15    |\n",
    "| 4 | 8     | 12    | 16    | 20    |\n",
    "| 5 | 10    | 15    | 20    | 25    |"
   ]
  },
  {
   "cell_type": "code",
   "execution_count": 8,
   "metadata": {},
   "outputs": [
    {
     "name": "stdout",
     "output_type": "stream",
     "text": [
      "x2*x3*x4*x5*x\n",
      "12345\n",
      "246810\n",
      "3691215\n",
      "48121620\n",
      "510152025\n"
     ]
    }
   ],
   "source": [
    "cout << \"x\" << \"2*x\" << \"3*x\" << \"4*x\" << \"5*x\" << endl;\n",
    "for(int x = 1; x <= 5; x++){\n",
    "  cout << x;\n",
    "  for(int y = 2; y <= 5; y++){\n",
    "      cout << x * y;\n",
    "  }\n",
    "  \n",
    "  cout << endl;\n",
    "}"
   ]
  },
  {
   "cell_type": "markdown",
   "metadata": {},
   "source": [
    "The output above has the correct data; but it does not look like a table; it lacks the proper spacing. Instead of spacing the data manually, we can use `setw` to do that. All we have to do is:\n",
    "* include the `<iomanip>` header file\n",
    "* determine the width of each column by coming up with width numbers that we think would make the table look nice\n",
    "* call `setw` before displaying any text or number and pass it the width of the column that text or number belongs to\n",
    "\n",
    "By doing this, `setw` will take care of the spacing for us. Here the same code as before but with `setw`."
   ]
  },
  {
   "cell_type": "code",
   "execution_count": 9,
   "metadata": {},
   "outputs": [
    {
     "name": "stdout",
     "output_type": "stream",
     "text": [
      "   x   2*x   3*x   4*x   5*x\n",
      "   1     2     3     4     5\n",
      "   2     4     6     8    10\n",
      "   3     6     9    12    15\n",
      "   4     8    12    16    20\n",
      "   5    10    15    20    25\n"
     ]
    }
   ],
   "source": [
    "#include <iomanip>\n",
    "cout << setw(4) << \"x\" << setw(6) << \"2*x\" << setw(6) <<\"3*x\" << setw(6) <<\"4*x\" << setw(6) << \"5*x\" << endl;\n",
    "for(int x = 1; x <= 5; x++){\n",
    "  cout << setw(4) << x;\n",
    "  for(int y = 2; y <= 5; y++){\n",
    "      cout << setw(6) << x * y;\n",
    "  }\n",
    "  \n",
    "  cout << endl;\n",
    "}"
   ]
  },
  {
   "cell_type": "markdown",
   "metadata": {},
   "source": [
    "Now, that looks like a table. Notice that we called `setw` before displaying each value and that we passed the width of the column as an argument to `setw`. *In this example, the first column is 4-spaces wide and all the remaining columns are 6-spaces wide each*. Play with different column widths.\n",
    "\n",
    "Notice also:\n",
    "* how each row in this table has the same number of columns;\n",
    "* the same column has the width in every row; and \n",
    "* we use `endl` to terminate a row.\n",
    "\n",
    "### CODING CHALLENGE 2\n",
    "Copy code above to the code cell below and replace the `for` loops with `while` loops."
   ]
  },
  {
   "cell_type": "code",
   "execution_count": 10,
   "metadata": {},
   "outputs": [],
   "source": [
    "//TODO"
   ]
  },
  {
   "cell_type": "markdown",
   "metadata": {},
   "source": [
    "### CODING CHALLENGE 3\n",
    "Copy the code above to the code cell below, and, this time, replace the inner `for` loop with a `do-while` loop."
   ]
  },
  {
   "cell_type": "code",
   "execution_count": 11,
   "metadata": {},
   "outputs": [],
   "source": [
    "//TODO"
   ]
  },
  {
   "cell_type": "markdown",
   "metadata": {},
   "source": [
    "## Decisions (conditionals)\n",
    "C++, like other languages supports the `if-else` conditional statement(s). If you only care about when a condition is `true`, then use the `if` conditional statement which looks like this:\n",
    "\n",
    "``` c++\n",
    "// if with a single statement.\n",
    "if(condition)\n",
    "  Statement;\n",
    "```\n",
    "or\n",
    "```c++\n",
    "// if with one or more statements.\n",
    "if(condition){\n",
    "  Statement(s);\n",
    "}\n",
    "```\n",
    "\n",
    "However, if you have a different logic for when the condition is `true` from that when is `false`, then use the `if-else` conditional statement which looks like this:\n",
    "``` c++\n",
    "// if-else with a single statement.\n",
    "if(condition)\n",
    "  Statement;\n",
    "else\n",
    "  Statement;\n",
    "```\n",
    "or\n",
    "```c++\n",
    "// if-else with one or more statements.\n",
    "if(condition){\n",
    "  Statement(s);\n",
    "}else{\n",
    "  Statement(s);\n",
    "}\n",
    "```\n",
    "\n",
    "Here is an example of finding the minimum of two entered numbers."
   ]
  },
  {
   "cell_type": "code",
   "execution_count": 12,
   "metadata": {},
   "outputs": [
    {
     "name": "stdout",
     "output_type": "stream",
     "text": [
      "Enter two decimal members: 56.9  34.8\n",
      "Minimum: 34.8\n"
     ]
    }
   ],
   "source": [
    "double x, y;\n",
    "cout << \"Enter two decimal members: \";\n",
    "cin >> x >> y;\n",
    "\n",
    "if(y > x){\n",
    "  cout << \"Minimum: \" << x << endl;\n",
    "}else{\n",
    "  cout << \"Minimum: \" << y << endl;\n",
    "}"
   ]
  },
  {
   "cell_type": "markdown",
   "metadata": {},
   "source": [
    "And if we want to display the results in a table-like format like:\n",
    "\n",
    "|  x  |  y  | Minimum |\n",
    "| --- | --- | ------- |\n",
    "| 4.5 | 3.9 | 3.9     |\n",
    "\n",
    "we use `setw` like this:"
   ]
  },
  {
   "cell_type": "code",
   "execution_count": 13,
   "metadata": {},
   "outputs": [
    {
     "name": "stdout",
     "output_type": "stream",
     "text": [
      "Enter two decimal members: 12.9  8.5\n",
      "        x        y     Minimum\n",
      "     12.9      8.5         8.5\n"
     ]
    }
   ],
   "source": [
    "cout << \"Enter two decimal members: \";\n",
    "cin >> x >> y;\n",
    "\n",
    "cout << setw(9) << \"x\" << setw(9) << \"y\" << setw(12) << \"Minimum\" << endl;\n",
    "cout << setw(9) << x << setw(9) << y;\n",
    "if(y > x){\n",
    "  cout << setw(12) << x << endl;\n",
    "}else{\n",
    "  cout << setw(12) << y << endl;\n",
    "}"
   ]
  },
  {
   "cell_type": "markdown",
   "metadata": {},
   "source": [
    "**Notice also that** while the curly braces `{` and `}` are only required when the body of `if` or `else` contains more than one statement, it's highly recommended that you use them all the time.\n",
    "\n",
    "### CODING CHALLENGE 4\n",
    "Copy the code above to the code cell below and change it so that it also displays the maximum like this:\n",
    "\n",
    "|  x  |  y  | Minimum | Maximum |\n",
    "| --- | --- | ------- | ------- |\n",
    "| 4.5 | 3.9 | 3.9     | 4.5    |"
   ]
  },
  {
   "cell_type": "code",
   "execution_count": 14,
   "metadata": {},
   "outputs": [],
   "source": [
    "//TODO"
   ]
  },
  {
   "cell_type": "markdown",
   "metadata": {},
   "source": [
    "## The `if-else-if` conditional\n",
    "Sometimes you have more than one condition to evaluate in the same statement. In this case we use the `if-else-if` conditional statement which looks like the following:\n",
    "\n",
    "``` c++\n",
    "// if-else-if with a single statement.\n",
    "if(condition1)\n",
    "  Statement;\n",
    "else if(condition2)\n",
    "  Statement;\n",
    "else\n",
    "  Statement;\n",
    "```\n",
    "or\n",
    "```c++\n",
    "// if-else-if with one or more statements.\n",
    "if(condition1){\n",
    "  Statement(s);\n",
    "}else if(condition2){\n",
    "  Statement(s);\n",
    "}else{\n",
    "  Statement(s);\n",
    "}\n",
    "```\n",
    "\n",
    "Every `if-else-if` statement has:\n",
    "* a required `if` clause at the beginning;\n",
    "* an optional `else` clause at the end; and\n",
    "* one or more `else if` clauses in between.\n",
    "\n",
    "Here is an example of using multiple `else if` clauses to display the name of day based on an entered number between 1 and 7 with 1 representing Sunday, 2 Monday, and so on."
   ]
  },
  {
   "cell_type": "code",
   "execution_count": 15,
   "metadata": {
    "scrolled": false
   },
   "outputs": [
    {
     "name": "stdout",
     "output_type": "stream",
     "text": [
      "Enter a day number (between 1 and 7):\n",
      "6\n",
      "Friday"
     ]
    }
   ],
   "source": [
    "int day;\n",
    "cout << \"Enter a day number (between 1 and 7):\" << endl;\n",
    "cin >> day;\n",
    "\n",
    "if (day == 1){ cout << \"Sunday\"; }\n",
    "else if (day == 2){ cout << \"Monday\"; }\n",
    "else if (day == 3){ cout << \"Tuesday\"; }\n",
    "else if (day == 4){ cout << \"Wednesday\"; }\n",
    "else if (day == 5){ cout << \"Thursday\"; }\n",
    "else if (day == 6){ cout << \"Friday\"; }\n",
    "else if (day == 7){ cout << \"Saturday\"; }\n",
    "else { cout << \"invalid day\"; }\n",
    "\n",
    "//cout << \"Day of the week is \" << name << endl;"
   ]
  },
  {
   "cell_type": "markdown",
   "metadata": {},
   "source": [
    "### CODING CHALLENGE 5\n",
    "Copy the code above to the code cell below and use `setw` to refactor it to display the results in a two-column table like this:\n",
    "\n",
    "| Num |  Day     |\n",
    "| --- | -------- |\n",
    "| 3   | Tuesday  |"
   ]
  },
  {
   "cell_type": "code",
   "execution_count": 16,
   "metadata": {},
   "outputs": [],
   "source": [
    "//TODO"
   ]
  },
  {
   "cell_type": "markdown",
   "metadata": {},
   "source": [
    "## The `switch` statement\n",
    "C++ also supports the `switch` statement which chooses statements to run from a small number of possibilities based on the value of a given variable. It takes the following form:\n",
    "\n",
    "``` c++\n",
    "switch(variable){\n",
    "case value1:\n",
    "\tStatement(s);\n",
    "\tbreak;\n",
    "case value2:\n",
    "\tStatement(s);\n",
    "\tbreak;\n",
    "//...\n",
    "default:\n",
    "\tStatement(s);\n",
    "}\n",
    "```\n",
    "\n",
    "Notice the `break` statement at the end of every case; without such a statement a case will fall through (bleeds) to the next.\n",
    "\n",
    "It's important to remember that:\n",
    "* not all variables can be used with the switch statement: only integer (`int`, `short`, `long`) or character (`char`) variables can.\n",
    "* the `default` case is optional; it has a similar meaning to that of `else` in the `if-else` conditional statement; and it does not require the `break` statement.\n",
    "* braces `{` and `}` should not be used around the statement(s) of these cases."
   ]
  },
  {
   "cell_type": "code",
   "execution_count": 17,
   "metadata": {},
   "outputs": [
    {
     "name": "stdout",
     "output_type": "stream",
     "text": [
      "Enter a day number(between 1 and 7):\n",
      "4\n",
      "Wednesday"
     ]
    }
   ],
   "source": [
    "cout << \"Enter a day number(between 1 and 7):\" << endl;\n",
    "cin >> day;\n",
    "switch(day){\n",
    "case 1:  \n",
    "    cout << \"Sunday\"; break;\n",
    "case 2:  \n",
    "    cout << \"Monday\"; break;\n",
    "case 3: \n",
    "    cout << \"Tuesday\"; break;\n",
    "case 4:  \n",
    "    cout << \"Wednesday\"; break;\n",
    "case 5:  \n",
    "    cout << \"Thursday\"; break;\n",
    "case 6:  \n",
    "    cout << \"Friday\"; break;\n",
    "case 7:  \n",
    "    cout << \"Saturday\"; break;\n",
    "default: \n",
    "    cout << \"invalid day\";\n",
    "}"
   ]
  },
  {
   "cell_type": "markdown",
   "metadata": {},
   "source": [
    "Any `switch` statement can be written as an `if-else-if` statement. For example, the above `switch` statement, has the following equivalent `if-else-if` statement."
   ]
  },
  {
   "cell_type": "code",
   "execution_count": 18,
   "metadata": {},
   "outputs": [
    {
     "name": "stdout",
     "output_type": "stream",
     "text": [
      "Enter a day number(between 1 and 7):\n",
      "3\n",
      "Tuesday"
     ]
    }
   ],
   "source": [
    "cout << \"Enter a day number(between 1 and 7):\" << endl;\n",
    "cin >> day;\n",
    "\n",
    "if (day == 1){ \n",
    "    cout << \"Sunday\"; \n",
    "} else if (day == 2){ \n",
    "    cout << \"Monday\"; \n",
    "} else if (day == 3){ \n",
    "    cout << \"Tuesday\"; \n",
    "} else if (day == 4){ \n",
    "    cout << \"Wednesday\"; \n",
    "} else if (day == 5){ \n",
    "    cout << \"Thursday\"; \n",
    "} else if (day == 6){ \n",
    "    cout << \"Friday\"; }\n",
    "else if (day == 7){ \n",
    "    cout << \"Saturday\"; \n",
    "} else { \n",
    "    cout << \"invalid day\";\n",
    "}"
   ]
  },
  {
   "cell_type": "markdown",
   "metadata": {},
   "source": [
    "### CODING CHALLENGE 6\n",
    "Copy the code above to the code cell below, and refactor it such that it only displays whether the entered day is weekday, weekend, or invalid."
   ]
  },
  {
   "cell_type": "code",
   "execution_count": 19,
   "metadata": {},
   "outputs": [],
   "source": [
    "//TODO"
   ]
  },
  {
   "cell_type": "markdown",
   "metadata": {},
   "source": [
    "### CODING CHALLENGE 7\n",
    "In the code cell below, re-write the following so as to use a `switch` statement.\n",
    "\n",
    "``` c++\n",
    "char answer;\n",
    "cout << \"Are you OK? Type y for yes and n for No\" << endl;\n",
    "cin >> answer;\n",
    "\n",
    "if(answer == 'y'){\n",
    "    cout << \"Your are OK!\" << endl;\n",
    "} else {\n",
    "    cout << \"You are NOT OK!\" << endl;\n",
    "}\n",
    "```"
   ]
  },
  {
   "cell_type": "code",
   "execution_count": 20,
   "metadata": {},
   "outputs": [],
   "source": [
    "//TODO"
   ]
  }
 ],
 "metadata": {
  "kernelspec": {
   "display_name": "C++14",
   "language": "C++14",
   "name": "xcpp14"
  },
  "language_info": {
   "codemirror_mode": "text/x-c++src",
   "file_extension": ".cpp",
   "mimetype": "text/x-c++src",
   "name": "c++",
   "version": "14"
  }
 },
 "nbformat": 4,
 "nbformat_minor": 2
}
