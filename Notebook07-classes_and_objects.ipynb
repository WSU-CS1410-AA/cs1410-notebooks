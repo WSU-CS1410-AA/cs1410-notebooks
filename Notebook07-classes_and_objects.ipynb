{
 "cells": [
  {
   "cell_type": "markdown",
   "metadata": {},
   "source": [
    "# Classes and Objects\n",
    "\n",
    "From the very beginning, C++ was meant to be a better C: \n",
    "* to fix the known issues and vulnerabilities of C, \n",
    "* to solve the issues of structured programming seen in large-scale C programs, and \n",
    "* to support the, then-new, object-oriented programming (OOP) paradigm. \n",
    "\n",
    "Being an object-oriented programming (OOP) language meant:\n",
    "* The ability to create classes that represent new data types that go beyond the built-in types.\n",
    "* The ability to instantiate or create objects from these classes\n",
    "* The ability of one class to inherit from another class \n",
    "* The ability to take advantage of polymorphism.\n",
    "\n",
    "From the perspective of OOP, the real world is made up of entities such as automobiles, buildings, devices, shapes, cars, and so on. Each entity has **attributes**. For example, a car has the attributes: year, make, model, and color among other things. Each entity **behaves** or **acts** in some way as well. A car, for example, can move forward or backward, turn left or right, brake, turn on or off. \n",
    "\n",
    "In C++, we use **classes** to name and describe real-world entities, their attributes, and their behaviors.\n",
    "\n",
    "We call defining both attributes and behaviors under the same class **encapsulation**, which is a core principle of OOP. In C++, attributes are modeled with variables; they are called data members. On the other hand, behaviors are modeled with functions; they are called member functions. And the good news is that we already know how to define variables and functions. By defining classes, we get a better way of organizing code. A program becomes a collection of classes that build on top of and interact with one another. \n",
    "\n",
    "In addition, OOP supports **information hiding**, which allows us to make certain class members (data and/or function members) **private** and others **public**. There is also the ability to make classes inherit some or all of their attributes and behaviors from other classes. This, as we shall see, is useful in capturing the similarities between multiple entities, minimizing code repetition, and improving code reuse, all of which are important software-engineering goals.\n",
    "\n",
    "Let's get started. Here is our first  example class:"
   ]
  },
  {
   "cell_type": "code",
   "execution_count": 1,
   "metadata": {},
   "outputs": [],
   "source": [
    "#include <iostream>\n",
    "#include <iomanip>\n",
    "#include <string>\n",
    "using namespace std;"
   ]
  },
  {
   "cell_type": "code",
   "execution_count": 2,
   "metadata": {},
   "outputs": [],
   "source": [
    "class SimpleClass {\n",
    "private:\n",
    "  int someData;\n",
    "\n",
    "public:\n",
    "  void setData(int d){ \n",
    "      someData = d; \n",
    "  }\n",
    "    \n",
    "  void showData(){\n",
    "    cout << \"Data is \" << someData << endl;\n",
    "  }\n",
    "};"
   ]
  },
  {
   "cell_type": "markdown",
   "metadata": {},
   "source": [
    "The `SimpleClass` has a single data member (an attribute) named `someData` and two member functions (behaviors): `setData` and `showData`. The class is divided into two sections: `private` and `public`. Members under the `private` section are private, which means they cannot be accessed outside of the class. Public members can be accessed inside and outside the class.\n",
    "\n",
    "It's a common practice to have the data members of the class as private. This is to protect them from being inadvertently changed or even seen outside the class. It is also a common practice to make member functions public. Having said that, a class can still have public data members and private function members, if that serves its purpose.\n",
    "\n",
    "Once we have a class, we can use it to create objects. These objects are also called instances of the class. If you can think of a class as the **blueprint** of a house, an actual house based on that blueprint is an object (or an instance) of that blueprint). For example:"
   ]
  },
  {
   "cell_type": "code",
   "execution_count": 3,
   "metadata": {},
   "outputs": [],
   "source": [
    "SimpleClass s1, s2; // Creating two objects"
   ]
  },
  {
   "cell_type": "markdown",
   "metadata": {},
   "source": [
    "Here `SimpleClass` is the name of the class we just defined, while `s1` and `s2` are objects of that class. In other words, the class name `SimpleClass`, once defined, is used as a data type (much like `int`, `char`, `string`, etc) to create object variables such as`s1` and `s2`. The difference between this class and data types such as `int`, `char`, and `string` is that we created it ourselves. In a nutshell, this is what object-oriented programming is about: creating custom data types in the form of classes that model the real-world problem we are trying to solve.\n",
    "\n",
    "To access the public members of these objects, we use the **dot operator**, as you see in the examples bellow."
   ]
  },
  {
   "cell_type": "code",
   "execution_count": 4,
   "metadata": {},
   "outputs": [
    {
     "name": "stdout",
     "output_type": "stream",
     "text": [
      "Data is 500\n",
      "Data is 187\n"
     ]
    }
   ],
   "source": [
    "s1.setData(500);\n",
    "s2.setData(187);\n",
    "s1.showData();\n",
    "s2.showData();"
   ]
  },
  {
   "cell_type": "markdown",
   "metadata": {},
   "source": [
    "We cannot, however, from outside the `SimpleClass` access its private member `someData`. Trying to do so results in errors. Uncomment the following to see these errors."
   ]
  },
  {
   "cell_type": "code",
   "execution_count": 5,
   "metadata": {},
   "outputs": [],
   "source": [
    "/*\n",
    "cout << s1.someData;\n",
    "cout << s2.someData;\n",
    "*/"
   ]
  },
  {
   "cell_type": "markdown",
   "metadata": {},
   "source": [
    "### CODING CHALLENGE 1\n",
    "\n",
    "Write a class named `MyFirstClass` with two private data members: integer `number` and string `message`. There should be four public member functions: `setNumber`, `showNumber`, `setMessage`, and `showMessage` that are similar to the example above."
   ]
  },
  {
   "cell_type": "code",
   "execution_count": 6,
   "metadata": {},
   "outputs": [],
   "source": [
    "//TODO"
   ]
  },
  {
   "cell_type": "markdown",
   "metadata": {},
   "source": [
    "### CODING CHALLENGE 2\n",
    "\n",
    "Using the class of the previous coding challenge, create three objects, and use the `set...` member functions to pass values to their private data members and the `show...` member functions to print out the values of these data members."
   ]
  },
  {
   "cell_type": "code",
   "execution_count": 7,
   "metadata": {},
   "outputs": [],
   "source": [
    "//TODO"
   ]
  },
  {
   "cell_type": "markdown",
   "metadata": {},
   "source": [
    "## Classes vs structures\n",
    "\n",
    "In C++, classes and structures are equivalent. The only difference is that by default the data and function members of structures are public while the data and function members of classes are private. Given the following structure, for instance:\n",
    "\n",
    "```c++\n",
    "struct SomeClass {\n",
    " int number;\n",
    " string name;\n",
    "};\n",
    "```\n",
    "\n",
    "is exactly the same as:\n",
    "\n",
    "```c++\n",
    "class SomeClass {\n",
    "public:\n",
    " int number;\n",
    " string name;\n",
    "};\n",
    "```\n",
    "\n",
    "In practice, we use structures when we only have public data members and classes for everything else."
   ]
  },
  {
   "cell_type": "markdown",
   "metadata": {},
   "source": [
    "### CODING CHALLENGE 3\n",
    "\n",
    "In the code cell below, define a class that is equivalent to the following structure:\n",
    "\n",
    "```c++\n",
    "struct Time {\n",
    "    int hrs;\n",
    "    int min;\n",
    "    int sec; \n",
    "};\n",
    "```"
   ]
  },
  {
   "cell_type": "code",
   "execution_count": 8,
   "metadata": {},
   "outputs": [],
   "source": [
    "//TODO"
   ]
  },
  {
   "cell_type": "markdown",
   "metadata": {},
   "source": [
    "## Class constructors\n",
    "\n",
    "Here is a class that can be used to represent dates. The name of the class is `DateClass`. It has three private data members: `month`, `day`, and `year`. It also has two member functions: `setDate` which is used to set the values of the `month`, `day`, and `year`  members, and `showDate` which prints the date object in a MM/DD/YY format. "
   ]
  },
  {
   "cell_type": "code",
   "execution_count": 9,
   "metadata": {},
   "outputs": [],
   "source": [
    "class DateClass {\n",
    "private:\n",
    "    int month, day, year;\n",
    "public:\n",
    "    void setDate(int mm, int dd, int yyyy){\n",
    "        month = mm;\n",
    "        day = dd;\n",
    "        year = yyyy;\n",
    "    }\n",
    "\n",
    "\n",
    "    void showDate() {\n",
    "        cout << \"The date is \" << setfill('0')\n",
    "             << setw(2) << month << '/'\n",
    "             << setw(2) << day << '/'\n",
    "             << setw(2) << year % 100 << endl;\n",
    "    }\n",
    "};"
   ]
  },
  {
   "cell_type": "markdown",
   "metadata": {},
   "source": [
    "Here is this class being used to create a date object:"
   ]
  },
  {
   "cell_type": "code",
   "execution_count": 10,
   "metadata": {},
   "outputs": [
    {
     "name": "stdout",
     "output_type": "stream",
     "text": [
      "The date is 10/12/18\n"
     ]
    }
   ],
   "source": [
    "DateClass d;\n",
    "d.setDate(10, 12, 2018);\n",
    "d.showDate();"
   ]
  },
  {
   "cell_type": "markdown",
   "metadata": {},
   "source": [
    "Having to write two statements (or more) to create and initialize an object is too much especially if we have to do this for every object we create. Instead of:\n",
    "\n",
    "```c++\n",
    "DateClass d;\n",
    "d.setDate(10, 12, 2018);\n",
    "```\n",
    "can we have something like this?\n",
    "\n",
    "```c++\n",
    "DateClass d(10, 12, 2018);\n",
    "```\n",
    "\n",
    "It turns out: YES we can, thanks to **class constructors**. But what is a **constructor**?\n",
    "\n",
    "A constructor is a special member function with the following properties:\n",
    "* It has the same name as the class. So, our previous `DateClass` would have a constructor whose name is also `DateClass`\n",
    "* It has no return type (not even `void`) and therefore cannot return anything.\n",
    "* It gets called automatically by C++ when objects are created.\n",
    "\n",
    "Here is a class with a single no-argument constructor. This constructor initializes the private data members `count`, and `step` to 0 and 1 respectively. "
   ]
  },
  {
   "cell_type": "code",
   "execution_count": 11,
   "metadata": {},
   "outputs": [],
   "source": [
    "class Counter {\n",
    "private:\n",
    "    unsigned int count;\n",
    "    int step;\n",
    "public:\n",
    "    Counter() : count(0), step(1) { // The constructor\n",
    "        cout << \"init -> count: \" << count << \", step: \"  << step << endl;\n",
    "    }\n",
    "\n",
    "    void increment() { \n",
    "        count += step; \n",
    "    }\n",
    "    \n",
    "    int current() { \n",
    "        return count; \n",
    "    }\n",
    "\n",
    "    ~Counter() { // The destructor\n",
    "        cout << \"fini -> count: \" << count << \", step: \"  << step << endl;\n",
    "    }\n",
    "};"
   ]
  },
  {
   "cell_type": "markdown",
   "metadata": {},
   "source": [
    "Again the constructor has the same name as the class. This constructor also looks different from other functions. It has a colon `:` right after the parentheses followed by `count(0), step(1)`) which looks like two function calls, but they are not. We call what is between the colon `:` and the opening brace `{` of the constructor an **initializer list**, which is a comma-separated list of initializations (like `count(0)` and `step(l)`) typically one for each data member. In this example, `count(0)` tells C++ to set the value of the `count` data member to 0. Similarly, `step(1)` tells C++ to set the value of the `step` data member to 1. This **initializer list** `: count(0), step(1)`  makes sure that data members `count` and `step` are properly initialized at the time of creating an object. \n",
    "\n",
    "The body of the constructor in this example is between the curly braces `{}`. Any code inside these braces will run but right after the object has been created. \n",
    "\n",
    "In C++, it is highly recommended that you initialize your data members using an **initializer list** instead of inside the constructor's curly braces `{}`.\n",
    "\n",
    "To see this class in action, let us create an object of it. "
   ]
  },
  {
   "cell_type": "code",
   "execution_count": 12,
   "metadata": {},
   "outputs": [
    {
     "name": "stdout",
     "output_type": "stream",
     "text": [
      "init -> count: 0, step: 1\n"
     ]
    }
   ],
   "source": [
    "Counter c;\n",
    "c.increment();\n",
    "c.increment();\n",
    "c.increment();\n",
    "c.increment();"
   ]
  },
  {
   "cell_type": "markdown",
   "metadata": {},
   "source": [
    "Alternatively we can create an object dynamically using the `new` operator and then use the arrow `->` operator to call the `increment` function."
   ]
  },
  {
   "cell_type": "code",
   "execution_count": 13,
   "metadata": {},
   "outputs": [
    {
     "name": "stdout",
     "output_type": "stream",
     "text": [
      "init -> count: 0, step: 1\n"
     ]
    }
   ],
   "source": [
    "Counter *cptr = new Counter;\n",
    "cptr->increment();\n",
    "cptr->increment();\n",
    "cptr->increment();\n",
    "cptr->increment();"
   ]
  },
  {
   "cell_type": "markdown",
   "metadata": {},
   "source": [
    "And when we no longer need this object, we delete it using the `delete` operator."
   ]
  },
  {
   "cell_type": "code",
   "execution_count": 14,
   "metadata": {},
   "outputs": [
    {
     "name": "stdout",
     "output_type": "stream",
     "text": [
      "fini -> count: 4, step: 1\n"
     ]
    }
   ],
   "source": [
    "delete cptr;"
   ]
  },
  {
   "cell_type": "markdown",
   "metadata": {},
   "source": [
    "### CODING CHALLENGE 4\n",
    "\n",
    "Copy the following class into the code cell below and change it so that it contains a no-argument constructor that initializes `month` to 1, `day` to also 1, and `year` to `1900`. After that create two objects of this class: one in the stack and another in the heap. Use  the **dot operator** and the **arrow** `->` operators with these objects respectively to call the `showDate()` function.\n",
    "\n",
    "```c++\n",
    "class DateClass2 {\n",
    "private:\n",
    "    int month, day, year;\n",
    "public:\n",
    "    void setDate(int mm, int dd, int yyyy){\n",
    "        month = mm;\n",
    "        day = dd;\n",
    "        year = yyyy;\n",
    "    }\n",
    "\n",
    "\n",
    "    void showDate() {\n",
    "        cout << \"The date is \" << setfill('0')\n",
    "             << setw(2) << month << '/'\n",
    "             << setw(2) << day << '/'\n",
    "             << setw(2) << year % 100 << endl;\n",
    "    }\n",
    "};\n",
    "```"
   ]
  },
  {
   "cell_type": "code",
   "execution_count": 15,
   "metadata": {},
   "outputs": [],
   "source": [
    "//TODO"
   ]
  },
  {
   "cell_type": "markdown",
   "metadata": {},
   "source": [
    "## Class destructors\n",
    "\n",
    "C++ allows classes to define another special function called the **destructor**, that gets called automatically when an object goes out of scope or is destroyed (using the `delete` operator). This destructor:\n",
    "* has a name that starts with the tilde `~` character followed by the same name as the class \n",
    "* it does not take any arguments\n",
    "* it has no return type\n",
    "\n",
    "Here is an example destructor forn the `Counter` class above:\n",
    "\n",
    "```c++\n",
    "    ~Counter() { // The destructor\n",
    "        cout << \"fini -> count: \" << count << \", step: \"  << step << endl;\n",
    "    }\n",
    "```\n",
    "\n",
    "To see the destructor in action, we can create an object inside curly braces to force it to go out of scope. This is because any object created inside two curly braces can only be used within these braces. So when the closing braces `}` is reached, the destructor is called."
   ]
  },
  {
   "cell_type": "code",
   "execution_count": 16,
   "metadata": {},
   "outputs": [
    {
     "name": "stdout",
     "output_type": "stream",
     "text": [
      "init -> count: 0, step: 1\n",
      "fini -> count: 4, step: 1\n"
     ]
    }
   ],
   "source": [
    "{\n",
    "    Counter c;\n",
    "    c.increment();\n",
    "    c.increment();\n",
    "    c.increment();\n",
    "    c.increment();\n",
    "}"
   ]
  },
  {
   "cell_type": "markdown",
   "metadata": {},
   "source": [
    "Alternatively, we can create an object using the `new` operator and then `delete` it at the end. The destructor will be called automatically by the `delete` statement."
   ]
  },
  {
   "cell_type": "code",
   "execution_count": 17,
   "metadata": {},
   "outputs": [
    {
     "name": "stdout",
     "output_type": "stream",
     "text": [
      "init -> count: 0, step: 1\n",
      "fini -> count: 3, step: 1\n"
     ]
    }
   ],
   "source": [
    "Counter *c2 = new Counter;\n",
    "\n",
    "c2->increment();\n",
    "c2->increment();\n",
    "c2->increment();\n",
    "\n",
    "delete c2;"
   ]
  },
  {
   "cell_type": "markdown",
   "metadata": {},
   "source": [
    "It is important to remember here that C++ will supply a **default constructor** with zero arguments and blank body to every class that does not define any constructor. C++ will also supply a **default destructor** for each class that does not provide one.\n",
    "\n",
    "## Overloaded constructors\n",
    "\n",
    "In C++, a class can have more than one constructor. This is because there might be more than one way to create/initialize objects of that class. We call these multiple constructors **overloaded constructors**.  \n",
    "\n",
    "On the other hand, unlike constructors, a destructor cannot be overloaded. In other words, a class can only have one destructor.\n",
    "\n",
    "Here is another date class with two constuctors: one without arguments and another with three arguments."
   ]
  },
  {
   "cell_type": "code",
   "execution_count": 18,
   "metadata": {},
   "outputs": [],
   "source": [
    "class Date {\n",
    "private:\n",
    "    int month, day, year;\n",
    "public:\n",
    "    Date() : month(1), day(1), year(1900) {} // Constructor # 1\n",
    "    Date(int mm, int dd, int yy) : month(mm), day(dd), year(yy) {}  // Constructor # 2\n",
    "\n",
    "    void showDate() {\n",
    "        cout << \"The date is \" << setfill('0')\n",
    "             << setw(2) << month << '/'\n",
    "             << setw(2) << day << '/'\n",
    "             << setw(2) << year % 100 << endl;\n",
    "    }\n",
    "\n",
    "    ~Date(){} // Destructor\n",
    "};"
   ]
  },
  {
   "cell_type": "markdown",
   "metadata": {},
   "source": [
    "Keep in mind that it is OK for a constructor or a destructor to have an empty body (with nothing between `{` and `}`) as you see here.\n",
    "\n",
    "Having these two constructors gives us two ways to create objects, one for each constructor."
   ]
  },
  {
   "cell_type": "code",
   "execution_count": 19,
   "metadata": {},
   "outputs": [
    {
     "name": "stdout",
     "output_type": "stream",
     "text": [
      "The date is 01/01/00\n",
      "The date is 02/17/19\n"
     ]
    }
   ],
   "source": [
    "// Using constructor #1\n",
    "Date d1;\n",
    "d1.showDate();\n",
    "\n",
    "// Using constructor #2\n",
    "Date d2(2, 17, 2019);\n",
    "d2.showDate();"
   ]
  },
  {
   "cell_type": "markdown",
   "metadata": {},
   "source": [
    "We also have two ways to create date objects using the `new` operator."
   ]
  },
  {
   "cell_type": "code",
   "execution_count": 20,
   "metadata": {},
   "outputs": [
    {
     "name": "stdout",
     "output_type": "stream",
     "text": [
      "The date is 01/01/00\n",
      "The date is 02/17/19\n"
     ]
    }
   ],
   "source": [
    "// Using constructor #1\n",
    "Date *d3 = new Date;\n",
    "d3->showDate();\n",
    "\n",
    "// Using constructor #1\n",
    "Date *d4 = new Date(2, 17, 2019);\n",
    "d4->showDate();\n",
    "\n",
    "delete d3, d4;"
   ]
  },
  {
   "cell_type": "markdown",
   "metadata": {},
   "source": [
    "### CODING CHALLENGE 5\n",
    "\n",
    "In the code cell below, create a class named `Employee` with three private data members: id (an integer), name (a string), and age (a short integer). The class should have the following four constructors:\n",
    "* no-argument construcor that initializes `id` to 0, `name` to `\"noname\"`, and `age` to 18.\n",
    "* a one-argument construcor that takes an argument for  `id` and initializes `name` to `\"noname\"`, and `age` to 18.\n",
    "* a two-argument construcor that takes arguments for `id` and `name` and initializes `age` to 18.\n",
    "* a three-argument construcor that takes arguments for `id`, `name`, and `age`.\n",
    "\n",
    "This class should also have a function named `print` that prints out the values of `id`, `name`, and `age`."
   ]
  },
  {
   "cell_type": "code",
   "execution_count": 21,
   "metadata": {},
   "outputs": [],
   "source": [
    "//TODO"
   ]
  },
  {
   "cell_type": "markdown",
   "metadata": {},
   "source": [
    "Create four objects without the `new` operator, one object per constructor, and on each object call the `print` function."
   ]
  },
  {
   "cell_type": "code",
   "execution_count": 22,
   "metadata": {},
   "outputs": [],
   "source": [
    "//TODO"
   ]
  },
  {
   "cell_type": "markdown",
   "metadata": {},
   "source": [
    "Create another four objects, this time, using the `new` operator, one object per constructor, and on each object call the `print` function."
   ]
  },
  {
   "cell_type": "code",
   "execution_count": 23,
   "metadata": {},
   "outputs": [],
   "source": [
    "//TODO"
   ]
  },
  {
   "cell_type": "markdown",
   "metadata": {},
   "source": [
    "As a final example, here is another, more complete, counter class."
   ]
  },
  {
   "cell_type": "code",
   "execution_count": 24,
   "metadata": {},
   "outputs": [],
   "source": [
    "class BetterCounter{\n",
    "private:\n",
    "    unsigned count; int step;\n",
    "public:\n",
    "    BetterCounter() : count(0), step(1){} // Constructor # 1\n",
    "    BetterCounter(unsigned c) : count(c), step(1){} // Constructor # 2\n",
    "    BetterCounter(unsigned c, int s) : count(c), step(s){} // Constructor # 3\n",
    "    \n",
    "    void increment(){ count = count + step; }\n",
    "    int current(){ return count; }\n",
    "    \n",
    "    ~BetterCounter(){} // // Destructor\n",
    "};"
   ]
  },
  {
   "cell_type": "markdown",
   "metadata": {},
   "source": [
    "And here is an example object of this new class. "
   ]
  },
  {
   "cell_type": "code",
   "execution_count": 25,
   "metadata": {},
   "outputs": [
    {
     "name": "stdout",
     "output_type": "stream",
     "text": [
      "12"
     ]
    }
   ],
   "source": [
    "BetterCounter* bc = new BetterCounter(11);\n",
    "bc->increment();\n",
    "cout << bc->current();\n",
    "delete bc;"
   ]
  },
  {
   "cell_type": "markdown",
   "metadata": {},
   "source": [
    "## `const` member functions\n",
    "In C++, it is recommended to make any member function that does not change any of the data members a `const` function. This is to prevent accidental changes to objects from happening and to be explicit about what these functions can and cannot do. To make a member function `const`, we add the `const` keyword to the end of the function header (right after the parenthesis-enclosed parameter list). Notice that this `const` keyword at the end of the function header is a part of the function signature and needs to be in both the function prototype and the function definition.\n",
    "\n",
    "Here is another version of the `Date` class with the `showDate` function being a `const` function by adding `const` to the end of its header in both its prototype and definition. We do this because this function is not supposed to change the date object; it only displays it in a certain format."
   ]
  },
  {
   "cell_type": "code",
   "execution_count": 26,
   "metadata": {},
   "outputs": [],
   "source": [
    "class Date2 {\n",
    "private:\n",
    "    int month, day, year;\n",
    "public:\n",
    "    Date2() : month(1), day(1), year(1900) {} // Constructor # 1\n",
    "    Date2(int mm, int dd, int yy) : month(mm), day(dd), year(yy) {}  // Constructor # 2\n",
    "\n",
    "    void showDate() const; // A const function prototype\n",
    "\n",
    "    ~Date2(){} // Destructor\n",
    "};"
   ]
  },
  {
   "cell_type": "code",
   "execution_count": 27,
   "metadata": {},
   "outputs": [],
   "source": [
    "// A const function definition\n",
    "void Date2::showDate() const {\n",
    "    cout << \"The date is \" << setfill('0')\n",
    "         << setw(2) << month << '/'\n",
    "         << setw(2) << day << '/'\n",
    "         << setw(2) << year % 100 << endl;\n",
    "}"
   ]
  },
  {
   "cell_type": "markdown",
   "metadata": {},
   "source": [
    "Another common example of `const` functions is the class **accessor** or **getter** functions."
   ]
  },
  {
   "cell_type": "markdown",
   "metadata": {},
   "source": [
    "## Accessors and mutators\n",
    "For classes with private data members, we need a controlled and safe way to read and write the values of these members outside the classes. To do that we rely on **accessors** and **mutators**, with one accessor and mutator for each private data member.\n",
    "\n",
    "**Accessors**, which are sometimes called **getters**, are public functions giving access to (or returning values of) their private data members. \n",
    "* They typically but not necessarily have names that start with the word **get** (or the word **is** for `bool` data members); thus the name **getters**.\n",
    "* They take no arguments.\n",
    "* They are read-only functions and should not change any of their objects' data members. In other words, they should be `const` functions by having the `const` keyword after the parenthesis-enclosed parameter list to indicate that these functions do not change the data members of the objects they are called on.\n",
    "* Their return types are the same as that of their data members. When their data members have non-primitive data types, they return `const` references to their data members. This is to avoid copying the actual values for better performance, while at the same time protecting these values from being changed outside the class.\n",
    "\n",
    "Here is an example:"
   ]
  },
  {
   "cell_type": "code",
   "execution_count": 28,
   "metadata": {},
   "outputs": [],
   "source": [
    "class Card {\n",
    "private:\n",
    "    long cardNumber;\n",
    "    string cardName;\n",
    "    bool active;\n",
    "\n",
    "public:\n",
    "    long getCardNumber() const {\n",
    "        return cardNumber;\n",
    "    }\n",
    "\n",
    "    const string& getCardName() const {\n",
    "        return cardName;\n",
    "    }\n",
    "\n",
    "    bool isActive() const {\n",
    "        return active;\n",
    "    }\n",
    "};"
   ]
  },
  {
   "cell_type": "markdown",
   "metadata": {},
   "source": [
    "**Mutators**, which are sometimes called **setters**, are public functions that change the values of their private data members:\n",
    "* They typically have names that start with the word **set**; thus the name **setters**.\n",
    "* They return `void`.\n",
    "* They take single arguments whose data types match those of their data members. When their data members have non-primitive data types, their arguments should be `const` references. This is to pass these arguments by reference, for performance, while protecting them from being changed inside these functions.\n",
    "\n",
    "Here is an example:"
   ]
  },
  {
   "cell_type": "code",
   "execution_count": 29,
   "metadata": {},
   "outputs": [],
   "source": [
    "class AnotherCard {\n",
    "private:\n",
    "    long cardNumber;\n",
    "    string cardName;\n",
    "    bool active;\n",
    "\n",
    "public:\n",
    "    void setCardNumber(long number) {\n",
    "        cardNumber = number;\n",
    "    }\n",
    "\n",
    "    void setCardName(const string &name) {\n",
    "        cardName = name;\n",
    "    }\n",
    "\n",
    "    void setActive(bool active) {\n",
    "        AnotherCard::active = active;\n",
    "    }\n",
    "};"
   ]
  }
 ],
 "metadata": {
  "kernelspec": {
   "display_name": "C++14",
   "language": "C++14",
   "name": "xcpp14"
  },
  "language_info": {
   "codemirror_mode": "text/x-c++src",
   "file_extension": ".cpp",
   "mimetype": "text/x-c++src",
   "name": "c++",
   "version": "14"
  }
 },
 "nbformat": 4,
 "nbformat_minor": 2
}
