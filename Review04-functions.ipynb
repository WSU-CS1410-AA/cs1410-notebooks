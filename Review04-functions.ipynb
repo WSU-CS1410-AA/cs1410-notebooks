{
 "cells": [
  {
   "cell_type": "markdown",
   "metadata": {},
   "source": [
    "<small><small><i>\n",
    "This tutorial is adapted with great liberty from Dr. Milaan Parmar's tutorial @ **[GitHub](https://github.com/milaan9/04_Python_Functions)**\n",
    "</i></small></small>"
   ]
  },
  {
   "cell_type": "markdown",
   "metadata": {},
   "source": []
  },
  {
   "cell_type": "markdown",
   "metadata": {},
   "source": [
    "# Python Functions\n",
    "\n",
    "In Python, a **function is a block of organized, reusable (DRY- Don’t Repeat Yourself) code with a name** that is used to perform a single, specific task. It can take arguments and returns the value.\n",
    "\n",
    "Functions help break our program into smaller and modular chunks. As our program grows larger and larger, functions make it more organized and manageable.\n",
    "\n",
    "Furthermore, it improves efficiency and reduces errors because of the reusability of a code."
   ]
  },
  {
   "cell_type": "markdown",
   "metadata": {},
   "source": [
    "Python support two types of functions\n",
    "\n",
    "* **Built-in** functions: The functions which are come along with Python itself are called a built-in function or predefined function. Some of them are:\n",
    "**`range()`**, **`print()`**, **`input()`**, **`type()`**, **`id()`**, **`eval()`** etc.\n",
    "\n",
    "    **Example:** Python **`range()`** function generates the immutable sequence of numbers starting from the given start integer to the stop integer.\n",
    "* **User-defined** functions: The functions which are created by programmer explicitly according to the requirement are called user-defined functions. These functions take the form:\n",
    "    ```python\n",
    "    def function_name(parameter1, parameter2):\n",
    "        # function body    \n",
    "        # write some action\n",
    "    return value\n",
    "    ```"
   ]
  },
  {
   "cell_type": "markdown",
   "metadata": {},
   "source": [
    "## Defining a Function\n",
    "\n",
    "1. **`def`** is a keyword that marks the start of the function header.\n",
    "\n",
    "2. **`function_name`** to uniquely identify the function. Function naming follows the same rules of writing identifiers in Python.\n",
    "\n",
    "2. **`parameter`** is the value passed to the function. They are optional.\n",
    "\n",
    "3. **`:`** (colon) to mark the end of the function header.\n",
    "\n",
    "4. **`function body`** is a block of code that performs some task and all the statements in **`function body`** must have the same **indentation** level (usually 4 spaces). \n",
    "\n",
    "5. **`return`** is a keyword to return a value from the function.. A return statement with no arguments is the same as return **`None`**.\n",
    "\n",
    "**Note:** While defining a function, we use two keywords, **`def`** (mandatory) and **`return`** (optional)."
   ]
  },
  {
   "cell_type": "markdown",
   "metadata": {},
   "source": [
    "### Defining a function without any parameters\n",
    "\n",
    "Function can be declared without parameters."
   ]
  },
  {
   "cell_type": "code",
   "execution_count": 1,
   "metadata": {
    "ExecuteTime": {
     "end_time": "2021-10-08T17:47:57.838353Z",
     "start_time": "2021-10-08T17:47:57.814918Z"
    },
    "tags": []
   },
   "outputs": [
    {
     "name": "stdout",
     "output_type": "stream",
     "text": [
      "Welcome to Python for Data Science\n"
     ]
    }
   ],
   "source": [
    "def greet():\n",
    "    print(\"Welcome to Python for Data Science\")\n",
    "\n",
    "# call function using its name\n",
    "greet()"
   ]
  },
  {
   "cell_type": "code",
   "execution_count": 2,
   "metadata": {
    "ExecuteTime": {
     "end_time": "2021-10-08T17:47:57.946753Z",
     "start_time": "2021-10-08T17:47:57.840309Z"
    }
   },
   "outputs": [
    {
     "name": "stdout",
     "output_type": "stream",
     "text": [
      "9\n"
     ]
    }
   ],
   "source": [
    "def add_two_numbers ():\n",
    "    num_one = 3\n",
    "    num_two = 6\n",
    "    total = num_one + num_two\n",
    "    print(total)\n",
    "    \n",
    "add_two_numbers() # calling a function"
   ]
  },
  {
   "cell_type": "code",
   "execution_count": 3,
   "metadata": {
    "ExecuteTime": {
     "end_time": "2021-10-08T17:47:58.053200Z",
     "start_time": "2021-10-08T17:47:57.950659Z"
    },
    "tags": []
   },
   "outputs": [
    {
     "name": "stdout",
     "output_type": "stream",
     "text": [
      "Milaan Parmar\n"
     ]
    }
   ],
   "source": [
    "def generate_full_name ():\n",
    "    first_name = 'Milaan'\n",
    "    last_name = 'Parmar'\n",
    "    space = ' '\n",
    "    full_name = first_name + space + last_name\n",
    "    print(full_name)\n",
    "    \n",
    "generate_full_name () # calling a function"
   ]
  },
  {
   "cell_type": "markdown",
   "metadata": {},
   "source": [
    "All the above functions have no parameters and return no values."
   ]
  },
  {
   "cell_type": "markdown",
   "metadata": {},
   "source": [
    "### Defining a function without parameters and `return` value\n",
    "\n",
    "Function can also return values, if a function does not have a **`return`** statement, the value of the function is None. Let us rewrite the above functions using **`return`**. From now on, we get a value from a function when we call the function and print it."
   ]
  },
  {
   "cell_type": "code",
   "execution_count": 4,
   "metadata": {
    "ExecuteTime": {
     "end_time": "2021-10-08T17:47:58.176733Z",
     "start_time": "2021-10-08T17:47:58.057106Z"
    }
   },
   "outputs": [
    {
     "name": "stdout",
     "output_type": "stream",
     "text": [
      "9\n"
     ]
    }
   ],
   "source": [
    "def add_two_numbers ():\n",
    "    num_one = 3\n",
    "    num_two = 6\n",
    "    total = num_one + num_two\n",
    "    return total\n",
    "\n",
    "print(add_two_numbers())"
   ]
  },
  {
   "cell_type": "code",
   "execution_count": 5,
   "metadata": {
    "ExecuteTime": {
     "end_time": "2021-10-08T17:47:58.298319Z",
     "start_time": "2021-10-08T17:47:58.185523Z"
    },
    "scrolled": true
   },
   "outputs": [
    {
     "name": "stdout",
     "output_type": "stream",
     "text": [
      "Milaan Parmar\n"
     ]
    }
   ],
   "source": [
    "def generate_full_name ():\n",
    "    first_name = 'Milaan'\n",
    "    last_name = 'Parmar'\n",
    "    space = ' '\n",
    "    full_name = first_name + space + last_name\n",
    "    return full_name\n",
    "\n",
    "print(generate_full_name())"
   ]
  },
  {
   "cell_type": "markdown",
   "metadata": {},
   "source": [
    "### Defining a function with parameters\n",
    "\n",
    "In a function we can pass different data types(number, string, boolean, list, tuple, dictionary or set) as a parameter."
   ]
  },
  {
   "cell_type": "markdown",
   "metadata": {},
   "source": [
    "#### Single parameter\n",
    "\n",
    "If our function takes a parameter we should call our function with an argument"
   ]
  },
  {
   "cell_type": "code",
   "execution_count": 6,
   "metadata": {
    "ExecuteTime": {
     "end_time": "2021-10-08T17:47:58.422343Z",
     "start_time": "2021-10-08T17:47:58.301246Z"
    }
   },
   "outputs": [],
   "source": [
    "def greet(name):\n",
    "    \"\"\"\n",
    "    This function greets to the person passed in as a parameter\n",
    "    \"\"\"\n",
    "    print(\"Hello, \" + name + \". Good morning!\")   # No output!"
   ]
  },
  {
   "cell_type": "code",
   "execution_count": 7,
   "metadata": {
    "ExecuteTime": {
     "end_time": "2021-10-08T17:47:58.545876Z",
     "start_time": "2021-10-08T17:47:58.430154Z"
    },
    "tags": []
   },
   "outputs": [
    {
     "name": "stdout",
     "output_type": "stream",
     "text": [
      "55\n",
      "None\n",
      "5050\n",
      "None\n"
     ]
    }
   ],
   "source": [
    "def sum_of_numbers(n):\n",
    "    total = 0\n",
    "    for i in range(n+1):\n",
    "        total+=i\n",
    "    print(total)\n",
    "    \n",
    "print(sum_of_numbers(10))  # 55\n",
    "print(sum_of_numbers(100)) # 5050"
   ]
  },
  {
   "cell_type": "markdown",
   "metadata": {},
   "source": [
    "#### Two or more parameters\n",
    "\n",
    "A function may or may not have parameters. A function may also have two or more parameters. If our function takes parameters we should call it with arguments."
   ]
  },
  {
   "cell_type": "code",
   "execution_count": 8,
   "metadata": {
    "ExecuteTime": {
     "end_time": "2021-10-08T17:47:58.652810Z",
     "start_time": "2021-10-08T17:47:58.552712Z"
    }
   },
   "outputs": [
    {
     "name": "stdout",
     "output_type": "stream",
     "text": [
      "Hello Arthur Welcome to Python for Data Science\n",
      "Your course name is Python\n"
     ]
    }
   ],
   "source": [
    "def course(name, course_name):\n",
    "    print(\"Hello\", name, \"Welcome to Python for Data Science\")\n",
    "    print(\"Your course name is\", course_name)\n",
    "\n",
    "course('Arthur', 'Python')   # call function"
   ]
  },
  {
   "cell_type": "markdown",
   "metadata": {},
   "source": [
    "### Defining a function with parameters and `return` value"
   ]
  },
  {
   "cell_type": "code",
   "execution_count": 9,
   "metadata": {
    "ExecuteTime": {
     "end_time": "2021-10-08T17:47:58.761206Z",
     "start_time": "2021-10-08T17:47:58.657692Z"
    }
   },
   "outputs": [
    {
     "name": "stdout",
     "output_type": "stream",
     "text": [
      "Milaan, welcome to Python for Data Science\n"
     ]
    }
   ],
   "source": [
    "def greetings (name):  # single parameter\n",
    "    message = name + ', welcome to Python for Data Science'\n",
    "    return message\n",
    "\n",
    "print(greetings('Milaan'))"
   ]
  },
  {
   "cell_type": "code",
   "execution_count": 10,
   "metadata": {
    "ExecuteTime": {
     "end_time": "2021-10-08T17:47:58.853005Z",
     "start_time": "2021-10-08T17:47:58.764137Z"
    }
   },
   "outputs": [
    {
     "name": "stdout",
     "output_type": "stream",
     "text": [
      "100\n"
     ]
    }
   ],
   "source": [
    "def add_ten(num):  # single parameter\n",
    "    ten = 10\n",
    "    return num + ten\n",
    "print(add_ten(90))"
   ]
  },
  {
   "cell_type": "code",
   "execution_count": 11,
   "metadata": {
    "ExecuteTime": {
     "end_time": "2021-10-08T17:47:58.976051Z",
     "start_time": "2021-10-08T17:47:58.855934Z"
    }
   },
   "outputs": [
    {
     "name": "stdout",
     "output_type": "stream",
     "text": [
      "9\n"
     ]
    }
   ],
   "source": [
    "def square_number(x):  # single parameter\n",
    "    return x * x\n",
    "\n",
    "print(square_number(3))"
   ]
  },
  {
   "cell_type": "code",
   "execution_count": 12,
   "metadata": {
    "ExecuteTime": {
     "end_time": "2021-10-08T17:47:59.084452Z",
     "start_time": "2021-10-08T17:47:58.978980Z"
    }
   },
   "outputs": [
    {
     "name": "stdout",
     "output_type": "stream",
     "text": [
      "314.0\n"
     ]
    }
   ],
   "source": [
    "def area_of_circle (r):  # single parameter\n",
    "    PI = 3.14\n",
    "    area = PI * r ** 2\n",
    "    return area\n",
    "\n",
    "print(area_of_circle(10))"
   ]
  },
  {
   "cell_type": "code",
   "execution_count": 13,
   "metadata": {
    "ExecuteTime": {
     "end_time": "2021-10-08T17:47:59.192846Z",
     "start_time": "2021-10-08T17:47:59.087380Z"
    }
   },
   "outputs": [
    {
     "name": "stdout",
     "output_type": "stream",
     "text": [
      "Addition : 36\n"
     ]
    }
   ],
   "source": [
    "def calculator(a, b):  # two parameter\n",
    "    add = a + b   \n",
    "    return add    # return the addition\n",
    "\n",
    "result = calculator(30, 6)   # call function & take return value in variable\n",
    "print(\"Addition :\", result)   # Output Addition : 36"
   ]
  },
  {
   "cell_type": "code",
   "execution_count": 14,
   "metadata": {
    "ExecuteTime": {
     "end_time": "2021-10-08T17:47:59.299295Z",
     "start_time": "2021-10-08T17:47:59.199687Z"
    }
   },
   "outputs": [
    {
     "name": "stdout",
     "output_type": "stream",
     "text": [
      "Full Name:  Milaan Parmar\n"
     ]
    }
   ],
   "source": [
    "def generate_full_name (first_name, last_name):  # two parameter\n",
    "    space = ' '\n",
    "    full_name = first_name + space + last_name\n",
    "    return full_name\n",
    "\n",
    "print('Full Name: ', generate_full_name('Milaan','Parmar'))"
   ]
  },
  {
   "cell_type": "code",
   "execution_count": 15,
   "metadata": {
    "ExecuteTime": {
     "end_time": "2021-10-08T17:47:59.422342Z",
     "start_time": "2021-10-08T17:47:59.302224Z"
    }
   },
   "outputs": [
    {
     "name": "stdout",
     "output_type": "stream",
     "text": [
      "Sum of two numbers:  10\n"
     ]
    }
   ],
   "source": [
    "def sum_two_numbers (num_one, num_two):  # two parameter\n",
    "    sum = num_one + num_two\n",
    "    return sum\n",
    "\n",
    "print('Sum of two numbers: ', sum_two_numbers(1, 9))"
   ]
  },
  {
   "cell_type": "code",
   "execution_count": 16,
   "metadata": {
    "ExecuteTime": {
     "end_time": "2021-10-08T17:47:59.530738Z",
     "start_time": "2021-10-08T17:47:59.425271Z"
    }
   },
   "outputs": [
    {
     "name": "stdout",
     "output_type": "stream",
     "text": [
      "Age:  202\n"
     ]
    }
   ],
   "source": [
    "def calculate_age (current_year, birth_year):  # two parameter\n",
    "    age = current_year - birth_year\n",
    "    return age;\n",
    "\n",
    "print('Age: ', calculate_age(2021, 1819))"
   ]
  },
  {
   "cell_type": "code",
   "execution_count": 17,
   "metadata": {
    "ExecuteTime": {
     "end_time": "2021-10-08T17:47:59.623513Z",
     "start_time": "2021-10-08T17:47:59.533669Z"
    }
   },
   "outputs": [
    {
     "name": "stdout",
     "output_type": "stream",
     "text": [
      "Weight of an object in Newtons:  981.0 N\n"
     ]
    }
   ],
   "source": [
    "# Example 9: \n",
    "\n",
    "def weight_of_object (mass, gravity):  # two parameter\n",
    "    weight = str(mass * gravity)+ ' N' # the value has to be changed to a string first\n",
    "    return weight\n",
    "print('Weight of an object in Newtons: ', weight_of_object(100, 9.81))"
   ]
  },
  {
   "cell_type": "markdown",
   "metadata": {},
   "source": [
    "## The `return` Statement\n",
    "\n",
    "In Python, to return value from the function, a **`return`** statement is used. It returns the value of the expression following the returns keyword.\n",
    "\n",
    "**Syntax:**\n",
    "\n",
    "```python\n",
    "def fun():\n",
    "    statement-1\n",
    "    statement-2\n",
    "    statement-3\n",
    "    .          \n",
    "    .          \n",
    "    return [expression]\n",
    "```\n",
    "\n",
    "The **`return`** value is nothing but a outcome of function.\n",
    "\n",
    "* The **`return`** statement ends the function execution.\n",
    "* For a function, it is not mandatory to return a value.\n",
    "* If a **`return`** statement is used without any expression, then the **`None`** is returned.\n",
    "* The **`return`** statement should be inside of the function block."
   ]
  },
  {
   "cell_type": "markdown",
   "metadata": {
    "tags": []
   },
   "source": [
    "### Return a single value"
   ]
  },
  {
   "cell_type": "code",
   "execution_count": 18,
   "metadata": {
    "ExecuteTime": {
     "end_time": "2021-10-08T17:48:00.529768Z",
     "start_time": "2021-10-08T17:48:00.400370Z"
    },
    "tags": []
   },
   "outputs": [],
   "source": [
    "def sum(a,b):  # Function 1\n",
    "    print(\"Adding the two values\")\n",
    "    print(\"Printing within Function\")\n",
    "    print(a+b)\n",
    "    \n",
    "    return a+b"
   ]
  },
  {
   "cell_type": "code",
   "execution_count": 19,
   "metadata": {
    "ExecuteTime": {
     "end_time": "2021-10-08T17:48:00.672343Z",
     "start_time": "2021-10-08T17:48:00.537579Z"
    }
   },
   "outputs": [
    {
     "name": "stdout",
     "output_type": "stream",
     "text": [
      "Even numbers are: [2, 46, 72, 90]\n"
     ]
    }
   ],
   "source": [
    "def is_even(list1):\n",
    "    even_num = []\n",
    "    for n in list1:\n",
    "        if n % 2 == 0:\n",
    "            even_num.append(n)\n",
    "    # return a list\n",
    "    return even_num\n",
    "\n",
    "# Pass list to the function\n",
    "even_num = is_even([2, 3, 46, 63, 72, 83, 90, 19])\n",
    "print(\"Even numbers are:\", even_num)"
   ]
  },
  {
   "cell_type": "markdown",
   "metadata": {},
   "source": [
    "### Return multiple Values\n",
    "\n",
    "You can also return multiple values from a function. Use the return statement by separating each expression by a comma."
   ]
  },
  {
   "cell_type": "code",
   "execution_count": 20,
   "metadata": {
    "ExecuteTime": {
     "end_time": "2021-10-08T17:48:00.795876Z",
     "start_time": "2021-10-08T17:48:00.677226Z"
    }
   },
   "outputs": [
    {
     "name": "stdout",
     "output_type": "stream",
     "text": [
      "Addition:  12\n",
      "Subtraction:  8\n",
      "Multiplication:  20\n",
      "Division:  5.0\n"
     ]
    }
   ],
   "source": [
    "def arithmetic(num1, num2):\n",
    "    add = num1 + num2\n",
    "    sub = num1 - num2\n",
    "    multiply = num1 * num2\n",
    "    division = num1 / num2\n",
    "    \n",
    "    # return four values\n",
    "    return add, sub, multiply, division\n",
    "\n",
    "a, b, c, d = arithmetic(10, 2)  # read four return values in four variables\n",
    "\n",
    "print(\"Addition: \", a)\n",
    "print(\"Subtraction: \", b)\n",
    "print(\"Multiplication: \", c)\n",
    "print(\"Division: \", d)"
   ]
  },
  {
   "cell_type": "markdown",
   "metadata": {},
   "source": [
    "### Return Boolean Values"
   ]
  },
  {
   "cell_type": "code",
   "execution_count": 21,
   "metadata": {
    "ExecuteTime": {
     "end_time": "2021-10-08T17:48:00.903786Z",
     "start_time": "2021-10-08T17:48:00.803691Z"
    },
    "tags": []
   },
   "outputs": [
    {
     "name": "stdout",
     "output_type": "stream",
     "text": [
      "even\n",
      "True\n",
      "False\n"
     ]
    }
   ],
   "source": [
    "def is_even (n):\n",
    "    if n % 2 == 0:\n",
    "        print('even')\n",
    "        return True    # return stops further execution of the function, similar to break \n",
    "    return False\n",
    "\n",
    "print(is_even(10)) # True\n",
    "print(is_even(7)) # False"
   ]
  },
  {
   "cell_type": "markdown",
   "metadata": {},
   "source": [
    "### Return a List"
   ]
  },
  {
   "cell_type": "code",
   "execution_count": 22,
   "metadata": {
    "ExecuteTime": {
     "end_time": "2021-10-08T17:48:01.028789Z",
     "start_time": "2021-10-08T17:48:00.906718Z"
    }
   },
   "outputs": [
    {
     "name": "stdout",
     "output_type": "stream",
     "text": [
      "[0, 2, 4, 6, 8, 10]\n"
     ]
    }
   ],
   "source": [
    "# Example 1:\n",
    "\n",
    "def find_even_numbers(n):\n",
    "    evens = []\n",
    "    for i in range(n + 1):\n",
    "        if i % 2 == 0:\n",
    "            evens.append(i)\n",
    "    return evens\n",
    "print(find_even_numbers(10))"
   ]
  },
  {
   "cell_type": "markdown",
   "metadata": {},
   "source": [
    "## Calling a function\n",
    "\n",
    "Once we have defined a function, we can call it from another function, program or even the Python prompt. To call a function we simply type the function name with appropriate parameters."
   ]
  },
  {
   "cell_type": "code",
   "execution_count": 23,
   "metadata": {
    "ExecuteTime": {
     "end_time": "2021-10-08T17:48:01.243633Z",
     "start_time": "2021-10-08T17:48:01.140118Z"
    }
   },
   "outputs": [
    {
     "name": "stdout",
     "output_type": "stream",
     "text": [
      "Happy birthday, Bill. Hope you have a wonderful day!\n"
     ]
    }
   ],
   "source": [
    "def wish(name):\n",
    "    \"\"\"\n",
    "    This function wishes to the person passed in as a parameter\n",
    "    \"\"\"\n",
    "    print(\"Happy birthday, \" + name + \". Hope you have a wonderful day!\")\n",
    "\n",
    "wish('Bill')"
   ]
  },
  {
   "cell_type": "code",
   "execution_count": 24,
   "metadata": {
    "ExecuteTime": {
     "end_time": "2021-10-08T17:48:01.446289Z",
     "start_time": "2021-10-08T17:48:01.251445Z"
    }
   },
   "outputs": [
    {
     "name": "stdout",
     "output_type": "stream",
     "text": [
      "Clark, welcome to Python for Data Science\n",
      "Milaan, welcome to Python for Data Science\n"
     ]
    }
   ],
   "source": [
    "def greetings (name = 'Clark'):\n",
    "    message = name + ', welcome to Python for Data Science'\n",
    "    return message\n",
    "\n",
    "print(greetings())\n",
    "print(greetings('Milaan'))"
   ]
  },
  {
   "cell_type": "code",
   "execution_count": 25,
   "metadata": {
    "ExecuteTime": {
     "end_time": "2021-10-08T17:48:01.900373Z",
     "start_time": "2021-10-08T17:48:01.797831Z"
    }
   },
   "outputs": [
    {
     "name": "stdout",
     "output_type": "stream",
     "text": [
      "value of x is: 9\n",
      "value of y is: 6\n"
     ]
    }
   ],
   "source": [
    "def swap(x, y):\n",
    "    \"\"\"\n",
    "    This function swaps the value of two variables\n",
    "    \"\"\"\n",
    "    temp = x;  # value of x will go inside temp\n",
    "    x = y;     # value of y will go inside x\n",
    "    y = temp;  # value of temp will go inside y\n",
    "    print(\"value of x is:\", x)\n",
    "    print(\"value of y is:\", y)\n",
    "    return     # \"return\" is optional\n",
    "\n",
    "x = 6\n",
    "y = 9\n",
    "swap(x, y)     #call function"
   ]
  },
  {
   "cell_type": "markdown",
   "metadata": {},
   "source": [
    "## Functions with the `pass` Statement\n",
    "\n",
    "In Python, the **`pass`** is keyword for doing anything. Sometimes there is a situation where we need to define a syntactically empty block. We can define that block using the **`pass`** keyword.\n",
    "\n",
    "When the interpreter finds a **`pass`** statement in the program, it returns no operation."
   ]
  },
  {
   "cell_type": "code",
   "execution_count": 26,
   "metadata": {
    "ExecuteTime": {
     "end_time": "2021-10-08T17:48:02.420395Z",
     "start_time": "2021-10-08T17:48:02.294414Z"
    }
   },
   "outputs": [],
   "source": [
    "def addition(num1, num2):\n",
    "    # Implementation of addition function in comming release\n",
    "    # Pass statement \n",
    "    pass\n",
    "\n",
    "addition(10, 2)"
   ]
  },
  {
   "cell_type": "markdown",
   "metadata": {},
   "source": [
    "## Local and global variables\n",
    "\n",
    "### Local variables\n",
    "When we define variables inside functions, the scope of those variables is limited to that function. In Python, the scope of a variable is the portion of a program where the variable is declared and can be used. Parameters and variables defined inside a function are not visible from outside the function. Hence, it is called the **local** scope.\n",
    "\n",
    ">**Note:** The inner function does have access to the outer function’s local scope.\n",
    "\n",
    "Local variables live for the duration of the function execution. Once we return from the function, those variables get destroyed. In other words, a function cannot remember the value of a local variable from a previous call."
   ]
  },
  {
   "cell_type": "markdown",
   "metadata": {},
   "source": [
    "If we try to access the local variable from the outside of the function, we will get the error as **`NameError`**."
   ]
  },
  {
   "cell_type": "code",
   "execution_count": 27,
   "metadata": {
    "ExecuteTime": {
     "end_time": "2021-06-13T14:51:45.055679Z",
     "start_time": "2021-06-13T14:51:45.042009Z"
    },
    "scrolled": true
   },
   "outputs": [],
   "source": [
    "def fun():\n",
    "    y = \"local\"\n",
    "    \n",
    "fun()\n",
    "# print(y)"
   ]
  },
  {
   "cell_type": "markdown",
   "metadata": {},
   "source": [
    "If you uncomment the last statement above, you'll get an error because you are trying to access a local variable **`y`** outside its function or scope."
   ]
  },
  {
   "cell_type": "code",
   "execution_count": 28,
   "metadata": {
    "ExecuteTime": {
     "end_time": "2021-06-13T14:51:46.227056Z",
     "start_time": "2021-06-13T14:51:46.209482Z"
    }
   },
   "outputs": [
    {
     "name": "stdout",
     "output_type": "stream",
     "text": [
      "local\n"
     ]
    }
   ],
   "source": [
    "# Example 2: Create a Local Variable\n",
    "\n",
    "# Normally, we declare a variable inside the function to create a local variable.\n",
    "\n",
    "def fun():\n",
    "    y = \"local\"\n",
    "    print(y)\n",
    "\n",
    "fun()"
   ]
  },
  {
   "cell_type": "markdown",
   "metadata": {},
   "source": [
    "### Global Variables\n",
    "\n",
    "In Python, a variable declared outside any function (also known as the global scope) is considered a global variable. A global variable can be accessed inside or outside functions.\n",
    "\n",
    "For example:"
   ]
  },
  {
   "cell_type": "code",
   "execution_count": 29,
   "metadata": {
    "ExecuteTime": {
     "end_time": "2021-06-13T14:51:35.962970Z",
     "start_time": "2021-06-13T14:51:35.939538Z"
    }
   },
   "outputs": [
    {
     "name": "stdout",
     "output_type": "stream",
     "text": [
      "Value in 1st function: 999\n",
      "Value in 2nd function: 999\n"
     ]
    }
   ],
   "source": [
    "# Create a Global Variable\n",
    "\n",
    "global_var = 999\n",
    "\n",
    "def fun1():\n",
    "    print(\"Value in 1st function:\", global_var)\n",
    "\n",
    "def fun2():\n",
    "    print(\"Value in 2nd function:\", global_var)\n",
    "\n",
    "fun1()\n",
    "fun2()"
   ]
  },
  {
   "cell_type": "code",
   "execution_count": 30,
   "metadata": {
    "ExecuteTime": {
     "end_time": "2021-06-13T14:51:36.916090Z",
     "start_time": "2021-06-13T14:51:36.897539Z"
    },
    "tags": []
   },
   "outputs": [
    {
     "name": "stdout",
     "output_type": "stream",
     "text": [
      "x inside: global\n",
      "x outside: global\n"
     ]
    }
   ],
   "source": [
    "x = \"global\"\n",
    "\n",
    "def fun():\n",
    "    print(\"x inside:\", x)\n",
    "\n",
    "fun()\n",
    "print(\"x outside:\", x)"
   ]
  },
  {
   "cell_type": "markdown",
   "metadata": {},
   "source": [
    "In the above code, we created **`x`** as a global variable and defined a **`fun()`** to print the global variable **`x`**. Finally, we call the **`fun()`** which will print the value of **`x`**.\n",
    "\n",
    "But what if you want to change the value of a global variable **`x`** inside a function?"
   ]
  },
  {
   "cell_type": "code",
   "execution_count": 31,
   "metadata": {
    "ExecuteTime": {
     "end_time": "2021-06-13T14:51:38.791564Z",
     "start_time": "2021-06-13T14:51:38.442450Z"
    },
    "scrolled": true
   },
   "outputs": [],
   "source": [
    "x = \"global\"\n",
    "\n",
    "def fun():\n",
    "    x = x * 2\n",
    "\n",
    "# fun()"
   ]
  },
  {
   "cell_type": "markdown",
   "metadata": {},
   "source": [
    "Uncommenting the last statement above results in a error. This is because Python treats **`x`** as a local variable but **`x`** is also not defined inside **`fun()`**.\n",
    "\n",
    "To make this work, we use the **`global`** keyword to tell Python explicitly that `x` is a global variable."
   ]
  },
  {
   "cell_type": "code",
   "execution_count": 32,
   "metadata": {},
   "outputs": [
    {
     "name": "stdout",
     "output_type": "stream",
     "text": [
      "globalglobal\n"
     ]
    }
   ],
   "source": [
    "x = \"global\"\n",
    "\n",
    "def fun():\n",
    "    global x\n",
    "    x = x * 2\n",
    "\n",
    "fun()\n",
    "print(x)"
   ]
  },
  {
   "cell_type": "markdown",
   "metadata": {},
   "source": [
    "Here is another example:"
   ]
  },
  {
   "cell_type": "code",
   "execution_count": 33,
   "metadata": {
    "ExecuteTime": {
     "end_time": "2021-06-13T14:51:48.270008Z",
     "start_time": "2021-06-13T14:51:48.249505Z"
    },
    "tags": []
   },
   "outputs": [
    {
     "name": "stdout",
     "output_type": "stream",
     "text": [
      "globalglobal\n",
      "local\n"
     ]
    }
   ],
   "source": [
    "#  Using Global and local variables in the same code\n",
    "\n",
    "a = \"global\"\n",
    "\n",
    "def fun():\n",
    "    global a\n",
    "    b = \"local\"\n",
    "    a = a * 2\n",
    "    print(a)\n",
    "    print(b)\n",
    "\n",
    "fun()"
   ]
  },
  {
   "cell_type": "markdown",
   "metadata": {},
   "source": [
    "In the above code, we declare **`a`** as a global and **`b`** as a local variable in the **`fun()`**. Then, we use multiplication operator **`*`** to modify the global variable **`a`** and we print both **`a`** and **`b`**.\n",
    "\n",
    "After calling the **`fun()`**, the value of **`a`** becomes **`globalglobal`** because we used the **`a * 2`** to replicate **`global`** twice. After that, we print the value of local variable **`b`** i.e **`local`**."
   ]
  },
  {
   "cell_type": "markdown",
   "metadata": {},
   "source": [
    "Visit this page to learn more on **[how you can generate pseudo-random numbers in Python](https://docs.python.org/3/library/random.html)**."
   ]
  },
  {
   "cell_type": "markdown",
   "metadata": {},
   "source": [
    "\n",
    "\n",
    "Learn about all the mathematical functions available in Python and how you can use them in your program."
   ]
  },
  {
   "cell_type": "markdown",
   "metadata": {},
   "source": [
    "## Mathematical Functions\n",
    "\n",
    "The built-in **`math`** module provides many mathematical functions. To use it, we have to import the module first using **`import math`**.\n",
    "\n",
    "This gives us access to the underlying C library functions. For example:"
   ]
  },
  {
   "cell_type": "code",
   "execution_count": 34,
   "metadata": {
    "ExecuteTime": {
     "end_time": "2021-06-13T16:56:20.316916Z",
     "start_time": "2021-06-13T16:56:20.289575Z"
    }
   },
   "outputs": [
    {
     "data": {
      "text/plain": [
       "2.0"
      ]
     },
     "execution_count": 34,
     "metadata": {},
     "output_type": "execute_result"
    }
   ],
   "source": [
    "import math\n",
    "math.sqrt(4)"
   ]
  },
  {
   "cell_type": "markdown",
   "metadata": {},
   "source": [
    "Here is the list of all the functions and attributes defined in **`math`** module with a brief explanation of what they do.\n",
    "\n",
    "**List of Functions in Python Math Module**\n",
    "\n",
    "| Function | Description |\n",
    "|:----| :--- |\n",
    "| **`ceil(x)`** | Returns the smallest integer greater than or equal to x. | \n",
    "| **`copysign(x, y)`** | Returns x with the sign of y | \n",
    "| **`fabs(x)`** | Returns the absolute value of x | \n",
    "| **`factorial(x)`** | Returns the factorial of x | \n",
    "| **`floor(x)`** | Returns the largest integer less than or equal to x | \n",
    "| **`fmod(x, y)`** | Returns the remainder when x is divided by y | \n",
    "| **`frexp(x)`** | Returns the mantissa and exponent of x as the pair (m, e) | \n",
    "| **`fsum(iterable)`** | Returns an accurate floating point sum of values in the iterable | \n",
    "| **`isfinite(x)`** | Returns True if x is neither an infinity nor a NaN (Not a Number) | \n",
    "| **`isinf(x)`** | Returns True if x is a positive or negative infinity | \n",
    "| **`isnan(x)`** | Returns True if x is a NaN | \n",
    "| **`ldexp(x, i)`** | Returns x * (2**i) | \n",
    "| **`modf(x)`** | Returns the fractional and integer parts of x | \n",
    "| **`trunc(x)`** | Returns the truncated integer value of x | \n",
    "| **`exp(x)`** | Returns e**x | \n",
    "| **`expm1(x)`** | Returns e**x - 1 | \n",
    "| **`log(x[, b])`** | Returns the logarithm of **`x`** to the base **`b`** (defaults to e) | \n",
    "| **`log1p(x)`** | Returns the natural logarithm of 1+x | \n",
    "| **`log2(x)`** | Returns the base-2 logarithm of x | \n",
    "| **`log10(x)`** | Returns the base-10 logarithm of x | \n",
    "| **`pow(x, y)`** | Returns x raised to the power y | \n",
    "| **`sqrt(x)`** | Returns the square root of x | \n",
    "| **`acos(x)`** | Returns the arc cosine of x | \n",
    "| **`asin(x)`** | Returns the arc sine of x | \n",
    "| **`atan(x)`** | Returns the arc tangent of x | \n",
    "| **`atan2(y, x)`** | Returns atan(y / x) | \n",
    "| **`cos(x)`** | Returns the cosine of x | \n",
    "| **`hypot(x, y)`** | Returns the Euclidean norm, sqrt(x*x + y*y) | \n",
    "| **`sin(x)`** | Returns the sine of x | \n",
    "| **`tan(x)`** | Returns the tangent of x | \n",
    "| **`degrees(x)`** | Converts angle x from radians to degrees | \n",
    "| **`radians(x)`** | Converts angle x from degrees to radians | \n",
    "| **`acosh(x)`** | Returns the inverse hyperbolic cosine of x | \n",
    "| **`asinh(x)`** | Returns the inverse hyperbolic sine of x | \n",
    "| **`atanh(x)`** | Returns the inverse hyperbolic tangent of x | \n",
    "| **`cosh(x)`** | Returns the hyperbolic cosine of x | \n",
    "| **`sinh(x)`** | Returns the hyperbolic cosine of x | \n",
    "| **`tanh(x)`** | Returns the hyperbolic tangent of x | \n",
    "| **`erf(x)`** | Returns the error function at x | \n",
    "| **`erfc(x)`** | Returns the complementary error function at x | \n",
    "| **`gamma(x)`** | Returns the Gamma function at x | \n",
    "| **`lgamma(x)`** | Returns the natural logarithm of the absolute value of the Gamma function at x | \n",
    "| **`pi`** | Mathematical constant, the ratio of circumference of a circle to it's diameter (3.14159...) | \n",
    "| **`e`** | mathematical constant e (2.71828...) | "
   ]
  }
 ],
 "metadata": {
  "gist": {
   "data": {
    "description": "01_Learn_Python4Data/04_Python_Functions/001_Python_Functions.ipynb",
    "public": true
   },
   "id": ""
  },
  "hide_input": false,
  "kernelspec": {
   "display_name": "Python 3 (ipykernel)",
   "language": "python",
   "name": "python3"
  },
  "language_info": {
   "codemirror_mode": {
    "name": "ipython",
    "version": 3
   },
   "file_extension": ".py",
   "mimetype": "text/x-python",
   "name": "python",
   "nbconvert_exporter": "python",
   "pygments_lexer": "ipython3",
   "version": "3.10.8"
  },
  "toc": {
   "base_numbering": 1,
   "nav_menu": {},
   "number_sections": true,
   "sideBar": true,
   "skip_h1_title": false,
   "title_cell": "Table of Contents",
   "title_sidebar": "Contents",
   "toc_cell": false,
   "toc_position": {},
   "toc_section_display": true,
   "toc_window_display": false
  },
  "varInspector": {
   "cols": {
    "lenName": 16,
    "lenType": 16,
    "lenVar": 40
   },
   "kernels_config": {
    "python": {
     "delete_cmd_postfix": "",
     "delete_cmd_prefix": "del ",
     "library": "var_list.py",
     "varRefreshCmd": "print(var_dic_list())"
    },
    "r": {
     "delete_cmd_postfix": ") ",
     "delete_cmd_prefix": "rm(",
     "library": "var_list.r",
     "varRefreshCmd": "cat(var_dic_list()) "
    }
   },
   "types_to_exclude": [
    "module",
    "function",
    "builtin_function_or_method",
    "instance",
    "_Feature"
   ],
   "window_display": false
  }
 },
 "nbformat": 4,
 "nbformat_minor": 4
}
