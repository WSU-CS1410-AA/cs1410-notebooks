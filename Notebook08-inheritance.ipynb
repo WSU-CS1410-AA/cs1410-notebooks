{
  "cells": [
    {
      "cell_type": "markdown",
      "metadata": {
        "id": "LXdyRSHPvqtf"
      },
      "source": [
        "<a target=\"_blank\" href=\"https://colab.research.google.com/github/WSU-CS1410-AA/cs1410-notebooks/blob/main/Notebook08-inheritance.ipynb\">\n",
        "  <img src=\"https://colab.research.google.com/assets/colab-badge.svg\" alt=\"Open In Colab\"/>\n",
        "</a>"
      ]
    },
    {
      "cell_type": "markdown",
      "metadata": {
        "id": "2DUm9D3rvqtm"
      },
      "source": [
        "# More on Classes and objects\n",
        "\n",
        "## Objects on the stack vs objects on the heap\n",
        "In week 6 under memory management, we talked about having two kinds of objects: those defined in the stack and those defined in the heap. Here are few example objects defined in the stack:\n",
        "\n",
        "```c++\n",
        "DateClass d;\n",
        "Counter c;\n",
        "Date d1;\n",
        "Date d2(2, 17, 2019);\n",
        "BetterCounter bc(11);\n",
        "```\n",
        "\n",
        "Stack objects require the use of **dot operators** to access their members. For example:\n",
        "\n",
        "```C++\n",
        "d.setDate(10, 12, 2018);\n",
        "d.showDate();\n",
        "c.increment();\n",
        "d1.showDate();\n",
        "d2.showDate();\n",
        "bc.increment();\n",
        "cout << bc.current();\n",
        "```\n",
        "\n",
        "Objects defined in the heap are created dynamically using the `new` operator. These objects are, in fact, pointers. Here are some example objects defined in the heap:\n",
        "\n",
        "```c++\n",
        "DateClass *d4 = new DateClass;\n",
        "Counter *c2 = new Counter;\n",
        "Date *d5 = new Date;\n",
        "Date *d6 = new Date(2, 17, 2019);\n",
        "BetterCounter *bc2 = new BetterCounter(11);\n",
        "```\n",
        "\n",
        "Because heap objects are pointers, they require the use of **arrow operators** `->` to access their members:\n",
        "\n",
        "```C++\n",
        "d4->setDate(10, 12, 2018);\n",
        "d4->showDate();\n",
        "c2->increment();\n",
        "d5->showDate();\n",
        "d6->showDate();\n",
        "bc2->increment();\n",
        "cout << bc2->current();\n",
        "```\n",
        "\n",
        "Heap objects have an additional requirement. When these are no longer needed, they must be *destroyed* or returned back to the operating system using the `delete` operator.\n",
        "\n",
        "```C++\n",
        "delete d4;\n",
        "delete c2;\n",
        "delete d5;\n",
        "delete d6;\n",
        "delete bc2;\n",
        "```"
      ]
    },
    {
      "cell_type": "markdown",
      "metadata": {
        "id": "1bIDaOR-vqtn"
      },
      "source": [
        "## Copy constructors\n",
        "If a class does not define any constructor, the C++ compiler provides it with a no-argument default constructor that does basically nothing.\n",
        "\n",
        "There is another constructor that C++ provides for classes by default. It's the constructor that allows us to create a new object that is a copy of another object. Take for instance this class:"
      ]
    },
    {
      "cell_type": "code",
      "execution_count": null,
      "metadata": {
        "id": "5D7E1EoGvqtn",
        "outputId": "fe92d4ec-b023-4399-92ec-a98c534cc83a",
        "colab": {
          "base_uri": "https://localhost:8080/"
        }
      },
      "outputs": [
        {
          "output_type": "stream",
          "name": "stdout",
          "text": [
            "Overwriting ex01.cpp\n"
          ]
        }
      ],
      "source": [
        "%%writefile ex01.cpp\n",
        "\n",
        "#include <iostream>\n",
        "#include <iomanip>\n",
        "\n",
        "using namespace std;\n",
        "\n",
        "class Date {\n",
        "private:\n",
        "    int month, day, year;\n",
        "public:\n",
        "    Date() : month(1), day(1), year(1900) {} // Constructor # 1\n",
        "    Date(int mm, int dd, int yy) : month(mm), day(dd), year(yy) {}  // Constructor # 2\n",
        "\n",
        "    void setDay(int day) { this->day = day; }\n",
        "    void setmonth(int month) { this->month = month; }\n",
        "    void setYear(int year) { this->year = year; }\n",
        "\n",
        "    void showDate() {\n",
        "        cout << \"The date is \" << setfill('0')\n",
        "             << setw(2) << month << '/'\n",
        "             << setw(2) << day << '/'\n",
        "             << setw(2) << year % 100 << endl;\n",
        "    }\n",
        "\n",
        "    ~Date(){} // Destructor\n",
        "};"
      ]
    },
    {
      "cell_type": "markdown",
      "metadata": {
        "id": "q0R43dkevqtq"
      },
      "source": [
        "Here are two objects of it:"
      ]
    },
    {
      "cell_type": "code",
      "execution_count": null,
      "metadata": {
        "id": "BPOe53ZDvqtw",
        "outputId": "fef55949-fd5d-4721-9c90-44b82c990e56",
        "colab": {
          "base_uri": "https://localhost:8080/"
        }
      },
      "outputs": [
        {
          "output_type": "stream",
          "name": "stdout",
          "text": [
            "Appending to ex01.cpp\n"
          ]
        }
      ],
      "source": [
        "%%writefile -a ex01.cpp\n",
        "\n",
        "int main(){\n",
        "  Date day(8,12, 2019);\n",
        "  Date anotherDay = Date(9, 23, 2019);\n",
        "  day.showDate();\n",
        "  anotherDay.showDate();"
      ]
    },
    {
      "cell_type": "markdown",
      "metadata": {
        "id": "dO7_g8gCvqtx"
      },
      "source": [
        "We can use the copy constructor supplied by the compiler by default to make copies of `day` and `anotherDay`. This constructor copies the values of the data members from the source objects to the target objects. There are two ways to do that:\n",
        "1. Using the `()` operator:"
      ]
    },
    {
      "cell_type": "code",
      "execution_count": null,
      "metadata": {
        "scrolled": true,
        "id": "gy7gg-1dvqty",
        "outputId": "30a0c72b-d81b-4598-dc7a-18b77fe3feb2",
        "colab": {
          "base_uri": "https://localhost:8080/"
        }
      },
      "outputs": [
        {
          "output_type": "stream",
          "name": "stdout",
          "text": [
            "Appending to ex01.cpp\n"
          ]
        }
      ],
      "source": [
        "%%writefile -a ex01.cpp\n",
        "\n",
        "Date dayCopy(day);\n",
        "dayCopy.showDate();"
      ]
    },
    {
      "cell_type": "markdown",
      "metadata": {
        "id": "2NFuO_mqvqty"
      },
      "source": [
        "2. Using the `=` operator:"
      ]
    },
    {
      "cell_type": "code",
      "execution_count": null,
      "metadata": {
        "id": "vZkCtDEovqty",
        "outputId": "d09f4f88-1494-494e-decf-c0a7b784073a",
        "colab": {
          "base_uri": "https://localhost:8080/"
        }
      },
      "outputs": [
        {
          "output_type": "stream",
          "name": "stdout",
          "text": [
            "Appending to ex01.cpp\n"
          ]
        }
      ],
      "source": [
        "%%writefile -a ex01.cpp\n",
        "\n",
        "Date anotherDayCopy = anotherDay;\n",
        "anotherDayCopy.showDate();"
      ]
    },
    {
      "cell_type": "markdown",
      "metadata": {
        "id": "ZJtiaNOOvqty"
      },
      "source": [
        "The above examples copy stack objects to create other stack objects. Here is an example of copying a heap object. Given the object:"
      ]
    },
    {
      "cell_type": "code",
      "execution_count": null,
      "metadata": {
        "id": "FZ7bjIGNvqtz",
        "outputId": "1e8c6be9-2a4f-40f0-e44a-bd83be1af60f",
        "colab": {
          "base_uri": "https://localhost:8080/"
        }
      },
      "outputs": [
        {
          "output_type": "stream",
          "name": "stdout",
          "text": [
            "Appending to ex01.cpp\n"
          ]
        }
      ],
      "source": [
        "%%writefile -a ex01.cpp\n",
        "\n",
        "Date *dt = new Date(9, 23, 2021);\n",
        "dt->showDate();"
      ]
    },
    {
      "cell_type": "markdown",
      "metadata": {
        "id": "b8SEW6UYvqtz"
      },
      "source": [
        "We can copy it as follows:"
      ]
    },
    {
      "cell_type": "code",
      "execution_count": null,
      "metadata": {
        "id": "cnJn3Alyvqtz",
        "outputId": "7d65505c-9e2c-4ad8-ac6b-71636ab30850",
        "colab": {
          "base_uri": "https://localhost:8080/"
        }
      },
      "outputs": [
        {
          "output_type": "stream",
          "name": "stdout",
          "text": [
            "Appending to ex01.cpp\n"
          ]
        }
      ],
      "source": [
        "%%writefile -a ex01.cpp\n",
        "\n",
        "Date dtCopy(*dt);\n",
        "dtCopy.showDate();"
      ]
    },
    {
      "cell_type": "markdown",
      "metadata": {
        "id": "_MhxZ_Gvvqt0"
      },
      "source": [
        "Here we used the dereference operator `*` to get the actual object given its pointer.\n",
        "\n",
        "If you make a change to a copy of an object, the original object (from which it was copied) will not be affected."
      ]
    },
    {
      "cell_type": "code",
      "execution_count": null,
      "metadata": {
        "id": "dRkI5o5zvqt0",
        "outputId": "909ebdac-8449-4fd0-b7f5-431cb1e1882b",
        "colab": {
          "base_uri": "https://localhost:8080/"
        }
      },
      "outputs": [
        {
          "output_type": "stream",
          "name": "stdout",
          "text": [
            "Appending to ex01.cpp\n"
          ]
        }
      ],
      "source": [
        "%%writefile -a ex01.cpp\n",
        "\n",
        "dtCopy.setDay(1);"
      ]
    },
    {
      "cell_type": "code",
      "execution_count": null,
      "metadata": {
        "id": "efzCYGfPvqt0",
        "outputId": "d8bac144-69f6-459c-f039-1026645329f2",
        "colab": {
          "base_uri": "https://localhost:8080/"
        }
      },
      "outputs": [
        {
          "output_type": "stream",
          "name": "stdout",
          "text": [
            "Appending to ex01.cpp\n"
          ]
        }
      ],
      "source": [
        "%%writefile -a ex01.cpp\n",
        "\n",
        "  cout << \"Original object: \";\n",
        "  dt->showDate();\n",
        "\n",
        "  cout << \"Modified copy object: \";\n",
        "  dtCopy.showDate();\n",
        "\n",
        "  return 0;\n",
        "\n",
        "}"
      ]
    },
    {
      "cell_type": "code",
      "source": [
        "!g++ -std=c++17 ex01.cpp -o ex01\n",
        "!./ex01"
      ],
      "metadata": {
        "id": "v4EV5VuKw6nS",
        "outputId": "e38260e6-2bc9-41d9-a49a-9657eef526ae",
        "colab": {
          "base_uri": "https://localhost:8080/"
        }
      },
      "execution_count": null,
      "outputs": [
        {
          "output_type": "stream",
          "name": "stdout",
          "text": [
            "The date is 08/12/19\n",
            "The date is 09/23/19\n",
            "The date is 08/12/19\n",
            "The date is 09/23/19\n",
            "The date is 09/23/21\n",
            "The date is 09/23/21\n",
            "Original object: The date is 09/23/21\n",
            "Modified copy object: The date is 09/01/21\n"
          ]
        }
      ]
    },
    {
      "cell_type": "markdown",
      "metadata": {
        "id": "TBmIZIdtvqt0"
      },
      "source": [
        "## CODING CHALLENGE 1\n",
        "Here is another class:\n",
        "\n",
        "```cpp\n",
        "class DistanceClass{\n",
        "private:\n",
        "    int feet;\n",
        "    int inches;\n",
        "\n",
        "public:\n",
        "    DistanceClass(): feet(0), inches(0){}\n",
        "    DistanceClass(int f, int n): feet(f), inches(n){}\n",
        "    void show(){\n",
        "        cout << feet << \"' \" << inches << \"\\\"\" << endl;\n",
        "    }\n",
        "};\n",
        "```"
      ]
    },
    {
      "cell_type": "markdown",
      "metadata": {
        "id": "UGxtPsF6vqt1"
      },
      "source": [
        "Copy this class to the cell below. In the `main` function, create two objects of this class (one using each constructor) on the stack, then make two copies of each object—one using the `=` operator and one without it. Finally, call the `show()` function on all six objects (the two originals and the four copies)."
      ]
    },
    {
      "cell_type": "code",
      "execution_count": null,
      "metadata": {
        "id": "FbYvlA14vqt1",
        "outputId": "76725c2a-a89a-4744-ef5d-307352052984",
        "colab": {
          "base_uri": "https://localhost:8080/"
        }
      },
      "outputs": [
        {
          "output_type": "stream",
          "name": "stdout",
          "text": [
            "Overwriting ch01.cpp\n"
          ]
        }
      ],
      "source": [
        "%%writefile ch01.cpp\n",
        "\n",
        "// TODO: Add class here\n",
        "\n",
        "int main() {\n",
        "\n",
        "  // TODO\n",
        "\n",
        "  return 0;\n",
        "}"
      ]
    },
    {
      "cell_type": "code",
      "source": [
        "!g++ -std=c++17 ch01.cpp -o ch01\n",
        "!./ch01"
      ],
      "metadata": {
        "id": "rsK-ORQ3y6Yf"
      },
      "execution_count": null,
      "outputs": []
    },
    {
      "cell_type": "markdown",
      "metadata": {
        "id": "4YQJPVTfvqt1"
      },
      "source": [
        "## Overloading functions\n",
        "Having two different constructors gives us two ways of creating and initializing objects: one for each constructor. We call these multiple constructors **overloaded constructors**.\n",
        "\n",
        "But constructors are not the only class members that we can overload. Member functions can be overloaded as well. We do that by having more than one member function each with the same name but with a unique signature. A function's signature includes the function's name and the number, order, types of its arguments, and the `const` word after the argument list if any. It does not, however, contain the return data type. For example:\n",
        "\n",
        "For example, a function like this:\n",
        "\n",
        "```c++\n",
        "int compare(const Distance& d1, const Distance& d2) const {\n",
        "    //...\n",
        "}\n",
        "```\n",
        "\n",
        "has the signature `compare(const Distance&, const Distance&) const`. Notice how the return type `int` and the temporary names of arguments (`d1` and `d2`) are not part of the signature. Notice also that the `const` keywords are parts of the signature.\n",
        "\n",
        "Here is an example class with two overloaded constructors and three overloaded  member functions ( `add()`). Make sure to identify the differences between these overloaded constructors and member functions. Here is an example of using them."
      ]
    },
    {
      "cell_type": "markdown",
      "metadata": {
        "id": "cB9S_f1bvqt1"
      },
      "source": [
        "Here is an example class with two overloaded constructors and three overloaded member `add()` functions:"
      ]
    },
    {
      "cell_type": "code",
      "execution_count": null,
      "metadata": {
        "id": "rFa_I6Kevqt1",
        "outputId": "6e9085ea-7766-4418-a9e3-a268f590765f",
        "colab": {
          "base_uri": "https://localhost:8080/"
        }
      },
      "outputs": [
        {
          "output_type": "stream",
          "name": "stdout",
          "text": [
            "Overwriting ex02.cpp\n"
          ]
        }
      ],
      "source": [
        "%%writefile ex02.cpp\n",
        "\n",
        "#include <iostream>\n",
        "#include <iomanip>\n",
        "\n",
        "using namespace std;\n",
        "\n",
        "class DistanceClass{\n",
        "private:\n",
        "    int feet;\n",
        "    int inches;\n",
        "\n",
        "public:\n",
        "    DistanceClass(): feet(0), inches(0){}\n",
        "    DistanceClass(int f, int n): feet(f), inches(n){}\n",
        "    void add(const DistanceClass& d){\n",
        "        feet += d.feet + (inches + d.inches) / 12;\n",
        "        inches = (inches + d.inches) % 12;\n",
        "    }\n",
        "    void add(int ft){\n",
        "        feet += ft;\n",
        "    }\n",
        "    void add(int ft, int inch){\n",
        "        feet += ft + (inches + inch) / 12;\n",
        "        inches = (inches + inch) % 12;\n",
        "    }\n",
        "\n",
        "    void show(){\n",
        "        cout << feet << \"' \" << inches << \"\\\"\" << endl;\n",
        "    }\n",
        "};\n",
        "\n",
        "int main(){\n",
        "  DistanceClass d1;\n",
        "  DistanceClass *d2 = new DistanceClass(2, 5);\n",
        "\n",
        "  d1.show();\n",
        "  d1.add(*d2);\n",
        "  d1.show();\n",
        "  d1.add(3);\n",
        "  d1.show();\n",
        "  d1.add(0, 9);\n",
        "  d1.show();\n",
        "\n",
        "  delete d2;\n",
        "\n",
        "  return 0;\n",
        "}"
      ]
    },
    {
      "cell_type": "code",
      "source": [
        "!g++ -std=c++17 ex02.cpp -o ex02\n",
        "!./ex02"
      ],
      "metadata": {
        "id": "qWItjQsfzYxW",
        "outputId": "bae1c944-2fa3-45c2-bc17-d18e781c970f",
        "colab": {
          "base_uri": "https://localhost:8080/"
        }
      },
      "execution_count": null,
      "outputs": [
        {
          "output_type": "stream",
          "name": "stdout",
          "text": [
            "0' 0\"\n",
            "2' 5\"\n",
            "5' 5\"\n",
            "6' 2\"\n"
          ]
        }
      ]
    },
    {
      "cell_type": "markdown",
      "metadata": {
        "id": "E9Rcmmzxvqt2"
      },
      "source": [
        "Notice that because of `d2` being a pointer, we have to dereference it using the **dereference operator** `*` to get the actual object value needed to make the `d1.add(*d2);` call.\n",
        "\n",
        "## CODING CHALLENGE 2\n",
        "\n",
        "Create a heap object of the above `DistanceClass2` and initialize it to 14 feet and 3 inches. Create a second heap object and initialize it to 7 feet and 0 inches. Add the distance of the first object to that of the second one. Add six more feet to the second distance object and then show the final second distance object."
      ]
    },
    {
      "cell_type": "code",
      "execution_count": null,
      "metadata": {
        "id": "nA__x_nLvqt2",
        "outputId": "6354b4bf-ac8b-4d33-f93c-7c4d460c21db",
        "colab": {
          "base_uri": "https://localhost:8080/"
        }
      },
      "outputs": [
        {
          "output_type": "stream",
          "name": "stdout",
          "text": [
            "Overwriting ch02.cpp\n"
          ]
        }
      ],
      "source": [
        "%%writefile ch02.cpp\n",
        "\n",
        "//TODO"
      ]
    },
    {
      "cell_type": "markdown",
      "metadata": {
        "id": "N3xXzD8Svqt3"
      },
      "source": [
        "## The `this` pointer\n",
        "\n",
        "Every object has its own copies of the data members. All objects of the same class share the same definitions of the class member functions. The question is: how does an object access its own copies of these members? To answer that, the compiler passes an implicit pointer named `this` as a hidden argument to all nonstatic member functions. Such a pointer is available as a local variable within the body of all nonstatic functions. The `this` pointer is a constant pointer that holds the memory address of the current object, and, through it, you can access the actual data members of that object.  \n",
        "\n",
        "Because `this` is a pointer to the current object,\n",
        "* Using the **dereference operator** `*`, we can use the expression `*this` to get the actual object.\n",
        "* Using the **arrow operator**, we can use expressions like `this->feet` or `this->inches` to access the data members of the actual object.\n",
        "\n",
        "Here is another version of the distance class above using the `this` pointer. The expression `this->feet` mean the `feet` data member of this current object."
      ]
    },
    {
      "cell_type": "code",
      "execution_count": null,
      "metadata": {
        "id": "jJVUtY3bvqt3",
        "outputId": "9b475a8e-f733-4e5a-e6a2-9482e72a1138",
        "colab": {
          "base_uri": "https://localhost:8080/"
        }
      },
      "outputs": [
        {
          "output_type": "stream",
          "name": "stdout",
          "text": [
            "Overwriting ex03.cpp\n"
          ]
        }
      ],
      "source": [
        "%%writefile ex03.cpp\n",
        "\n",
        "#include <iostream>\n",
        "#include <iomanip>\n",
        "\n",
        "using namespace std;\n",
        "\n",
        "class DistanceClass{\n",
        "private:\n",
        "    int feet;\n",
        "    int inches;\n",
        "\n",
        "public:\n",
        "    DistanceClass(): feet(0), inches(0){}\n",
        "    DistanceClass(int f, int n): feet(f), inches(n){}\n",
        "    void add(const DistanceClass& d){\n",
        "        this->feet += d.feet + (this->inches + d.inches) / 12;\n",
        "        this->inches = (this->inches + d.inches) % 12;\n",
        "    }\n",
        "    void add(int feet){\n",
        "        this->feet += feet;\n",
        "    }\n",
        "    void add(int feet, int inches){\n",
        "        this->feet += feet + (this->inches + inches) / 12;\n",
        "        this->inches = (this->inches + inches) % 12;\n",
        "    }\n",
        "\n",
        "    void show(){\n",
        "        cout << this->feet << \"' \" << this->inches << \"\\\"\" << endl;\n",
        "    }\n",
        "};\n",
        "\n",
        "int main() {\n",
        "  DistanceClass dist1;\n",
        "  DistanceClass *dist2 = new DistanceClass(2, 5);\n",
        "\n",
        "  dist1.show();\n",
        "  dist1.add(*dist2);\n",
        "  dist1.show();\n",
        "  dist1.add(3);\n",
        "  dist1.show();\n",
        "  dist1.add(0, 9);\n",
        "  dist1.show();\n",
        "\n",
        "  delete dist2;\n",
        "\n",
        "  return 0;\n",
        "}"
      ]
    },
    {
      "cell_type": "code",
      "source": [
        "!g++ -std=c++17 ex03.cpp -o ex03\n",
        "!./ex03"
      ],
      "metadata": {
        "id": "CfTJriP22QDO",
        "outputId": "253ca0ff-4a41-44ad-aea4-5a4277bfd1f3",
        "colab": {
          "base_uri": "https://localhost:8080/"
        }
      },
      "execution_count": null,
      "outputs": [
        {
          "output_type": "stream",
          "name": "stdout",
          "text": [
            "0' 0\"\n",
            "2' 5\"\n",
            "5' 5\"\n",
            "6' 2\"\n"
          ]
        }
      ]
    },
    {
      "cell_type": "markdown",
      "metadata": {
        "id": "AaqFp_oTvqt4"
      },
      "source": [
        "Using the `this` pointer, we can design our class functions in a way that supports chaining multiple calls in the same line. For example we can re-design the distance class above to allow for replacing the following multiple lines of function calls:\n",
        "\n",
        "```c++\n",
        "dist1.show();\n",
        "dist1.add(*dist2);\n",
        "dist1.show();\n",
        "dist1.add(3);\n",
        "dist1.show();\n",
        "dist1.add(0, 9);\n",
        "dist1.show();\n",
        "```\n",
        "\n",
        "with this single line of **chained** calls:\n",
        "\n",
        "```c++\n",
        "dist1.show().add(*dist2).show().add(3).show().add(0, 9).show();\n",
        "```\n",
        "\n",
        "which, from a software engineering perspective, is shorter and more elegant.\n",
        "\n",
        "Here is what this revised class would look like. Notice that all the member functions are now returning a reference to the current object (thanks to the `*this` expression) instead of `void`."
      ]
    },
    {
      "cell_type": "code",
      "execution_count": null,
      "metadata": {
        "id": "tEyPabTxvqt4",
        "outputId": "2522151b-bb90-405e-d76b-bd7cba10ff84",
        "colab": {
          "base_uri": "https://localhost:8080/"
        }
      },
      "outputs": [
        {
          "output_type": "stream",
          "name": "stdout",
          "text": [
            "Overwriting ex04.cpp\n"
          ]
        }
      ],
      "source": [
        "%%writefile ex04.cpp\n",
        "\n",
        "#include <iostream>\n",
        "#include <iomanip>\n",
        "\n",
        "using namespace std;\n",
        "\n",
        "class DistanceClass{\n",
        "private:\n",
        "    int feet;\n",
        "    int inches;\n",
        "\n",
        "public:\n",
        "    DistanceClass(): feet(0), inches(0){}\n",
        "    DistanceClass(int feet, int inches): feet(feet), inches(inches){}\n",
        "    DistanceClass& add(const DistanceClass& d){\n",
        "        this->feet += d.feet + (this->inches + d.inches) / 12;\n",
        "        this->inches = (this->inches + d.inches) % 12;\n",
        "        return *this;\n",
        "    }\n",
        "    DistanceClass& add(int feet){\n",
        "        this->feet += feet;\n",
        "        return *this;\n",
        "    }\n",
        "    DistanceClass& add(int feet, int inches){\n",
        "        this->feet += feet + (this->inches + inches) / 12;\n",
        "        this->inches = (this->inches + inches) % 12;\n",
        "        return *this;\n",
        "    }\n",
        "\n",
        "    DistanceClass& show(){\n",
        "        cout << this->feet << \"' \" << this->inches << \"\\\"\" << endl;\n",
        "        return *this;\n",
        "    }\n",
        "};\n",
        "\n",
        "int main() {\n",
        "  DistanceClass dst1;\n",
        "  DistanceClass *dst2 = new DistanceClass(2, 5);\n",
        "\n",
        "  dst1.show().add(*dst2).show().add(3).show().add(0, 9).show();\n",
        "\n",
        "  return 0;\n",
        "}"
      ]
    },
    {
      "cell_type": "code",
      "execution_count": null,
      "metadata": {
        "scrolled": true,
        "id": "n5PIF9zPvqt6",
        "outputId": "6b44d458-061c-41f1-c163-9d83f5a5d136",
        "colab": {
          "base_uri": "https://localhost:8080/"
        }
      },
      "outputs": [
        {
          "output_type": "stream",
          "name": "stdout",
          "text": [
            "0' 0\"\n",
            "2' 5\"\n",
            "5' 5\"\n",
            "6' 2\"\n"
          ]
        }
      ],
      "source": [
        "!g++ -std=c++17 ex04.cpp -o ex04\n",
        "!./ex04"
      ]
    },
    {
      "cell_type": "markdown",
      "metadata": {
        "id": "L9URSj0tvqt6"
      },
      "source": [
        "## CODING CHALLENGE 3\n",
        "A point in a two-dimensional canvas has two coordinates: x and y. Complete the class below such that:\n",
        "* It has two constructors: a no-argument constructor that initializes x and y to 0, and a two-argument constructor that receives two arguments for x and y.\n",
        "* It has two `move` functions: one receiving a constant `Point` reference argument to move the current point to, and another receiving two x and y arguments to move the current `Point` to.\n",
        "\n",
        "Your revised program should be implemented such that the program below runs without errors and produces the following output.\n",
        "\n",
        "```txt\n",
        "(0, 0)\n",
        "(20, 30)\n",
        "(12, 56)\n",
        "```"
      ]
    },
    {
      "cell_type": "code",
      "execution_count": null,
      "metadata": {
        "id": "KlgVE6YCvqt6",
        "outputId": "44a28dca-71d4-4b7e-9609-891b0dc8f4d8",
        "colab": {
          "base_uri": "https://localhost:8080/"
        }
      },
      "outputs": [
        {
          "output_type": "stream",
          "name": "stdout",
          "text": [
            "Overwriting ch03.cpp\n"
          ]
        }
      ],
      "source": [
        "%%writefile ch03.cpp\n",
        "\n",
        "#include <iostream>\n",
        "#include <iomanip>\n",
        "\n",
        "using namespace std;\n",
        "\n",
        "class Point {\n",
        "private:\n",
        "    int x, y;\n",
        "\n",
        "public:\n",
        "    //TODO: Constructors go here\n",
        "\n",
        "\n",
        "\n",
        "    //TODO: Move functions go here\n",
        "\n",
        "\n",
        "\n",
        "    Point& print(){\n",
        "        cout << \"(\" << this->x << \", \" << this->y << \")\" << endl;\n",
        "\n",
        "        return *this;\n",
        "    }\n",
        "};\n",
        "\n",
        "int main() {\n",
        "  Point *p = new Point, *q = new Point( 20, 30);\n",
        "  p->print().move(*q).print().move(12, 56).print();\n",
        "\n",
        "  return 0;\n",
        "}\n"
      ]
    },
    {
      "cell_type": "code",
      "execution_count": null,
      "metadata": {
        "id": "rw0MZGYZvqt7",
        "outputId": "e824a1bf-adeb-45c0-a70c-31ba1d8232f7",
        "colab": {
          "base_uri": "https://localhost:8080/"
        }
      },
      "outputs": [
        {
          "output_type": "stream",
          "name": "stdout",
          "text": [
            "\u001b[01m\u001b[Kch03.cpp:\u001b[m\u001b[K In function ‘\u001b[01m\u001b[Kint main()\u001b[m\u001b[K’:\n",
            "\u001b[01m\u001b[Kch03.cpp:28:47:\u001b[m\u001b[K \u001b[01;31m\u001b[Kerror: \u001b[m\u001b[Knew initializer expression list treated as compound expression [\u001b[01;31m\u001b[K\u001b]8;;https://gcc.gnu.org/onlinedocs/gcc/Warning-Options.html#index-fpermissive\u0007-fpermissive\u001b]8;;\u0007\u001b[m\u001b[K]\n",
            "   28 |   Point *p = new Point, *q = new Point( 20, 30\u001b[01;31m\u001b[K)\u001b[m\u001b[K;\n",
            "      |                                               \u001b[01;31m\u001b[K^\u001b[m\u001b[K\n",
            "\u001b[01m\u001b[Kch03.cpp:28:47:\u001b[m\u001b[K \u001b[01;31m\u001b[Kerror: \u001b[m\u001b[Kno matching function for call to ‘\u001b[01m\u001b[KPoint::Point(int)\u001b[m\u001b[K’\n",
            "\u001b[01m\u001b[Kch03.cpp:7:7:\u001b[m\u001b[K \u001b[01;36m\u001b[Knote: \u001b[m\u001b[Kcandidate: ‘\u001b[01m\u001b[KPoint::Point()\u001b[m\u001b[K’\n",
            "    7 | class \u001b[01;36m\u001b[KPoint\u001b[m\u001b[K {\n",
            "      |       \u001b[01;36m\u001b[K^~~~~\u001b[m\u001b[K\n",
            "\u001b[01m\u001b[Kch03.cpp:7:7:\u001b[m\u001b[K \u001b[01;36m\u001b[Knote: \u001b[m\u001b[K  candidate expects 0 arguments, 1 provided\n",
            "\u001b[01m\u001b[Kch03.cpp:7:7:\u001b[m\u001b[K \u001b[01;36m\u001b[Knote: \u001b[m\u001b[Kcandidate: ‘\u001b[01m\u001b[Kconstexpr Point::Point(const Point&)\u001b[m\u001b[K’\n",
            "\u001b[01m\u001b[Kch03.cpp:7:7:\u001b[m\u001b[K \u001b[01;36m\u001b[Knote: \u001b[m\u001b[K  no known conversion for argument 1 from ‘\u001b[01m\u001b[Kint\u001b[m\u001b[K’ to ‘\u001b[01m\u001b[Kconst Point&\u001b[m\u001b[K’\n",
            "\u001b[01m\u001b[Kch03.cpp:7:7:\u001b[m\u001b[K \u001b[01;36m\u001b[Knote: \u001b[m\u001b[Kcandidate: ‘\u001b[01m\u001b[Kconstexpr Point::Point(Point&&)\u001b[m\u001b[K’\n",
            "\u001b[01m\u001b[Kch03.cpp:7:7:\u001b[m\u001b[K \u001b[01;36m\u001b[Knote: \u001b[m\u001b[K  no known conversion for argument 1 from ‘\u001b[01m\u001b[Kint\u001b[m\u001b[K’ to ‘\u001b[01m\u001b[KPoint&&\u001b[m\u001b[K’\n",
            "\u001b[01m\u001b[Kch03.cpp:29:14:\u001b[m\u001b[K \u001b[01;31m\u001b[Kerror: \u001b[m\u001b[K‘\u001b[01m\u001b[Kclass Point\u001b[m\u001b[K’ has no member named ‘\u001b[01m\u001b[Kmove\u001b[m\u001b[K’\n",
            "   29 |   p->print().\u001b[01;31m\u001b[Kmove\u001b[m\u001b[K(*q).print().move(12, 56).print();\n",
            "      |              \u001b[01;31m\u001b[K^~~~\u001b[m\u001b[K\n",
            "/bin/bash: line 1: ./ch03: No such file or directory\n"
          ]
        }
      ],
      "source": [
        "!g++ -std=c++17 ch03.cpp -o ch03\n",
        "!./ch03"
      ]
    },
    {
      "cell_type": "markdown",
      "metadata": {
        "id": "wKL-LnILvqt7"
      },
      "source": [
        "## Separating class definitions (*.h) from class implementations (*.cpp)\n",
        "\n",
        "In real-world C++ programming, we separate **class definitions** from **class implementations**. This is why you see C++ developers use two kinds of files: header files (**.h** or **.hpp**) and implementation files (**.cpp**). The class definition should only contain the data members of the class and the prototypes of its member functions. Such definition should be in a **header file** (**.h** or **.hpp**). This header file is included using the `#include \"header_file_name.h\"` directive at the top of the implementation file (**.cpp**), which also contains the definitions of the class member functions.\n",
        "\n",
        "Since these function definitions are outside the class, we need a way to tell the compiler which class they belong to.  We do that by prefixing the names of these functions with the name of the class followed by the **resolution operator** `::`.\n",
        "\n",
        "Take, for instance, the following distance class:\n",
        "\n",
        "```c++\n",
        "class DistanceClass4{\n",
        "private:\n",
        "    int feet;\n",
        "    int inches;\n",
        "\n",
        "public:\n",
        "    DistanceClass4(): feet(0), inches(0){}\n",
        "    DistanceClass4(int feet, int inches): feet(feet), inches(inches){}\n",
        "    DistanceClass4& add(const DistanceClass4& d){\n",
        "        this->feet += d.feet + (this->inches + d.inches) / 12;\n",
        "        this->inches = (this->inches + d.inches) % 12;\n",
        "        return *this;\n",
        "    }\n",
        "    DistanceClass4& add(int feet){\n",
        "        this->feet += feet;\n",
        "        return *this;\n",
        "    }\n",
        "    DistanceClass4& add(int feet, int inches){\n",
        "        this->feet += feet + (this->inches + inches) / 12;\n",
        "        this->inches = (this->inches + inches) % 12;\n",
        "        return *this;\n",
        "    }\n",
        "    \n",
        "    DistanceClass4& show(){\n",
        "        cout << this->feet << \"' \" << this->inches << \"\\\"\" << endl;\n",
        "        return *this;\n",
        "    }\n",
        "};\n",
        "```\n",
        "We can split this class into two files: a header file `distanceclass4.h` and  an implementation file `distanceclass4.cpp`.\n",
        "\n",
        "Here is what  the header file `distanceclass4.h` looks like. It only contains the data members of the class and the prototypes of its member functions.\n",
        "\n",
        "```c++\n",
        "//distanceclass4.h\n",
        "#ifndef DISTANCE_CLASS_4_H\n",
        "#define DISTANCE_CLASS_4_H\n",
        "\n",
        "class DistanceClass4{\n",
        "private:\n",
        "    int feet;\n",
        "    int inches;\n",
        "\n",
        "public:\n",
        "    DistanceClass4(): feet(0), inches(0){}\n",
        "    DistanceClass4(int feet, int inches): feet(feet), inches(inches){}\n",
        "    \n",
        "    DistanceClass4& add(const DistanceClass4& d);\n",
        "    DistanceClass4& add(int feet);\n",
        "    DistanceClass4& add(int feet, int inches);\n",
        "    DistanceClass4& show();\n",
        "};\n",
        "\n",
        "#endif\n",
        "```\n",
        "\n",
        "Notice that the class definition  is put between\n",
        "\n",
        "```c++\n",
        "#ifndef DISTANCE_CLASS_4_H\n",
        "#define DISTANCE_CLASS_4_H\n",
        "```\n",
        "and\n",
        "\n",
        "```c++\n",
        "#endif\n",
        "```\n",
        "\n",
        "with the identifier `DISTANCE_CLASS_4_H` derived in AALCAPS from the file name. This is a standard pattern we use in all header files to make sure that the contents of these files will only be included once and will not be duplicated. even if the `#include \"distanceclass4.h\"` directive statement shows in more than one `.cpp`.\n",
        "\n",
        "Here is the implementation file  `distanceclass4.cpp`.\n",
        "\n",
        "```c++\n",
        "//distanceclass4.cpp\n",
        "#include <iostream>\n",
        "#include \"distanceclass4.h\"\n",
        "using namespace std;\n",
        "DistanceClass4& DistanceClass4::add(const DistanceClass4& d){\n",
        "    this->feet += d.feet + (this->inches + d.inches) / 12;\n",
        "    this->inches = (this->inches + d.inches) % 12;\n",
        "    return *this;\n",
        "}\n",
        "\n",
        "DistanceClass4& DistanceClass4::add(int feet){\n",
        "    this->feet += feet;\n",
        "    return *this;\n",
        "}\n",
        "\n",
        "DistanceClass4& DistanceClass4::add(int feet, int inches){\n",
        "    this->feet += feet + (this->inches + inches) / 12;\n",
        "    this->inches = (this->inches + inches) % 12;\n",
        "    return *this;\n",
        "}\n",
        "\n",
        "DistanceClass4& DistanceClass4::show(){\n",
        "    cout << this->feet << \"' \" << this->inches << \"\\\"\" << endl;\n",
        "    return *this;\n",
        "}\n",
        "```\n",
        "Notice how this implemenation file includes the above header file using `#include \"distanceclass4.h\"` and not `#include <distanceclass4.h>` which is what we've been using to include standard C++ header files (`iostream`, `iomanip`, `string`, ...). The difference between these two `#include` styles has to do with where the header file is saved. Using `#include \"distanceclass4.h\"` in `distanceclass4.cpp` means  that both files `distanceclass4.h` and `distanceclass4.cpp` must be saved to the same folder.\n",
        "\n",
        "Having done that, we can create yet another file (let's name it `main.cpp`) to house the `main()` function that tests this class. To use the `DistanceClass4` class in this `main()` function, we must include `distanceclass4.h` header file first.\n",
        "\n",
        "```c++\n",
        "#include <iostream>\n",
        "#include \"distanceclass4.h\"\n",
        "using namespace std;\n",
        "int main(){\n",
        "    DistanceClass4 dst1;\n",
        "    DistanceClass4 *dst2 = new DistanceClass4(2, 5);\n",
        "\n",
        "    dst1.show().add(*dst2).show().add(3).show().add(0, 9).show();\n",
        "    \n",
        "    cout << \"Done!\" << endl;\n",
        "    \n",
        "    return 0;\n",
        "}\n",
        "```\n",
        "\n",
        "\n",
        "**Notice that** the above description of having two separate files (header and implementation files) is what is considered **common practice**. The compiler, however, does not enforce that. You can still separate the definition of a class from its implementation while still on the same file.\n",
        "\n",
        "**Notice also that** `using namespace ...;` statements should not be used inside header (.h or .hpp) files - not even `using namespace std;`. This is so that you don't force these statements on those using/including your header files. If you need to use utilities such as `cout`, `cin`, `string`, etc within a header file, then use `std::` in front of them. That is: use `std::cout`, `std::cin`, `std::string`, etc.\n",
        "\n"
      ]
    },
    {
      "cell_type": "markdown",
      "source": [
        "## Another example\n",
        "\n",
        "The following fully specified `Counter` class\n",
        "\n",
        "```c++\n",
        "class Counter {\n",
        "private:\n",
        "    unsigned int count;\n",
        "    int step;\n",
        "public:\n",
        "    Counter() : count(0), step(1) { // The constructor\n",
        "        cout << \"init -> count: \" << count << \", step: \"  << step << endl;\n",
        "    }\n",
        "\n",
        "    void increment() {\n",
        "        count += step;\n",
        "    }\n",
        "    \n",
        "    int current() {\n",
        "        return count;\n",
        "    }\n",
        "\n",
        "    ~Counter() { // The destructor\n",
        "        cout << \"fini -> count: \" << count << \", step: \"  << step << endl;\n",
        "    }\n",
        "};\n",
        "```\n",
        "\n",
        "can be separated into a class definition part in a file named `counter.h`. No `using namespace` statements here."
      ],
      "metadata": {
        "id": "i8KdP1Ln-dj8"
      }
    },
    {
      "cell_type": "code",
      "execution_count": null,
      "metadata": {
        "id": "p1fPG8E3vqt7",
        "outputId": "14dcf00e-86a1-4d4c-c18a-1c22d24999c3",
        "colab": {
          "base_uri": "https://localhost:8080/"
        }
      },
      "outputs": [
        {
          "output_type": "stream",
          "name": "stdout",
          "text": [
            "Overwriting counter.h\n"
          ]
        }
      ],
      "source": [
        "%%writefile counter.h\n",
        "\n",
        "# ifndef _COUNTER_H\n",
        "# define _COUNTER_H\n",
        "\n",
        "#include <iostream>\n",
        "#include <iomanip>\n",
        "\n",
        "// Definition\n",
        "class Counter {\n",
        "private:\n",
        "    unsigned int count;\n",
        "    int step;\n",
        "public:\n",
        "    Counter();\n",
        "\n",
        "    void increment();\n",
        "    int current();\n",
        "\n",
        "    ~Counter();\n",
        "};\n",
        "\n",
        "# endif"
      ]
    },
    {
      "cell_type": "markdown",
      "metadata": {
        "id": "HefKpQptvqt8"
      },
      "source": [
        "and an implemenation part in a file named `counter.cpp`. Also without `using namespace` statement. Notice we include the header file we just created at the top."
      ]
    },
    {
      "cell_type": "code",
      "execution_count": null,
      "metadata": {
        "id": "NX62-6Syvqt8",
        "outputId": "488de52d-ce12-4488-fe6e-ef582663271c",
        "colab": {
          "base_uri": "https://localhost:8080/"
        }
      },
      "outputs": [
        {
          "output_type": "stream",
          "name": "stdout",
          "text": [
            "Overwriting counter.cpp\n"
          ]
        }
      ],
      "source": [
        "%%writefile counter.cpp\n",
        "\n",
        "#include \"counter.h\"\n",
        "\n",
        "// Implemenation\n",
        "Counter::Counter() : count(0), step(1) { // The constructor\n",
        "  std::cout << \"init -> count: \" << count << \", step: \"  << step << std::endl;\n",
        "}\n",
        "\n",
        "void Counter::increment() {\n",
        "  count += step;\n",
        "}\n",
        "\n",
        "int Counter::current() {\n",
        "  return count;\n",
        "}\n",
        "\n",
        "Counter::~Counter() {\n",
        "  std::cout << \"fini -> count: \" << count << \", step: \"  << step << std::endl;\n",
        "}"
      ]
    },
    {
      "cell_type": "markdown",
      "metadata": {
        "id": "NCjKWGbavqt8"
      },
      "source": [
        "Having done that we can use this class just like we did before, and we can test it in yet another `.cpp` file. Let's call it `ex05.cpp`. Having `using namespace` statements is ok here."
      ]
    },
    {
      "cell_type": "code",
      "execution_count": null,
      "metadata": {
        "id": "yh2H2I0qvqt9",
        "outputId": "44a43295-c03e-443f-eede-27b12fc5a322",
        "colab": {
          "base_uri": "https://localhost:8080/"
        }
      },
      "outputs": [
        {
          "output_type": "stream",
          "name": "stdout",
          "text": [
            "Overwriting ex05.cpp\n"
          ]
        }
      ],
      "source": [
        "%%writefile ex05.cpp\n",
        "\n",
        "#include \"counter.h\"\n",
        "\n",
        "using namespace std;\n",
        "\n",
        "int main() {\n",
        "  Counter *c = new Counter;\n",
        "\n",
        "  c->increment();\n",
        "  c->increment();\n",
        "  c->increment();\n",
        "  c->increment();\n",
        "  cout << c->current() << endl;\n",
        "\n",
        "  delete c;\n",
        "\n",
        "  return 0;\n",
        "}"
      ]
    },
    {
      "cell_type": "markdown",
      "source": [
        "Let's complie this three-file long program. We'll need to list all the `.cpp` files of this program."
      ],
      "metadata": {
        "id": "WGQHDcGJ8hhp"
      }
    },
    {
      "cell_type": "code",
      "source": [
        "!g++ -std=c++17 counter.cpp ex05.cpp -o ex05\n",
        "!./ex05"
      ],
      "metadata": {
        "id": "2fdNziJP7_RD",
        "outputId": "9b13b251-5b20-4d56-a437-16f20c1edcef",
        "colab": {
          "base_uri": "https://localhost:8080/"
        }
      },
      "execution_count": null,
      "outputs": [
        {
          "output_type": "stream",
          "name": "stdout",
          "text": [
            "init -> count: 0, step: 1\n",
            "4\n",
            "fini -> count: 4, step: 1\n"
          ]
        }
      ]
    },
    {
      "cell_type": "markdown",
      "metadata": {
        "id": "ER8mh0_evqt9"
      },
      "source": [
        "## CODING CHALLENGE 4\n",
        "Separate the following fully specified class into a definition and an implemantation parts. In the `main()`, create an object of this class and print it by calling its function member `showDate()`.\n",
        "\n",
        "```c++\n",
        "class Date {\n",
        "private:\n",
        "    int month, day, year;\n",
        "public:\n",
        "    Date() : month(1), day(1), year(1900) {} // Constructor # 1\n",
        "    Date(int mm, int dd, int yy) : month(mm), day(dd), year(yy) {}  // Constructor # 2\n",
        "\n",
        "    void showDate() {\n",
        "        cout << \"The date is \" << setfill('0')\n",
        "             << setw(2) << month << '/'\n",
        "             << setw(2) << day << '/'\n",
        "             << setw(2) << year % 100 << endl;\n",
        "    }\n",
        "\n",
        "    ~Date(){} // Destructor\n",
        "};\n",
        "```"
      ]
    },
    {
      "cell_type": "code",
      "execution_count": null,
      "metadata": {
        "id": "dmfc036Hvqt9",
        "outputId": "bf79347c-613c-4ae8-e27b-2b8c54942f7c",
        "colab": {
          "base_uri": "https://localhost:8080/"
        }
      },
      "outputs": [
        {
          "output_type": "stream",
          "name": "stdout",
          "text": [
            "Overwriting data.h\n"
          ]
        }
      ],
      "source": [
        "%%writefile date.h\n",
        "\n",
        "//TODO: Class definition"
      ]
    },
    {
      "cell_type": "code",
      "execution_count": null,
      "metadata": {
        "id": "V0vXtn-evqt9",
        "outputId": "d889d846-3ac1-45cd-d708-b98550999b25",
        "colab": {
          "base_uri": "https://localhost:8080/"
        }
      },
      "outputs": [
        {
          "output_type": "stream",
          "name": "stdout",
          "text": [
            "Overwriting date.cpp\n"
          ]
        }
      ],
      "source": [
        "%%writefile date.cpp\n",
        "\n",
        "#include \"date.h\"\n",
        "\n",
        "//TODO: First constructor's implemenation\n",
        "\n",
        "//TODO: Second constructor's implemenation"
      ]
    },
    {
      "cell_type": "code",
      "execution_count": null,
      "metadata": {
        "id": "E12hyCYfvqt9",
        "outputId": "d7230dae-4f28-406e-e851-fc5eb7e4b103",
        "colab": {
          "base_uri": "https://localhost:8080/"
        }
      },
      "outputs": [
        {
          "output_type": "stream",
          "name": "stdout",
          "text": [
            "Overwriting ch04.cpp\n"
          ]
        }
      ],
      "source": [
        "%%writefile ch04.cpp\n",
        "\n",
        "#include \"date.h\"\n",
        "\n",
        "//TODO: main function here"
      ]
    },
    {
      "cell_type": "code",
      "execution_count": null,
      "metadata": {
        "id": "_9T_weTuvqt9",
        "outputId": "51ce5b00-a1a0-452b-fa98-919a31934027",
        "colab": {
          "base_uri": "https://localhost:8080/"
        }
      },
      "outputs": [
        {
          "output_type": "stream",
          "name": "stdout",
          "text": [
            "\u001b[01m\u001b[Kcc1plus:\u001b[m\u001b[K \u001b[01;31m\u001b[Kfatal error: \u001b[m\u001b[Kdata.cpp: No such file or directory\n",
            "compilation terminated.\n",
            "\u001b[01m\u001b[Kch04.cpp:2:10:\u001b[m\u001b[K \u001b[01;31m\u001b[Kfatal error: \u001b[m\u001b[Kdate.h: No such file or directory\n",
            "    2 | #include \u001b[01;31m\u001b[K\"date.h\"\u001b[m\u001b[K\n",
            "      |          \u001b[01;31m\u001b[K^~~~~~~~\u001b[m\u001b[K\n",
            "compilation terminated.\n",
            "/bin/bash: line 1: ./ch04: No such file or directory\n"
          ]
        }
      ],
      "source": [
        "!g++ -std=c++17 date.cpp ch04.cpp -o ch04\n",
        "!./ch04"
      ]
    },
    {
      "cell_type": "markdown",
      "metadata": {
        "id": "8zmMcuyqvqt-"
      },
      "source": [
        "\n",
        "## Static class members\n",
        "\n",
        "Previously we said that every object has its own copies of the data members. Is it possible, then, to make a data member shared by all objects of a class? The answer is YES and the way we do that in C++ is by marking that data member with the `static` keyword. We use the keyword `static` to indicate that there is only one copy of the data member and that copy is shared by all objects of the class. In other words, **static members** operate at the class level and not at the object level.\n",
        "\n",
        "Say, for example, we have a class named `SomeClass` and we want to keep track of how many objects of this class have been created. We can define the object count as a `static` member like this:\n",
        "\n",
        "```c++\n",
        "class SomeClass {\n",
        "private:\n",
        "    int someData;\n",
        "    static int objectCount;\n",
        "public:\n",
        "    SomeClass(): someData(0){\n",
        "        objectCount++;\n",
        "    }\n",
        "    \n",
        "    static int getObjectCount(){\n",
        "        return objectCount;\n",
        "    }\n",
        "};\n",
        "```\n",
        "\n",
        "Looking at `SomeClass`, we see that it has one \"regular\" (called instance) data member named `someData` and another static member named `objectCount`. This `objectCount` does not belong to a particular object of this class. Instead, it belongs to the class itself, because it counts how many objects of this class have been instantiated.\n",
        "\n",
        "Strange but true, C++ requires us to initialize static data members outside the class without repeating the keyword `static`. That means we have to do the following outside the class:\n",
        "\n",
        "```c++\n",
        "int SomeClass::objectCount = 0;\n",
        "```\n",
        "\n",
        "Again because we are outside the class we need to use the `SomeClass::` in front of the static member name to link it back to the class.\n",
        "\n",
        "The above `SomeClass` defines a `static` member function named `getObjectCount`. This function is class-level function and therefore cannot be called using an object name. Instead, the class name is used. For example, having the following object:\n",
        "\n",
        "```c++\n",
        "SomeClass sc;\n",
        "```\n",
        "\n",
        "We cannot call `getObjectCount` like this:\n",
        "\n",
        "```c++\n",
        "sc.getObjectCount();\n",
        "```\n",
        "\n",
        "because it is a static function. Instead, we call it using the class name and the resolution operator `::` like this:\n",
        "\n",
        "```c++\n",
        "SomeClass.getObjectCount();\n",
        "```"
      ]
    },
    {
      "cell_type": "markdown",
      "metadata": {
        "id": "sW0-67TVvqt-"
      },
      "source": [
        "\n",
        "\n",
        "## Inheritance\n",
        "\n",
        "Classes in Object-Oriented Programming (OOP) do not exist in isolation; they relate to one another. OOP focus on four main kinds of class relationships.\n",
        "* **Association** which is the most generic relationship between two classes A and B. For example, a student (class A) is taught by multiple instructors (class B).\n",
        "* **Aggregation** which captures the relationship between a child class and a parent class such that the child class can still exist outside or without the parent class. For example, a quiz (parent class) has many questions (child class). While the quiz is a container for questions, the questions can still exist and be useful outside the quiz.\n",
        "* **Composition** which captures the whole-part relationship such that the part cannot exist without the whole. For example, a room (the part) cannot exist without the house (the whole). Another example is a choice in a multiple-choice question. This choice depends on the question and cannot exist outside of it.\n",
        "* **Generalization**  where a class is said to be a special case of another, or look like another. Here we use the terms of **superclass** and **subclass** (or **base** and **derived**) with the subclass (or derived) being a special case of the superclass (or base). For example, a bank account can the thought of as a superclass for the more specialized checking and savings accounts. This relationship is the basis for **inheritance**.\n",
        "\n",
        "**Inheritance** is the cornerstone of OOP. It allows a class `A` to inherit the **public** and **protected** data and function members of another class `B`. **Private members and constructors cannot be inherited.**\n",
        "\n",
        "For example, having the calss:\n",
        "\n",
        "```c++\n",
        "class A {\n",
        "};\n",
        "```\n",
        "\n",
        "We can define a new class `B` that inherits the **public** and **protected** members of class `A` like this:\n",
        "\n",
        "```c++\n",
        "class B : public A {\n",
        "}\n",
        "```\n",
        "The `:` after the class name is similar to the `extends` keyword in Java. The `public` before the `A` indicates the kind of inheritance: in this case, **public inheritance**, which is the kind of inheritance that we should always use unless we have a valid reason not to. In this kind of inheritance, all the public members of the base class (`A`) will become public members in the derived `B` class. Similarly, all the protected members of the base `A` class will be made protected members of the derived `B` class."
      ]
    },
    {
      "cell_type": "markdown",
      "source": [
        "## An example\n",
        "\n",
        "Given the base (or general) class:"
      ],
      "metadata": {
        "id": "fLc_7fgQ-pq4"
      }
    },
    {
      "cell_type": "code",
      "execution_count": null,
      "metadata": {
        "id": "5eO0UJibvqt-",
        "outputId": "29257680-8094-4129-a017-5e4d4f320070",
        "colab": {
          "base_uri": "https://localhost:8080/"
        }
      },
      "outputs": [
        {
          "output_type": "stream",
          "name": "stdout",
          "text": [
            "Overwriting base_counter.h\n"
          ]
        }
      ],
      "source": [
        "%%writefile base_counter.h\n",
        "\n",
        "# ifndef _BASE_COUNTER_H\n",
        "# define _BASE_COUNTER_H\n",
        "\n",
        "#include <iostream>\n",
        "#include <iomanip>\n",
        "\n",
        "class BaseCounter {\n",
        "private:\n",
        "     int count;\n",
        "     int initial;\n",
        "protected:\n",
        "     int step;\n",
        "public:\n",
        "    BaseCounter(int i): initial(i), count(i), step(1){}\n",
        "    int next(){ return count += step; }\n",
        "    int prev(){ return count -= step; }\n",
        "    int current(){ return count; }\n",
        "    void reset(){ count = initial; }\n",
        "};\n",
        "\n",
        "# endif"
      ]
    },
    {
      "cell_type": "markdown",
      "metadata": {
        "id": "Q1UPtlJVvqt-"
      },
      "source": [
        "We can create a more specialized counter class like this:"
      ]
    },
    {
      "cell_type": "code",
      "execution_count": null,
      "metadata": {
        "id": "e_rm8p9zvqt-",
        "outputId": "45e6fd50-46f7-4e98-b751-adc0f4bc0b1b",
        "colab": {
          "base_uri": "https://localhost:8080/"
        }
      },
      "outputs": [
        {
          "output_type": "stream",
          "name": "stdout",
          "text": [
            "Overwriting counter_down_1.h\n"
          ]
        }
      ],
      "source": [
        "%%writefile counter_down_1.h\n",
        "\n",
        "# ifndef _COUNTER_DOWN_1_H\n",
        "# define _COUNTER_DOWN_1_H\n",
        "\n",
        "#include \"base_counter.h\"\n",
        "\n",
        "class CounterDown1 : public BaseCounter {\n",
        "public:\n",
        "    CounterDown1(int i): BaseCounter(i){ step = -1; }\n",
        "};\n",
        "\n",
        "# endif"
      ]
    },
    {
      "cell_type": "markdown",
      "metadata": {
        "id": "QjI-yAKIvqt-"
      },
      "source": [
        "This means that `CounterDown1` has the following public member functions (inherited from `BaseCounter`): `next()`, `prev()`, `current()`, and `reset()`. It als has the protected data member `step`; also inherited from `BaseCounter`.\n",
        "\n",
        "Notice that `CounterDown1` did not inherit the constructor(s) of `BaseCounter` and had to provide its own. It was, however, able to delegate the initialization work to the constructor of `BaseCounter` by calling that constructor in its initializer list like this:\n",
        "```c++\n",
        "CounterDown1(int i): BaseCounter(i){ step = -1; }\n",
        "```\n",
        "\n",
        "This is necessary since `CounterDown1` does not have access to the private data members `count` and `initial` of the `BaseCounter` and therefore must rely on a `BaseCounter` constructor to initialize these members.\n",
        "\n",
        "And we can now use this specialized counter like this:"
      ]
    },
    {
      "cell_type": "code",
      "execution_count": null,
      "metadata": {
        "scrolled": true,
        "id": "vJmgF1aTvqt_",
        "outputId": "c2995775-f722-4607-8baf-9b1c80a35983",
        "colab": {
          "base_uri": "https://localhost:8080/"
        }
      },
      "outputs": [
        {
          "output_type": "stream",
          "name": "stdout",
          "text": [
            "Overwriting ex06.cpp\n"
          ]
        }
      ],
      "source": [
        "%%writefile ex06.cpp\n",
        "\n",
        "#include \"counter_down_1.h\"\n",
        "\n",
        "using namespace std;\n",
        "\n",
        "int main() {\n",
        "  CounterDown1 cd1(100);\n",
        "  cout << cd1.next() << endl;\n",
        "  cout << cd1.current() << endl;\n",
        "  cout << cd1.prev() << endl;\n",
        "\n",
        "  return 0;\n",
        "}"
      ]
    },
    {
      "cell_type": "code",
      "source": [
        "!g++ -std=c++17 ex06.cpp -o ex06\n",
        "!./ex06"
      ],
      "metadata": {
        "id": "xTXQPq51Ae8V",
        "outputId": "d3a1338a-0980-44d1-d999-a1d28c28af80",
        "colab": {
          "base_uri": "https://localhost:8080/"
        }
      },
      "execution_count": null,
      "outputs": [
        {
          "output_type": "stream",
          "name": "stdout",
          "text": [
            "99\n",
            "99\n",
            "100\n"
          ]
        }
      ]
    },
    {
      "cell_type": "markdown",
      "metadata": {
        "id": "HzfUZSrzvqt_"
      },
      "source": [
        "## CODING CHALLENGE 5\n",
        "\n",
        "In the code cell below, define a class named `Student` with an integer `id` and a string `name`. This class should have a constructor that takes two arguments: one for the id and the other for the name. Then Create another class named `CollegeStudent` that publicly inherits from `Student`. This class should have a protected member named `major`. It should also have a constructor that takes three arguments: id, name, and major. This constructor should delegate initializing the id and the name to the constructor of the `Student` class."
      ]
    },
    {
      "cell_type": "code",
      "execution_count": null,
      "metadata": {
        "id": "2Pqtzb9dvqt_",
        "outputId": "18cee951-8871-4e09-fb7c-aeb469fb4e97",
        "colab": {
          "base_uri": "https://localhost:8080/"
        }
      },
      "outputs": [
        {
          "output_type": "stream",
          "name": "stdout",
          "text": [
            "Overwriting ch05.cpp\n"
          ]
        }
      ],
      "source": [
        "%%writefile ch05.cpp\n",
        "\n",
        "//TODO: Student class\n",
        "\n",
        "\n",
        "//TODO: CollegeStudent class\n",
        "\n"
      ]
    },
    {
      "cell_type": "markdown",
      "metadata": {
        "id": "y3G3UpXOvqt_"
      },
      "source": [
        "## Protected and private inheritance\n",
        "\n",
        "Another kind of inheritance that C++ supports is the **protected inheritance** which uses the keyword `protected` instead of `public`. For example, here is another specialized counter using **protected inheritence**."
      ]
    },
    {
      "cell_type": "code",
      "execution_count": null,
      "metadata": {
        "id": "KKaT_LwPvquA",
        "outputId": "cbf3f68f-cf28-4343-ce28-c63fe44fb09e",
        "colab": {
          "base_uri": "https://localhost:8080/"
        }
      },
      "outputs": [
        {
          "output_type": "stream",
          "name": "stdout",
          "text": [
            "Overwriting counter_down_2.h\n"
          ]
        }
      ],
      "source": [
        "%%writefile counter_down_2.h\n",
        "\n",
        "# ifndef _COUNTER_DOWN_2_H\n",
        "# define _COUNTER_DOWN_2_H\n",
        "\n",
        "#include \"base_counter.h\"\n",
        "\n",
        "class CounterDown2 : protected BaseCounter {\n",
        "public:\n",
        "    CounterDown2(int i): BaseCounter(i){ step = -1; }\n",
        "};\n",
        "\n",
        "# endif"
      ]
    },
    {
      "cell_type": "markdown",
      "metadata": {
        "id": "sesdiPdCvquA"
      },
      "source": [
        "This means that `CounterDown2` will inherit from `BaseCounter` all of the `next()`, `prev()`, `current()`, and `reset()` member functions as well as the data member `step`. But all of these members will be made `protected` members of the new class `CounterDown2`, which means they cannot be accessed outside the `CounterDown2` class. In other words, the following code should throw errors. Why?\n",
        "\n",
        "In other words, the following causes errors:\n",
        "\n",
        "```cpp\n",
        "CounterDown2 cd2(100);\n",
        "\n",
        "cout << cd2.next() << endl;\n",
        "cout << cd2.current() << endl;\n",
        "cout << cd2.prev() << endl;\n",
        "```"
      ]
    },
    {
      "cell_type": "markdown",
      "metadata": {
        "id": "Ni46S24fvquA"
      },
      "source": [
        "Similarly, there is a third and final kind of inheritance called **private inheritace**. This inheritance uses the keyword `private` instead of `public` or 'protected'. For example, here is another specialized counter using **private inheritence**."
      ]
    },
    {
      "cell_type": "code",
      "execution_count": null,
      "metadata": {
        "id": "teG-fjp2vquA",
        "outputId": "b20023f5-cf20-426e-eec4-18a489af167b",
        "colab": {
          "base_uri": "https://localhost:8080/"
        }
      },
      "outputs": [
        {
          "output_type": "stream",
          "name": "stdout",
          "text": [
            "Overwriting counter_down_3.h\n"
          ]
        }
      ],
      "source": [
        "%%writefile counter_down_3.h\n",
        "\n",
        "# ifndef _COUNTER_DOWN_3_H\n",
        "# define _COUNTER_DOWN_3_H\n",
        "\n",
        "#include \"base_counter.h\"\n",
        "\n",
        "class CounterDown3 : private BaseCounter {\n",
        "public:\n",
        "    CounterDown3(int i): BaseCounter(i){ step = -1; }\n",
        "};\n",
        "\n",
        "# endif"
      ]
    },
    {
      "cell_type": "markdown",
      "metadata": {
        "id": "KqDlR_PcvquA"
      },
      "source": [
        "This means that `CounterDown3` will inherit from `BaseCounter` all of the `next()`, `prev()`, `current()`, and `reset()` member functions as well as the data member `step`. But all of these members will be made `private` members of the new class `CounterDown3`, which means they cannot be accessed outside the `CounterDown3` class nor can they be passed down to any class inheriting from `CounterDown3`. In other words, the following code should throw errors. Why?\n",
        "\n",
        "In other words, the following causes errors:\n",
        "\n",
        "```cpp\n",
        "CounterDown3 cd3(100);\n",
        "\n",
        "cout << cd3.next() << endl;\n",
        "cout << cd3.current() << endl;\n",
        "cout << cd3.prev() << endl;\n",
        "```"
      ]
    }
  ],
  "metadata": {
    "kernelspec": {
      "display_name": "Python 3",
      "name": "python3"
    },
    "language_info": {
      "name": "python"
    },
    "colab": {
      "provenance": [],
      "toc_visible": true
    }
  },
  "nbformat": 4,
  "nbformat_minor": 0
}