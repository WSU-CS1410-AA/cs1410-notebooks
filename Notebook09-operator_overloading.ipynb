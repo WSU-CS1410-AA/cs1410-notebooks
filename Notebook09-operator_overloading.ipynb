{
 "cells": [
  {
   "cell_type": "markdown",
   "metadata": {},
   "source": [
    "\n",
    "# Operator Overloading\n",
    "\n",
    "Early on in this course, we learned about the basic (primitive) data types that C++ supports such as `int`, `short`, `long`, `double`, and `float`. These data types support  certain operators such as `+`, `-`, `*`, and `/`, and `%` which allow us to do something like this: "
   ]
  },
  {
   "cell_type": "code",
   "execution_count": 1,
   "metadata": {},
   "outputs": [],
   "source": [
    "#include <iostream>\n",
    "#include <vector>\n",
    "#include <string>\n",
    "using namespace std;"
   ]
  },
  {
   "cell_type": "code",
   "execution_count": 2,
   "metadata": {},
   "outputs": [
    {
     "name": "stdout",
     "output_type": "stream",
     "text": [
      "13\n",
      "1\n",
      "12\n",
      "3\n",
      "1\n",
      "3.5\n"
     ]
    }
   ],
   "source": [
    "cout << 6 + 7   << endl \n",
    "     << 6 - 5   << endl\n",
    "     << 4 * 3   << endl\n",
    "     << 7 / 2   << endl    // Integer division\n",
    "     << 7 % 2   << endl    // Remainder\n",
    "     << 7 / 2.0 << endl;"
   ]
  },
  {
   "cell_type": "markdown",
   "metadata": {},
   "source": [
    "These basic types also support:\n",
    "* relational operators such as `<`, `>`, `<=`, `>=`, `==`, and `!=`:"
   ]
  },
  {
   "cell_type": "code",
   "execution_count": 3,
   "metadata": {},
   "outputs": [
    {
     "name": "stdout",
     "output_type": "stream",
     "text": [
      "1\n",
      "1\n",
      "1\n",
      "1\n",
      "1\n",
      "1\n"
     ]
    }
   ],
   "source": [
    "cout << (6 < 7) << endl\n",
    "     << (7 > 5) << endl\n",
    "     << (4 >= 3) << endl\n",
    "     << (2 <= 7) << endl\n",
    "     << (9 == 9) << endl\n",
    "     << (7.1 != 2.0) << endl;"
   ]
  },
  {
   "cell_type": "markdown",
   "metadata": {},
   "source": [
    "* logical operators such as `&&` (AND), `||` (OR), and `!` (NOT):"
   ]
  },
  {
   "cell_type": "code",
   "execution_count": 4,
   "metadata": {},
   "outputs": [
    {
     "name": "stdout",
     "output_type": "stream",
     "text": [
      "1\n",
      "1\n"
     ]
    }
   ],
   "source": [
    "int x = 4;\n",
    "cout << (x < 7 || x > 5) << endl;\n",
    "cout << (x != 5 && x != 7) << endl;"
   ]
  },
  {
   "cell_type": "markdown",
   "metadata": {},
   "source": [
    "* assignment operators:"
   ]
  },
  {
   "cell_type": "code",
   "execution_count": 5,
   "metadata": {},
   "outputs": [
    {
     "name": "stdout",
     "output_type": "stream",
     "text": [
      "37, 30, 60, 20, 2\n"
     ]
    }
   ],
   "source": [
    "int ans = 27;\n",
    "\n",
    "ans += 10; \n",
    "cout << ans << \", \";\n",
    "ans -= 7; \n",
    "cout << ans << \", \";\n",
    "ans *= 2;\n",
    "cout << ans << \", \";\n",
    "ans /= 3;\n",
    "cout << ans << \", \";\n",
    "ans %= 3; \n",
    "cout << ans << endl;"
   ]
  },
  {
   "cell_type": "markdown",
   "metadata": {},
   "source": [
    "* increment/decrement `--`/`++` operators:"
   ]
  },
  {
   "cell_type": "code",
   "execution_count": 6,
   "metadata": {},
   "outputs": [
    {
     "name": "stdout",
     "output_type": "stream",
     "text": [
      "count=10\n",
      "count=10\n",
      "count=10\n",
      "count=9\n"
     ]
    }
   ],
   "source": [
    "int count = 10;\n",
    "\n",
    "cout << \"count=\" << count++ << endl; \n",
    "cout << \"count=\" << --count << endl;\n",
    "cout << \"count=\" << count-- << endl;\n",
    "cout << \"count=\" << count << endl; "
   ]
  },
  {
   "cell_type": "markdown",
   "metadata": {},
   "source": [
    "* output/input `<<`/`>>` operators:"
   ]
  },
  {
   "cell_type": "code",
   "execution_count": 7,
   "metadata": {},
   "outputs": [
    {
     "name": "stdout",
     "output_type": "stream",
     "text": [
      "Enter a number:\n",
      "76.89\n",
      "76.89"
     ]
    }
   ],
   "source": [
    "double num;\n",
    "cout << \"Enter a number:\" << endl;\n",
    "cin >> num;\n",
    "cout << num;"
   ]
  },
  {
   "cell_type": "markdown",
   "metadata": {},
   "source": [
    "* indexing operator `[]` for arrays of these types:"
   ]
  },
  {
   "cell_type": "code",
   "execution_count": 8,
   "metadata": {},
   "outputs": [
    {
     "name": "stdout",
     "output_type": "stream",
     "text": [
      "a\n",
      "u\n"
     ]
    }
   ],
   "source": [
    "char vowels[] = { 'a', 'e', 'i', 'o', 'u' };\n",
    "cout << vowels[0] << endl;\n",
    "cout << vowels[4] << endl;"
   ]
  },
  {
   "cell_type": "markdown",
   "metadata": {},
   "source": [
    "The great thing about these operators is that they make using integers and decimals easy and efficient. The question is can we use these operators with objects of our own classes. For example, given two distance objects:\n",
    "\n",
    "```c++\n",
    "Distance d1, d2;\n",
    "``` \n",
    "can we do:\n",
    "\n",
    "```c++\n",
    "Distance d3 = d1 + d2;\n",
    "```\n",
    "instead of:\n",
    "\n",
    "```c++\n",
    "Distance d3 = Distance.add(d1, d2);\n",
    "```\n",
    "The answer is: YES, we can, BUT we have to tell the C++ compiler what these operators (`+` in this example) do to objects of our own classes. C++ calls this **operator overloading**, and being able to overload operators sets C++ apart from many languages and gives a lot of power and flexibility.\n",
    "\n",
    "Overloading operators involves thinking of them as functions. For example, having two objects `a` and `b` we can think of the expression `a + b` as `a.operator+(b)`. Similarly the unary operator `++a` can be thought of as `a.operator++()`. Here `operator+` and `operator++` are treated like member class functions.\n",
    "\n",
    "We can also think of the expression `cout << a` as `operator<<(cout, a)`. Similarly `cout >> b` can be thought of as `operator<<(cin, b)`. These last two expressions are different in the sense that they involve not only our own objects (`a` and `b`) but also `cin` and `cout` which we are using for input/output but are not owers to change. Hence `operator<<` and `operator>>` are treated as simple non-class functions (that, as we will see later, are **friendly** to the classes of objects `a` and `b`).\n",
    "\n",
    "### CODING CHALLENGE 1\n",
    "Within the multi-line comment in the code cell below, think of the following operators as functions and write down what these functions would like. See the first example.\n",
    "\n",
    "```c++\n",
    "t || f\n",
    "--count\n",
    "!b\n",
    "a += 3\n",
    "n <= m\n",
    "cin >> x\n",
    "cout << y\n",
    "```"
   ]
  },
  {
   "cell_type": "code",
   "execution_count": 9,
   "metadata": {},
   "outputs": [],
   "source": [
    "/* TODO\n",
    "t.operator||(f)\n",
    "\n",
    "\n",
    "\n",
    "\n",
    "\n",
    "\n",
    "*/"
   ]
  },
  {
   "cell_type": "markdown",
   "metadata": {},
   "source": [
    "## Two ways to overload operators\n",
    "\n",
    "C++ gives us two ways to overload operators in our classes: \n",
    "* using member functions\n",
    "* Using friend functions. These are regular functions marked as *friends* to give them access to the private and protected members of the class.\n",
    "\n",
    "Let us go through an example, first. Here we have a class like this:"
   ]
  },
  {
   "cell_type": "code",
   "execution_count": 10,
   "metadata": {},
   "outputs": [],
   "source": [
    "// Version 1\n",
    "class Counter {\n",
    "private:\n",
    "     int count;\n",
    "     int initial;\n",
    "protected:\n",
    "     int step;\n",
    "public:\n",
    "    Counter(int i): initial(i), count(i), step(1){}\n",
    "    int next(){ return count += step; }\n",
    "    int prev(){ return count -= step; }\n",
    "    int current(){ return count; }\n",
    "    void reset(){ count = initial; }\n",
    "};"
   ]
  },
  {
   "cell_type": "markdown",
   "metadata": {},
   "source": [
    "And we think it makes sense to use the operator ++ to mean `next()` and -- to mean `prev()` and would like the following code to work. Right now it does not. Uncomment the following code cell to see what kind of errors you are getting."
   ]
  },
  {
   "cell_type": "code",
   "execution_count": 11,
   "metadata": {
    "scrolled": false
   },
   "outputs": [],
   "source": [
    "/*\n",
    "Counter c(0);\n",
    "++c; // equivalent ot calling c.next()\n",
    "cout << c; // Prints the current value of the counter\n",
    "--c; // equivalent to calling c.prev()\n",
    "cout << c;\n",
    "*/"
   ]
  },
  {
   "cell_type": "markdown",
   "metadata": {},
   "source": [
    "To make operators `++`, `--`, and `<<` work for counter objects, the `Counter` class must overload these operators\n",
    "\n",
    "From the above coding challenge, we can think of these operators as functions like this:\n",
    "* `++c` is equivalent to `c.operator++()`\n",
    "* `--c` is equivalent to `c.operator--()`\n",
    "* `cout << c` is equivalent to `operator++(cout, c)`\n",
    "\n",
    "Now we look at the leftmost operands for these operators. For both `++` and `--`, `c`,  which is a `Counter` object, is the leftmost operand. For the `<<` operand,  `cout` is leftmost operand.\n",
    "\n",
    "Because the object `c` belongs to our own `Counter` class and we can easily add functions to it, we use member functions to overload the `++` and `--` operators.\n",
    "\n",
    "On the other side, `cout` is an output stream object of a class given to us by the C++ standard library to which we cannot add member functions. Therefore we use a friend function instead to overload the `<<` operator.\n",
    "\n",
    "In C++, all operator-overloading functions (member or friend) must have a name that starts with the keyword `operator` followed by the operator symbol(s).\n",
    "\n",
    "Here is the `Counter` class after overloading the `++`, `--`, and `<<` operators."
   ]
  },
  {
   "cell_type": "code",
   "execution_count": 12,
   "metadata": {},
   "outputs": [],
   "source": [
    "// Version 2\n",
    "class Counter {\n",
    "private:\n",
    "     int count;\n",
    "     int initial;\n",
    "protected:\n",
    "     int step;\n",
    "public:\n",
    "    Counter(int i): initial(i), count(i), step(1){}\n",
    "    int next(){ return count += step; }\n",
    "    int prev(){ return count -= step; }\n",
    "    int current(){ return count; }\n",
    "    void reset(){ count = initial; }\n",
    "    \n",
    "    int operator++(){ return next(); } // Overloads prefix ++\n",
    "    int operator--(){ return prev(); } // Overloads prefix --\n",
    "    \n",
    "    friend ostream& operator<<(ostream& out, Counter& c){ // Overloads <<\n",
    "        out << c.count << endl;\n",
    "        return out;\n",
    "    } \n",
    "};"
   ]
  },
  {
   "cell_type": "markdown",
   "metadata": {},
   "source": [
    "Having these operator functions tells the C++ compiler what to do when it sees these the `++`, `--`, and `<<` operators used for objects of the `Counter` class. In other words, we can now run the following code without errors:"
   ]
  },
  {
   "cell_type": "code",
   "execution_count": 13,
   "metadata": {},
   "outputs": [
    {
     "name": "stdout",
     "output_type": "stream",
     "text": [
      "1\n",
      "0\n"
     ]
    }
   ],
   "source": [
    "Counter c(0);\n",
    "++c; // equivalent ot calling c.next()\n",
    "cout << c; // Prints the current value of the counter\n",
    "--c; // equivalent to calling c.prev()\n",
    "cout << c;"
   ]
  },
  {
   "cell_type": "markdown",
   "metadata": {},
   "source": [
    "We must keep in mind that a **friend function** is not a member function even if the friend function is defined inside the class. It's just a regular function designated as a friend. Being a friend allows the function to access the private and protected members of this class's objects. In the `Counter` class, the `operator<<` function, being a friend of the `Counter` class, is able to access the private member `count` of the `c` object of the `Counter` class.\n",
    "\n",
    "To summarize, when overloading an operator we need to think of it as a function and find out its leftmost operand:\n",
    "* If the leftmost operand is an object of the class we are overloading, then use a member function\n",
    "* If the leftmost operand is not an object of the class we are overloading, then use a friend function.\n",
    "\n",
    "Pay attention to the signature of the friend `operator<<` function. It's a pattern that is repeated every time you want your object to work with `cout`. There is a similar pattern for `operator>>` which is used to make your object work with `cin`.\n",
    "\n",
    "Let us create another counter class by overloading four more operators:\n",
    "* the `+` operator such that `c + 5` means add 5 to c's count.\n",
    "* the `-` operator such that `c - 6` means subtract 6 from c's count.\n",
    "* the `==` operator such that `c1 == c2` returns true if `c1` has the same values for count, step, and initial as those of `c2`. It returns false otherwise.\n",
    "* the `!=` operator which is the opposite of `==`.\n",
    "* the `>>` operator such that `cin >> c` prompts the user to enter three integers: one for initial, another for count, and the last for step.\n",
    "\n",
    "Here is the new  counter class."
   ]
  },
  {
   "cell_type": "code",
   "execution_count": 14,
   "metadata": {},
   "outputs": [],
   "source": [
    "// Version 3\n",
    "class Counter {\n",
    "private:\n",
    "     int count;\n",
    "     int initial;\n",
    "protected:\n",
    "     int step;\n",
    "public:\n",
    "    Counter(int i): initial(i), count(i), step(1){}\n",
    "    int next(){ return count += step; }\n",
    "    int prev(){ return count -= step; }\n",
    "    int current(){ return count; }\n",
    "    void reset(){ count = initial; }\n",
    "    \n",
    "    int operator++(){ return next(); } // Overloads prefix ++\n",
    "    int operator--(){ return prev(); } // Overloads prefix --\n",
    "    \n",
    "    friend ostream& operator<<(ostream& out, Counter& c){ // Overloads <<\n",
    "        out << c.count;\n",
    "        return out;\n",
    "    } \n",
    "    \n",
    "    // The new five operators\n",
    "    void operator+(int n){ count += n; }\n",
    "    void operator-(int n){ count -= n; }\n",
    "    bool operator==(Counter& c){\n",
    "        return this->initial == c.initial && this->count == c.count && this->step == c.step;\n",
    "    }\n",
    "    bool operator!=(Counter& c) { return !(*this == c); }\n",
    "    friend istream& operator>>(istream& in, Counter& c){\n",
    "        cout << \"Enter counter initial, count, and step: \";\n",
    "        in >> c.initial >>  c.count >> c.step;\n",
    "        return in;\n",
    "    }\n",
    "};"
   ]
  },
  {
   "cell_type": "markdown",
   "metadata": {},
   "source": [
    "which allows us to run something like this:"
   ]
  },
  {
   "cell_type": "code",
   "execution_count": 15,
   "metadata": {
    "scrolled": true
   },
   "outputs": [
    {
     "name": "stdout",
     "output_type": "stream",
     "text": [
      "Enter counter initial, count, and step: 1 4 2\n",
      "4\n",
      "6\n",
      "15\n",
      "13\n",
      "1\n",
      "0\n"
     ]
    }
   ],
   "source": [
    "Counter c3(0);\n",
    "cin >> c3;\n",
    "cout << c3 << endl;\n",
    "++c3;\n",
    "cout << c3 << endl;\n",
    "c3 + 9;\n",
    "cout << c3 << endl;\n",
    "--c3;\n",
    "cout << c3 << endl;\n",
    "c3 - 2;\n",
    "cout << (c3 == c3) << endl;\n",
    "cout << (c3 != c3) << endl;"
   ]
  },
  {
   "cell_type": "markdown",
   "metadata": {},
   "source": [
    "### CODING CHALLENGE 2\n",
    "\n",
    "Copy the following class to the code cell below and refactor it so as to overload the following operators:\n",
    "* the `>>` operator such that `cin >> d` prompts the user to enter two integers: feet and inches.\n",
    "* the `<<` operator such that `cout << d` prints out the distance `d` in a format like this: `12' 3\"`.\n",
    "* the `+` operator such that `d + 5` means add 5 feed to d.\n",
    "* the `--` operator such that `--d` means subtract d's fee by 1 foot.\n",
    "* the `==` operator such that `d1 == d2` returns true if `d1` has the same feet and inches as `d2`.\n",
    "\n",
    "```c++\n",
    "class Distance{\n",
    "private:\n",
    "    int feet;\n",
    "    int inches;\n",
    "\n",
    "public:\n",
    "    Distance(): feet(0), inches(0){}\n",
    "    Distance(int feet, int inches): feet(feet), inches(inches){}\n",
    "    Distance& add(const Distance& d){\n",
    "        this->feet += d.feet + (this->inches + d.inches) / 12;\n",
    "        this->inches = (this->inches + d.inches) % 12;\n",
    "        return *this;\n",
    "    }\n",
    "    Distance& add(int feet){\n",
    "        this->feet += feet;\n",
    "        return *this;\n",
    "    }\n",
    "    Distance& add(int feet, int inches){\n",
    "        this->feet += feet + (this->inches + inches) / 12;\n",
    "        this->inches = (this->inches + inches) % 12;\n",
    "        return *this;\n",
    "    }\n",
    "    \n",
    "    Distance& show(){\n",
    "        cout << this->feet << \"' \" << this->inches << \"\\\"\" << endl;\n",
    "        return *this;\n",
    "    }\n",
    "};\n",
    "```"
   ]
  },
  {
   "cell_type": "code",
   "execution_count": 16,
   "metadata": {},
   "outputs": [],
   "source": [
    "//TODO"
   ]
  },
  {
   "cell_type": "markdown",
   "metadata": {},
   "source": [
    "### CODING CHALLENGE 3\n",
    "\n",
    "In the code cell below, create two distance objects `d1` and `d2` and use them to call and test all the five operators overloaded in the previous coding challenge."
   ]
  },
  {
   "cell_type": "code",
   "execution_count": 17,
   "metadata": {},
   "outputs": [],
   "source": [
    "//TODO"
   ]
  },
  {
   "cell_type": "markdown",
   "metadata": {},
   "source": [
    "## Another look at the counter class\n",
    "\n",
    "Right now the above `Counter` class suppors something like this:"
   ]
  },
  {
   "cell_type": "code",
   "execution_count": 18,
   "metadata": {},
   "outputs": [],
   "source": [
    "Counter c4(0);\n",
    "++c4;\n",
    "--c4;\n",
    "c4 + 9;\n",
    "c4 - 2;"
   ]
  },
  {
   "cell_type": "markdown",
   "metadata": {},
   "source": [
    "However, it does not support something like this. Uncomment the code cell below to see the errors."
   ]
  },
  {
   "cell_type": "code",
   "execution_count": 19,
   "metadata": {},
   "outputs": [],
   "source": [
    "/*\n",
    "c4++;\n",
    "c4--;\n",
    "9 + c4;\n",
    "2 - c4;\n",
    "*/"
   ]
  },
  {
   "cell_type": "markdown",
   "metadata": {},
   "source": [
    "How do we support the postfix operations `c4++` and `c4--` and what makes them different from the already implemented  prefix operators `++c4` and `--c4`? It turns out that to distinguish between prefix and postfix operators, C++ uses a different signature for the postfix operators from the prefix operators. While the prefix operators use the following definitions:\n",
    "\n",
    "```c++\n",
    "int operator++(){ return next(); }\n",
    "int operator--(){ return prev(); } \n",
    "```\n",
    "the postfix operators use the following definitions:\n",
    "\n",
    "```c++\n",
    "int operator++(int){ return next(); }\n",
    "int operator--(int){ return prev(); } \n",
    "```\n",
    "\n",
    "The `int` parameter is a dummy unused parameter meant to only tell C++ which definition is for prefix and which is postfix operators. \n",
    "\n",
    "On the other hand, the expressions `9 + c4` and `2 - c4` both have integer leftmost operands. That means we need to use a friend function for these.\n",
    "\n",
    "Here is a counter class that supports these new operators."
   ]
  },
  {
   "cell_type": "code",
   "execution_count": 20,
   "metadata": {},
   "outputs": [],
   "source": [
    "// Version 4\n",
    "class Counter {\n",
    "private:\n",
    "     int count;\n",
    "     int initial;\n",
    "protected:\n",
    "     int step;\n",
    "public:\n",
    "    Counter(int i): initial(i), count(i), step(1){}\n",
    "    int next(){ return count += step; }\n",
    "    int prev(){ return count -= step; }\n",
    "    int current(){ return count; }\n",
    "    void reset(){ count = initial; }\n",
    "    \n",
    "    int operator++(){ return next(); } // Overloads prefix ++\n",
    "    int operator--(){ return prev(); } // Overloads prefix --\n",
    "    \n",
    "    friend ostream& operator<<(ostream& out, Counter& c){ // Overloads <<\n",
    "        out << c.count;\n",
    "        return out;\n",
    "    } \n",
    "    \n",
    "    // The new five operators\n",
    "    void operator+(int n){ count += n; }\n",
    "    void operator-(int n){ count -= n; }\n",
    "    bool operator==(Counter& c){\n",
    "        return this->initial == c.initial && this->count == c.count && this->step == c.step;\n",
    "    }\n",
    "    bool operator!=(Counter& c) { return !(*this == c); }\n",
    "    friend istream& operator>>(istream& in, Counter& c){\n",
    "        cout << \"Enter counter initial, count, and step: \";\n",
    "        in >> c.initial >>  c.count >> c.step;\n",
    "        return in;\n",
    "    }\n",
    "    \n",
    "    int operator++(int){ return next(); } // Overloads postfix ++\n",
    "    int operator--(int){ return prev(); } // Overloads postfix --\n",
    "    \n",
    "    friend void operator+(int n, Counter& c){ c.count += n; }\n",
    "    friend void operator-(int n, Counter& c){ c.count -= n; }\n",
    "    \n",
    "};"
   ]
  },
  {
   "cell_type": "markdown",
   "metadata": {},
   "source": [
    "Let's test these operators again."
   ]
  },
  {
   "cell_type": "code",
   "execution_count": 21,
   "metadata": {},
   "outputs": [
    {
     "name": "stdout",
     "output_type": "stream",
     "text": [
      "7"
     ]
    }
   ],
   "source": [
    "Counter cc(0);\n",
    "cc++;\n",
    "cc--;\n",
    "9 + cc;\n",
    "2 - cc;\n",
    "cout << cc;"
   ]
  },
  {
   "cell_type": "markdown",
   "metadata": {},
   "source": [
    "Finally here is an example of overloading the `[]` operator which is typically used for indexing arrays."
   ]
  },
  {
   "cell_type": "code",
   "execution_count": 22,
   "metadata": {},
   "outputs": [],
   "source": [
    "class Complex {\n",
    "private:\n",
    "    double real, imaginary;\n",
    "\n",
    "public:\n",
    "    Complex(double r = 0, double i= 0): real(r), imaginary(i){}\n",
    "\n",
    "    double operator[](int index) const { //READ OONLY: real value at index 0, imaginary at any other index;\n",
    "        switch(index){\n",
    "        case 0: return real;\n",
    "        default: return imaginary;\n",
    "        }\n",
    "    }\n",
    "    \n",
    "    double& operator[](int index){ //WRITE: real value at index 0, imaginary at any other index;\n",
    "        switch(index){\n",
    "        case 0: return real;\n",
    "        default: return imaginary;\n",
    "        }\n",
    "    }\n",
    "};"
   ]
  },
  {
   "cell_type": "code",
   "execution_count": 23,
   "metadata": {
    "scrolled": true
   },
   "outputs": [
    {
     "name": "stdout",
     "output_type": "stream",
     "text": [
      "5\n",
      "9"
     ]
    }
   ],
   "source": [
    "Complex xx(5,6);\n",
    "\n",
    "cout << xx[0] << endl;\n",
    "xx[1] = 9;\n",
    "cout << xx[1];"
   ]
  },
  {
   "cell_type": "markdown",
   "metadata": {},
   "source": [
    "## Operator overloading restrictions\n",
    "As powerful as operator overloading can be, it comes with a few restrictions:  \n",
    "* You cannot introduce a new operator that C++ does not already support. \n",
    "* You cannot alter the precedence of the operator you are overloading.\n",
    "* You cannot change the number of operands that an operator takes.\n",
    "* Overloaded operators cannot have default arguments.\n",
    "* The following operators cannot be overloaded: `.`, `::`, `.*`, `?:`, and `sizeof`\n",
    "\n",
    "\n",
    "## Another detailed operator overloading Example\n",
    "\n",
    "In this example, we have a class named `MyIntegerList` representing a list of zero or more integers much like an array or a vector. This class has member functions for:\n",
    "* Finding how many integers are in the list\n",
    "* Returning the first integer in the list\n",
    "* Returning the last integer in the list\n",
    "* Returning whether a list is the same as another given list.\n",
    "* Adding a new integer item to the end of the list\n",
    "* Removing the last given number of integers from the end of the list.\n",
    "* Printing the all the integers in the list in a comma-separated format to the console.\n",
    "\n",
    "Here is how this class is defined."
   ]
  },
  {
   "cell_type": "code",
   "execution_count": 24,
   "metadata": {},
   "outputs": [],
   "source": [
    "class MyIntegerList {\n",
    "private:\n",
    "     std::vector<int> list;\n",
    "public:\n",
    "    MyIntegerList(){}\n",
    "    int count() const { return list.size(); }\n",
    "    int first() const { return list[0]; }\n",
    "    int last() const { return list[list.size() - 1]; }\n",
    "    \n",
    "    bool sameAs(const MyIntegerList& lst) const { return this->list == lst.list; }\n",
    "    MyIntegerList& add(int e){ list.push_back(e); return *this; }\n",
    "    void remove(int count) { \n",
    "        if (list.size() > count) {\n",
    "            for(int i = 0; i < count; i++){\n",
    "                list.pop_back();  \n",
    "            }\n",
    "        }\n",
    "    }\n",
    "    \n",
    "    void print() const{ \n",
    "        bool first = true;\n",
    "        for(int e : list) { \n",
    "            if(!first) std::cout << \", \";\n",
    "            else first = false;\n",
    "            \n",
    "            std::cout << e; \n",
    "        }\n",
    "    }\n",
    "};"
   ]
  },
  {
   "cell_type": "markdown",
   "metadata": {},
   "source": [
    "Here is some code to test this class. "
   ]
  },
  {
   "cell_type": "code",
   "execution_count": 25,
   "metadata": {},
   "outputs": [
    {
     "name": "stdout",
     "output_type": "stream",
     "text": [
      "     First odd element: 1\n",
      "      Last odd element: 9\n",
      "     # of odd elements: 5\n",
      "      All odd elements: 1, 3, 5, 7, 9\n",
      "     All even elements: 2, 4, 6, 8, 10\n",
      "   Both lists the same? 0\n",
      "Remaining odd elements: 1, 3, 5\n"
     ]
    }
   ],
   "source": [
    "MyIntegerList odds;\n",
    "odds.add(1).add(3).add(5).add(7).add(9);\n",
    "\n",
    "cout << \"     First odd element: \" << odds.first() << '\\n';\n",
    "cout << \"      Last odd element: \" << odds.last() << '\\n';\n",
    "cout << \"     # of odd elements: \" << odds.count() << '\\n';\n",
    "cout << \"      All odd elements: \";\n",
    "odds.print();\n",
    "cout << endl;\n",
    "\n",
    "MyIntegerList evens;\n",
    "evens.add(2).add(4).add(6).add(8).add(10);\n",
    "cout << \"     All even elements: \";\n",
    "evens.print();\n",
    "cout << endl;\n",
    "cout << \"   Both lists the same? \" << odds.sameAs(evens) << endl;\n",
    "\n",
    "odds.remove(2); // removes the last two elements from odds\n",
    "cout << \"Remaining odd elements: \";\n",
    "odds.print();\n",
    "cout << endl;"
   ]
  },
  {
   "cell_type": "markdown",
   "metadata": {},
   "source": [
    "We can use operator overloading to improve the usability of this class. Let's see if we can use `+` to add an element to the end of the list, `-` to remove the last given number of integers form the end of the list, `==` to tell if two lists are the same and `<<` to print the list directly. In other words we want the following code to work, which right now does not as you can see from the errors you get when run it. Uncomment the following code to see the errors."
   ]
  },
  {
   "cell_type": "code",
   "execution_count": 26,
   "metadata": {},
   "outputs": [],
   "source": [
    "/*\n",
    "\n",
    "MyIntegerList a;\n",
    "// Same as: a.add(1).add(3).add(5).add(7).add(9);\n",
    "a + 1 + 3 + 5 + 7 + 9; \n",
    "\n",
    "MyIntegerList b;\n",
    "// Same as: b.add(2).add(4).add(6).add(8).add(10);\n",
    "b + 2 + 4 + 6 + 8 + 10; \n",
    "\n",
    "// Same as: \n",
    "//     cout << \"  All odd elements: \";\n",
    "//     a.print();\n",
    "//     cout << endl; \n",
    "cout << \"     All odd elements: \" << a << endl; \n",
    "\n",
    "// Same as: \n",
    "//     cout << \"  All even elements: \";\n",
    "//     b.print();\n",
    "//     cout << endl; \n",
    "cout << \"     All even elements: \" << b << endl; \n",
    "\n",
    "// Same as: cout << \"Both lists the same? \" << a.sameAs(b)\n",
    "cout << \"Both lists the same? \" << (a == b) << endl;\n",
    "\n",
    "// Same as: a.remove(2) to remove the last two integers of a\n",
    "a - 2;\n",
    "\n",
    "// Same as: \n",
    "//     cout << \"Remaining odd elements: \";\n",
    "//     a.print();\n",
    "//     cout << endl; \n",
    "cout << \"Remaining odd elements: \" << a << endl; \n",
    "\n",
    "*/"
   ]
  },
  {
   "cell_type": "markdown",
   "metadata": {},
   "source": [
    "So we create a new version of this class. For the above code to work, we need to overload the following operators:\n",
    "* `operator+` to suppor the `+` operator. It should behave like the `add` member function.\n",
    "* `operator-` to support the `-` operator. It should behave like the `remove` member function.\n",
    "* `operator==` to support the `==` operator. It should behave like the `sameAs` member function.\n",
    "* `operator<<` to support the `<<` operator the prints the list directly. This must be a friend function.\n",
    "\n",
    "Here is the new implemenation of this class. To avoid naming conflicts, we'll call it `MyIntegerList2`."
   ]
  },
  {
   "cell_type": "code",
   "execution_count": 27,
   "metadata": {},
   "outputs": [],
   "source": [
    "class MyIntegerList {\n",
    "private:\n",
    "     std::vector<int> list;\n",
    "public:\n",
    "    MyIntegerList(){}\n",
    "    int count() const { return list.size(); }\n",
    "    int first() const { return list[0]; }\n",
    "    int last() const { return list[list.size() - 1]; }\n",
    "    \n",
    "    bool sameAs(const MyIntegerList& lst) const { return this->list == lst.list; }\n",
    "    bool operator==(const MyIntegerList& lst) const { return sameAs(lst); }\n",
    "    \n",
    "    MyIntegerList& add(int e){ list.push_back(e); return *this; }\n",
    "    MyIntegerList& operator+(int e){ add(e); return *this; }\n",
    "    \n",
    "    void remove(int count) { \n",
    "        if (list.size() > count) {\n",
    "            for(int i = 0; i < count; i++){\n",
    "                list.pop_back();  \n",
    "            }\n",
    "        }\n",
    "    }\n",
    "    void operator-(int count){ remove(count); }\n",
    "    \n",
    "    void print() const{ \n",
    "        bool first = true;\n",
    "        for(int e : list) { \n",
    "            if(!first) cout << \", \";\n",
    "            else first = false;\n",
    "            \n",
    "            cout << e; \n",
    "        }\n",
    "    }\n",
    "    \n",
    "    friend std::ostream& operator<<(std::ostream& out, const MyIntegerList& lst){\n",
    "        bool first = true;\n",
    "        for(int e : lst.list) { \n",
    "            if(!first) cout << \", \";\n",
    "            else first = false;\n",
    "            \n",
    "            out << e; \n",
    "        }\n",
    "        \n",
    "        return out;\n",
    "    }\n",
    "};"
   ]
  },
  {
   "cell_type": "markdown",
   "metadata": {},
   "source": [
    "Notice how the operator functions are basically the same as their corresponding functions. Here is the code that didn't work before."
   ]
  },
  {
   "cell_type": "code",
   "execution_count": 28,
   "metadata": {},
   "outputs": [
    {
     "name": "stdout",
     "output_type": "stream",
     "text": [
      "     All odd elements: 1, 3, 5, 7, 9\n",
      "     All even elements: 2, 4, 6, 8, 10\n",
      "Both lists the same? 0\n",
      "Remaining odd elements: 1, 3, 5\n"
     ]
    }
   ],
   "source": [
    "MyIntegerList a;\n",
    "// Same as: a.add(1).add(3).add(5).add(7).add(9);\n",
    "a + 1 + 3 + 5 + 7 + 9; \n",
    "\n",
    "MyIntegerList b;\n",
    "// Same as: b.add(2).add(4).add(6).add(8).add(10);\n",
    "b + 2 + 4 + 6 + 8 + 10; \n",
    "\n",
    "// Same as: \n",
    "//     cout << \"  All odd elements: \";\n",
    "//     a.print();\n",
    "//     cout << endl; \n",
    "cout << \"     All odd elements: \" << a << endl; \n",
    "\n",
    "// Same as: \n",
    "//     cout << \"  All even elements: \";\n",
    "//     b.print();\n",
    "//     cout << endl; \n",
    "cout << \"     All even elements: \" << b << endl; \n",
    "\n",
    "// Same as: cout << \"Both lists the same? \" << a.sameAs(b)\n",
    "cout << \"Both lists the same? \" << (a == b) << endl;\n",
    "\n",
    "// Same as: a.remove(2) to remove the last two integers of a\n",
    "a - 2;\n",
    "\n",
    "// Same as: \n",
    "//     cout << \"Remaining odd elements: \";\n",
    "//     a.print();\n",
    "//     cout << endl; \n",
    "cout << \"Remaining odd elements: \" << a << endl; "
   ]
  },
  {
   "cell_type": "markdown",
   "metadata": {},
   "source": [
    "As you can see this code is now working; again since we implemented the neccessary `operator` functions for the `+`, `-`, `==`, and `<<` operators."
   ]
  },
  {
   "cell_type": "markdown",
   "metadata": {},
   "source": [
    "### CODING CHALLENGE 4\n",
    "\n",
    "Copy the following class into the code cell below and refactor it so as to overload the following operators:\n",
    "* the `>>` operator such that `cin >> p` prompts the user to enter two integers: x and y.\n",
    "* the `<<` operator such that `cout << p` prints out the point `p` in a format like this: `(10, 15)`.\n",
    "* the read-only `[]` operator such that `p[0]` returns p's x and `y[1]` p's y.\n",
    "* the write `[]` operator such that `p[0] = 3` sets p's x to 3 and `y[1] = 7` sets p's y to 7.\n",
    "\n",
    "```c++\n",
    "class Point {\n",
    "private:\n",
    "    int x, y;\n",
    "    \n",
    "public:\n",
    "    Point(int x, int y): x(x), y(y){}\n",
    "    void print(){\n",
    "        cout << \"(\" << this->x << \", \" << this->y << \")\" << endl;\n",
    "    }\n",
    "};\n",
    "```"
   ]
  },
  {
   "cell_type": "code",
   "execution_count": 29,
   "metadata": {},
   "outputs": [],
   "source": [
    "//TODO"
   ]
  },
  {
   "cell_type": "markdown",
   "metadata": {},
   "source": [
    "### CODING CHALLENGE 5\n",
    "\n",
    "In the code cell below, create two point objects `p` and `q` and use them to call and test all the four operators overloaded in the previous coding challenge."
   ]
  },
  {
   "cell_type": "code",
   "execution_count": 30,
   "metadata": {},
   "outputs": [],
   "source": [
    "//TODO"
   ]
  }
 ],
 "metadata": {
  "kernelspec": {
   "display_name": "C++14",
   "language": "C++14",
   "name": "xcpp14"
  },
  "language_info": {
   "codemirror_mode": "text/x-c++src",
   "file_extension": ".cpp",
   "mimetype": "text/x-c++src",
   "name": "c++",
   "version": "14"
  }
 },
 "nbformat": 4,
 "nbformat_minor": 2
}
