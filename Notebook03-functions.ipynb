{
 "cells": [
  {
   "cell_type": "markdown",
   "metadata": {},
   "source": [
    "<a target=\"_blank\" href=\"https://colab.research.google.com/github/WSU-CS1410-AA/cs1410-notebooks/blob/main/Notebook03-functions.ipynb\">\n",
    "  <img src=\"https://colab.research.google.com/assets/colab-badge.svg\" alt=\"Open In Colab\"/>\n",
    "</a>"
   ]
  },
  {
   "cell_type": "markdown",
   "metadata": {},
   "source": [
    "# Functions\n",
    "\n",
    "Functions are the bread and butter of programming. A function is a named group of statements that achieves a certain task or produces a specific outcome. Here is the **definition** of a function that prints a given `n` number of stars in the same line."
   ]
  },
  {
   "cell_type": "code",
   "execution_count": 1,
   "metadata": {},
   "outputs": [],
   "source": [
    "#include <iostream>\n",
    "using namespace std;"
   ]
  },
  {
   "cell_type": "code",
   "execution_count": 2,
   "metadata": {},
   "outputs": [],
   "source": [
    "void printStars(int n){\n",
    "  for(int i = 0; i < n; i++){\n",
    "    cout << '*';\n",
    "  }\n",
    "  cout << endl;\n",
    "}"
   ]
  },
  {
   "cell_type": "markdown",
   "metadata": {},
   "source": [
    "Notice that, in a Jupyter Notebook such as this, a function should be defined in a code cell by itself without statements before or after.\n",
    "\n",
    "Now that we have this function, we can use it every time we want to print stars. For example:"
   ]
  },
  {
   "cell_type": "code",
   "execution_count": 3,
   "metadata": {},
   "outputs": [
    {
     "name": "stdout",
     "output_type": "stream",
     "text": [
      "*********************************************************************\n",
      "*************************************\n",
      "*****\n",
      "*********************************************\n"
     ]
    }
   ],
   "source": [
    "printStars(69);\n",
    "printStars(37);\n",
    "printStars(5);\n",
    "printStars(45);"
   ]
  },
  {
   "cell_type": "markdown",
   "metadata": {},
   "source": [
    "## Function prototypes\n",
    "C++ distinguishes **function definitions** such as the above definition of the `printStars` function from **function prototypes**. A **function prototype** contains only:\n",
    "* the return type, \n",
    "* the name, \n",
    "* the parameter list, and\n",
    "* semicolon\n",
    "\n",
    "Function prototypes typically reside in header files (.h files); they introduce functions to the compiler and allow us to call functions before we define them.\n",
    "\n",
    "Here is the **prototype** of the **function definition** above."
   ]
  },
  {
   "cell_type": "code",
   "execution_count": 4,
   "metadata": {},
   "outputs": [],
   "source": [
    "void printStars(int n);"
   ]
  },
  {
   "cell_type": "markdown",
   "metadata": {},
   "source": [
    "Here are two more example function prototypes:"
   ]
  },
  {
   "cell_type": "code",
   "execution_count": 5,
   "metadata": {},
   "outputs": [],
   "source": [
    "// Prototypes\n",
    "bool isOdd(int x);\n",
    "bool isEven(int);"
   ]
  },
  {
   "cell_type": "markdown",
   "metadata": {},
   "source": [
    "Notice how inside the parameter list (between the parentheses), only the parameter types are required; the names of the parameters are optional.\n",
    "\n",
    "## Function definitions\n",
    "A function definition is a full specification of the function. \n",
    "\n",
    "Here are the definitions of these prototypes. Notice that *in Jupyter, each function definition has to be in a cell by itself with no code before or after it.* "
   ]
  },
  {
   "cell_type": "code",
   "execution_count": 6,
   "metadata": {},
   "outputs": [],
   "source": [
    "bool isOdd(int x){\n",
    "    return x % 2 != 0;\n",
    "}"
   ]
  },
  {
   "cell_type": "code",
   "execution_count": 7,
   "metadata": {},
   "outputs": [],
   "source": [
    "bool isEven(int x){\n",
    "    return !isOdd(x);\n",
    "}"
   ]
  },
  {
   "cell_type": "markdown",
   "metadata": {},
   "source": [
    "Take for example the above definition of the `isOdd` function. This definition consists of the following parts:\n",
    "* The type of the value returned by the function:\n",
    "\n",
    " `bool`\n",
    " \n",
    "* The name of the function:\n",
    "\n",
    " `isOdd`\n",
    " \n",
    "* The list of the function's expected parameters placed between `(` and `)`: \n",
    "\n",
    " `(int x)`\n",
    " \n",
    " Keep in mind that in functions definitions, both parameter types and names are required.\n",
    " \n",
    "* The body of the function placed between `{` and `}`:\n",
    "\n",
    " ```\n",
    " {\n",
    "    return x % 2 != 0;\n",
    " }\n",
    " ``` \n",
    "\n",
    " Always remember that **a function that is supposed to return a value must contain a `return` statement**. In other words, if the function's return type is not `void`, its body must have at least a single return statement."
   ]
  },
  {
   "cell_type": "markdown",
   "metadata": {},
   "source": [
    "### CODING CHALLENGE 1\n",
    "\n",
    "Write the **function prototypes** for the following two functions: one without parameter types only and one with both parameter types and names:\n",
    "\n",
    "``` C++\n",
    "bool isLessThan(double a, double b) {\n",
    "    return a < b;\n",
    "}\n",
    "\n",
    "\n",
    "float maximumOfThree(float a, float b, float c) {\n",
    "    if(a > b){\n",
    "        if(a > c){\n",
    "            return a;\n",
    "        } else {\n",
    "            return c;\n",
    "        }\n",
    "    } else {\n",
    "        if (b > c) {\n",
    "            return b;\n",
    "        } else {\n",
    "            return c;\n",
    "        }\n",
    "    }\n",
    "    \n",
    "}\n",
    "```"
   ]
  },
  {
   "cell_type": "code",
   "execution_count": 8,
   "metadata": {},
   "outputs": [],
   "source": [
    "//TODO"
   ]
  },
  {
   "cell_type": "markdown",
   "metadata": {},
   "source": [
    "## Calling functions\n",
    "Functions have to be called. A function that is never called is useless. We call functions by their names followed by zero or more comma-separated argument list within parentheses `()`. Doing so transfers control from the calling program to the function itself. This control will return back to the calling program when the end of the function is reached or when a `return` statement is encountered. Here are example calls to the functions we defined earlier. These functions are being called to figure out the type of a given number."
   ]
  },
  {
   "cell_type": "code",
   "execution_count": 9,
   "metadata": {},
   "outputs": [
    {
     "name": "stdout",
     "output_type": "stream",
     "text": [
      "  Number  Odd?  Even?\n",
      "      97     1      0\n",
      "      34     0      1\n"
     ]
    }
   ],
   "source": [
    "#include <iomanip>\n",
    "cout << setw(8) << \"Number\" << setw(6) << \"Odd?\"    << setw(7) << \"Even?\"    << endl;\n",
    "cout << setw(8) << 97       << setw(6) << isOdd(97) << setw(7) << isEven(97) << endl;\n",
    "cout << setw(8) << 34       << setw(6) << isOdd(34) << setw(7) << isEven(34) << endl;"
   ]
  },
  {
   "cell_type": "markdown",
   "metadata": {},
   "source": [
    "Another example function is one that takes two integers and returns the integer that is the minimum of the two. Here is the prototype of such a function."
   ]
  },
  {
   "cell_type": "code",
   "execution_count": 10,
   "metadata": {},
   "outputs": [],
   "source": [
    "int minimum(int x, int y);"
   ]
  },
  {
   "cell_type": "markdown",
   "metadata": {},
   "source": [
    "### CODING CHALLENGE 2\n",
    "\n",
    "In the below code cell, write the definition of the `minimum` function above. In the code cell next to that, write a `cout` statement that calls the `minimum` function to print which of the following two numbers is minimum: 46, or 38"
   ]
  },
  {
   "cell_type": "code",
   "execution_count": 11,
   "metadata": {},
   "outputs": [],
   "source": [
    "//TODO: Function definition"
   ]
  },
  {
   "cell_type": "code",
   "execution_count": 12,
   "metadata": {},
   "outputs": [],
   "source": [
    "//TODO: Call this function to find the minimum of 46 and 38"
   ]
  },
  {
   "cell_type": "markdown",
   "metadata": {},
   "source": [
    "### Another example\n",
    "Here is another example function for converting weights from pounds to kilograms, starting with the function prototype."
   ]
  },
  {
   "cell_type": "code",
   "execution_count": 13,
   "metadata": {},
   "outputs": [],
   "source": [
    "double lbs2kgs(double);"
   ]
  },
  {
   "cell_type": "markdown",
   "metadata": {},
   "source": [
    "And here is this function's definition."
   ]
  },
  {
   "cell_type": "code",
   "execution_count": 14,
   "metadata": {},
   "outputs": [],
   "source": [
    "double lbs2kgs(double pounds){\n",
    "  double kilograms =  0.453592 * pounds;\n",
    "  return kilograms;\n",
    "}"
   ]
  },
  {
   "cell_type": "markdown",
   "metadata": {},
   "source": [
    "Notice that any variable defined inside a function is called a **local variable**; it only exists within that function. For example, the variable `kilograms` is a local variable of the `lbs2kgs` function and so is the variable `pounds`. Both exist only inside the `lbs2kgs` function and cannot be used outside of it. In other words, their **scope** is local and limited to the function that defines them.\n",
    "\n",
    "Now we can call this function."
   ]
  },
  {
   "cell_type": "code",
   "execution_count": 15,
   "metadata": {},
   "outputs": [
    {
     "name": "stdout",
     "output_type": "stream",
     "text": [
      "Enter weight in pounds:\n",
      "75.0\n",
      "Weight in kilograms: 34.0194\n"
     ]
    }
   ],
   "source": [
    "double lbs, kgs;\n",
    "\n",
    "cout << \"Enter weight in pounds:\\n\"; cin >> lbs;\n",
    "kgs = lbs2kgs(lbs);\n",
    "cout << \"Weight in kilograms: \" << kgs << endl;"
   ]
  },
  {
   "cell_type": "markdown",
   "metadata": {},
   "source": [
    "### CODING CHALLENGE 3\n",
    "\n",
    "In the code cell below, write the prototype of a function named `kgs2lbs` that converts kilograms into pounds. In the next code cell after that, write the definition of this function. In the next code cell after that, write some c++ code that will test your `kgs2lbs` function just like we did in the example above."
   ]
  },
  {
   "cell_type": "code",
   "execution_count": 16,
   "metadata": {},
   "outputs": [],
   "source": [
    "// TODO: function prototype"
   ]
  },
  {
   "cell_type": "code",
   "execution_count": 17,
   "metadata": {},
   "outputs": [],
   "source": [
    "// TODO: function definition"
   ]
  },
  {
   "cell_type": "code",
   "execution_count": 18,
   "metadata": {},
   "outputs": [],
   "source": [
    "// TODO: testing the function"
   ]
  },
  {
   "cell_type": "markdown",
   "metadata": {},
   "source": [
    "## Passing arguments/parameters to functions\n",
    "In C++, arguments/parameters can be passed to a function in one of three ways: \n",
    "1. **By value** which creates copies of the passed data and passes those copies to the function. This protects the original arguments from being changed inside the function.\n",
    "2. **By reference** which uses references to pass the original arguments to the function. These original arguments can now be changed inside the function.\n",
    "3. **By pointer** which is similar to **by reference** in passing the original arguments to the function but uses pointers instead. We will cover this when we study **pointers**.\n",
    "\n",
    "The functions above used passing by value. Here is another example of passing by value, where a copy of the value of `n` is created and passed to the `incrementBy2` function."
   ]
  },
  {
   "cell_type": "code",
   "execution_count": 19,
   "metadata": {},
   "outputs": [],
   "source": [
    "int incrementBy2(int n){\n",
    "  return ++(++n);\n",
    "}"
   ]
  },
  {
   "cell_type": "code",
   "execution_count": 20,
   "metadata": {},
   "outputs": [
    {
     "name": "stdout",
     "output_type": "stream",
     "text": [
      "n = 15\n",
      "n = 17\n",
      "n = 15\n"
     ]
    }
   ],
   "source": [
    "int n = 15;\n",
    "\n",
    "cout << \"n = \" << n << endl;\n",
    "cout << \"n = \" << incrementBy2(n) << endl;\n",
    "cout << \"n = \" << n << endl;"
   ]
  },
  {
   "cell_type": "markdown",
   "metadata": {},
   "source": [
    "This function receives a copy of `n` which it increments twice but that does not affect the original `n`. \n",
    "\n",
    "To avoid copying big values when calling a function, **references** should be used.\n",
    "\n",
    "## References\n",
    "A reference is just another name or an alias for a variable. We use the ampersand `&` operator to define references which takes the form:\n",
    "\n",
    "``` c++\n",
    "<datatype>& <alias> = <variable>;\n",
    "```\n",
    "\n",
    "For example: "
   ]
  },
  {
   "cell_type": "code",
   "execution_count": 21,
   "metadata": {},
   "outputs": [],
   "source": [
    "int x = 9;\n",
    "int& y = x;"
   ]
  },
  {
   "cell_type": "markdown",
   "metadata": {},
   "source": [
    "`y` is a reference or another name for `x`.  That means `y` is pointing to the same location of memory as `x` and by changing `y`, `x` automatically changes."
   ]
  },
  {
   "cell_type": "code",
   "execution_count": 22,
   "metadata": {
    "scrolled": true
   },
   "outputs": [
    {
     "name": "stdout",
     "output_type": "stream",
     "text": [
      "17"
     ]
    }
   ],
   "source": [
    "y = 17;\n",
    "cout << x;"
   ]
  },
  {
   "cell_type": "markdown",
   "metadata": {},
   "source": [
    "References are meant to be a safer and better alternative to pointers; they have the following properties which make them safe to use:\n",
    "* Once created, they cannot be changed; in other words, they cannot be made to reference other variables; and \n",
    "* They cannot be `null`.\n",
    "\n",
    "Because of these properties, they are commonly used for giving functions access to the original values of their parameters without copying them. This is called **passing arguments by reference**, which is faster and more efficient than **passing by value**. \n",
    "\n",
    "Here is an example of passing arguments **by reference**. Notice the use of ampersands `&` after the arguments' data types."
   ]
  },
  {
   "cell_type": "code",
   "execution_count": 23,
   "metadata": {},
   "outputs": [],
   "source": [
    "// Prototype\n",
    "void swapValues(int&, int&);"
   ]
  },
  {
   "cell_type": "code",
   "execution_count": 24,
   "metadata": {},
   "outputs": [],
   "source": [
    "// Definition\n",
    "void swapValues(int& n, int& m){\n",
    "  int o = n;\n",
    "  n = m;\n",
    "  m = o;\n",
    "}"
   ]
  },
  {
   "cell_type": "markdown",
   "metadata": {},
   "source": [
    "Let's decompose the above function definition into its parts:\n",
    "\n",
    "* The type of the value returned by the function:\n",
    "\n",
    " `void`\n",
    " \n",
    "* The name of the function:\n",
    "\n",
    " `swapValues`\n",
    " \n",
    "* The list of the function's expected parameters placed between `(` and `)`: \n",
    "\n",
    " `(int& n, int& m)`\n",
    " \n",
    " This function expects two integer parameters passed to it by reference.\n",
    " \n",
    "* The body of the function placed between `{` and `}`:\n",
    "\n",
    " ```\n",
    "   {\n",
    "      int o = n;\n",
    "      n = m;\n",
    "      m = o;\n",
    "   }\n",
    " ``` \n",
    "\n",
    " This function being a `void`-returning function does not need a return statement. The function will automatically return when it reaches the `}` at the and."
   ]
  },
  {
   "cell_type": "code",
   "execution_count": 25,
   "metadata": {},
   "outputs": [
    {
     "name": "stdout",
     "output_type": "stream",
     "text": [
      "a = 10, b = 15\n",
      "a = 15, b = 10\n"
     ]
    }
   ],
   "source": [
    "// Testing\n",
    "int a = 10;\n",
    "int b = 15;\n",
    "\n",
    "cout << \"a = \" << a << \", b = \" << b << endl;\n",
    "swapValues(a, b);\n",
    "cout << \"a = \" << a << \", b = \" << b << endl;"
   ]
  },
  {
   "cell_type": "markdown",
   "metadata": {},
   "source": [
    "## Overloaded functions\n",
    "C++ allows multiple functions to have the same name as long as their signatures are different or unique. In other words, functions can have the same name as long as they are different in either the kinds of arguments they take or the number of arguments they take. We call functions with the same name as others **overloaded functions**. \n",
    "\n",
    "Here are examples of overloaded functions where the only difference is in the kinds of their arguments. \n",
    "\n",
    "``` c++\n",
    "void swapValues(int&, int&);\n",
    "void swapValues(double&, double&);\n",
    "```\n",
    "\n",
    "And here are other overloaded functions taking a different number of arguments.\n",
    "\n",
    "``` c++\n",
    "int findMax(int, int);\n",
    "int findMax(int, int, int);\n",
    "```\n",
    "\n",
    "### CODING CHALLENGE 4\n",
    "\n",
    "In the code cell below, define the following function.\n",
    "``` c++\n",
    "void swapValues(double&, double&);\n",
    "```\n",
    "\n",
    "In the next cell after that, test your function."
   ]
  },
  {
   "cell_type": "code",
   "execution_count": 26,
   "metadata": {},
   "outputs": [],
   "source": [
    "//TODO: definition"
   ]
  },
  {
   "cell_type": "code",
   "execution_count": 27,
   "metadata": {},
   "outputs": [],
   "source": [
    "//TODO: testing"
   ]
  }
 ],
 "metadata": {
  "kernelspec": {
   "display_name": "C++14",
   "language": "C++14",
   "name": "xcpp14"
  },
  "language_info": {
   "codemirror_mode": "text/x-c++src",
   "file_extension": ".cpp",
   "mimetype": "text/x-c++src",
   "name": "c++",
   "version": "14"
  }
 },
 "nbformat": 4,
 "nbformat_minor": 2
}
