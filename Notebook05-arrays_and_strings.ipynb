{
  "cells": [
    {
      "cell_type": "markdown",
      "metadata": {
        "id": "Jcv8j2MeqrPo"
      },
      "source": [
        "<a target=\"_blank\" href=\"https://colab.research.google.com/github/WSU-CS1410-AA/cs1410-notebooks/blob/main/Notebook05-arrays_and_strings.ipynb\">\n",
        "  <img src=\"https://colab.research.google.com/assets/colab-badge.svg\" alt=\"Open In Colab\"/>\n",
        "</a>"
      ]
    },
    {
      "cell_type": "markdown",
      "metadata": {
        "id": "ZHB-xS8dqrPv"
      },
      "source": [
        "# Arrays\n",
        "\n",
        "In the real world, we often group values of the same type into lists or arrays. A classroom, for example, can be thought of as an array of students, a study major as an array of courses, and a text message as an array of characters. The indivitual elements in these arrays are accessed by their ordered places (or indices) in these arrays.\n",
        "\n",
        "C++ allows us to define arrays using the square brackets `[]`. These arrays are also called **c-style arrays**; C++ inherited them from C. Here are some examples.\n",
        "\n",
        "```cpp\n",
        "int oddNumbers[10];  // an array of 10 numbers\n",
        "double bets[100];    // an array of 100 bets\n",
        "string tweets[12];   // an array of 12 tweets\n",
        "```\n"
      ]
    },
    {
      "cell_type": "markdown",
      "metadata": {
        "id": "i-K-C0-MqrPx"
      },
      "source": [
        "In all of these definitions, one must specify the size of the array (the number of elements in it) ahead of time. This is why these arrays are described as **static**; their size must be known before they are created. In other words, the compiler must know exactly how many elements are there before the program runs. And once an array is defined, its size is set, and it cannot be made bigger or smaller.\n",
        "\n",
        "If you know what the values of the array are going to be, you can put them separated by commas inside curly braces and use them to initialize the array.\n",
        "\n",
        "```cpp\n",
        "int primesUnder10[4] = {2, 3, 5, 7};\n",
        "char letterGrades[] {'A', 'B', 'C', 'D', 'E'};\n",
        "string days[] {  // as of C++11, the = is not required.\n",
        "    \"sun\", \"mon\", \"tue\",\n",
        "    \"wed\", \"thu\", \"fri\", \"sat\"\n",
        "};\n",
        "```"
      ]
    },
    {
      "cell_type": "markdown",
      "metadata": {
        "id": "nsMisHrUqrPy"
      },
      "source": [
        "Notice that the size of the array is not needed when the array is initialized using a brace-enclosed comma-separated list of values. This is because the C++ compiler will be able to get its size by counting the supplied values.\n",
        "\n",
        "### CODING CHALLENGE 1\n",
        "Define the following arrays:"
      ]
    },
    {
      "cell_type": "code",
      "execution_count": 1,
      "metadata": {
        "id": "ANZESXw5qrPy",
        "colab": {
          "base_uri": "https://localhost:8080/"
        },
        "outputId": "a1e24ac4-2044-4134-a4f7-4f17982694ab"
      },
      "outputs": [
        {
          "output_type": "stream",
          "name": "stdout",
          "text": [
            "Writing ch01.cpp\n"
          ]
        }
      ],
      "source": [
        "%%writefile ch01.cpp\n",
        "\n",
        "int main(){\n",
        "  //TODO: define an integer array named evenNumbers and initialize it to the even numbers between 5 and 25.\n",
        "\n",
        "\n",
        "  //TODO: define a double array named scores and initialize it to 10 random decimals between 1 and 100.\n",
        "\n",
        "\n",
        "  return 0;\n",
        "}"
      ]
    },
    {
      "cell_type": "markdown",
      "metadata": {
        "id": "RLEoeK3WqrPy"
      },
      "source": [
        "## Accessing individual elements\n",
        "\n",
        "To access an individual element inside an array, we use **zero-based indexing**. This means that every element in the array is given an index integer starting with 0 for the first element, 1 for the second element, and so on."
      ]
    },
    {
      "cell_type": "code",
      "execution_count": 2,
      "metadata": {
        "id": "RCyCOkT9qrPz",
        "outputId": "6ac4a5fb-0d41-4a6d-aa92-34a3096e6050",
        "colab": {
          "base_uri": "https://localhost:8080/"
        }
      },
      "outputs": [
        {
          "output_type": "stream",
          "name": "stdout",
          "text": [
            "Writing ex01.cpp\n"
          ]
        }
      ],
      "source": [
        "%%writefile ex01.cpp\n",
        "\n",
        "#include <iostream>\n",
        "#include <iomanip>\n",
        "#include <string>\n",
        "\n",
        "using namespace std;\n",
        "\n",
        "int main(){\n",
        "  int primes[] { 2, 3, 5, 7 };\n",
        "\n",
        "  cout << primes[0] << endl; // first element\n",
        "  cout << primes[3] << endl; // fourth element\n",
        "\n",
        "  char grades[] { 'A', 'B', 'C', 'F'};\n",
        "  cout << grades[2] << endl;\n",
        "  cout << grades[1] << endl;\n",
        "\n",
        "  // cout << grades[7] << endl;\n",
        "\n",
        "  return 0;\n",
        "}"
      ]
    },
    {
      "cell_type": "code",
      "source": [
        "!g++ -std=c++17 ex01.cpp -o ex01\n",
        "!./ex01"
      ],
      "metadata": {
        "id": "LOeONAAKsd5n",
        "outputId": "c0c7d9c3-618b-4d62-d0f5-c2137838c073",
        "colab": {
          "base_uri": "https://localhost:8080/"
        }
      },
      "execution_count": 3,
      "outputs": [
        {
          "output_type": "stream",
          "name": "stdout",
          "text": [
            "2\n",
            "7\n",
            "C\n",
            "B\n"
          ]
        }
      ]
    },
    {
      "cell_type": "markdown",
      "metadata": {
        "id": "I7SqXv_vqrP0"
      },
      "source": [
        "Keep in mind that accessing an element outside the bounds of an array is risky. Unfortunately, C++ does not prevent this. Uncomment the last `cout` statement in the program above to observe what happens when accessing beyond the elements of an array."
      ]
    },
    {
      "cell_type": "markdown",
      "metadata": {
        "id": "4QcEnMjnqrP1"
      },
      "source": [
        "## Iterating over arrays\n",
        "\n",
        "Using indices allows us to iterate over the elements of an array. For example, the following `for` loop displays the elements of the `days` array side by side with their indices (using `setw`, of course)."
      ]
    },
    {
      "cell_type": "code",
      "execution_count": 4,
      "metadata": {
        "id": "RTcvhZR2qrP1",
        "outputId": "b9a78cf5-0829-4c82-c9b0-e2ec79a0f34e",
        "colab": {
          "base_uri": "https://localhost:8080/"
        }
      },
      "outputs": [
        {
          "output_type": "stream",
          "name": "stdout",
          "text": [
            "Writing ex02.cpp\n"
          ]
        }
      ],
      "source": [
        "%%writefile ex02.cpp\n",
        "\n",
        "#include <iostream>\n",
        "#include <iomanip>\n",
        "#include <string>\n",
        "\n",
        "using namespace std;\n",
        "\n",
        "int main(){\n",
        "  string days[] {  // as of C++11, the = is not required.\n",
        "    \"sun\", \"mon\", \"tue\",\n",
        "    \"wed\", \"thu\", \"fri\", \"sat\"\n",
        "  };\n",
        "\n",
        "  cout << setw(3) << \"Day\" << setw(8) << \"Index\" << endl;\n",
        "  cout << \"===========\" << endl;\n",
        "  for (int i = 0; i < 7; i++) {\n",
        "      cout << setw(3) << days[i] << setw(8) << i << endl;\n",
        "  }\n",
        "\n",
        "    return 0;\n",
        "}"
      ]
    },
    {
      "cell_type": "code",
      "source": [
        "!g++ -std=c++17 ex02.cpp -o ex02\n",
        "!./ex02"
      ],
      "metadata": {
        "id": "k1Fkb_qVuTWH",
        "outputId": "9e09d1c6-e940-4e74-b0aa-6b86efa1b17c",
        "colab": {
          "base_uri": "https://localhost:8080/"
        }
      },
      "execution_count": 5,
      "outputs": [
        {
          "output_type": "stream",
          "name": "stdout",
          "text": [
            "Day   Index\n",
            "===========\n",
            "sun       0\n",
            "mon       1\n",
            "tue       2\n",
            "wed       3\n",
            "thu       4\n",
            "fri       5\n",
            "sat       6\n"
          ]
        }
      ]
    },
    {
      "cell_type": "markdown",
      "metadata": {
        "id": "9Ps7qZqoqrP1"
      },
      "source": [
        "It is important to remember here that these c-style arrays don't remember their own sizes. In other words, you cannot get the size of a c-style array such as the `days` array above from its name the way you can in Java. That is why we hardcoded the array size `7` in the loop above."
      ]
    },
    {
      "cell_type": "markdown",
      "source": [
        "## CODING CHALLENGE 2\n",
        "\n",
        "Copy the program above to the code cell below and replace the `for` loop with a `while` loop. The program should still work the same."
      ],
      "metadata": {
        "id": "UXxmbkhuu2Cy"
      }
    },
    {
      "cell_type": "code",
      "execution_count": 6,
      "metadata": {
        "id": "lsNc2yZzqrP2",
        "colab": {
          "base_uri": "https://localhost:8080/"
        },
        "outputId": "82baa532-e9e8-4422-9bfb-9088b6e09503"
      },
      "outputs": [
        {
          "output_type": "stream",
          "name": "stdout",
          "text": [
            "Writing ch02.cpp\n"
          ]
        }
      ],
      "source": [
        "%%writefile ch02.cpp\n",
        "\n",
        "// TODO"
      ]
    },
    {
      "cell_type": "code",
      "source": [
        "!g++ -std=c++17 ch02.cpp -o ch02\n",
        "!./ch02"
      ],
      "metadata": {
        "id": "1dbkmA2rz0ls",
        "colab": {
          "base_uri": "https://localhost:8080/"
        },
        "outputId": "7bda683b-ded6-49df-fa74-aaf52e043503"
      },
      "execution_count": 7,
      "outputs": [
        {
          "output_type": "stream",
          "name": "stdout",
          "text": [
            "/usr/bin/ld: /usr/lib/gcc/x86_64-linux-gnu/11/../../../x86_64-linux-gnu/Scrt1.o: in function `_start':\n",
            "(.text+0x1b): undefined reference to `main'\n",
            "collect2: error: ld returned 1 exit status\n",
            "/bin/bash: line 1: ./ch02: No such file or directory\n"
          ]
        }
      ]
    },
    {
      "cell_type": "markdown",
      "metadata": {
        "id": "u1ksGucGqrP2"
      },
      "source": [
        "## The range-based `for` loop\n",
        "\n",
        "To simplify iterating over arrays, C++11 introduced the range-based `for` loop, which is similar to  Java's enhanced for loop. Unlike the \"regular\" `for` loop, it does not use indices. It takes the form:\n",
        "\n",
        "```cpp\n",
        "for (<datatype> <variable> : <array>) {\n",
        "  <statement(s)>\n",
        "}\n",
        "```\n",
        "Here is how simple it is to iterate over the `days` array from the `ex01.cpp` program above. You can read it as **\"for each day element in the array days do something\"**\n",
        "\n",
        "```cpp\n",
        "for (string day : days) {\n",
        "  cout << \"Day of week: \" << day << endl;\n",
        "}\n",
        "```"
      ]
    },
    {
      "cell_type": "markdown",
      "metadata": {
        "id": "W7xpsnI6qrP3"
      },
      "source": [
        "## Arrays of structures\n",
        "Structures can also be grouped into arrays. Given the structures:\n",
        "\n",
        "```cpp\n",
        "struct Date {\n",
        "   int day;\n",
        "   int month;\n",
        "   int year;\n",
        "};\n",
        "\n",
        "struct Event {\n",
        "   Date from;\n",
        "   Date to;\n",
        "   string name;\n",
        "};\n",
        "```"
      ]
    },
    {
      "cell_type": "markdown",
      "metadata": {
        "id": "e-3VeGDVqrP3"
      },
      "source": [
        "We can define an array of 15 events like this:\n",
        "\n",
        "```cpp\n",
        "Event events[15];\n",
        "```"
      ]
    },
    {
      "cell_type": "markdown",
      "metadata": {
        "id": "WgpI3MkrqrP3"
      },
      "source": [
        "And we can even use brace-enclosed comma-separated lists to define and initialize arrays of structures like this:\n",
        "\n",
        "```cpp\n",
        "Event trips[] = {\n",
        "    { {20, 6, 2019}, {26, 6, 2019}, \"Visit to DC\" },\n",
        "    { {13, 8, 2019}, {21, 8, 2019}, \"Trip to Europe\"}\n",
        "};\n",
        "```"
      ]
    },
    {
      "cell_type": "markdown",
      "metadata": {
        "id": "HuKsNeVJqrP4"
      },
      "source": [
        "How do we display these events in a table like this using the range-based `for` loop?\n",
        "\n",
        "| FROM      | TO        | TRIP           |\n",
        "| --------- | --------- | -------------- |\n",
        "| 6/20/2019 | 6/26/2019 | Visit to DC    |\n",
        "| 8/13/2019 | 8/21/2019 | Trip to Europe |"
      ]
    },
    {
      "cell_type": "markdown",
      "metadata": {
        "id": "VP3tNHjnqrP4"
      },
      "source": [
        "Well! Here is one way of doing this. Notice how the example program manually inserts spaces in multiple places to make sure the output looks like a table."
      ]
    },
    {
      "cell_type": "code",
      "execution_count": 8,
      "metadata": {
        "id": "y5UnaLPoqrP5",
        "outputId": "30c257c2-eacf-4eee-ca41-032f71d3523d",
        "colab": {
          "base_uri": "https://localhost:8080/"
        }
      },
      "outputs": [
        {
          "output_type": "stream",
          "name": "stdout",
          "text": [
            "Writing ex03.cpp\n"
          ]
        }
      ],
      "source": [
        "%%writefile ex03.cpp\n",
        "\n",
        "#include <iostream>\n",
        "#include <iomanip>\n",
        "#include <string>\n",
        "\n",
        "using namespace std;\n",
        "\n",
        "struct Date {\n",
        "  int day;\n",
        "  int month;\n",
        "  int year;\n",
        "};\n",
        "\n",
        "struct Event {\n",
        "  Date from;\n",
        "  Date to;\n",
        "  string name;\n",
        "};\n",
        "\n",
        "int main() {\n",
        "  Event trips[] = {\n",
        "    { {20, 6, 2019}, {26, 6, 2019}, \"Visit to DC\" },\n",
        "    { {13, 8, 2019}, {21, 8, 2019}, \"Trip to Europe\"}\n",
        "  };\n",
        "\n",
        "  cout << setw(10) << \"FROM\"  << setw(12) << \"TO\" <<  \"  TRIP\" << endl;\n",
        "  cout << \"------------------------------------------------\" << endl;\n",
        "  for(Event e : trips){\n",
        "      cout << setw(2) << e.from.month << '/' << setw(2) << e.from.day << '/' << e.from.year << \"  \"\n",
        "           << setw(2) << e.to.month   << '/' << setw(2) << e.to.day   << '/' << e.to.year  << \"  \"\n",
        "          << e.name << endl;\n",
        "  }\n",
        "\n",
        "  return 0;\n",
        "}"
      ]
    },
    {
      "cell_type": "code",
      "source": [
        "!g++ -std=c++17 ex03.cpp -o ex03\n",
        "!./ex03"
      ],
      "metadata": {
        "id": "JcJMtGjB8YeO",
        "outputId": "7d2d91e4-7e41-4b18-f5dc-deb47ee4a759",
        "colab": {
          "base_uri": "https://localhost:8080/"
        }
      },
      "execution_count": 9,
      "outputs": [
        {
          "output_type": "stream",
          "name": "stdout",
          "text": [
            "      FROM          TO  TRIP\n",
            "------------------------------------------------\n",
            " 6/20/2019   6/26/2019  Visit to DC\n",
            " 8/13/2019   8/21/2019  Trip to Europe\n"
          ]
        }
      ]
    },
    {
      "cell_type": "markdown",
      "metadata": {
        "id": "YRrS7WWsqrP5"
      },
      "source": [
        "## CODING CHALLENGE 3\n",
        "Using the above `Date` structure, define and initialize an array of five dates of your choosing and then use the range-based `for` loop to print these dates."
      ]
    },
    {
      "cell_type": "code",
      "execution_count": 10,
      "metadata": {
        "id": "r8XfzCGFqrP5",
        "colab": {
          "base_uri": "https://localhost:8080/"
        },
        "outputId": "c8f1d434-a206-44fd-8d3b-19f8f98b4e6d"
      },
      "outputs": [
        {
          "output_type": "stream",
          "name": "stdout",
          "text": [
            "Writing ch03.cpp\n"
          ]
        }
      ],
      "source": [
        "%%writefile ch03.cpp\n",
        "\n",
        "// TODO"
      ]
    },
    {
      "cell_type": "code",
      "source": [
        "!g++ -std=c++17 ch03.cpp -o ch03\n",
        "!./ch03"
      ],
      "metadata": {
        "id": "fD9XkgPF-2k5",
        "colab": {
          "base_uri": "https://localhost:8080/"
        },
        "outputId": "ed91b21e-8a30-4813-d18c-c6923accd7e6"
      },
      "execution_count": 11,
      "outputs": [
        {
          "output_type": "stream",
          "name": "stdout",
          "text": [
            "/usr/bin/ld: /usr/lib/gcc/x86_64-linux-gnu/11/../../../x86_64-linux-gnu/Scrt1.o: in function `_start':\n",
            "(.text+0x1b): undefined reference to `main'\n",
            "collect2: error: ld returned 1 exit status\n",
            "/bin/bash: line 1: ./ch03: No such file or directory\n"
          ]
        }
      ]
    },
    {
      "cell_type": "markdown",
      "metadata": {
        "id": "uSi7ZR9RqrP6"
      },
      "source": [
        "## Generating random numbers:\n",
        "Before C++11, we relied on the C function `rand()` from `<cstdlib>` to generate random numbers. C++11 changes that by providing a dedicated `<random>` header file, which hugely improves our ability to generate all sorts of random numbers. Using the `<random>` header file involves working with two fundamental notions:\n",
        "\n",
        "- **Engines**: An engine is an object generating a uniformly distributed sequence of integers.\n",
        "- **Distributions**: A distribution is a function object that takes the sequence of integers produced by the engine and generates a sequence of values according to the mathematical formula of that distribution.\n",
        "\n",
        "Say, for instance, we want to generate 30 random integers between 75 and 100. We start by including the `<random>` header file. Then we define two objects: an engine and a distribution.\n",
        "\n",
        "Let's build this program a step by step."
      ]
    },
    {
      "cell_type": "code",
      "execution_count": 12,
      "metadata": {
        "id": "r019OuEHqrP7",
        "outputId": "f6ac653b-8f76-49ff-cd84-a05f2e14ecab",
        "colab": {
          "base_uri": "https://localhost:8080/"
        }
      },
      "outputs": [
        {
          "output_type": "stream",
          "name": "stdout",
          "text": [
            "Writing ex04.cpp\n"
          ]
        }
      ],
      "source": [
        "%%writefile ex04.cpp\n",
        "\n",
        "#include <iostream>\n",
        "#include <random>\n",
        "using namespace std;\n",
        "\n",
        "default_random_engine en;\n",
        "uniform_int_distribution<> dist{75,100};\n",
        "\n",
        "int main() {"
      ]
    },
    {
      "cell_type": "markdown",
      "metadata": {
        "id": "EFoSOe2vqrP7"
      },
      "source": [
        "The `dist` (the random distribution) is a **function object**. That means it can be called like a function. Using `en` and `dist`, we can now generate the desired random numbers."
      ]
    },
    {
      "cell_type": "code",
      "execution_count": 13,
      "metadata": {
        "id": "w7E-EiNoqrP7",
        "outputId": "2dd0b4e4-1583-41f5-aad0-215dfd801504",
        "colab": {
          "base_uri": "https://localhost:8080/"
        }
      },
      "outputs": [
        {
          "output_type": "stream",
          "name": "stdout",
          "text": [
            "Appending to ex04.cpp\n"
          ]
        }
      ],
      "source": [
        "%%writefile -a ex04.cpp\n",
        "\n",
        "for(int i = 0; i < 30; i++) {\n",
        "  cout << dist(en);\n",
        "  if(i < 29) {\n",
        "      cout << \",\";\n",
        "  }\n",
        "}"
      ]
    },
    {
      "cell_type": "markdown",
      "metadata": {
        "id": "IeJnXBeiqrP7"
      },
      "source": [
        "Notice how `en` is passed as an argument to the function object `dist`. Here is another example simulating the experiment of flipping 10 coins."
      ]
    },
    {
      "cell_type": "code",
      "execution_count": 14,
      "metadata": {
        "id": "j999LNVVqrP8",
        "outputId": "e10aec7b-4f1d-40e5-9056-923ec9832cc5",
        "colab": {
          "base_uri": "https://localhost:8080/"
        }
      },
      "outputs": [
        {
          "output_type": "stream",
          "name": "stdout",
          "text": [
            "Appending to ex04.cpp\n"
          ]
        }
      ],
      "source": [
        "%%writefile -a ex04.cpp\n",
        "\n",
        "  uniform_int_distribution<> r{0, 1};\n",
        "  int results[] = {0, 0};\n",
        "  for(int i = 0; i < 10; i++){\n",
        "    results[r(en)]++;\n",
        "  }\n",
        "  // Display the results histogram\n",
        "  cout << \"\\n\\n\";\n",
        "  for(int i = 0; i < 2; i++){\n",
        "    if(i == 1) cout << \"H: \";\n",
        "    else cout << \"T: \";\n",
        "    cout << string(results[i], '*')\n",
        "        << endl;\n",
        "  }\n",
        "\n",
        "  return 0;\n",
        "}"
      ]
    },
    {
      "cell_type": "code",
      "source": [
        "!g++ -std=c++17 ex04.cpp -o ex04\n",
        "!./ex04"
      ],
      "metadata": {
        "id": "9jWtO4Wo_vMe",
        "outputId": "04681a92-4f4c-4796-c589-7ad2d15e517d",
        "colab": {
          "base_uri": "https://localhost:8080/"
        }
      },
      "execution_count": 15,
      "outputs": [
        {
          "output_type": "stream",
          "name": "stdout",
          "text": [
            "75,78,94,86,88,80,76,92,92,99,84,88,96,75,76,88,92,75,84,76,85,92,90,99,97,88,77,92,85,93\n",
            "\n",
            "T: ****\n",
            "H: ******\n"
          ]
        }
      ]
    },
    {
      "cell_type": "markdown",
      "metadata": {
        "id": "fc3VucVyqrP8"
      },
      "source": [
        "As you can see, calling `r(en)` allows us to generate a random number that is 0\n",
        "\n",
        "*   List item\n",
        "*   List item\n",
        "\n",
        "or 1 (since `r` is defined with the range $[0,1]$. In this example, `0` is interpreted as heads and `1` as tails. We store the counts of heads and tails in an array named `results` with only two elements: one for how many heads and the other for how many tails.\n",
        "\n",
        "And because the random numbers (0 and 1) match the indexes of the array `results`, we are able to use the increment expression `results[r(en)]++` to record the results as the loop of the experiment continues.\n",
        "\n",
        "Notice that the expression `results[r(en)]++` is equivalent to something like:\n",
        "\n",
        "```cpp\n",
        "int n = r(en);\n",
        "if(n == 0){\n",
        "    results[0] = results[0] + 1;\n",
        "} else {\n",
        "    results[1] = results[1] + 1;\n",
        "}\n",
        "\n",
        "```\n",
        "\n",
        "Finally, the expression `string(results[i], '*')` returns a string with as many `*` as the value of `results[i]`. This is what is used to display the bars of the results' histogram."
      ]
    },
    {
      "cell_type": "markdown",
      "source": [
        "## C++ arrays\n",
        "C++ provides onther way of defining fixed-sized arrays: using the `std::array` class from the `<array>` header file. Once defined, these fixed-size arrays are very similar to the C-style arrays we saw above.\n",
        "\n",
        "Here is an example fixed-sized C++ array of the first 10 prime numbers:"
      ],
      "metadata": {
        "id": "T_iu3YeaA0f4"
      }
    },
    {
      "cell_type": "code",
      "execution_count": 16,
      "metadata": {
        "id": "feCc6_j5qrP8",
        "colab": {
          "base_uri": "https://localhost:8080/"
        },
        "outputId": "eeae3128-9b15-40ba-8d0b-545ce8c1c02f"
      },
      "outputs": [
        {
          "output_type": "stream",
          "name": "stdout",
          "text": [
            "Writing ex05.cpp\n"
          ]
        }
      ],
      "source": [
        "%%writefile ex05.cpp\n",
        "\n",
        "#include <iostream>\n",
        "#include <array>\n",
        "\n",
        "using namespace std;\n",
        "\n",
        "int main() {\n",
        "  array<int, 10> primes10 = { 2, 3, 5, 7, 11, 13, 17, 19, 23, 29 };"
      ]
    },
    {
      "cell_type": "markdown",
      "metadata": {
        "id": "ZCPxMo5rqrP8"
      },
      "source": [
        "where `int` is the data type of the elements of this array and `10` is the size of this array. Having this array, we can use it just like any C-style array. We can access its elements using zero-based indices, for instance. Here is the first, third, and tenth elements."
      ]
    },
    {
      "cell_type": "code",
      "execution_count": 17,
      "metadata": {
        "id": "ZRQy1D-GqrP8",
        "outputId": "9568f09e-19ca-428d-f539-1edabef1fbc2",
        "colab": {
          "base_uri": "https://localhost:8080/"
        }
      },
      "outputs": [
        {
          "output_type": "stream",
          "name": "stdout",
          "text": [
            "Appending to ex05.cpp\n"
          ]
        }
      ],
      "source": [
        "%%writefile -a ex05.cpp\n",
        "\n",
        "cout << primes10[0] << endl\n",
        "     << primes10[2] << endl\n",
        "     << primes10[9] << endl;"
      ]
    },
    {
      "cell_type": "markdown",
      "metadata": {
        "id": "IMJsS9nDqrP9"
      },
      "source": [
        "And we can iterate over its elements using a `for` loop:"
      ]
    },
    {
      "cell_type": "code",
      "execution_count": 18,
      "metadata": {
        "id": "iH94XVZzqrP9",
        "outputId": "f11ede89-96b1-4d9d-b20c-8fec1c4b4c09",
        "colab": {
          "base_uri": "https://localhost:8080/"
        }
      },
      "outputs": [
        {
          "output_type": "stream",
          "name": "stdout",
          "text": [
            "Appending to ex05.cpp\n"
          ]
        }
      ],
      "source": [
        "%%writefile -a ex05.cpp\n",
        "\n",
        "for(int i = 0; i < primes10.size(); i++){\n",
        "  cout << primes10[i] << \"  \";\n",
        "}\n",
        "\n",
        "cout << endl;"
      ]
    },
    {
      "cell_type": "markdown",
      "metadata": {
        "id": "0EcQqqUJqrP9"
      },
      "source": [
        "The loop above shows something these C++ arrays have that their C-style counterparts don't have. They remeber their own sizes. This is is why the above loop does not hardcode the array size; instead it is able to get it using the expression `primes10.size()`. You cannot do that with C-style arrays.\n",
        "\n",
        "We can also use the range-based `for` loop to iterate over the elements of this array."
      ]
    },
    {
      "cell_type": "code",
      "execution_count": 19,
      "metadata": {
        "id": "EEbRELEIqrP9",
        "outputId": "6a31650b-2563-48e7-be6c-42251e4f0b33",
        "colab": {
          "base_uri": "https://localhost:8080/"
        }
      },
      "outputs": [
        {
          "output_type": "stream",
          "name": "stdout",
          "text": [
            "Appending to ex05.cpp\n"
          ]
        }
      ],
      "source": [
        "  %%writefile -a ex05.cpp\n",
        "\n",
        "    for(int p : primes10){\n",
        "        cout << p << \"  \";\n",
        "    }\n",
        "\n",
        "    return 0;\n",
        "  }"
      ]
    },
    {
      "cell_type": "markdown",
      "source": [
        "Let's compile and run the program we put together."
      ],
      "metadata": {
        "id": "QMD0noI9Iv1I"
      }
    },
    {
      "cell_type": "code",
      "source": [
        "!g++ -std=c++17 ex05.cpp -o ex05\n",
        "!./ex05"
      ],
      "metadata": {
        "colab": {
          "base_uri": "https://localhost:8080/"
        },
        "id": "amVezp0OI5b4",
        "outputId": "2a9ba1aa-312f-4377-cbce-6189123fdcfb"
      },
      "execution_count": 20,
      "outputs": [
        {
          "output_type": "stream",
          "name": "stdout",
          "text": [
            "2\n",
            "5\n",
            "29\n",
            "2  3  5  7  11  13  17  19  23  29  \n",
            "2  3  5  7  11  13  17  19  23  29  "
          ]
        }
      ]
    },
    {
      "cell_type": "markdown",
      "metadata": {
        "id": "JYVSIaYxqrP9"
      },
      "source": [
        "## Vectors\n",
        "\n",
        "Arrays in C++ are **static**; their sizes must be known ahead of time, and once created, they cannot be re-sized. For **dynamic** arrays, C++ provides vectors.\n",
        "\n",
        "Like arrays, a vector is simply a sequence of elements you access by indexing. Unlike arrays, vectors are dynamic; they expand and shrink as needed, and their size need not be known ahead of time.\n",
        "\n",
        "To use vector,\n",
        "* include the `<vector>` header file.\n",
        "* define a vector variable whose data type is the standard class template  `vector` followed by the angle brackets `<>` with the data type of the elements in between.\n",
        "\n",
        "Here is an example vector of integers. Again, we will build a program a step by step:"
      ]
    },
    {
      "cell_type": "code",
      "execution_count": 21,
      "metadata": {
        "id": "P4oCfP0OqrP-",
        "colab": {
          "base_uri": "https://localhost:8080/"
        },
        "outputId": "ca73e6c3-d7da-4354-9ef9-407f8e971b8d"
      },
      "outputs": [
        {
          "output_type": "stream",
          "name": "stdout",
          "text": [
            "Writing ex06.cpp\n"
          ]
        }
      ],
      "source": [
        "%%writefile ex06.cpp\n",
        "\n",
        "#include <iostream>\n",
        "#include <vector>\n",
        "\n",
        "using namespace std;\n",
        "\n",
        "int main() {\n",
        "  vector<int> numbers;"
      ]
    },
    {
      "cell_type": "markdown",
      "metadata": {
        "id": "DMrE_w1zqrP-"
      },
      "source": [
        "We can now add elements to this vector using the `push_back` function."
      ]
    },
    {
      "cell_type": "code",
      "execution_count": 22,
      "metadata": {
        "scrolled": true,
        "id": "uA6nW7GhqrP-",
        "outputId": "13657318-b491-41a4-c05a-942b67c5948d",
        "colab": {
          "base_uri": "https://localhost:8080/"
        }
      },
      "outputs": [
        {
          "output_type": "stream",
          "name": "stdout",
          "text": [
            "Appending to ex06.cpp\n"
          ]
        }
      ],
      "source": [
        "%%writefile -a ex06.cpp\n",
        "\n",
        "int input;\n",
        "\n",
        "cout << \"Enter integers (or any letter to stop): \";\n",
        "\n",
        "while(cin >> input){\n",
        "  numbers.push_back(input);\n",
        "}"
      ]
    },
    {
      "cell_type": "markdown",
      "metadata": {
        "id": "LLYweT_qqrP-"
      },
      "source": [
        "Having entered these numbers we can use the `at()` function within a `for` loop to iterate over the elements of this vector."
      ]
    },
    {
      "cell_type": "code",
      "execution_count": 23,
      "metadata": {
        "id": "dMdaP0e8qrP-",
        "outputId": "7a74b050-0a31-4501-d143-959907683fcd",
        "colab": {
          "base_uri": "https://localhost:8080/"
        }
      },
      "outputs": [
        {
          "output_type": "stream",
          "name": "stdout",
          "text": [
            "Appending to ex06.cpp\n"
          ]
        }
      ],
      "source": [
        "%%writefile -a ex06.cpp\n",
        "\n",
        "for(int i = 0; i < numbers.size(); i++){\n",
        "    cout << \"+ \" << numbers.at(i) << endl;\n",
        "}\n",
        "\n",
        "cout << endl;"
      ]
    },
    {
      "cell_type": "markdown",
      "metadata": {
        "id": "oIYXboywqrP_"
      },
      "source": [
        "or we could simply use the square brackets `[]` as if it was an array."
      ]
    },
    {
      "cell_type": "code",
      "execution_count": 24,
      "metadata": {
        "id": "qaSDADG9qrP_",
        "outputId": "935977a6-d2b9-4cc7-e3d0-502ec7603ba2",
        "colab": {
          "base_uri": "https://localhost:8080/"
        }
      },
      "outputs": [
        {
          "output_type": "stream",
          "name": "stdout",
          "text": [
            "Appending to ex06.cpp\n"
          ]
        }
      ],
      "source": [
        "%%writefile -a ex06.cpp\n",
        "\n",
        "for(int i = 0; i < numbers.size(); i++){\n",
        "  cout << \"- \" << numbers[i] << endl;\n",
        "}\n",
        "\n",
        "cout << endl;"
      ]
    },
    {
      "cell_type": "markdown",
      "metadata": {
        "id": "i5tUMtX9qrP_"
      },
      "source": [
        "We can also use the range-based `for` loop like this."
      ]
    },
    {
      "cell_type": "code",
      "execution_count": 25,
      "metadata": {
        "scrolled": false,
        "id": "IyS55dW5qrP_",
        "outputId": "bc3e1ca5-97f1-4963-a1cc-87352d3d85fb",
        "colab": {
          "base_uri": "https://localhost:8080/"
        }
      },
      "outputs": [
        {
          "output_type": "stream",
          "name": "stdout",
          "text": [
            "Appending to ex06.cpp\n"
          ]
        }
      ],
      "source": [
        "%%writefile -a ex06.cpp\n",
        "\n",
        "for(int n : numbers){\n",
        "  cout << \"* \" << n << endl;\n",
        "}\n",
        "\n",
        "cout << endl;"
      ]
    },
    {
      "cell_type": "markdown",
      "source": [
        "Let's compile and run this pieced-together program:"
      ],
      "metadata": {
        "id": "JLoFpoCOLWYj"
      }
    },
    {
      "cell_type": "code",
      "source": [
        "!g++ -std=c++17 ex06.cpp -o ex06\n",
        "!./ex06"
      ],
      "metadata": {
        "colab": {
          "base_uri": "https://localhost:8080/"
        },
        "id": "FxYW556ILVop",
        "outputId": "07e78aa2-e1a5-4bf3-d598-0bcd347e26cc"
      },
      "execution_count": 26,
      "outputs": [
        {
          "output_type": "stream",
          "name": "stdout",
          "text": [
            "\u001b[01m\u001b[Kex06.cpp:\u001b[m\u001b[K In function ‘\u001b[01m\u001b[Kint main()\u001b[m\u001b[K’:\n",
            "\u001b[01m\u001b[Kex06.cpp:34:14:\u001b[m\u001b[K \u001b[01;31m\u001b[Kerror: \u001b[m\u001b[Kexpected ‘\u001b[01m\u001b[K}\u001b[m\u001b[K’ at end of input\n",
            "   34 | cout << endl;\n",
            "      |              \u001b[01;31m\u001b[K^\u001b[m\u001b[K\n",
            "\u001b[01m\u001b[Kex06.cpp:7:12:\u001b[m\u001b[K \u001b[01;36m\u001b[Knote: \u001b[m\u001b[Kto match this ‘\u001b[01m\u001b[K{\u001b[m\u001b[K’\n",
            "    7 | int main() \u001b[01;36m\u001b[K{\u001b[m\u001b[K\n",
            "      |            \u001b[01;36m\u001b[K^\u001b[m\u001b[K\n",
            "/bin/bash: line 1: ./ex06: No such file or directory\n"
          ]
        }
      ]
    },
    {
      "cell_type": "markdown",
      "metadata": {
        "id": "dNOXhsfEqrP_"
      },
      "source": [
        "## CODING CHALLENGE 4\n",
        "Define a vector named `courses` and use the `push_back` function to enter the following courses into it:\n",
        "* CS1030\n",
        "* CS1400\n",
        "* CS1410\n",
        "* CS2420\n",
        "\n",
        "After that, use a `for` loop to iterate over and print these courses."
      ]
    },
    {
      "cell_type": "code",
      "execution_count": 27,
      "metadata": {
        "id": "pC5l6jZzqrP_",
        "colab": {
          "base_uri": "https://localhost:8080/"
        },
        "outputId": "0112c5c0-512b-4738-db63-4112a47fd9da"
      },
      "outputs": [
        {
          "output_type": "stream",
          "name": "stdout",
          "text": [
            "Writing ch04.cpp\n"
          ]
        }
      ],
      "source": [
        "%%writefile ch04.cpp\n",
        "\n",
        "//TODO"
      ]
    },
    {
      "cell_type": "code",
      "source": [
        "!g++ -std=c++17 ch04.cpp -o ch04\n",
        "!./ch04"
      ],
      "metadata": {
        "colab": {
          "base_uri": "https://localhost:8080/"
        },
        "id": "6l6XwLDMMHo6",
        "outputId": "f7ab9451-920d-43c0-a971-db4f6f46efbc"
      },
      "execution_count": 28,
      "outputs": [
        {
          "output_type": "stream",
          "name": "stdout",
          "text": [
            "/usr/bin/ld: /usr/lib/gcc/x86_64-linux-gnu/11/../../../x86_64-linux-gnu/Scrt1.o: in function `_start':\n",
            "(.text+0x1b): undefined reference to `main'\n",
            "collect2: error: ld returned 1 exit status\n",
            "/bin/bash: line 1: ./ch04: No such file or directory\n"
          ]
        }
      ]
    },
    {
      "cell_type": "markdown",
      "metadata": {
        "id": "FqgGCx8-qrP_"
      },
      "source": [
        "# Strings\n",
        "\n",
        "Most of the data our programs deal with comes in the form of text which is represented by strings. In C++ we use the standard class `string` from the `<string>` header file to define strings. Here are a few example strings:\n",
        "\n",
        "```c++\n",
        "#include <string>\n",
        "\n",
        "...\n",
        "\n",
        "string s1(\"Man\");\n",
        "string s2 = \"Beast\";\n",
        "string s3;\n",
        "```"
      ]
    },
    {
      "cell_type": "markdown",
      "metadata": {
        "id": "qSU6X-LeqrQA"
      },
      "source": [
        "In C++, srings support assignment:\n",
        "\n",
        "```cpp\n",
        "s3 = s1;\n",
        "cout << s3;\n",
        "```"
      ]
    },
    {
      "cell_type": "markdown",
      "metadata": {
        "id": "mhBMu3N2qrQA"
      },
      "source": [
        "And two strings can be concatenated using the `+` operator:\n",
        "\n",
        "```cpp\n",
        "s3 += \" and \" + s2;\n",
        "cout << s3;\n",
        "```"
      ]
    },
    {
      "cell_type": "markdown",
      "metadata": {
        "id": "NKXlyiL8qrQB"
      },
      "source": [
        "But the `+` operator can only be used to concatenate two strings. That means that it cannot be used to concatenate an integer to a string like we are used to in Java. The following statement will not compile.\n",
        "\n",
        "```cpp\n",
        "s3 += \" can be \" + 2 + \" dangerous.\"; // Error\n",
        "```"
      ]
    },
    {
      "cell_type": "markdown",
      "metadata": {
        "id": "xXsaAoqmqrQB"
      },
      "source": [
        "To fix the statement above, we have to convert the integer to a string first using the `to_string()` function:\n",
        "\n",
        "```cpp\n",
        "s3 += \" can be \" + to_string(2) + \" dangerous.\";\n",
        "cout << s3;\n",
        "```"
      ]
    },
    {
      "cell_type": "markdown",
      "metadata": {
        "id": "l-sscxvKqrQB"
      },
      "source": [
        "### CODING CHALLENGE 5\n",
        "* Define a string named  `message` and initialize it to \"Next general election year is\".\n",
        "* Define an integer called `year` and initialize it to 2020.\n",
        "* Define a string named `sentence`; no initialization.\n",
        "* Set `sentence` to the concatenation of `message` and `year`.\n",
        "* Print `sentence`."
      ]
    },
    {
      "cell_type": "code",
      "execution_count": 29,
      "metadata": {
        "id": "NZ1adDAZqrQB",
        "colab": {
          "base_uri": "https://localhost:8080/"
        },
        "outputId": "8ea63a38-4571-4422-80ed-521663a29d52"
      },
      "outputs": [
        {
          "output_type": "stream",
          "name": "stdout",
          "text": [
            "Writing ch05.cpp\n"
          ]
        }
      ],
      "source": [
        "%%writefile ch05.cpp\n",
        "\n",
        "#include <iostream>\n",
        "\n",
        "using namespace std;\n",
        "\n",
        "int main() {\n",
        "  // TODO\n",
        "\n",
        "  return 0;\n",
        "}"
      ]
    },
    {
      "cell_type": "code",
      "source": [
        "!g++ -std=c++17 ch05.cpp -o ch05\n",
        "!./ch05"
      ],
      "metadata": {
        "id": "qYYXIWmlNfLh"
      },
      "execution_count": 30,
      "outputs": []
    },
    {
      "cell_type": "markdown",
      "metadata": {
        "id": "lrxhxnDhqrQC"
      },
      "source": [
        "## Iterating over the characters of a string\n",
        "\n",
        "Given a string, we can use a for loop with either the at() function or the square brackets [] to iterate over the characters of this string. Note that the first character is at index 0. We could also use the range-based `for` loop for this. Here is an example:"
      ]
    },
    {
      "cell_type": "code",
      "execution_count": 31,
      "metadata": {
        "id": "2FSLR6F2qrQC",
        "colab": {
          "base_uri": "https://localhost:8080/"
        },
        "outputId": "80325d80-24fb-4052-8209-b76dc4230e95"
      },
      "outputs": [
        {
          "output_type": "stream",
          "name": "stdout",
          "text": [
            "Writing ex07.cpp\n"
          ]
        }
      ],
      "source": [
        "%%writefile ex07.cpp\n",
        "\n",
        "#include <iostream>\n",
        "#include <string>\n",
        "\n",
        "using namespace std;\n",
        "\n",
        "int main() {\n",
        "  string str = \"To be or not to be\";\n",
        "  for(int i = 0; i < str.length(); i++){\n",
        "    cout << i << '\\t' << str.at(i) << '\\t' << str[i] << endl;\n",
        "  }\n",
        "\n",
        "  cout << endl;\n",
        "\n",
        "  // Range-based loop\n",
        "  for(char c : str){\n",
        "    cout << c << \"  .  \";\n",
        "  }\n",
        "\n",
        "  return 0;\n",
        "}"
      ]
    },
    {
      "cell_type": "code",
      "source": [
        "!g++ -std=c++17 ex07.cpp -o ex07\n",
        "!./ex07"
      ],
      "metadata": {
        "colab": {
          "base_uri": "https://localhost:8080/"
        },
        "id": "Y_f_3LT4O1zt",
        "outputId": "c95b33ff-2195-41c5-8fee-e162fc449974"
      },
      "execution_count": 32,
      "outputs": [
        {
          "output_type": "stream",
          "name": "stdout",
          "text": [
            "0\tT\tT\n",
            "1\to\to\n",
            "2\t \t \n",
            "3\tb\tb\n",
            "4\te\te\n",
            "5\t \t \n",
            "6\to\to\n",
            "7\tr\tr\n",
            "8\t \t \n",
            "9\tn\tn\n",
            "10\to\to\n",
            "11\tt\tt\n",
            "12\t \t \n",
            "13\tt\tt\n",
            "14\to\to\n",
            "15\t \t \n",
            "16\tb\tb\n",
            "17\te\te\n",
            "\n",
            "T  .  o  .     .  b  .  e  .     .  o  .  r  .     .  n  .  o  .  t  .     .  t  .  o  .     .  b  .  e  .  "
          ]
        }
      ]
    },
    {
      "cell_type": "markdown",
      "metadata": {
        "id": "BrHAbQMuqrQD"
      },
      "source": [
        "## Reading strings from the keyboard\n",
        "While we can use `cin >>` to read a single-word string, it does not work for strings with more than one word separated by spaces or tabs. Try to enter a two- or three-word string for the first name field below. What happens?"
      ]
    },
    {
      "cell_type": "code",
      "execution_count": 33,
      "metadata": {
        "id": "ePKKNhCOqrQD",
        "outputId": "88f56a0c-663a-47a9-de81-dc315db728ba",
        "colab": {
          "base_uri": "https://localhost:8080/"
        }
      },
      "outputs": [
        {
          "output_type": "stream",
          "name": "stdout",
          "text": [
            "Writing ex08.cpp\n"
          ]
        }
      ],
      "source": [
        "%%writefile ex08.cpp\n",
        "\n",
        "#include <iostream>\n",
        "#include <string>\n",
        "\n",
        "using namespace std;\n",
        "\n",
        "int main() {\n",
        "  string id, first_name;\n",
        "\n",
        "  cout << \"Enter ID Number: \";\n",
        "  cin >> id;\n",
        "\n",
        "  cout << \"Enter First Name: \";\n",
        "  cin >> first_name;\n",
        "\n",
        "  cout << \"        ID: \" << id << endl\n",
        "       << \"FIRST NAME: \" << first_name << endl;\n",
        "\n",
        "  return 0;\n",
        "}"
      ]
    },
    {
      "cell_type": "code",
      "source": [
        "!g++ -std=c++17 ex08.cpp -o ex08\n",
        "!./ex08"
      ],
      "metadata": {
        "colab": {
          "base_uri": "https://localhost:8080/"
        },
        "id": "E5IjEPb1PM5T",
        "outputId": "f283f047-1f91-423b-c6ba-158de4e9dfa1"
      },
      "execution_count": 34,
      "outputs": [
        {
          "output_type": "stream",
          "name": "stdout",
          "text": [
            "Enter ID Number: 123987\n",
            "Enter First Name: John Doe\n",
            "        ID: 123987\n",
            "FIRST NAME: John\n"
          ]
        }
      ]
    },
    {
      "cell_type": "markdown",
      "metadata": {
        "id": "jZw1jC5kqrQD"
      },
      "source": [
        "So how do we read a multiword string from the keyword? The answer is to use the `getline()` function like this:"
      ]
    },
    {
      "cell_type": "code",
      "execution_count": 35,
      "metadata": {
        "id": "domkacyEqrQD",
        "outputId": "f0d6e6a3-4aaa-442b-e4b8-2a1a9c0085e4",
        "colab": {
          "base_uri": "https://localhost:8080/"
        }
      },
      "outputs": [
        {
          "output_type": "stream",
          "name": "stdout",
          "text": [
            "Writing ex09.cpp\n"
          ]
        }
      ],
      "source": [
        "%%writefile ex09.cpp\n",
        "\n",
        "#include <iostream>\n",
        "#include <string>\n",
        "\n",
        "using namespace std;\n",
        "\n",
        "int main() {\n",
        "  string id;\n",
        "  string full_name;\n",
        "\n",
        "  cout << \"Enter ID Number: \";\n",
        "  cin >> id;\n",
        "\n",
        "  cin.ignore(); // To read the line break at the end of the id before we read the full name\n",
        "  cout << \"Enter Full Name: \";\n",
        "  getline(cin, full_name);\n",
        "\n",
        "  cout << \"       ID: \" << id << endl\n",
        "       << \"FULL NAME: \" << full_name << endl;\n",
        "\n",
        "  return 0;\n",
        "}"
      ]
    },
    {
      "cell_type": "markdown",
      "source": [
        "Notice the use of `cin.ignore()`, which is used to read the line break after `id`."
      ],
      "metadata": {
        "id": "drXqh0CSPoed"
      }
    },
    {
      "cell_type": "code",
      "source": [
        "!g++ -std=c++17 ex09.cpp -o ex09\n",
        "!./ex09"
      ],
      "metadata": {
        "colab": {
          "base_uri": "https://localhost:8080/"
        },
        "id": "2JdYA-C4P3HU",
        "outputId": "bd0e70f8-16d8-4636-d203-2ef8f0a6373a"
      },
      "execution_count": 36,
      "outputs": [
        {
          "output_type": "stream",
          "name": "stdout",
          "text": [
            "Enter ID Number: 123987\n",
            "Enter Full Name: John Doe\n",
            "       ID: 123987\n",
            "FULL NAME: John Doe\n"
          ]
        }
      ]
    },
    {
      "cell_type": "markdown",
      "metadata": {
        "id": "U8u6WpKOqrQD"
      },
      "source": [
        "## CODING CHALLENGE 6\n",
        "\n",
        "Write a program that reads a student email and full name from the keyboard and print them to the screen in the following table-like format:\n",
        "\n",
        "| EMAIL               | NAME     |\n",
        "| ------------------- | -------- |\n",
        "| johndoe@example.com | John Doe |\n",
        "\n"
      ]
    },
    {
      "cell_type": "code",
      "execution_count": 37,
      "metadata": {
        "scrolled": true,
        "id": "A-N5jP0aqrQD",
        "colab": {
          "base_uri": "https://localhost:8080/"
        },
        "outputId": "e6aef888-22ab-47fd-f352-e71dffecdea4"
      },
      "outputs": [
        {
          "output_type": "stream",
          "name": "stdout",
          "text": [
            "Writing ch06.cpp\n"
          ]
        }
      ],
      "source": [
        "%%writefile ch06.cpp\n",
        "\n",
        "#include <iostream>\n",
        "#include <string>\n",
        "\n",
        "using namespace std;\n",
        "\n",
        "int main() {\n",
        "  // TODO\n",
        "\n",
        "  return 0;\n",
        "}"
      ]
    },
    {
      "cell_type": "code",
      "source": [
        "!g++ -std=c++17 ch06.cpp -o ch06\n",
        "!./ch06"
      ],
      "metadata": {
        "id": "EHHAAqeWQkfb"
      },
      "execution_count": 38,
      "outputs": []
    },
    {
      "cell_type": "markdown",
      "metadata": {
        "id": "bZUQz5_YqrQD"
      },
      "source": [
        "## Printing to memory using `stringstream`\n",
        "\n",
        "So far every time we want to print some output, we print it to the console screen using `cout`. What if we want to assemble the output in memory. In other words, what if we want to construct some output (a table for instance) in a piece by piece manner but not display it right away until it is fully completed. We can use the `stringstream` class from the `<sstream>` header file to do that. This allows us to build a large string one piece at a time.\n",
        "\n",
        "For example, previously we ran the following code:\n",
        "\n",
        "```c++\n",
        "cout << \"FROM      \"  << \"TO        \" << \"TRIP\" << endl;\n",
        "cout << \"-----------------------------------\" << endl;\n",
        "for(Event e : trips){\n",
        "    cout << e.from.month << '/' << e.from.day << '/' << e.from.year << \" \"\n",
        "         << e.to.month << '/' << e.to.day << '/' << e.to.year  << \" \"\n",
        "         << e.name << endl;\n",
        "}\n",
        "```\n",
        "\n",
        "to display a table like this:\n",
        "\n",
        "| FROM      | TO        | TRIP           |\n",
        "| --------- | --------- | -------------- |\n",
        "| 6/20/2019 | 6/26/2019 | Visit to DC    |\n",
        "| 8/13/2019 | 8/21/2019 | Trip to Europe |\n",
        "\n",
        "Here is how to put this table together in memory using `stringstream`.\n",
        "\n",
        "First, we need to include the `<sstream>` header file and define a `stringstream` variable or object. We'll name this object `sout`,  but it could be any valid identifier. Once defined, we can use `sout` in the same way we use `cout`."
      ]
    },
    {
      "cell_type": "code",
      "execution_count": 39,
      "metadata": {
        "id": "714v7Dp6qrQE",
        "colab": {
          "base_uri": "https://localhost:8080/"
        },
        "outputId": "bb8ec466-1eb9-4721-a591-28c710ec49b0"
      },
      "outputs": [
        {
          "output_type": "stream",
          "name": "stdout",
          "text": [
            "Writing ex10.cpp\n"
          ]
        }
      ],
      "source": [
        "%%writefile ex10.cpp\n",
        "\n",
        "#include <iostream>\n",
        "#include <sstream>\n",
        "#include <iomanip>\n",
        "\n",
        "using namespace std;\n",
        "\n",
        "struct Date {\n",
        "  int day;\n",
        "  int month;\n",
        "  int year;\n",
        "};\n",
        "\n",
        "struct Event {\n",
        "  Date from;\n",
        "  Date to;\n",
        "  string name;\n",
        "};\n",
        "\n",
        "int main() {\n",
        "  Event trips[] = {\n",
        "    { {20, 6, 2019}, {26, 6, 2019}, \"Visit to DC\" },\n",
        "    { {13, 8, 2019}, {21, 8, 2019}, \"Trip to Europe\"}\n",
        "  };\n",
        "\n",
        "  // Putting the out table together in memory\n",
        "  stringstream sout;\n",
        "  sout << setw(10) << \"FROM\"  << setw(12) << \"TO\" <<  \"  TRIP\" << endl;\n",
        "  sout << \"------------------------------------------------\" << endl;\n",
        "  for(Event e : trips){\n",
        "      sout << setw(2) << e.from.month << '/' << setw(2) << e.from.day << '/' << e.from.year << \"  \"\n",
        "           << setw(2) << e.to.month   << '/' << setw(2) << e.to.day   << '/' << e.to.year  << \"  \"\n",
        "           << e.name << endl;\n",
        "  }\n"
      ]
    },
    {
      "cell_type": "markdown",
      "metadata": {
        "id": "vM5bCZo4qrQE"
      },
      "source": [
        "Finally, let's save the contents of `sout` to a string using the `str()` function."
      ]
    },
    {
      "cell_type": "code",
      "execution_count": 42,
      "metadata": {
        "id": "x7f2mxAoqrQE",
        "colab": {
          "base_uri": "https://localhost:8080/"
        },
        "outputId": "3a90f9ad-e42b-44a9-e7d9-378b57967531"
      },
      "outputs": [
        {
          "output_type": "stream",
          "name": "stdout",
          "text": [
            "Appending to ex10.cpp\n"
          ]
        }
      ],
      "source": [
        "%%writefile -a ex10.cpp\n",
        "\n",
        "string dates = sout.str();"
      ]
    },
    {
      "cell_type": "markdown",
      "metadata": {
        "id": "bwM317WjqrQE"
      },
      "source": [
        "To see what was printed to memory, print the `dates` string."
      ]
    },
    {
      "cell_type": "code",
      "execution_count": 43,
      "metadata": {
        "id": "ZXqvMO9sqrQE",
        "outputId": "a6b84b9a-c277-46ab-c77a-a4f8b6324afa",
        "colab": {
          "base_uri": "https://localhost:8080/"
        }
      },
      "outputs": [
        {
          "output_type": "stream",
          "name": "stdout",
          "text": [
            "Appending to ex10.cpp\n"
          ]
        }
      ],
      "source": [
        "%%writefile -a ex10.cpp\n",
        "\n",
        "  cout << dates;\n",
        "\n",
        "  return 0;\n",
        "}"
      ]
    },
    {
      "cell_type": "markdown",
      "source": [
        "Let's compile and run this program:"
      ],
      "metadata": {
        "id": "1Fjs6HXeSnzT"
      }
    },
    {
      "cell_type": "code",
      "source": [
        "!g++ -std=c++17 ex10.cpp -o ex10\n",
        "!./ex10"
      ],
      "metadata": {
        "colab": {
          "base_uri": "https://localhost:8080/"
        },
        "id": "5ZwulQl7SsV7",
        "outputId": "90908135-b4eb-46f0-bec5-bacf60e7b987"
      },
      "execution_count": 44,
      "outputs": [
        {
          "output_type": "stream",
          "name": "stdout",
          "text": [
            "      FROM          TO  TRIP\n",
            "------------------------------------------------\n",
            " 6/20/2019   6/26/2019  Visit to DC\n",
            " 8/13/2019   8/21/2019  Trip to Europe\n"
          ]
        }
      ]
    },
    {
      "cell_type": "markdown",
      "metadata": {
        "id": "wlNbDXM7qrQF"
      },
      "source": [
        "## CODING CHALLENGE 7\n",
        "Define a `stringstream` object named `smsg` and use it to print the following:\n",
        "* The string \"Next general election year is\"\n",
        "* The space ` ` character\n",
        "* The integer 2020\n",
        "* The period `.` character\n",
        "\n",
        "Save the contents of `smsg` to a string named `m_str` and print it to the screen (using `cout`)."
      ]
    },
    {
      "cell_type": "code",
      "execution_count": 47,
      "metadata": {
        "id": "j4J-mPMhqrQF",
        "colab": {
          "base_uri": "https://localhost:8080/"
        },
        "outputId": "d9180bf6-db18-4c75-9bf4-6717d0be6a12"
      },
      "outputs": [
        {
          "output_type": "stream",
          "name": "stdout",
          "text": [
            "Overwriting ch07.cpp\n"
          ]
        }
      ],
      "source": [
        "%%writefile ch07.cpp\n",
        "// TODO\n",
        "int main() {\n",
        "  // TODO\n",
        "\n",
        "  return 0;\n",
        "}"
      ]
    },
    {
      "cell_type": "code",
      "source": [
        "!g++ -std=c++17 ch07.cpp -o ch07\n",
        "!./ch07"
      ],
      "metadata": {
        "id": "Pfj539-QS_eN"
      },
      "execution_count": 48,
      "outputs": []
    },
    {
      "cell_type": "markdown",
      "metadata": {
        "id": "qZ7cwyPBqrQF"
      },
      "source": [
        "## Text-based menus using the `switch` statement\n",
        "One application of the `switch` statement is to create text-based menus which were prevalent before Windows. The idea is to keep displaying the menu options over and over again until the **quit** option is selected. When that happens, the program is terminated. When another option is selected, the action attached to that option is executed, and the menu is displayed again.\n",
        "\n",
        "Here is an example program that prompts the user to enter a distance in kilometers and gives the following conversion options in a text-based menu format:\n",
        "* a. Convert to meters\n",
        "* b. Convert to feet\n",
        "* c. Convert to inches\n",
        "* q. Quit program\n",
        "\n",
        "Notice that:\n",
        "* Meters = kilometers * 1000\n",
        "* Feet = kilometers * 3280.84\n",
        "* Inches = kilometers * 39370.08"
      ]
    },
    {
      "cell_type": "code",
      "execution_count": 49,
      "metadata": {
        "id": "rub6sUgbqrQF",
        "outputId": "dd06e7ad-4ef7-47c6-afea-f10ef4e95b0b",
        "colab": {
          "base_uri": "https://localhost:8080/"
        }
      },
      "outputs": [
        {
          "output_type": "stream",
          "name": "stdout",
          "text": [
            "Writing ex11.cpp\n"
          ]
        }
      ],
      "source": [
        "%%writefile ex11.cpp\n",
        "\n",
        "#include <iostream>\n",
        "\n",
        "using namespace std;\n",
        "\n",
        "int main() {\n",
        "  char choice;\n",
        "\n",
        "  do {\n",
        "    cout << \"UNIT CONVERSION TEXT-BASED MENU\" << endl\n",
        "         <<\"===============================\" << endl\n",
        "         << \"a. Convert kilometers to meters\" << endl\n",
        "         << \"b. Convert kilometers to feet\" << endl\n",
        "         << \"c. Convert kilometers to inches\" << endl\n",
        "         << \"q. Quit program\\n\" << endl\n",
        "         << \"\\nEnter your choice:\" << endl;\n",
        "\n",
        "    // Reading a single character using the scanner\n",
        "    cin >> choice;\n",
        "\n",
        "    double kilometers;\n",
        "\n",
        "    switch(choice) {\n",
        "    case 'a': case 'A':\n",
        "      cout << \"Enter distance in kilometers:\" << endl;\n",
        "      cin >> kilometers;\n",
        "      cout << \"\\n\\nMeters = \" << kilometers * 1000 << endl << endl;\n",
        "      break;\n",
        "    case 'b': case 'B':\n",
        "      cout << \"Enter distance in kilometers:\" << endl;\n",
        "      cin >> kilometers;\n",
        "      cout << \"\\n\\nFeet = \" << kilometers * 3280.84 << endl << endl;\n",
        "      break;\n",
        "    case 'c': case 'C':\n",
        "      cout << \"Enter distance in kilometers:\" << endl;\n",
        "      cin >> kilometers;\n",
        "      cout << \"\\n\\nInches = \" << kilometers * 39370.08 << endl << endl;\n",
        "      break;\n",
        "    case 'q': case 'Q':\n",
        "      cout << \"Good bye\\n\" << endl;\n",
        "      break;\n",
        "    default:\n",
        "      cout << \"Invalid choice\\n\" << endl;\n",
        "    }\n",
        "  } while(choice != 'q');\n",
        "\n",
        "  return 0;\n",
        "}"
      ]
    },
    {
      "cell_type": "code",
      "source": [
        "!g++ -std=c++17 ex11.cpp -o ex11\n",
        "!./ex11"
      ],
      "metadata": {
        "colab": {
          "base_uri": "https://localhost:8080/"
        },
        "id": "UuutmYRATZzF",
        "outputId": "f7bf079c-1505-40d4-d52f-5eb45b090f2c"
      },
      "execution_count": 50,
      "outputs": [
        {
          "output_type": "stream",
          "name": "stdout",
          "text": [
            "UNIT CONVERSION TEXT-BASED MENU\n",
            "===============================\n",
            "a. Convert kilometers to meters\n",
            "b. Convert kilometers to feet\n",
            "c. Convert kilometers to inches\n",
            "q. Quit program\n",
            "\n",
            "\n",
            "Enter your choice:\n",
            "a\n",
            "Enter distance in kilometers:\n",
            "1600\n",
            "\n",
            "\n",
            "Meters = 1.6e+06\n",
            "\n",
            "UNIT CONVERSION TEXT-BASED MENU\n",
            "===============================\n",
            "a. Convert kilometers to meters\n",
            "b. Convert kilometers to feet\n",
            "c. Convert kilometers to inches\n",
            "q. Quit program\n",
            "\n",
            "\n",
            "Enter your choice:\n",
            "b\n",
            "Enter distance in kilometers:\n",
            "1600\n",
            "\n",
            "\n",
            "Feet = 5.24934e+06\n",
            "\n",
            "UNIT CONVERSION TEXT-BASED MENU\n",
            "===============================\n",
            "a. Convert kilometers to meters\n",
            "b. Convert kilometers to feet\n",
            "c. Convert kilometers to inches\n",
            "q. Quit program\n",
            "\n",
            "\n",
            "Enter your choice:\n",
            "c\n",
            "Enter distance in kilometers:\n",
            "45\n",
            "\n",
            "\n",
            "Inches = 1.77165e+06\n",
            "\n",
            "UNIT CONVERSION TEXT-BASED MENU\n",
            "===============================\n",
            "a. Convert kilometers to meters\n",
            "b. Convert kilometers to feet\n",
            "c. Convert kilometers to inches\n",
            "q. Quit program\n",
            "\n",
            "\n",
            "Enter your choice:\n",
            "q\n",
            "Good bye\n",
            "\n"
          ]
        }
      ]
    }
  ],
  "metadata": {
    "kernelspec": {
      "display_name": "Python 3",
      "name": "python3"
    },
    "language_info": {
      "name": "python"
    },
    "colab": {
      "provenance": [],
      "toc_visible": true
    }
  },
  "nbformat": 4,
  "nbformat_minor": 0
}