{
 "cells": [
  {
   "cell_type": "markdown",
   "metadata": {},
   "source": [
    "# Structures\n",
    "So far we have seen simple data types representing single value-ed data. For example, `int` is a data type representing individual integer values such as 6, 89, and 100. The same can be said about the simple types:\n",
    "* `char` representing individual characters such as `'@'` and `'Z'`;\n",
    "* `short` and `long` representing special types of integers with individual values such as `12S`, and `876L`;\n",
    "* `float` or `double` representing individual floating-point numbers (numbers with fractions) such as `5.4F` and `523.17`.\n",
    "* `bool` representing the individual boolean values of `true` or `false`.\n",
    "\n",
    "Most of the data we deal with is, however, composite; it contains complex values that are made out of multiple simpler values of either the same type or of different types. C++ gives us two main ways to create new composite data types out of other simpler types: **structures** and **classes**. These types represent **structured values** which are composite (complex) values made from simpler values. This notebook covers structures; classes will be covered later on.\n",
    "\n",
    "Structures are meant to help us achieve a better organization of our data (or variables) by grouping relative variables together to form or create new bigger data types in a meaningful way. \n",
    "\n",
    "For example, a date can be thought of as a composite of three simple integers: year, month, and day. We can capture that idea by having a structure like this:"
   ]
  },
  {
   "cell_type": "code",
   "execution_count": 1,
   "metadata": {},
   "outputs": [],
   "source": [
    "struct Date {\n",
    "  int day;\n",
    "  int month;\n",
    "  int year;\n",
    "};"
   ]
  },
  {
   "cell_type": "markdown",
   "metadata": {},
   "source": [
    "By combining these three integers (day, month, and year which we now call data members) together we create a new kind of data type named `Date`, which we can use to create date variables.\n",
    "\n",
    "Notice in the example above that all the data members (day, month, and year) are of the same data type. We can have structures with data members of different data types. Here is an example structure representing distances (in feet and inches). Here the `feet` data member is `int` while the `inches` data member is `double`."
   ]
  },
  {
   "cell_type": "code",
   "execution_count": 2,
   "metadata": {},
   "outputs": [],
   "source": [
    "struct Distance {\n",
    "  int feet;\n",
    "  double inches;\n",
    "};"
   ]
  },
  {
   "cell_type": "markdown",
   "metadata": {},
   "source": [
    "And we can even nest structures: define them in terms of other sub-structures. For example, we can define a structure capturing the distance measurements of a room in a house by having a structure with two `Distance` data types: length and width."
   ]
  },
  {
   "cell_type": "code",
   "execution_count": 3,
   "metadata": {},
   "outputs": [],
   "source": [
    "struct Room {\n",
    "  Distance length;\n",
    "  Distance width;\n",
    "};"
   ]
  },
  {
   "cell_type": "markdown",
   "metadata": {},
   "source": [
    "### CODING CHALLENGE 1\n",
    "Define a structure that represents time which is a combination of three integers: hour, minute, and second."
   ]
  },
  {
   "cell_type": "code",
   "execution_count": 4,
   "metadata": {},
   "outputs": [],
   "source": [
    "//TODO"
   ]
  },
  {
   "cell_type": "markdown",
   "metadata": {},
   "source": [
    "Define a structure that represents a student's information in a college admission system. Use the following data members: id (integer), first_name (string), last_name (string), and birth_date (use the above Date structure). "
   ]
  },
  {
   "cell_type": "code",
   "execution_count": 5,
   "metadata": {},
   "outputs": [],
   "source": [
    "//TODO"
   ]
  },
  {
   "cell_type": "markdown",
   "metadata": {},
   "source": [
    "## Using structures\n",
    "Once we have a structure defined. we can use it to define structure variables (or objects) in the same way we used basic data types (`int`, `char`, `double`, `bool`, etc). That use we use the patter: \n",
    "\n",
    "``` C++\n",
    "  <structure-name> <variable-name>;\n",
    "```\n",
    "\n",
    "Here is an example `Date` object named `dob`."
   ]
  },
  {
   "cell_type": "code",
   "execution_count": 6,
   "metadata": {},
   "outputs": [],
   "source": [
    "Date dob;"
   ]
  },
  {
   "cell_type": "markdown",
   "metadata": {},
   "source": [
    "Similarly, here other example object definitions using the structures we defined earlier:"
   ]
  },
  {
   "cell_type": "code",
   "execution_count": 7,
   "metadata": {},
   "outputs": [],
   "source": [
    "Distance roomLength, roomWidth;\n",
    "Room living;"
   ]
  },
  {
   "cell_type": "markdown",
   "metadata": {},
   "source": [
    "Optionally we can initialize structured objects at the time of defining them by providing initial values in two ways:\n",
    "\n",
    "\n",
    "``` c++\n",
    "  <structure-name> <variable-name> = { <comma-separated-initial-values> };\n",
    "```\n",
    "\n",
    "or\n",
    "\n",
    "``` c++\n",
    "  <structure-name> <variable-name> { <comma-separated-initial-values> };\n",
    "```\n",
    "\n",
    "This is similar to how we initialize integer, boolean, character, or double variables. The only difference is that, here we have multiple initial values since we have multiple data members to initialize. \n",
    "\n",
    "Here is an example Date object representing Martin Luther King Jr. day for the year of 2019"
   ]
  },
  {
   "cell_type": "code",
   "execution_count": 8,
   "metadata": {},
   "outputs": [],
   "source": [
    "Date mlk_day = { 15, 1, 2019 };"
   ]
  },
  {
   "cell_type": "markdown",
   "metadata": {},
   "source": [
    "It's important to remember here that these initial values are assigned to the data members in the order they show up in the structure. Since the `Date` object is defined as:\n",
    "```C++\n",
    "struct Date {\n",
    "  int day;\n",
    "  int month;\n",
    "  int year;\n",
    "};\n",
    "```\n",
    "the above `mlk_day` object will have its day initialized to 15, its month to 1, and its year to 2019.\n",
    "\n",
    "Here is an initialized Distance object named `truckLength`"
   ]
  },
  {
   "cell_type": "code",
   "execution_count": 9,
   "metadata": {},
   "outputs": [],
   "source": [
    "Distance truckLength { 12, .5 };"
   ]
  },
  {
   "cell_type": "markdown",
   "metadata": {},
   "source": [
    "Again the `feet` member of `truckLength` is initialized to 12 and the `inches` member to .5.\n",
    "\n",
    "**What about nested structures? How do you initialize them?** Well, we follow the same pattern and use nested braces. For example, here is an initialized `Room` object named `bedroom`:"
   ]
  },
  {
   "cell_type": "code",
   "execution_count": 10,
   "metadata": {},
   "outputs": [],
   "source": [
    "Room bedroom  { { 12, 4.0 }, { 16, 0.0 } };"
   ]
  },
  {
   "cell_type": "markdown",
   "metadata": {},
   "source": [
    "Knowing that the `Room` structure is defined as:\n",
    "\n",
    "```C++\n",
    "struct Room {\n",
    "  Distance length;\n",
    "  Distance width;\n",
    "};\n",
    "```\n",
    "\n",
    "In the above `bedroom` example, the `length` data member is initialed to `{ 12, 4.0 }` ( 12 feet and 4.0 inches) and the `width` member is initialized to `{ 16, 0.0 }` (16 feet and 0.0 inches). "
   ]
  },
  {
   "cell_type": "markdown",
   "metadata": {},
   "source": [
    "### The dot operator\n",
    "To access the individual data members of these structure objects, we use the **dot operator**. Given the above date object `mlk_day`, for example, we can use the pattern:\n",
    "\n",
    "```C++\n",
    "<object-name>.<data-member-name>\n",
    "```\n",
    "to access the data members of this object and print them in the familiar `Month/Day/Year` format like this:"
   ]
  },
  {
   "cell_type": "code",
   "execution_count": 11,
   "metadata": {},
   "outputs": [
    {
     "name": "stdout",
     "output_type": "stream",
     "text": [
      "1/15/2019"
     ]
    }
   ],
   "source": [
    "#include <iostream>\n",
    "using namespace std;\n",
    "\n",
    "cout << mlk_day.month << '/' <<  mlk_day.day << '/' << mlk_day.year;"
   ]
  },
  {
   "cell_type": "markdown",
   "metadata": {},
   "source": [
    "We can also use the dot operator to set values for an object. For example, we can set the values of the day, month, and year members of the previously defined `dob` object by doing something like this."
   ]
  },
  {
   "cell_type": "code",
   "execution_count": 12,
   "metadata": {},
   "outputs": [],
   "source": [
    "dob.day = 27;\n",
    "dob.month = 8;\n",
    "dob.year = 2021;"
   ]
  },
  {
   "cell_type": "markdown",
   "metadata": {},
   "source": [
    "And for complex nested structures like `Room` where we have substructures (like `Distance`), we can use multiple dot operators like this:"
   ]
  },
  {
   "cell_type": "code",
   "execution_count": 13,
   "metadata": {},
   "outputs": [
    {
     "name": "stdout",
     "output_type": "stream",
     "text": [
      "Bedroom measurements: \n",
      "  length = 12' 4\"\n",
      "  width = 16' 0\"\n"
     ]
    }
   ],
   "source": [
    "cout << \"Bedroom measurements: \" << endl\n",
    "     << \"  length = \" << bedroom.length.feet << \"' \" << bedroom.length.inches << '\"' << endl\n",
    "     << \"  width = \" << bedroom.width.feet << \"' \" << bedroom.width.inches << '\"' << endl;"
   ]
  },
  {
   "cell_type": "markdown",
   "metadata": {},
   "source": [
    "### CODING CHALLENGE 2\n",
    "\n",
    "Use the next three code cells to define three structure variables, initialize them to the given values, and print their values."
   ]
  },
  {
   "cell_type": "code",
   "execution_count": 14,
   "metadata": {},
   "outputs": [],
   "source": [
    "// TODO: define a date variable named 'today' and initialize it to today's values.\n",
    "\n",
    "\n",
    "// TODO: print the values of this variable.\n",
    "\n"
   ]
  },
  {
   "cell_type": "code",
   "execution_count": 15,
   "metadata": {},
   "outputs": [],
   "source": [
    "// TODO: define a time variable named 'noon' and initialize it to time 12:00:00. Use the\n",
    "//       Time structure you created for the previous CODING CHALLENGE. \n",
    "\n",
    "\n",
    "// TODO: print the values of this variable.\n",
    "\n"
   ]
  },
  {
   "cell_type": "code",
   "execution_count": 16,
   "metadata": {},
   "outputs": [],
   "source": [
    "// TODO: define a distance variable named 'height' and initialize it to 10 feet and 7.5 inches.\n",
    "\n",
    "\n",
    "// TODO: print the values of this variable.\n",
    "\n"
   ]
  },
  {
   "cell_type": "markdown",
   "metadata": {},
   "source": [
    "# Enumerations\n",
    "Often times, we have variables that can take only a limited number of values. Think, for example, about days which can only be Sunday through Saturday. The same goes for months (January through December), letter grades (A through E), directions (east, west, north, south), and so on. \n",
    "\n",
    "C++ gives us the ability to enumerate these possible values (so that the compiler knows about them) and use them in your program. Here is the definition of an example enumeration named `DayOfWeek` listing all seven days of the week:"
   ]
  },
  {
   "cell_type": "code",
   "execution_count": 17,
   "metadata": {},
   "outputs": [],
   "source": [
    "enum DayOfWeek {\n",
    " SUN, MON, TUE, WED, THU, FRI, SAT\n",
    "};"
   ]
  },
  {
   "cell_type": "markdown",
   "metadata": {},
   "source": [
    "Each of these enumerated values (SUN through SAT) will be assigned an integer. By default, the compiler will start with 0 and assign it to the first enumerated SUN value, then 1 for MON, 2 for TUE, and so on.\n",
    "\n",
    "Now we can use this enumeration as a data type to define a day variable like this:"
   ]
  },
  {
   "cell_type": "code",
   "execution_count": 18,
   "metadata": {},
   "outputs": [],
   "source": [
    "DayOfWeek tomorrow = WED;"
   ]
  },
  {
   "cell_type": "markdown",
   "metadata": {},
   "source": [
    "And if we print the value of `tomorrow`:"
   ]
  },
  {
   "cell_type": "code",
   "execution_count": 19,
   "metadata": {},
   "outputs": [
    {
     "name": "stdout",
     "output_type": "stream",
     "text": [
      "Tomorrow is: 3\n"
     ]
    }
   ],
   "source": [
    "cout << \"Tomorrow is: \" << tomorrow << endl;"
   ]
  },
  {
   "cell_type": "markdown",
   "metadata": {},
   "source": [
    "We see the value `3` being the value assigned to `WED` by the compiler by default. If we want to tell the compiler what integers to assign enumerated values or  what integer to start with, we can do something like this (to tell the compiler to start by assigning 1 to SUN):"
   ]
  },
  {
   "cell_type": "code",
   "execution_count": 20,
   "metadata": {
    "scrolled": true
   },
   "outputs": [],
   "source": [
    "enum CustomDayOfWeek {\n",
    " SUN = 1, MON, TUE, WED, THU, FRI, SAT\n",
    "};"
   ]
  },
  {
   "cell_type": "markdown",
   "metadata": {},
   "source": [
    "Here will MON will the be assigned the next integer after SUN which is 2, TUE will be 3, and so on.\n",
    "\n",
    "Notice here that the enumerated values (SUN through SAT) defined in the `CustomDayOfWeek` enumeration are the same names defined in the `DayOfWeek` enumeration. This can confuse the compiler. To see that, uncomment the following to create a variable of this new enumeration and print its value."
   ]
  },
  {
   "cell_type": "code",
   "execution_count": 21,
   "metadata": {},
   "outputs": [],
   "source": [
    "// CustomDayOfWeek a_day = WED;\n",
    "// cout << \"A day is: \" << a_day << endl;"
   ]
  },
  {
   "cell_type": "markdown",
   "metadata": {},
   "source": [
    "Are you getting the `error: reference to 'WED' is ambiguous` error? Why?\n",
    "\n",
    "It turns out that using the value `WED`, confuses the compiler because it does not know whether you meant `WED` from `DayOfWeek` or `WED` from `CustomDayOfWeek`. There are two ways to fix that:\n",
    "* either be specific and use the resolution operator `::` to fully qualify the enumerated values we are using. For example, you can redefine the above `a_day` and print it as follows (Notice the use of `CustomDayOfWeek::WED` instead of just `WED`): "
   ]
  },
  {
   "cell_type": "code",
   "execution_count": 22,
   "metadata": {},
   "outputs": [
    {
     "name": "stdout",
     "output_type": "stream",
     "text": [
      "A day is: 4\n"
     ]
    }
   ],
   "source": [
    "CustomDayOfWeek a_day = CustomDayOfWeek::WED;\n",
    "cout << \"A day is: \" << a_day << endl;"
   ]
  },
  {
   "cell_type": "markdown",
   "metadata": {},
   "source": [
    "* or use **scoped enumerations** which is what I recommend."
   ]
  },
  {
   "cell_type": "markdown",
   "metadata": {},
   "source": [
    "## Scoped enumerations\n",
    "To deal with the above ambiguity problem, C++11 introduced **scoped enumerations** which are the same as the above C-style enumerations, except that we'll always have to use the resolution operator `::` with their values. Here is how we define a scoped enumeration for days of the week. Notice the keyword `class` right after enum. This keyword makes this enumeration **scoped**."
   ]
  },
  {
   "cell_type": "code",
   "execution_count": 23,
   "metadata": {},
   "outputs": [],
   "source": [
    "enum class DayOfWeek_2 {\n",
    " SUNDAY = 1, MONDAY, TUESDAY, WEDNESDAY, THURSDAY, FRIDAY, SATURDAY\n",
    "};"
   ]
  },
  {
   "cell_type": "markdown",
   "metadata": {},
   "source": [
    "By doing this, we can no longer use the names `SUNDAY`, `WEDNESDAY`, and so on, directly. If you do so, you'll get an error. Uncomment the following line and re-run the cell to see the error."
   ]
  },
  {
   "cell_type": "code",
   "execution_count": 24,
   "metadata": {},
   "outputs": [],
   "source": [
    "// DayOfWeek_2 day_2 = WEDNESDAY;"
   ]
  },
  {
   "cell_type": "markdown",
   "metadata": {},
   "source": [
    "Instead, we must qualify these values using the name of the enumeration and the resolution operator `::`"
   ]
  },
  {
   "cell_type": "code",
   "execution_count": 25,
   "metadata": {},
   "outputs": [],
   "source": [
    "DayOfWeek_2 day_2 = DayOfWeek_2::WEDNESDAY;"
   ]
  },
  {
   "cell_type": "markdown",
   "metadata": {},
   "source": [
    "This makes **scoped enumerations** safer to use. As a matter of fact, it is highly recommended that you use **scoped enumerations** over the C-style unscoped ones.\n",
    "\n",
    "### CODING CHALLENGE 3\n",
    "\n",
    "In the code cell below, define a scoped enumeration for the money change (penny, nickel, dime, quarter). In the next cell, define a variable named `change` and make it equal to a dime. By convention, use uppercase for values of the enumeration."
   ]
  },
  {
   "cell_type": "code",
   "execution_count": 26,
   "metadata": {},
   "outputs": [],
   "source": [
    "//TODO: define enumeration"
   ]
  },
  {
   "cell_type": "code",
   "execution_count": 27,
   "metadata": {},
   "outputs": [],
   "source": [
    "//TODO: define an enumeration variable named change"
   ]
  },
  {
   "cell_type": "markdown",
   "metadata": {},
   "source": [
    "## Using enumerations\n",
    "Once we have enumeration variables, we can use them like any other integer values. For example, we can use them in `if-else` conditionals:"
   ]
  },
  {
   "cell_type": "code",
   "execution_count": 28,
   "metadata": {},
   "outputs": [
    {
     "name": "stdout",
     "output_type": "stream",
     "text": [
      "It is a weekday\n"
     ]
    }
   ],
   "source": [
    "if(day_2 == DayOfWeek_2::SATURDAY || day_2 == DayOfWeek_2::SUNDAY){\n",
    "    cout << \"It is weekend\" << endl;\n",
    "} else {\n",
    "    cout << \"It is a weekday\" << endl;\n",
    "}"
   ]
  },
  {
   "cell_type": "markdown",
   "metadata": {},
   "source": [
    "or in a `switch` statement:"
   ]
  },
  {
   "cell_type": "code",
   "execution_count": 29,
   "metadata": {},
   "outputs": [
    {
     "name": "stdout",
     "output_type": "stream",
     "text": [
      "Wednesday"
     ]
    }
   ],
   "source": [
    "switch(day_2){\n",
    "    case DayOfWeek_2::SUNDAY: cout << \"Sunday\"; break;\n",
    "    case DayOfWeek_2::MONDAY: cout <<  \"Monday\"; break;\n",
    "    case DayOfWeek_2::TUESDAY: cout <<  \"Tuesday\"; break;\n",
    "    case DayOfWeek_2::WEDNESDAY: cout <<  \"Wednesday\"; break;\n",
    "    case DayOfWeek_2::THURSDAY: cout <<  \"Thursday\"; break;\n",
    "    case DayOfWeek_2::FRIDAY: cout <<  \"Friday\"; break;\n",
    "    case DayOfWeek_2::SATURDAY: cout <<  \"Saturday\"; break;\n",
    "}"
   ]
  },
  {
   "cell_type": "markdown",
   "metadata": {},
   "source": [
    "or as an argument to a function:"
   ]
  },
  {
   "cell_type": "code",
   "execution_count": 30,
   "metadata": {},
   "outputs": [],
   "source": [
    "void nameDayOfWeek(DayOfWeek_2 d){\n",
    "    switch(d){\n",
    "        case DayOfWeek_2::SUNDAY: cout << \"Sunday\"; break;\n",
    "        case DayOfWeek_2::MONDAY: cout <<  \"Monday\"; break;\n",
    "        case DayOfWeek_2::TUESDAY: cout <<  \"Tuesday\"; break;\n",
    "        case DayOfWeek_2::WEDNESDAY: cout <<  \"Wednesday\"; break;\n",
    "        case DayOfWeek_2::THURSDAY: cout <<  \"Thursday\"; break;\n",
    "        case DayOfWeek_2::FRIDAY: cout <<  \"Friday\"; break;\n",
    "        case DayOfWeek_2::SATURDAY: cout <<  \"Saturday\"; break;\n",
    "    }\n",
    "} "
   ]
  },
  {
   "cell_type": "code",
   "execution_count": 31,
   "metadata": {},
   "outputs": [
    {
     "name": "stdout",
     "output_type": "stream",
     "text": [
      "day_2 is Wednesday"
     ]
    }
   ],
   "source": [
    "cout << \"day_2 is \";\n",
    "nameDayOfWeek(day_2);"
   ]
  },
  {
   "cell_type": "markdown",
   "metadata": {},
   "source": [
    "or in the definition of a new structure :"
   ]
  },
  {
   "cell_type": "code",
   "execution_count": 32,
   "metadata": {},
   "outputs": [],
   "source": [
    "enum class Bill {\n",
    "  HUNDRED = 100, FIFTY = 50,\n",
    "  TWENTY = 20, TEN = 10, \n",
    "  FIVE = 5, ONE = 1\n",
    "};\n",
    "\n",
    "struct Amount {\n",
    "  int number;\n",
    "  Bill kind;\n",
    "};"
   ]
  },
  {
   "cell_type": "markdown",
   "metadata": {},
   "source": [
    "which allows us to express $100 as 5 twenty dollar bills."
   ]
  },
  {
   "cell_type": "code",
   "execution_count": 33,
   "metadata": {},
   "outputs": [],
   "source": [
    "Amount firstHundred = { 5, Bill::TWENTY };"
   ]
  },
  {
   "cell_type": "markdown",
   "metadata": {},
   "source": [
    "### CODING CHALLENGE 4\n",
    "\n",
    "In the code cell below, define five `Amount` variables each representing $100: 20 five-dollar bills, 100 one-dollar bills, 10 ten-dollar bills, 2 fifty-dollar bills, and 1 hundred-dollar bill."
   ]
  },
  {
   "cell_type": "code",
   "execution_count": 34,
   "metadata": {},
   "outputs": [],
   "source": [
    "//TODO"
   ]
  },
  {
   "cell_type": "markdown",
   "metadata": {},
   "source": [
    "# Putting it all together\n",
    "Let's have one final example that puts together all that we have learned so far: control structures, functions, references, structures, and enumerations. Make sure to study this example and understand how all of its pieces work and fit together.\n",
    "\n",
    "In this example, we will be creating a structure that represents a specific local time of the day. Each local time object has four components (members): hour, minute, seconds, and whether it's AM or PM. We will be using a scoped enumeration for AM and PM. The rest of the members will be integers.\n",
    "\n",
    "Let's get started by including the header files we need."
   ]
  },
  {
   "cell_type": "code",
   "execution_count": 35,
   "metadata": {},
   "outputs": [],
   "source": [
    "#include <iostream>\n",
    "#include <string>\n",
    "#include <iomanip>\n",
    "using namespace std;"
   ]
  },
  {
   "cell_type": "markdown",
   "metadata": {},
   "source": [
    "Next, let's define the enumeration needed to represent AM and PM. We'll call it `AMPM` for the lack of a better name."
   ]
  },
  {
   "cell_type": "code",
   "execution_count": 36,
   "metadata": {},
   "outputs": [],
   "source": [
    "enum class AMPM {\n",
    "    AM, PM\n",
    "};"
   ]
  },
  {
   "cell_type": "markdown",
   "metadata": {},
   "source": [
    "We now define the local time structure. To avoid conflicting with the `Time` structure you defined above, I'll call it `LocalTime`."
   ]
  },
  {
   "cell_type": "code",
   "execution_count": 37,
   "metadata": {},
   "outputs": [],
   "source": [
    "struct LocalTime {\n",
    "    int hr, min, sec;\n",
    "    AMPM ampm;\n",
    "};"
   ]
  },
  {
   "cell_type": "markdown",
   "metadata": {},
   "source": [
    "We now define a function that takes a `LocalTime` object and displays it in a format like `01:23:36 PM`."
   ]
  },
  {
   "cell_type": "code",
   "execution_count": 38,
   "metadata": {},
   "outputs": [],
   "source": [
    "void displayFormattedLocalTime(LocalTime t){\n",
    "    string am_or_pm;\n",
    "    switch(t.ampm){\n",
    "        case AMPM::AM: \n",
    "            am_or_pm = \" AM\";\n",
    "            break;\n",
    "        case AMPM::PM:\n",
    "            am_or_pm = \" PM\";\n",
    "            break;            \n",
    "    }\n",
    "    \n",
    "    cout << setfill('0') \n",
    "         << setw(2) << t.hr << ':'\n",
    "         << setw(2) << t.min << ':'\n",
    "         << setw(2) << t.sec\n",
    "         << am_or_pm;\n",
    "}"
   ]
  },
  {
   "cell_type": "markdown",
   "metadata": {},
   "source": [
    "Notice the use `switch` statement with the `AMPM` enumeration to properly print out the AM/PM portion. Notice also the use of `setfill('0')` which forces `setw` to use leading 0's instead of spaces (which is useful for printing time components). You will need to include the `<iomanip>` header file to use `setfill` and `setw`. \n",
    "\n",
    "Let's define two other functions for telling whether a given `LocalTime` object is morning or evening."
   ]
  },
  {
   "cell_type": "code",
   "execution_count": 39,
   "metadata": {},
   "outputs": [],
   "source": [
    "bool isMorningTime(LocalTime t){\n",
    "    switch(t.ampm){\n",
    "        case AMPM::AM: \n",
    "            return true;\n",
    "        default:\n",
    "            return false;\n",
    "    }\n",
    "}"
   ]
  },
  {
   "cell_type": "code",
   "execution_count": 40,
   "metadata": {},
   "outputs": [],
   "source": [
    "bool isEveningTime(LocalTime t){\n",
    "    return !isMorningTime(t); // The opposite of isMorningTime\n",
    "}"
   ]
  },
  {
   "cell_type": "markdown",
   "metadata": {},
   "source": [
    "All the above functions are read-only; they read the information of the given `LocalTime` object and do something with it, but they do not change it.\n",
    "\n",
    "For a function to be able to change the values of the members of a `LocalTime` object, that object has to be passed to the function as a reference. Here is a function that changes the current AMPM of a given `LocalTime` to `AM` if it was `PM` and vice versa."
   ]
  },
  {
   "cell_type": "code",
   "execution_count": 41,
   "metadata": {},
   "outputs": [],
   "source": [
    "void changeAMPM(LocalTime& t){\n",
    "    switch(t.ampm){\n",
    "        case AMPM::AM: \n",
    "            t.ampm = AMPM::PM;\n",
    "            break;\n",
    "        default:\n",
    "            t.ampm = AMPM::AM;\n",
    "    }\n",
    "}"
   ]
  },
  {
   "cell_type": "markdown",
   "metadata": {},
   "source": [
    "Notice the `&` in `LocalTime& t`. That makes `t` a reference which means it can be changed inside the function. \n",
    "\n",
    "Similarly, let's define a function that prompts and reads the members of a `LocalTime` object from the keyboard."
   ]
  },
  {
   "cell_type": "code",
   "execution_count": 42,
   "metadata": {},
   "outputs": [],
   "source": [
    "void promptAndRead(LocalTime& t){\n",
    "    char c; // For reading the ':' characters\n",
    "    string am_or_pm;\n",
    "    \n",
    "    cout << \"Enter local time in the format 'HH:MM:SS AM': \" << endl;\n",
    "    cin >> t.hr >> c >> t.min >> c >> t.sec >> am_or_pm;\n",
    "    \n",
    "    if(am_or_pm == \"PM\") t.ampm = AMPM::PM;\n",
    "    else t.ampm = AMPM::AM;\n",
    "}"
   ]
  },
  {
   "cell_type": "markdown",
   "metadata": {},
   "source": [
    "Having done all that, we can now test our example by creating multiple `LocalTime` objects (some hard-coded and some based on user input) and calling the above functions on them."
   ]
  },
  {
   "cell_type": "code",
   "execution_count": 43,
   "metadata": {},
   "outputs": [
    {
     "name": "stdout",
     "output_type": "stream",
     "text": [
      "Enter local time in the format 'HH:MM:SS AM': \n",
      "11:56:19 PM\n",
      "Midnight: 12:00:00 AM\n",
      "  Is morning? 1\n",
      "Noon Time: 12:00:00 PM\n",
      "  Is morning? 0\n",
      "Entered time: 11:56:19 PM\n",
      "  Is morning? 0\n",
      "Midnight (after am/pm change): 12:00:00 PM\n",
      "  Is morning? 0\n",
      "Noon Time (after am/pm change): 12:00:00 AM\n",
      "  Is morning? 1\n",
      "Entered Time (after am/pm change): 11:56:19 AM\n",
      "  Is morning? 1\n"
     ]
    }
   ],
   "source": [
    "LocalTime midnight = { 12, 0, 0, AMPM::AM };\n",
    "LocalTime noonTime { 12, 0, 0, AMPM::PM};\n",
    "LocalTime anyTime;\n",
    "promptAndRead(anyTime);\n",
    "\n",
    "// Display these times\n",
    "cout << \"Midnight: \";\n",
    "displayFormattedLocalTime(midnight);\n",
    "cout << \"\\n  Is morning? \" << isMorningTime(midnight) << endl;\n",
    "\n",
    "cout << \"Noon Time: \";\n",
    "displayFormattedLocalTime(noonTime);\n",
    "cout << \"\\n  Is morning? \" << isMorningTime(noonTime) << endl;\n",
    "\n",
    "cout << \"Entered time: \";\n",
    "displayFormattedLocalTime(anyTime);\n",
    "cout << \"\\n  Is morning? \" << isMorningTime(anyTime) << endl;\n",
    "\n",
    "// Change the AM/PM of these time and display them again\n",
    "changeAMPM(midnight);\n",
    "changeAMPM(noonTime);\n",
    "changeAMPM(anyTime);\n",
    "\n",
    "cout << \"Midnight (after am/pm change): \";\n",
    "displayFormattedLocalTime(midnight);\n",
    "cout << \"\\n  Is morning? \" << isMorningTime(midnight) << endl;\n",
    "\n",
    "cout << \"Noon Time (after am/pm change): \";\n",
    "displayFormattedLocalTime(noonTime);\n",
    "cout << \"\\n  Is morning? \" << isMorningTime(noonTime) << endl;\n",
    "\n",
    "cout << \"Entered Time (after am/pm change): \";\n",
    "displayFormattedLocalTime(anyTime);\n",
    "\n",
    "cout << \"\\n  Is morning? \" << isMorningTime(anyTime) << endl;"
   ]
  }
 ],
 "metadata": {
  "kernelspec": {
   "display_name": "C++14",
   "language": "C++14",
   "name": "xcpp14"
  },
  "language_info": {
   "codemirror_mode": "text/x-c++src",
   "file_extension": ".cpp",
   "mimetype": "text/x-c++src",
   "name": "c++",
   "version": "14"
  }
 },
 "nbformat": 4,
 "nbformat_minor": 2
}
