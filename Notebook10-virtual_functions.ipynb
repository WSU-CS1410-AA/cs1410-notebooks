{
  "cells": [
    {
      "cell_type": "markdown",
      "metadata": {
        "id": "101vDnHERYiZ"
      },
      "source": [
        "<a target=\"_blank\" href=\"https://colab.research.google.com/github/WSU-CS1410-AA/cs1410-notebooks/blob/main/Notebook10-virtual_functions.ipynb\">\n",
        "  <img src=\"https://colab.research.google.com/assets/colab-badge.svg\" alt=\"Open In Colab\"/>\n",
        "</a>"
      ]
    },
    {
      "cell_type": "markdown",
      "metadata": {
        "id": "pLSXLLNXRYif"
      },
      "source": [
        "\n",
        "# Multiple inheritance\n",
        "\n",
        "Unlike other object-oriented programming languages like Java and C#, C++ supports multiple inheritance. That means, in C++, a class can inherit the public and protected members of more than one class. For example, class `C` below inherits from both classes `A` and `B`. This is depicted in the following class hierarchy:\n",
        "\n",
        "```text\n",
        "    A                B\n",
        "    △                △\n",
        "    |                |\n",
        "    |                |\n",
        "    +------- C ------+\n",
        "```\n",
        "The triangle points to the parent class.\n",
        "\n",
        "Here is how these classes are coded.\n",
        "\n",
        "```cpp\n",
        "class A { // Base class 1\n",
        "};\n",
        "\n",
        "class B { // Base class 2\n",
        "};\n",
        "\n",
        "class C : public A, public B { //Derived class from A and B\n",
        "};\n",
        "```"
      ]
    },
    {
      "cell_type": "markdown",
      "metadata": {
        "id": "f-aoJHTtRYih"
      },
      "source": [
        "## CODING CHALLENGE 1\n",
        "Define the classes that implement the following hierarchy with Manager and Scientist each inheriting from both Employee and Student.\n",
        "\n",
        "```text\n",
        "    Employee                      Student\n",
        "        △                            △\n",
        "        |                            |\n",
        "        |                            |\n",
        "        +--------- Manager ----------+\n",
        "        |                            |\n",
        "        |                            |\n",
        "        +---------Scientist ---------+\n",
        "```"
      ]
    },
    {
      "cell_type": "code",
      "execution_count": null,
      "metadata": {
        "id": "YTlpNQm0RYih"
      },
      "outputs": [],
      "source": [
        "%%writefile ch01.cpp\n",
        "\n",
        "//TODO"
      ]
    },
    {
      "cell_type": "markdown",
      "metadata": {
        "id": "E1Nu6kOPRYii"
      },
      "source": [
        "## Issues with multiple inheritance\n",
        "Multiple inheritance has its issues, which is why most modern programming languages do not support it. To start, multiple inheritance can lead to overcomplicated program designs. It also suffers from a set of problems, one of which is the infamous **diamond probelm**. Here is an example of such a problem.\n",
        "\n",
        "```text\n",
        "        +--------▷ Parent ◁ ---------+    \n",
        "        |                            |\n",
        "        |                            |\n",
        "      Child1                      Child2\n",
        "        △                            △\n",
        "        |                            |\n",
        "        |                            |\n",
        "        +-------- GrandChild --------+\n",
        "```    "
      ]
    },
    {
      "cell_type": "code",
      "execution_count": null,
      "metadata": {
        "id": "Ox2jIrXtRYii"
      },
      "outputs": [],
      "source": [
        "class Parent {\n",
        "public:\n",
        "   void foo(){}\n",
        "};\n",
        "\n",
        "class Child1 : public Parent {\n",
        "public:\n",
        "   void bar(){}\n",
        "};\n",
        "\n",
        "class Child2 : public Parent {};\n",
        "class GrandChild : public Child1, public Child2 {};"
      ]
    },
    {
      "cell_type": "markdown",
      "metadata": {
        "id": "6ARN73c7RYii"
      },
      "source": [
        "The problem here is that `Grandchild` has two copies of `foo()`: one inherited from `Parent` via `Child1` and another, also inherited from `Parent`, via `Child2`. So when you call `foo()` on a `GrandChild` object, which one will be used? Let's see how the compiler reacts to this situation. Uncomment the following code to see the errors."
      ]
    },
    {
      "cell_type": "code",
      "execution_count": null,
      "metadata": {
        "id": "Yi5_mtd2RYii"
      },
      "outputs": [],
      "source": [
        "/*\n",
        "GrandChild d;\n",
        "d.foo();\n",
        "*/"
      ]
    },
    {
      "cell_type": "markdown",
      "metadata": {
        "id": "IKkdOj5mRYij"
      },
      "source": [
        "To the compiler, `d.foo()` is an ambiguous call and it does not know which version of `foo()` to use. It is up to us, the programmers, to clear this up for the compiler and we do that in one of two ways:\n",
        "* Tell the compiler exactly which version of `foo()` to use using the class name and the resolution operator `::`. For example, the code below, tells the compiler to use the version of `foo()` inherited by `GrandChild` via `Child2`."
      ]
    },
    {
      "cell_type": "code",
      "execution_count": null,
      "metadata": {
        "id": "9etLSVLlRYij"
      },
      "outputs": [],
      "source": [
        "GrandChild gc;\n",
        "gc.Child2::foo();"
      ]
    },
    {
      "cell_type": "markdown",
      "metadata": {
        "id": "HdZPiT5XRYij"
      },
      "source": [
        "* Or use the keyword `virtual` to instruct the compiler to prevent creating multiple copies of functions of the same `Parent`. This means changing the implementation of the above class hierarchy to something like this:"
      ]
    },
    {
      "cell_type": "code",
      "execution_count": null,
      "metadata": {
        "id": "1LyqKSCkRYik"
      },
      "outputs": [],
      "source": [
        "class Parent {\n",
        "public:\n",
        "   void foo(){}\n",
        "};\n",
        "\n",
        "class Child1 : virtual public Parent {\n",
        "public:\n",
        "   void bar(){}\n",
        "};\n",
        "\n",
        "class Child2 : virtual public Parent {};\n",
        "class GrandChild : public Child1, public Child2 {};\n",
        "\n",
        "// class AnotherParent {\n",
        "// public:\n",
        "//    void foo(){}\n",
        "// };\n",
        "\n",
        "// class AnotherChild1 : virtual public AnotherParent {\n",
        "// public:\n",
        "//    void bar(){}\n",
        "// };\n",
        "\n",
        "// class AnotherChild2 : virtual public AnotherParent {};\n",
        "// class AnotherGrandChild : public AnotherChild1, public AnotherChild2 {};"
      ]
    },
    {
      "cell_type": "markdown",
      "metadata": {
        "id": "PRaL8tzrRYik"
      },
      "source": [
        "Notice the use of the keyword `virtual` before the public inheritance of the `AnotherChild1` and `AnotherChild2` classes. This tells C++ that if another class inherits from both of these classes (like `AnotherGrandChild` here), only single copies of the functions of the base class `AnotherParent` are made available to it. Thus eliminating the previous ambiguity.\n",
        "\n",
        "Having done that allows us to run the following without the use of the resolution operator `::`"
      ]
    },
    {
      "cell_type": "code",
      "execution_count": null,
      "metadata": {
        "id": "RTHHA6toRYik"
      },
      "outputs": [],
      "source": [
        "GrandChild gc;\n",
        "gc.foo();"
      ]
    },
    {
      "cell_type": "markdown",
      "metadata": {
        "id": "mUNilgcZRYik"
      },
      "source": [
        "### CODING CHALLENGE 2\n",
        "\n",
        "Define the classes that implement the following class hierarchy. Use the keyword `virtual` to insure your classes do not suffer from the **diamond problem**.\n",
        "\n",
        "```text\n",
        "        +---------▷ BaseClass ◁ ----------+    \n",
        "        |                                 |\n",
        "        |                                 |\n",
        "  DerivedClass1                     DerivedClass2\n",
        "        △                                 △\n",
        "        |                                 |\n",
        "        |                                 |\n",
        "        +----- DerivedFurtherClass1 ------+\n",
        "        |                                 |\n",
        "        |                                 |\n",
        "        +----- DerivedFurtherClass2 ------+\n",
        "```"
      ]
    },
    {
      "cell_type": "code",
      "execution_count": null,
      "metadata": {
        "id": "KOimLQNVRYil"
      },
      "outputs": [],
      "source": [
        "//TODO"
      ]
    },
    {
      "cell_type": "markdown",
      "metadata": {
        "id": "WJTj82ptRYil"
      },
      "source": [
        "# Virtual Functions\n",
        "\n",
        "In addition to encapsulation and inheritance, **polymorphism** is the third principle of object-oriented programming. It means \"multiple forms\", and is supported by C++ at both compile-time and run-time. At compile-time, we can think of function overloading and operator overloading as forms of polymorphism, where the same function name or operator is used to mean and do different things in different contexts. At run-time polymorphism is achieved by combining inheritance and **virtual functions**.\n",
        "\n",
        "Generally speaking, **virtual** means existing in appearance but not in reality. In c++, a **virtual function** is a member function declared at the base class and redefined (or overridden) by a derived class. When this happens, the derived class will have access to two functions with the same name and signature: one provided by the base class and the other by the derived class itself. When a **virtual function** is called, the compiler defers deciding on which function definition to use until run-time. We call this **late binding**, which is different from the **early binding** utilized by non-virtual functions.\n",
        "\n",
        "To understand **virtual functions** and the difference between **early binding** and **late binding**, let's look at an example. First here is our base class:"
      ]
    },
    {
      "cell_type": "code",
      "execution_count": null,
      "metadata": {
        "id": "0D7mMylrRYil"
      },
      "outputs": [],
      "source": [
        "class Base {\n",
        "public:\n",
        "    void show() { cout << \"Base\\n\"; }\n",
        "};"
      ]
    },
    {
      "cell_type": "markdown",
      "metadata": {
        "id": "HC9hS8S2RYil"
      },
      "source": [
        "Next let's create two \"regular\" classes that derive from it. Both of these classes override the `show()` function. No `virtual` functions yet."
      ]
    },
    {
      "cell_type": "code",
      "execution_count": null,
      "metadata": {
        "id": "OWiqYyJuRYim"
      },
      "outputs": [],
      "source": [
        "class Derived1 : public Base {\n",
        "public:\n",
        "    void show() { cout << \"Derived 1\\n\"; }\n",
        "};\n",
        "\n",
        "class Derived2 : public Base {\n",
        "public:\n",
        "    void show() { cout << \"Derived 2\\n\"; }\n",
        "};"
      ]
    },
    {
      "cell_type": "markdown",
      "metadata": {
        "id": "1goXsZ8MRYim"
      },
      "source": [
        "Using these classes, we can create the following objects:"
      ]
    },
    {
      "cell_type": "code",
      "execution_count": null,
      "metadata": {
        "id": "ditg7DwfRYim"
      },
      "outputs": [],
      "source": [
        "Derived1 d1;\n",
        "Derived2 d2_1, d2_2;"
      ]
    },
    {
      "cell_type": "markdown",
      "metadata": {
        "id": "BSRE99zFRYim"
      },
      "source": [
        "Now we call the `show()` functions on these objects and study the output:"
      ]
    },
    {
      "cell_type": "code",
      "execution_count": null,
      "metadata": {
        "id": "u_izhbq6RYin",
        "outputId": "edd52770-8b44-494f-cd8c-df6510fc29b4"
      },
      "outputs": [
        {
          "name": "stdout",
          "output_type": "stream",
          "text": [
            "Derived 1\n",
            "Derived 2\n",
            "Derived 2\n"
          ]
        }
      ],
      "source": [
        "d1.show();\n",
        "d2_1.show();\n",
        "d2_2.show();"
      ]
    },
    {
      "cell_type": "markdown",
      "metadata": {
        "id": "TwEca8NsRYin"
      },
      "source": [
        "These calls are behaving as expected, with each calling the version of `show()` defined in its own class.\n",
        "\n",
        "Let's now see what happens when `Base` pointers are used."
      ]
    },
    {
      "cell_type": "code",
      "execution_count": null,
      "metadata": {
        "id": "ldAeG7c2RYio",
        "outputId": "6e979bbe-8c17-420d-d492-8ec4e9b9aa3f"
      },
      "outputs": [
        {
          "name": "stdout",
          "output_type": "stream",
          "text": [
            "Base\n",
            "Base\n"
          ]
        }
      ],
      "source": [
        "Base* bptr;\n",
        "bptr = &d1;\n",
        "bptr->show();\n",
        "bptr = &d2_1;\n",
        "bptr->show();"
      ]
    },
    {
      "cell_type": "markdown",
      "metadata": {
        "id": "thMBc7RaRYio"
      },
      "source": [
        "Here the `show()`  function of the `Base` class is called instead of the ones from the derived classes. This  is inspite of this  pointer `bptr` pointing to a `Derived1` object first and a `Derived2` object after that. This is example of **early binding** with the compiler determining which version of `show()` to use at compile-time based on the type of the pointer, which is `Base`.\n",
        "\n",
        "Let's try the same thing with a `Base` reference:"
      ]
    },
    {
      "cell_type": "code",
      "execution_count": null,
      "metadata": {
        "id": "ShrQ10g7RYio",
        "outputId": "164e02b3-bf28-4fa1-c5ce-5888ac543c25"
      },
      "outputs": [
        {
          "name": "stdout",
          "output_type": "stream",
          "text": [
            "Base\n"
          ]
        }
      ],
      "source": [
        "Base& bref = d2_2;\n",
        "bref.show();"
      ]
    },
    {
      "cell_type": "markdown",
      "metadata": {
        "id": "NWBqPKbcRYio"
      },
      "source": [
        "**Early binding** happens here as well.\n",
        "\n",
        "With **Late binding**, the version of the function is decided based on the actual type of the object at run time. To enable **late binding**, we need to use **virtual functions**. Here is an example of virtual functions starting with the base class (refactored0:"
      ]
    },
    {
      "cell_type": "code",
      "execution_count": null,
      "metadata": {
        "id": "X5_DOaGIRYip"
      },
      "outputs": [],
      "source": [
        "class Base {\n",
        "public:\n",
        "    virtual void show() { cout << \"Base\\n\"; }\n",
        "    virtual ~Base(){} // Virtual destructor\n",
        "};"
      ]
    },
    {
      "cell_type": "markdown",
      "metadata": {
        "id": "eEn5uKxMRYip"
      },
      "source": [
        "Notice the use of the keyword `virtual` in front of the `show()` function. This makes this function **virtual** and instructs the compiler to enable **late binding** on it. *This is different from the previous use of virtual, which helped with the diamond problem.*\n",
        "\n",
        "Notice that the destructor is also marked as virtual. The destructor should be marked virtual on any class with one or more virtual functions. This is to make sure objects of derived classes are destroyed properly. This applies **polymorphism** and **late binding** to object cleanup and makes sure that the correct destructors based on the actual object types are used when objects are deleted.\n",
        "\n",
        "Let's define two derived classes of this base class:"
      ]
    },
    {
      "cell_type": "code",
      "execution_count": null,
      "metadata": {
        "id": "xbKwoqT0RYiq"
      },
      "outputs": [],
      "source": [
        "class Derived1 : public Base {\n",
        "public:\n",
        "    void show() { cout << \"Derived 1\\n\"; }\n",
        "};\n",
        "\n",
        "class Derived2 : public Base {\n",
        "public:\n",
        "    void show() { cout << \"Derived 2\\n\"; }\n",
        "};"
      ]
    },
    {
      "cell_type": "markdown",
      "metadata": {
        "id": "qXnKnG7wRYiq"
      },
      "source": [
        "\n",
        "Notice that we did not use the keyword `virtual` inside these derived class; only inside the base. This is because a function needs only be defined as `virtual` once and in the base class. After that, no matter how many times a it is  inherited, it remains virtual.\n",
        "\n",
        "Let's now see what **virtual functions** do, starting with actual stack objects:"
      ]
    },
    {
      "cell_type": "code",
      "execution_count": null,
      "metadata": {
        "id": "6DjjDKVjRYir"
      },
      "outputs": [],
      "source": [
        "Derived1 d1;\n",
        "Derived2 d2_1, d2_2;"
      ]
    },
    {
      "cell_type": "markdown",
      "metadata": {
        "id": "HrhzN1vHRYir"
      },
      "source": [
        "First, let's call the `show()` function using the **dot operator**."
      ]
    },
    {
      "cell_type": "code",
      "execution_count": null,
      "metadata": {
        "id": "r2EcK17IRYir",
        "outputId": "8eb1e00e-d3f5-4c48-fcfc-f5a0150ca96c"
      },
      "outputs": [
        {
          "name": "stdout",
          "output_type": "stream",
          "text": [
            "Derived 1\n",
            "Derived 2\n",
            "Derived 2\n"
          ]
        }
      ],
      "source": [
        "d1.show();\n",
        "d2_1.show();\n",
        "d2_2.show();"
      ]
    },
    {
      "cell_type": "markdown",
      "metadata": {
        "id": "J6DKVPG-RYir"
      },
      "source": [
        "This worked as expected. Let's see what happens when `Base` pointers are used."
      ]
    },
    {
      "cell_type": "code",
      "execution_count": null,
      "metadata": {
        "id": "WfeHRV__RYir",
        "outputId": "dc74dc66-5b76-4268-8849-4bb8e9550de5"
      },
      "outputs": [
        {
          "name": "stdout",
          "output_type": "stream",
          "text": [
            "Derived 1\n",
            "Derived 2\n"
          ]
        }
      ],
      "source": [
        "Base* bptr;\n",
        "bptr = &d1;\n",
        "bptr->show();\n",
        "\n",
        "bptr = &d2_1;\n",
        "bptr->show();"
      ]
    },
    {
      "cell_type": "markdown",
      "metadata": {
        "id": "3QIwuZIzRYis"
      },
      "source": [
        "Notice how the correct `show()` function is called based on the type of actual object. The first `show()` function was called on a `Derived1` object pointed to by the `bptr` pointer, so `\"Derived 1\"` is printed. Then the `bptr` pointer is re-pointed to a `Derived2` object. This is why the second `show()` function correctly prints `\"Derived 2\"`. This is **late binding** in action.\n",
        "\n",
        "Let's try the same thing, but  with a `Base` reference:"
      ]
    },
    {
      "cell_type": "code",
      "execution_count": null,
      "metadata": {
        "id": "m9s6KzIBRYis",
        "outputId": "23e1eb89-edd3-4faa-bea5-898892424119"
      },
      "outputs": [
        {
          "name": "stdout",
          "output_type": "stream",
          "text": [
            "Derived 2\n"
          ]
        }
      ],
      "source": [
        "Base& bref = d2_2;\n",
        "bref.show();"
      ]
    },
    {
      "cell_type": "markdown",
      "metadata": {
        "id": "CSuO72OCRYis"
      },
      "source": [
        "The correct `show()` function is being called here as well (The `\"Derived 2\"` is printed instead of `\"Base\"`).\n",
        "\n",
        "To summarize, A **virtual function**:\n",
        "* is a member function that is declared as `virtual' in a base class and redefined (or overridden) by one or more derived classes.\n",
        "* works like a *normal* non-virtual function when accessed by the **dot operator**.\n",
        "* supports **late binding** as opposed to **early binding** when accessed via a pointer or a reference.\n",
        "\n",
        "### CODING CHALLENGE 3\n",
        "**PART 1**: Define a class named `Rectangle` with four data members:\n",
        "* two integers x and y for the coordinates of the upper left corner.\n",
        "* two integers width and height for its width and height.\n",
        "\n",
        "This class should have a constructor that takes four arguments one for each of its data members. It should also have a virtual function named `getName()` that returns the string `\"Rectangle\"` and a virtual destructor.\n",
        "\n",
        "**PART 2**: Knowing that a square is a rectangle whose width and height are the same, define a class names `Square` that inherits from `Rectangle` This class should have a constructor that takes three arguments (x, y, and width) and delegates initialization to the `Rectangle` constructor. It should also override the `getName()` function by returning the string `\"Square\"`."
      ]
    },
    {
      "cell_type": "code",
      "execution_count": null,
      "metadata": {
        "id": "s5-Im6xWRYis"
      },
      "outputs": [],
      "source": [
        "//TODO: The Rectangle class"
      ]
    },
    {
      "cell_type": "code",
      "execution_count": null,
      "metadata": {
        "id": "llonLsskRYis"
      },
      "outputs": [],
      "source": [
        "//TODO: The Square class"
      ]
    },
    {
      "cell_type": "markdown",
      "metadata": {
        "id": "iuIppwk8RYit"
      },
      "source": [
        "### CODING CHALLENGE 4\n",
        "\n",
        "Create two objects: a rectangle and a square. Also, create a rectangle pointer named `rptr` and initialize it to `nullptr`. Then:\n",
        "\n",
        "* point the `rptr` pointer to the rectangle object and use it to call the `getName()` function.\n",
        "* point the `rptr` pointer to the square object and use it to call the `getName()` function."
      ]
    },
    {
      "cell_type": "code",
      "execution_count": null,
      "metadata": {
        "id": "eK2e61LxRYit"
      },
      "outputs": [],
      "source": [
        "//TODO"
      ]
    },
    {
      "cell_type": "markdown",
      "metadata": {
        "id": "d6_mR38wRYit"
      },
      "source": [
        "### CODING CHALLENGE 5\n",
        "\n",
        "Create another two objects: a rectangle and a square. Create a rectangle reference named `rref` and make it an alias to the square object. Use it to call the `getName()` function."
      ]
    },
    {
      "cell_type": "code",
      "execution_count": null,
      "metadata": {
        "id": "c1R_5Z1pRYit"
      },
      "outputs": [],
      "source": [
        "//TODO"
      ]
    },
    {
      "cell_type": "markdown",
      "metadata": {
        "id": "-mmAnNhcRYit"
      },
      "source": [
        "## Pure functions\n",
        "\n",
        "Finally, there is the notion of **pure virtual functions**, which are defined by having the `= 0` at the end of their prototypes. A **pure virtual function** is a function that has no actual definition within the class that declares it; only the prototype is provided. This makes any class declaring one or more pure functions **an abstract class**. which is a class whose implementation is not complete and therefore cannot be used to create objects.\n",
        "\n",
        "Here is an example abstract class."
      ]
    },
    {
      "cell_type": "code",
      "execution_count": null,
      "metadata": {
        "id": "7VaY9yI3RYit"
      },
      "outputs": [],
      "source": [
        "class SomeClass {\n",
        "public:\n",
        "    virtual void print() = 0; // a pure function\n",
        "};"
      ]
    },
    {
      "cell_type": "markdown",
      "metadata": {
        "id": "y5osS7UXRYit"
      },
      "source": [
        "Having a **pure virtual function** makes this class **abstract**, which means it is not complete (or concrete) and cannot, therefore, be used to create objects. For example, the following statement throws a compilation error. Uncomment the following line to see the error."
      ]
    },
    {
      "cell_type": "code",
      "execution_count": null,
      "metadata": {
        "id": "CNJGeJpeRYiu"
      },
      "outputs": [],
      "source": [
        "// SomeClass sc;"
      ]
    },
    {
      "cell_type": "markdown",
      "metadata": {
        "id": "cRJZiEMARYiu"
      },
      "source": [
        "To summarize, **abstract classes** are meant to be subclassed or inherited by other classes. Their **pure functions** are like holes that make them incomplete and unfit to be used for creating objects."
      ]
    }
  ],
  "metadata": {
    "kernelspec": {
      "display_name": "Python 3",
      "name": "python3"
    },
    "language_info": {
      "name": "python"
    },
    "colab": {
      "provenance": []
    }
  },
  "nbformat": 4,
  "nbformat_minor": 0
}