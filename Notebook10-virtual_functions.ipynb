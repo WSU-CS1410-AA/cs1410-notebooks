{
  "cells": [
    {
      "cell_type": "markdown",
      "metadata": {
        "id": "101vDnHERYiZ"
      },
      "source": [
        "<a target=\"_blank\" href=\"https://colab.research.google.com/github/WSU-CS1410-AA/cs1410-notebooks/blob/main/Notebook10-virtual_functions.ipynb\">\n",
        "  <img src=\"https://colab.research.google.com/assets/colab-badge.svg\" alt=\"Open In Colab\"/>\n",
        "</a>"
      ]
    },
    {
      "cell_type": "markdown",
      "metadata": {
        "id": "pLSXLLNXRYif"
      },
      "source": [
        "\n",
        "# Multiple inheritance\n",
        "\n",
        "Unlike other object-oriented programming languages like Java and C#, C++ supports multiple inheritance. That means, in C++, a class can inherit the public and protected members of more than one class. For example, class `C` below inherits from both classes `A` and `B`. This is depicted in the following class hierarchy:\n",
        "\n",
        "```text\n",
        "    A                B\n",
        "    △                △\n",
        "    |                |\n",
        "    |                |\n",
        "    +------- C ------+\n",
        "```\n",
        "The triangle points to the parent class.\n",
        "\n",
        "Here is how these classes are coded.\n",
        "\n",
        "```cpp\n",
        "class A { // Base class 1\n",
        "};\n",
        "\n",
        "class B { // Base class 2\n",
        "};\n",
        "\n",
        "class C : public A, public B { //Derived class from A and B\n",
        "};\n",
        "```"
      ]
    },
    {
      "cell_type": "markdown",
      "metadata": {
        "id": "f-aoJHTtRYih"
      },
      "source": [
        "## CODING CHALLENGE 1\n",
        "Define the classes that implement the following hierarchy with Manager and Scientist each inheriting from both Employee and Student.\n",
        "\n",
        "```text\n",
        "    Employee                      Student\n",
        "        △                            △\n",
        "        |                            |\n",
        "        |                            |\n",
        "        +--------- Manager ----------+\n",
        "        |                            |\n",
        "        |                            |\n",
        "        +---------Scientist ---------+\n",
        "```"
      ]
    },
    {
      "cell_type": "code",
      "execution_count": 1,
      "metadata": {
        "id": "YTlpNQm0RYih",
        "outputId": "2c229098-c675-4ded-d2dd-396401383ef7",
        "colab": {
          "base_uri": "https://localhost:8080/"
        }
      },
      "outputs": [
        {
          "output_type": "stream",
          "name": "stdout",
          "text": [
            "Writing ch01.cpp\n"
          ]
        }
      ],
      "source": [
        "%%writefile ch01.cpp\n",
        "\n",
        "//TODO"
      ]
    },
    {
      "cell_type": "markdown",
      "metadata": {
        "id": "E1Nu6kOPRYii"
      },
      "source": [
        "## Issues with multiple inheritance\n",
        "Multiple inheritance has its issues, which is why most modern programming languages do not support it. To start, multiple inheritance can lead to overcomplicated program designs. It also suffers from a set of problems, one of which is the infamous **diamond probelm**. Here is an example of such a problem.\n",
        "\n",
        "```text\n",
        "        +--------▷ Parent ◁ ---------+    \n",
        "        |                            |\n",
        "        |                            |\n",
        "      Child1                      Child2\n",
        "        △                            △\n",
        "        |                            |\n",
        "        |                            |\n",
        "        +-------- GrandChild --------+\n",
        "```    \n",
        "\n",
        "```cpp\n",
        "class Parent {\n",
        "public:\n",
        "   void foo(){}\n",
        "};\n",
        "\n",
        "class Child1 : public Parent {\n",
        "public:\n",
        "   void bar(){}\n",
        "};\n",
        "\n",
        "class Child2 : public Parent {};\n",
        "class GrandChild : public Child1, public Child2 {};\n",
        "```"
      ]
    },
    {
      "cell_type": "markdown",
      "metadata": {
        "id": "6ARN73c7RYii"
      },
      "source": [
        "The problem here is that `Grandchild` has two copies of `foo()`: one inherited from `Parent` via `Child1` and another, also inherited from `Parent`, via `Child2`. So when you call `foo()` on a `GrandChild` object, which one will be used? Well, the compiler will be confused, throwing errors if you try to run something like this:\n",
        "\n",
        "```cpp\n",
        "GrandChild d;\n",
        "d.foo();\n",
        "```"
      ]
    },
    {
      "cell_type": "markdown",
      "metadata": {
        "id": "IKkdOj5mRYij"
      },
      "source": [
        "To the compiler, `d.foo()` is an ambiguous call and it does not know which version of `foo()` to use. It is up to us, the programmers, to clear this up for the compiler and we do that in one of two ways:\n",
        "* Tell the compiler exactly which version of `foo()` to use using the class name and the resolution operator `::`. For example, the code below, tells the compiler to use the version of `foo()` inherited by `GrandChild` via `Child2`.\n",
        "  ```cpp\n",
        "  GrandChild gc;\n",
        "  gc.Child2::foo();\n",
        "   ```"
      ]
    },
    {
      "cell_type": "markdown",
      "metadata": {
        "id": "HdZPiT5XRYij"
      },
      "source": [
        "* Or use the keyword `virtual` to instruct the compiler to prevent creating multiple copies of functions of the same `Parent`. This means changing the implementation of the above class hierarchy to something like this:\n",
        "\n",
        "  ```cpp\n",
        "  class Parent {\n",
        "  public:\n",
        "    void foo(){}\n",
        "  };\n",
        "\n",
        "  class Child1 : virtual public Parent {\n",
        "  public:\n",
        "    void bar(){}\n",
        "  };\n",
        "\n",
        "  class Child2 : virtual public Parent {};\n",
        "  class GrandChild : public Child1, public Child2 {};\n",
        "  ```"
      ]
    },
    {
      "cell_type": "markdown",
      "metadata": {
        "id": "PRaL8tzrRYik"
      },
      "source": [
        "Notice the use of the keyword `virtual` before the public inheritance of the `AnotherChild1` and `AnotherChild2` classes. This tells C++ that if another class inherits from both of these classes (like `AnotherGrandChild` here), only single copies of the functions of the base class `AnotherParent` are made available to it. Thus eliminating the previous ambiguity.\n",
        "\n",
        "Having done that allows us to run the following without the use of the resolution operator `::`\n",
        "\n",
        "```cpp\n",
        "GrandChild gc;\n",
        "gc.foo();\n",
        "```"
      ]
    },
    {
      "cell_type": "markdown",
      "metadata": {
        "id": "mUNilgcZRYik"
      },
      "source": [
        "## CODING CHALLENGE 2\n",
        "\n",
        "Define the classes that implement the following class hierarchy. Use the keyword `virtual` to insure your classes do not suffer from the **diamond problem**.\n",
        "\n",
        "```text\n",
        "        +---------▷ BaseClass ◁ ----------+    \n",
        "        |                                 |\n",
        "        |                                 |\n",
        "  DerivedClass1                     DerivedClass2\n",
        "        △                                 △\n",
        "        |                                 |\n",
        "        |                                 |\n",
        "        +----- DerivedFurtherClass1 ------+\n",
        "        |                                 |\n",
        "        |                                 |\n",
        "        +----- DerivedFurtherClass2 ------+\n",
        "```"
      ]
    },
    {
      "cell_type": "code",
      "execution_count": 2,
      "metadata": {
        "id": "KOimLQNVRYil",
        "outputId": "1b430ffc-7ea4-47ad-ef6a-862e4d5f5cc9",
        "colab": {
          "base_uri": "https://localhost:8080/"
        }
      },
      "outputs": [
        {
          "output_type": "stream",
          "name": "stdout",
          "text": [
            "Writing ch02.cpp\n"
          ]
        }
      ],
      "source": [
        "%%writefile ch02.cpp\n",
        "\n",
        "//TODO"
      ]
    },
    {
      "cell_type": "markdown",
      "metadata": {
        "id": "WJTj82ptRYil"
      },
      "source": [
        "# Virtual Functions\n",
        "\n",
        "In addition to encapsulation and inheritance, **polymorphism** is the third principle of object-oriented programming. It means \"multiple forms\", and is supported by C++ at both compile-time and run-time. At compile-time, we can think of function overloading and operator overloading as forms of polymorphism, where the same function name or operator is used to mean and do different things in different contexts. At run-time polymorphism is achieved by combining inheritance and **virtual functions**.\n",
        "\n",
        "Generally speaking, **virtual** means existing in appearance but not in reality. In c++, a **virtual function** is a member function declared at the base class and redefined (or overridden) by a derived class. When this happens, the derived class will have access to two functions with the same name and signature: one provided by the base class and the other by the derived class itself. When a **virtual function** is called, the compiler defers deciding on which function definition to use until run-time. We call this **late binding**, which is different from the **early binding** utilized by non-virtual functions.\n",
        "\n",
        "To understand **virtual functions** and the difference between **early binding** and **late binding**, let's look at an example. First here is our base class:"
      ]
    },
    {
      "cell_type": "code",
      "execution_count": 3,
      "metadata": {
        "id": "0D7mMylrRYil",
        "outputId": "5e952f19-70e8-4f42-955b-236533f1ce8f",
        "colab": {
          "base_uri": "https://localhost:8080/"
        }
      },
      "outputs": [
        {
          "output_type": "stream",
          "name": "stdout",
          "text": [
            "Overwriting ex01.cpp\n"
          ]
        }
      ],
      "source": [
        "%%writefile ex01.cpp\n",
        "\n",
        "#include <iostream>\n",
        "using namespace std;\n",
        "\n",
        "class Base {\n",
        "public:\n",
        "    void show() { cout << \"Base\\n\"; }\n",
        "};"
      ]
    },
    {
      "cell_type": "markdown",
      "metadata": {
        "id": "HC9hS8S2RYil"
      },
      "source": [
        "Next let's create two \"regular\" classes that derive from it. Both of these classes override the `show()` function. No `virtual` functions yet."
      ]
    },
    {
      "cell_type": "code",
      "execution_count": 4,
      "metadata": {
        "id": "OWiqYyJuRYim",
        "outputId": "7c6e8d46-5217-41d3-f305-44e9afd91bfe",
        "colab": {
          "base_uri": "https://localhost:8080/"
        }
      },
      "outputs": [
        {
          "output_type": "stream",
          "name": "stdout",
          "text": [
            "Appending to ex01.cpp\n"
          ]
        }
      ],
      "source": [
        "%%writefile -a ex01.cpp\n",
        "\n",
        "class Derived1 : public Base {\n",
        "public:\n",
        "    void show() { cout << \"Derived 1\\n\"; }\n",
        "};\n",
        "\n",
        "class Derived2 : public Base {\n",
        "public:\n",
        "    void show() { cout << \"Derived 2\\n\"; }\n",
        "};"
      ]
    },
    {
      "cell_type": "markdown",
      "metadata": {
        "id": "1goXsZ8MRYim"
      },
      "source": [
        "Using these classes, we can create the following objects:"
      ]
    },
    {
      "cell_type": "code",
      "execution_count": 5,
      "metadata": {
        "id": "ditg7DwfRYim",
        "outputId": "c5f038e7-6800-4a72-fb9e-25ce968dbc97",
        "colab": {
          "base_uri": "https://localhost:8080/"
        }
      },
      "outputs": [
        {
          "output_type": "stream",
          "name": "stdout",
          "text": [
            "Appending to ex01.cpp\n"
          ]
        }
      ],
      "source": [
        "%%writefile -a ex01.cpp\n",
        "\n",
        "int main() {\n",
        "  Derived1 d1;\n",
        "  Derived2 d2_1, d2_2;"
      ]
    },
    {
      "cell_type": "markdown",
      "metadata": {
        "id": "BSRE99zFRYim"
      },
      "source": [
        "Now we call the `show()` functions on these objects:"
      ]
    },
    {
      "cell_type": "code",
      "execution_count": 6,
      "metadata": {
        "id": "u_izhbq6RYin",
        "outputId": "c2ef2efd-7da4-40aa-df70-cddc91f3be52",
        "colab": {
          "base_uri": "https://localhost:8080/"
        }
      },
      "outputs": [
        {
          "output_type": "stream",
          "name": "stdout",
          "text": [
            "Appending to ex01.cpp\n"
          ]
        }
      ],
      "source": [
        "%%writefile -a ex01.cpp\n",
        "\n",
        "d1.show();\n",
        "d2_1.show();\n",
        "d2_2.show();"
      ]
    },
    {
      "cell_type": "markdown",
      "metadata": {
        "id": "TwEca8NsRYin"
      },
      "source": [
        "\n",
        "Let's now see what happens when `Base` pointers are used."
      ]
    },
    {
      "cell_type": "code",
      "execution_count": 7,
      "metadata": {
        "id": "ldAeG7c2RYio",
        "outputId": "9b2d4ae2-afc5-4baa-fb1f-b08c5800550f",
        "colab": {
          "base_uri": "https://localhost:8080/"
        }
      },
      "outputs": [
        {
          "output_type": "stream",
          "name": "stdout",
          "text": [
            "Appending to ex01.cpp\n"
          ]
        }
      ],
      "source": [
        "%%writefile -a ex01.cpp\n",
        "\n",
        "Base* bptr;\n",
        "bptr = &d1;\n",
        "bptr->show();\n",
        "bptr = &d2_1;\n",
        "bptr->show();"
      ]
    },
    {
      "cell_type": "markdown",
      "metadata": {
        "id": "thMBc7RaRYio"
      },
      "source": [
        "Here the `show()`  function of the `Base` class is called instead of the ones from the derived classes. This  is inspite of this  pointer `bptr` pointing to a `Derived1` object first and a `Derived2` object after that. This is example of **early binding** with the compiler determining which version of `show()` to use at compile-time based on the type of the pointer, which is `Base`.\n",
        "\n",
        "Let's try the same thing with a `Base` reference:"
      ]
    },
    {
      "cell_type": "code",
      "execution_count": 8,
      "metadata": {
        "id": "ShrQ10g7RYio",
        "outputId": "c9a7d86d-9361-45f7-b58b-14735d505760",
        "colab": {
          "base_uri": "https://localhost:8080/"
        }
      },
      "outputs": [
        {
          "output_type": "stream",
          "name": "stdout",
          "text": [
            "Appending to ex01.cpp\n"
          ]
        }
      ],
      "source": [
        "%%writefile -a ex01.cpp\n",
        "\n",
        "  Base& bref = d2_2;\n",
        "  bref.show();\n",
        "\n",
        "  return 0;\n",
        "}"
      ]
    },
    {
      "cell_type": "markdown",
      "source": [
        "Let's compile this program and verify its results:"
      ],
      "metadata": {
        "id": "_oNxpxf-rk92"
      }
    },
    {
      "cell_type": "code",
      "source": [
        "!g++ -std=c++17 ex01.cpp -o ex01\n",
        "!./ex01"
      ],
      "metadata": {
        "id": "YFj83yM4oOXH",
        "outputId": "f31dbb94-c2c6-414b-e99d-5d9c5e596040",
        "colab": {
          "base_uri": "https://localhost:8080/"
        }
      },
      "execution_count": 9,
      "outputs": [
        {
          "output_type": "stream",
          "name": "stdout",
          "text": [
            "Derived 1\n",
            "Derived 2\n",
            "Derived 2\n",
            "Base\n",
            "Base\n",
            "Base\n"
          ]
        }
      ]
    },
    {
      "cell_type": "markdown",
      "source": [
        "These calls are behaving as expected, with each invoking the `show()` method defined in its respective class, as determined by the compiler at compile-time."
      ],
      "metadata": {
        "id": "RgXbjsP0oMF6"
      }
    },
    {
      "cell_type": "markdown",
      "metadata": {
        "id": "NWBqPKbcRYio"
      },
      "source": [
        "## Late binding\n",
        "\n",
        "With **Late binding**, the version of the function is decided based on the actual type of the object at run time. To enable **late binding**, we need to use **virtual functions**. Here is an example of virtual functions starting with the base class (refactored0:"
      ]
    },
    {
      "cell_type": "code",
      "execution_count": 10,
      "metadata": {
        "id": "X5_DOaGIRYip",
        "outputId": "4a9df37c-8d79-4ae6-9ed7-511793109d8a",
        "colab": {
          "base_uri": "https://localhost:8080/"
        }
      },
      "outputs": [
        {
          "output_type": "stream",
          "name": "stdout",
          "text": [
            "Overwriting ex02.cpp\n"
          ]
        }
      ],
      "source": [
        "%%writefile ex02.cpp\n",
        "\n",
        "#include <iostream>\n",
        "using namespace std;\n",
        "\n",
        "class Base {\n",
        "public:\n",
        "    virtual void show() { cout << \"Base\\n\"; }\n",
        "    virtual ~Base(){} // Virtual destructor\n",
        "};"
      ]
    },
    {
      "cell_type": "markdown",
      "metadata": {
        "id": "eEn5uKxMRYip"
      },
      "source": [
        "Notice the use of the keyword `virtual` in front of the `show()` function. This makes this function **virtual** and instructs the compiler to enable **late binding** on it. *This is different from the previous use of virtual, which helped with the diamond problem.*\n",
        "\n",
        "Notice that the destructor is also marked as virtual. The destructor should be marked virtual on any class with one or more virtual functions. This is to make sure objects of derived classes are destroyed properly. This applies **polymorphism** and **late binding** to object cleanup and makes sure that the correct destructors based on the actual object types are used when objects are deleted.\n",
        "\n",
        "Let's define two derived classes of this base class:"
      ]
    },
    {
      "cell_type": "code",
      "execution_count": 11,
      "metadata": {
        "id": "xbKwoqT0RYiq",
        "outputId": "e499da72-a179-47c0-cbf2-ad7f13d86f39",
        "colab": {
          "base_uri": "https://localhost:8080/"
        }
      },
      "outputs": [
        {
          "output_type": "stream",
          "name": "stdout",
          "text": [
            "Appending to ex02.cpp\n"
          ]
        }
      ],
      "source": [
        "%%writefile -a ex02.cpp\n",
        "\n",
        "class Derived1 : public Base {\n",
        "public:\n",
        "    void show() { cout << \"Derived 1\\n\"; }\n",
        "};\n",
        "\n",
        "class Derived2 : public Base {\n",
        "public:\n",
        "    void show() { cout << \"Derived 2\\n\"; }\n",
        "};"
      ]
    },
    {
      "cell_type": "markdown",
      "metadata": {
        "id": "qXnKnG7wRYiq"
      },
      "source": [
        "\n",
        "Notice that we did not use the keyword `virtual` inside these derived class; only inside the base. This is because a function needs only be defined as `virtual` once and in the base class. After that, no matter how many times a it is  inherited, it remains virtual.\n",
        "\n",
        "Let's now see what **virtual functions** do, starting with actual stack objects:"
      ]
    },
    {
      "cell_type": "code",
      "execution_count": 12,
      "metadata": {
        "id": "6DjjDKVjRYir",
        "outputId": "58f781ca-04d5-4053-86c0-8e80a1e2836a",
        "colab": {
          "base_uri": "https://localhost:8080/"
        }
      },
      "outputs": [
        {
          "output_type": "stream",
          "name": "stdout",
          "text": [
            "Appending to ex02.cpp\n"
          ]
        }
      ],
      "source": [
        "%%writefile -a ex02.cpp\n",
        "\n",
        "int main() {\n",
        "  Derived1 d1;\n",
        "  Derived2 d2_1, d2_2;"
      ]
    },
    {
      "cell_type": "markdown",
      "metadata": {
        "id": "HrhzN1vHRYir"
      },
      "source": [
        "First, let's call the `show()` function using the **dot operator**."
      ]
    },
    {
      "cell_type": "code",
      "execution_count": 13,
      "metadata": {
        "id": "r2EcK17IRYir",
        "outputId": "c557ba24-cd21-47b1-876d-57031f84f514",
        "colab": {
          "base_uri": "https://localhost:8080/"
        }
      },
      "outputs": [
        {
          "output_type": "stream",
          "name": "stdout",
          "text": [
            "Appending to ex02.cpp\n"
          ]
        }
      ],
      "source": [
        "%%writefile -a ex02.cpp\n",
        "\n",
        "d1.show();\n",
        "d2_1.show();\n",
        "d2_2.show();"
      ]
    },
    {
      "cell_type": "markdown",
      "metadata": {
        "id": "J6DKVPG-RYir"
      },
      "source": [
        "This should work as expected, printing:\n",
        "```txt\n",
        "Derived 1\n",
        "Derived 2\n",
        "Derived 2\n",
        "```\n",
        "\n",
        "Let's see what happens when `Base` pointers are used."
      ]
    },
    {
      "cell_type": "code",
      "execution_count": 14,
      "metadata": {
        "id": "WfeHRV__RYir",
        "outputId": "4a2213c4-797a-4311-9077-e3fb0baedc36",
        "colab": {
          "base_uri": "https://localhost:8080/"
        }
      },
      "outputs": [
        {
          "output_type": "stream",
          "name": "stdout",
          "text": [
            "Appending to ex02.cpp\n"
          ]
        }
      ],
      "source": [
        "%%writefile -a ex02.cpp\n",
        "\n",
        "Base* bptr;\n",
        "bptr = &d1;\n",
        "bptr->show();\n",
        "\n",
        "bptr = &d2_1;\n",
        "bptr->show();"
      ]
    },
    {
      "cell_type": "markdown",
      "metadata": {
        "id": "3QIwuZIzRYis"
      },
      "source": [
        "With pointers, the correct `show()` function from the actual class of the object. The first `show()` function was called on a `Derived1` object pointed to by the `bptr` pointer, so `\"Derived 1\"` is printed. Then the `bptr` pointer is re-pointed to a `Derived2` object. This is why the second `show()` function correctly prints `\"Derived 2\"`. This is **late binding** in action.\n",
        "\n",
        "Let's try the same thing, but  with a `Base` reference instead of a pointer:"
      ]
    },
    {
      "cell_type": "code",
      "execution_count": 15,
      "metadata": {
        "id": "m9s6KzIBRYis",
        "outputId": "994f6e4c-c490-48b1-ef85-9983cf0439a9",
        "colab": {
          "base_uri": "https://localhost:8080/"
        }
      },
      "outputs": [
        {
          "output_type": "stream",
          "name": "stdout",
          "text": [
            "Appending to ex02.cpp\n"
          ]
        }
      ],
      "source": [
        "%%writefile -a ex02.cpp\n",
        "\n",
        "  Base& bref = d2_2;\n",
        "  bref.show();\n",
        "\n",
        "  return 0;\n",
        "}"
      ]
    },
    {
      "cell_type": "markdown",
      "source": [
        "Here too, the correct `show()` function of the actual object should be called (The `\"Derived 2\"` is printed instead of `\"Base\"`).\n",
        "\n",
        "Let's compile this program and verify its results:"
      ],
      "metadata": {
        "id": "bQjT-dTmrFBT"
      }
    },
    {
      "cell_type": "code",
      "source": [
        "!g++ -std=c++17 ex02.cpp -o ex02\n",
        "!./ex02"
      ],
      "metadata": {
        "id": "I1z8GtH0rV8j",
        "outputId": "124432e5-ff68-4231-d80f-f891cd650e66",
        "colab": {
          "base_uri": "https://localhost:8080/"
        }
      },
      "execution_count": 16,
      "outputs": [
        {
          "output_type": "stream",
          "name": "stdout",
          "text": [
            "Derived 1\n",
            "Derived 2\n",
            "Derived 2\n",
            "Derived 1\n",
            "Derived 2\n",
            "Derived 2\n"
          ]
        }
      ]
    },
    {
      "cell_type": "code",
      "source": [],
      "metadata": {
        "id": "eWp6GYdzsF5s"
      },
      "execution_count": 16,
      "outputs": []
    },
    {
      "cell_type": "markdown",
      "metadata": {
        "id": "CSuO72OCRYis"
      },
      "source": [
        "\n",
        "\n",
        "To summarize, A **virtual function**:\n",
        "* is a member function that is declared as `virtual' in a base class and redefined (or overridden) by one or more derived classes.\n",
        "* works like a *normal* non-virtual function when accessed by the **dot operator**.\n",
        "* supports **late binding** as opposed to **early binding** when accessed via a pointer or a reference.\n"
      ]
    },
    {
      "cell_type": "markdown",
      "source": [
        "## CODING CHALLENGE 3(4 parts)\n",
        "\n",
        "**PART 1**: Define a class named `Rectangle` with four data members:\n",
        "* two integers x and y for the coordinates of the upper left corner.\n",
        "* two integers width and height for its width and height.\n",
        "\n",
        "This class should have a constructor that takes four arguments one for each of its data members. It should also have a virtual function named `getName()` that returns the string `\"Rectangle\"` and a virtual destructor.\n"
      ],
      "metadata": {
        "id": "T9NckzK2r9C8"
      }
    },
    {
      "cell_type": "code",
      "execution_count": 17,
      "metadata": {
        "id": "s5-Im6xWRYis",
        "outputId": "1c955711-9140-4899-c8a0-6eb715471bb2",
        "colab": {
          "base_uri": "https://localhost:8080/"
        }
      },
      "outputs": [
        {
          "output_type": "stream",
          "name": "stdout",
          "text": [
            "Writing ch03.cpp\n"
          ]
        }
      ],
      "source": [
        "%%writefile ch03.cpp\n",
        "\n",
        "#include <iostream>\n",
        "#include <string>\n",
        "\n",
        "//TODO: The Rectangle class"
      ]
    },
    {
      "cell_type": "markdown",
      "source": [
        "**PART 2**: Knowing that a square is a rectangle whose width and height are the same, define a class names `Square` that inherits from `Rectangle` This class should have a constructor that takes three arguments (x, y, and width) and delegates initialization to the `Rectangle` constructor. It should also override the `getName()` function by returning the string `\"Square\"`."
      ],
      "metadata": {
        "id": "ib-BS8N6sfo2"
      }
    },
    {
      "cell_type": "code",
      "execution_count": 18,
      "metadata": {
        "id": "llonLsskRYis",
        "outputId": "95461c66-d755-4332-8bfa-aa9f6e1ef3b2",
        "colab": {
          "base_uri": "https://localhost:8080/"
        }
      },
      "outputs": [
        {
          "output_type": "stream",
          "name": "stdout",
          "text": [
            "Appending to ch03.cpp\n"
          ]
        }
      ],
      "source": [
        "%%writefile -a ch03.cpp\n",
        "\n",
        "//TODO: The Square class"
      ]
    },
    {
      "cell_type": "markdown",
      "metadata": {
        "id": "iuIppwk8RYit"
      },
      "source": [
        "**PART 3**: Create two objects: a rectangle and a square. Also, create a rectangle pointer named `rptr` and initialize it to `nullptr`. Then:\n",
        "\n",
        "* point the `rptr` pointer to the rectangle object and use it to call the `getName()` function.\n",
        "* point the `rptr` pointer to the square object and use it to call the `getName()` function."
      ]
    },
    {
      "cell_type": "code",
      "execution_count": 19,
      "metadata": {
        "id": "eK2e61LxRYit",
        "outputId": "a28e83db-aa11-4479-cc2b-fc35c1d2541a",
        "colab": {
          "base_uri": "https://localhost:8080/"
        }
      },
      "outputs": [
        {
          "output_type": "stream",
          "name": "stdout",
          "text": [
            "Appending to ch03.cpp\n"
          ]
        }
      ],
      "source": [
        "%%writefile -a ch03.cpp\n",
        "\n",
        "int main(){\n",
        "\n",
        "  //TODO: Don't close the main yet."
      ]
    },
    {
      "cell_type": "markdown",
      "metadata": {
        "id": "d6_mR38wRYit"
      },
      "source": [
        "**PART 4**: Create another two objects: a rectangle and a square. Create a rectangle reference named `rref` and make it an alias to the square object. Use it to call the `getName()` function."
      ]
    },
    {
      "cell_type": "code",
      "execution_count": 20,
      "metadata": {
        "id": "c1R_5Z1pRYit",
        "outputId": "dc0ab8bc-ed4d-48dc-c9c4-fc6974a6763c",
        "colab": {
          "base_uri": "https://localhost:8080/"
        }
      },
      "outputs": [
        {
          "output_type": "stream",
          "name": "stdout",
          "text": [
            "Appending to ch03.cpp\n"
          ]
        }
      ],
      "source": [
        "%%writefile -a ch03.cpp\n",
        "\n",
        "  //TODO\n",
        "\n",
        "  // Closing the main\n",
        "  return 0;\n",
        "}"
      ]
    },
    {
      "cell_type": "code",
      "source": [
        "!g++ -std=c++17 ch03.cpp -o ch03\n",
        "!./ch03"
      ],
      "metadata": {
        "id": "wMNSMk6TtXPU"
      },
      "execution_count": 21,
      "outputs": []
    },
    {
      "cell_type": "markdown",
      "metadata": {
        "id": "-mmAnNhcRYit"
      },
      "source": [
        "## Pure functions\n",
        "\n",
        "Finally, there is the notion of **pure virtual functions**, which are defined by having the `= 0` at the end of their prototypes. A **pure virtual function** is a function that has no actual definition within the class that declares it; only the prototype is provided. This makes any class declaring one or more pure functions **an abstract class**. which is a class whose implementation is not complete and therefore cannot be used to create objects.\n",
        "\n",
        "Here is an example abstract class.\n",
        "\n",
        "```cpp\n",
        "class SomeClass {\n",
        "public:\n",
        "    virtual void print() = 0; // a pure function\n",
        "};\n",
        "```"
      ]
    },
    {
      "cell_type": "markdown",
      "metadata": {
        "id": "y5osS7UXRYit"
      },
      "source": [
        "Having a **pure virtual function** makes this class **abstract**, which means it is not complete (or concrete) and cannot, therefore, be used to create objects. For example, the following statement throws a compilation error, because `print()` is not implemented, making `SomeClass` an abstract class.\n",
        "\n",
        "```cpp\n",
        "SomeClass sc;\n",
        "```"
      ]
    },
    {
      "cell_type": "markdown",
      "metadata": {
        "id": "cRJZiEMARYiu"
      },
      "source": [
        "To summarize, **abstract classes** are meant to be subclassed or inherited by other classes. Their **pure functions** are like holes that make them incomplete and unfit to be used for creating objects."
      ]
    }
  ],
  "metadata": {
    "kernelspec": {
      "display_name": "Python 3",
      "name": "python3"
    },
    "language_info": {
      "name": "python"
    },
    "colab": {
      "provenance": [],
      "toc_visible": true
    }
  },
  "nbformat": 4,
  "nbformat_minor": 0
}