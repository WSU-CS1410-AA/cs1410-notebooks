{
 "cells": [
  {
   "cell_type": "markdown",
   "metadata": {},
   "source": [
    "# Pointers\n",
    "\n",
    "One of the most powerful and low-level features of C++ is its support for **pointers**, which was inherited from the C language."
   ]
  },
  {
   "cell_type": "code",
   "execution_count": 1,
   "metadata": {},
   "outputs": [],
   "source": [
    "#include <iostream>\n",
    "#include <iomanip>\n",
    "#include <string>\n",
    "using namespace std;"
   ]
  },
  {
   "cell_type": "markdown",
   "metadata": {},
   "source": [
    "Let's start by defining a simple variable:"
   ]
  },
  {
   "cell_type": "code",
   "execution_count": 2,
   "metadata": {},
   "outputs": [],
   "source": [
    "double num = 25.4;"
   ]
  },
  {
   "cell_type": "markdown",
   "metadata": {},
   "source": [
    "This variable has the value `25.4` which is stored somewhere in memory. The variable name `num` is the label (or handle) we get to use to access this value without worrying about the actual memory address of this value. But C++ allows us to get the actual memory address where the value `25.4` is located and use that to access it. \n",
    "\n",
    "Memory addresses are typically 8-byte integers pointing to actual locations in memory. These addresses can be saved into variables as if they are regular values. **A pointer is a variable whose value is a memory address**. In other words, in C++:\n",
    "* actual memory addresses can be assigned to pointers.\n",
    "* a pointer cannot only take a memory address as value. \n",
    "\n",
    "So what is the actual memory address of the above `num` variable? Well, we can get that by placing an ampersand `&` immediately in front of the variable name like this:"
   ]
  },
  {
   "cell_type": "code",
   "execution_count": 3,
   "metadata": {},
   "outputs": [
    {
     "data": {
      "text/plain": [
       "@0x7ffeeb92e9a0"
      ]
     },
     "execution_count": 3,
     "metadata": {},
     "output_type": "execute_result"
    }
   ],
   "source": [
    "&num"
   ]
  },
  {
   "cell_type": "markdown",
   "metadata": {},
   "source": [
    "This `&` operator is called the **address of** operator; it returns the actual memory address of the variable after it. Given these variables, for instance:"
   ]
  },
  {
   "cell_type": "code",
   "execution_count": 4,
   "metadata": {},
   "outputs": [],
   "source": [
    "int var1 = 11;\n",
    "int var2 = 22;\n",
    "int var3 = 33;\n",
    "double dvar = 45.78;"
   ]
  },
  {
   "cell_type": "markdown",
   "metadata": {},
   "source": [
    "We can obtain their memory addresses using the **address of operator** `&` like this:"
   ]
  },
  {
   "cell_type": "code",
   "execution_count": 5,
   "metadata": {
    "scrolled": true
   },
   "outputs": [
    {
     "name": "stdout",
     "output_type": "stream",
     "text": [
      "0x1086fa408\n",
      "0x1086fa40c\n",
      "0x1086fa410\n",
      "0x1086fa418\n"
     ]
    }
   ],
   "source": [
    "cout << &var1 << endl\n",
    "     << &var2 << endl    \n",
    "     << &var3 << endl\n",
    "     << &dvar << endl;"
   ]
  },
  {
   "cell_type": "markdown",
   "metadata": {},
   "source": [
    "Notice that the **address of operator** `&` applies to existing (already defined) variables. It cannot be applied to values. Uncomment the following to see the error you get if you try to get the address of a simple value."
   ]
  },
  {
   "cell_type": "code",
   "execution_count": 6,
   "metadata": {},
   "outputs": [],
   "source": [
    "// &10.5"
   ]
  },
  {
   "cell_type": "markdown",
   "metadata": {},
   "source": [
    "We must not confuse the **address of operator** with references. Both use the ampersand character `&` but: \n",
    "* in the case of the **address of operator**, `&` comes in front of an already defined variable to get its memory address.\n",
    "* in the case of references, `&` follows the data type during the definition of a reference variable.\n",
    "\n",
    "For example, the following are references:"
   ]
  },
  {
   "cell_type": "code",
   "execution_count": 7,
   "metadata": {},
   "outputs": [],
   "source": [
    "// References\n",
    "int &var1_ref = var1; \n",
    "double &num_ref = num;"
   ]
  },
  {
   "cell_type": "markdown",
   "metadata": {},
   "source": [
    "Notice how `&` is used to define two new reference variables (`var1_ref` and `num_ref`) which are aliases of different names for `var1` and `num` respectively.\n",
    "\n",
    "Compare that to the following:"
   ]
  },
  {
   "cell_type": "code",
   "execution_count": 8,
   "metadata": {},
   "outputs": [
    {
     "name": "stdout",
     "output_type": "stream",
     "text": [
      "0x1086fa408\n",
      "0x1086fa2d8\n"
     ]
    }
   ],
   "source": [
    "// Address of\n",
    "cout << &var1 << endl; \n",
    "cout << &num << endl;"
   ]
  },
  {
   "cell_type": "markdown",
   "metadata": {},
   "source": [
    "in which address of `&` operators precede the already defined variables `var1` and `num`.\n",
    "\n",
    "As stated above, a pointer is a variable whose value is a memory address. We use the asterisk `*` operator to define pointers. For example:"
   ]
  },
  {
   "cell_type": "code",
   "execution_count": 9,
   "metadata": {},
   "outputs": [],
   "source": [
    "// Pointer definition: Notice the use of * after the data type\n",
    "int *iptr;    // A pointer to a location that holds an integer\n",
    "double* dptr; // A pointer to a location that holds a double\n",
    "char * ptr;   // A pointer to a location that holds a character"
   ]
  },
  {
   "cell_type": "markdown",
   "metadata": {},
   "source": [
    "The above pointers are not initialized yet. It’s extremely important that every pointer is initialized before it is used. That could happen by assigning the pointer the address of an existing variable using the **address of operator**. "
   ]
  },
  {
   "cell_type": "code",
   "execution_count": 10,
   "metadata": {},
   "outputs": [],
   "source": [
    "iptr = &var1;\n",
    "dptr = &dvar;"
   ]
  },
  {
   "cell_type": "markdown",
   "metadata": {},
   "source": [
    "That means that the actual memory address of the `var1` variable is stored under (or pointed to by) the `iptr` pointer, while the memory address of the `dvar` variable is stored under the `dptr` pointer.\n",
    "\n",
    "The general rule of thumb is that a pointer must always point to a valid memory location or is assigned the `nullptr` value. The above `ptr` pointer has nowhere to point to, so it should be initialized to `nullptr`."
   ]
  },
  {
   "cell_type": "code",
   "execution_count": 11,
   "metadata": {},
   "outputs": [],
   "source": [
    "ptr = nullptr;"
   ]
  },
  {
   "cell_type": "markdown",
   "metadata": {},
   "source": [
    "The keyword `nullptr` was added by C++11 and should be used instead of the C constant `NULL` you might see in legacy C++ code.\n",
    "\n",
    "Once we have a pointer, we can use the asterisk `*` as a **dereference operator** in front of the pointer to retrieve or change the actual value it points to. For example, having `cptr` point to `choice`, we can use `*cptr` to print and change the value of `choice`."
   ]
  },
  {
   "cell_type": "code",
   "execution_count": 12,
   "metadata": {},
   "outputs": [
    {
     "name": "stdout",
     "output_type": "stream",
     "text": [
      "A\n",
      "Z"
     ]
    }
   ],
   "source": [
    "char choice = 'A';\n",
    "char *cptr = &choice;\n",
    "\n",
    "cout << *cptr << endl;\n",
    "*cptr = 'Z';\n",
    "cout << choice;"
   ]
  },
  {
   "cell_type": "markdown",
   "metadata": {},
   "source": [
    "To put it all together, we can use references and pointers as alternatives to accessing the values of variables. Consider the following string variable:"
   ]
  },
  {
   "cell_type": "code",
   "execution_count": 13,
   "metadata": {},
   "outputs": [],
   "source": [
    "string message = \"Welcome!\";"
   ]
  },
  {
   "cell_type": "markdown",
   "metadata": {},
   "source": [
    "We can create an alias name (a reference) for this variable and a pointer storing its actual memory address like this:"
   ]
  },
  {
   "cell_type": "code",
   "execution_count": 14,
   "metadata": {},
   "outputs": [],
   "source": [
    "string &msg = message; // a reference\n",
    "string *sptr = &message; // a pointer"
   ]
  },
  {
   "cell_type": "markdown",
   "metadata": {},
   "source": [
    "Having done that, we now have three ways to access the value of this message:\n",
    "* Using the variable itself:"
   ]
  },
  {
   "cell_type": "code",
   "execution_count": 15,
   "metadata": {},
   "outputs": [
    {
     "name": "stdout",
     "output_type": "stream",
     "text": [
      "Welcome!\n"
     ]
    }
   ],
   "source": [
    "cout << message << endl;"
   ]
  },
  {
   "cell_type": "markdown",
   "metadata": {},
   "source": [
    "* Using its reference `msg`:"
   ]
  },
  {
   "cell_type": "code",
   "execution_count": 16,
   "metadata": {},
   "outputs": [
    {
     "name": "stdout",
     "output_type": "stream",
     "text": [
      "Welcome!\n"
     ]
    }
   ],
   "source": [
    "cout << msg << endl;"
   ]
  },
  {
   "cell_type": "markdown",
   "metadata": {},
   "source": [
    "* And finally using it pointer `sptr`:"
   ]
  },
  {
   "cell_type": "code",
   "execution_count": 17,
   "metadata": {},
   "outputs": [
    {
     "name": "stdout",
     "output_type": "stream",
     "text": [
      "Welcome!\n"
     ]
    }
   ],
   "source": [
    "cout << *sptr << endl;"
   ]
  },
  {
   "cell_type": "markdown",
   "metadata": {},
   "source": [
    "Again, notice, in the case of pointers, the use of the dereference `*` operator before the pointer name. This is because `sptr` stores the actual memory address and therefore has to be dereferenced to the value stored at that location. \n",
    "\n",
    "You might ask why we need pointers if we can use variables instead to read and write to memory. The answer to that is:\n",
    "* Variables are good when you know how much memory your program needs ahead of time, but most of the time we don't know that. We, therefore, need the ability to request memory from the operating system dynamically. Pointers are the only way to do that. We will see how to do that later on\n",
    "* Pointers are critical to implementing certain C++ facilities like arrays.\n",
    "* Pointers can be used for passing arguments to functions."
   ]
  },
  {
   "cell_type": "markdown",
   "metadata": {},
   "source": [
    "### CODING CHALLENGE 1\n",
    "Given the following variables:"
   ]
  },
  {
   "cell_type": "code",
   "execution_count": 18,
   "metadata": {},
   "outputs": [],
   "source": [
    "string greeting = \"Good afternoon!\";\n",
    "short height = 39;\n",
    "double distance = 21.07;\n",
    "int count = 99; "
   ]
  },
  {
   "cell_type": "markdown",
   "metadata": {},
   "source": [
    "Define a pointer for each one of the above variables. Initialize each pointer to the memory address of its variable."
   ]
  },
  {
   "cell_type": "code",
   "execution_count": 19,
   "metadata": {},
   "outputs": [],
   "source": [
    "//TODO"
   ]
  },
  {
   "cell_type": "markdown",
   "metadata": {},
   "source": [
    "Using the pointers above and the **dereference operator** `*`, change the values of these variables to something else of your choosing:"
   ]
  },
  {
   "cell_type": "code",
   "execution_count": 20,
   "metadata": {},
   "outputs": [],
   "source": [
    "//TODO"
   ]
  },
  {
   "cell_type": "markdown",
   "metadata": {},
   "source": [
    "## Array names as constant pointers\n",
    "One of the C++ facilities implemented using pointers is arrays. In fact, an array name is simply a pointer storing the memory address of (or pointing to) the first element. Here is an array named `primes` along with a `for` loop to iterate over and print its elements."
   ]
  },
  {
   "cell_type": "code",
   "execution_count": 21,
   "metadata": {},
   "outputs": [
    {
     "name": "stdout",
     "output_type": "stream",
     "text": [
      "2\n",
      "3\n",
      "5\n",
      "7\n"
     ]
    }
   ],
   "source": [
    "int primes[] = {2, 3, 5, 7};\n",
    "for(int i = 0; i < 4; i++){\n",
    "    cout << primes[i] << endl;\n",
    "}"
   ]
  },
  {
   "cell_type": "markdown",
   "metadata": {},
   "source": [
    "Here the array name `primes` points to the first element of the array, which is the element at index 0, `primes + 1` (which means the next memory location) points to the second element in the array, `primes + 2` to the third and so on. \n",
    "\n",
    "Here is another `for` loop that takes advantage of this fact and prints the elements of this array along with their memory locations. Notice the use of the **dereference operator** `*` to print the actual values."
   ]
  },
  {
   "cell_type": "code",
   "execution_count": 22,
   "metadata": {},
   "outputs": [
    {
     "name": "stdout",
     "output_type": "stream",
     "text": [
      "    LOCATION   VALUE\n",
      " 0x109070d30       2\n",
      " 0x109070d34       3\n",
      " 0x109070d38       5\n",
      " 0x109070d3c       7\n"
     ]
    }
   ],
   "source": [
    "cout << setw(12)<< \"LOCATION\" << setw(8) << \"VALUE\" << endl;\n",
    "for(int i = 0; i < 4; i++){\n",
    "   cout <<  setw(12)<< (primes + i) << setw(8) << *(primes + i) << endl;\n",
    "}"
   ]
  },
  {
   "cell_type": "markdown",
   "metadata": {},
   "source": [
    "Here, `primes` points to the first element in the array, which is `2`. To loop through all the elements, the expression `primes + i` is used. This is an example of that is called **pointer arithmetic**. \n",
    "\n",
    "Array names are, however, constant pointers which means that, unlike other pointers, they cannot be changed to point to something else. For example, we cannot re-point `primes` to another location. The compiler forbids it. Uncomment the following line to see the error."
   ]
  },
  {
   "cell_type": "code",
   "execution_count": 23,
   "metadata": {},
   "outputs": [],
   "source": [
    "// primes = &var1;"
   ]
  },
  {
   "cell_type": "markdown",
   "metadata": {},
   "source": [
    "## Pointer arithmetic and array indexing\n",
    "**Pointer arithmetic** means adding/subtracting integer values to/from a pointer to get to the values that are one, two, three, etc positions after/before the location pointed to by the pointer itself. For example, having a pointer `ptr`, the expression `ptr + 5` points to the location that is 5 positions after the location pointed to by `ptr`. Similarly, the expression `ptr - 3` points to the location that is 3 positions before the location pointed to by `ptr`\n",
    "\n",
    "Here is the previous loop again:"
   ]
  },
  {
   "cell_type": "code",
   "execution_count": 24,
   "metadata": {},
   "outputs": [
    {
     "name": "stdout",
     "output_type": "stream",
     "text": [
      "    LOCATION   VALUE\n",
      " 0x109070d30       2\n",
      " 0x109070d34       3\n",
      " 0x109070d38       5\n",
      " 0x109070d3c       7\n"
     ]
    }
   ],
   "source": [
    "cout << setw(12)<< \"LOCATION\" << setw(8) << \"VALUE\" << endl;\n",
    "for(int i = 0; i < 4; i++){\n",
    "   cout <<  setw(12)<< (primes + i) << setw(8) << *(primes + i) << endl;\n",
    "}"
   ]
  },
  {
   "cell_type": "markdown",
   "metadata": {},
   "source": [
    "This loop has four iterations involving pointer arithmetic:\n",
    "* in the first iteration, `i = 0` and the expression `primes + 0` is the same location as `primes` which points to the first element.\n",
    "* in the second iteration, `i = 1` and the expression `primes + 1` points to the element that is one position after the first element pointed to by `primes`.\n",
    "* in the third iteration, `i = 2` and the expression `primes + 2` points to the element that is two positions after the first element pointed to by `primes`.\n",
    "* in the fourth and last iteration, `i = 3` and the expression `primes + 3` points to the element that is three positions after the first element pointed to by `primes`.\n",
    "\n",
    "\n",
    "Notice here that the expression `*(primes + i)` involves both pointer arithmetic (`primes + i`) and dereferencing (`*`). This expression returns the value at the memory location that is `i` positions after the location pointed to by `primes`. We can simplify this expression using array indexing in which we treat the pointer as if it was an array. Using array indexing, the expression `*(primes + i)` can be replaced by `primes[i]`. This means we can rewrite the above loop in a more readable way:"
   ]
  },
  {
   "cell_type": "code",
   "execution_count": 25,
   "metadata": {},
   "outputs": [
    {
     "name": "stdout",
     "output_type": "stream",
     "text": [
      "    LOCATION   VALUE\n",
      " 0x109070d30       2\n",
      " 0x109070d34       3\n",
      " 0x109070d38       5\n",
      " 0x109070d3c       7\n"
     ]
    }
   ],
   "source": [
    "cout << setw(12)<< \"LOCATION\" << setw(8) << \"VALUE\" << endl;\n",
    "for(int i = 0; i < 4; i++){\n",
    "   cout <<  setw(12)<< (primes + i) << setw(8) << primes[i] << endl;\n",
    "}"
   ]
  },
  {
   "cell_type": "markdown",
   "metadata": {},
   "source": [
    "### CODING CHALLENGE 2\n",
    "Utah has the following counties:\n",
    "\n",
    "    Beaver\n",
    "    Box Elder\n",
    "    Cache\n",
    "    Carbon\n",
    "    Daggett\n",
    "    Davis\n",
    "    Duchesne\n",
    "    Emery\n",
    "    Garfield\n",
    "    Grand\n",
    "    Iron\n",
    "    Juab\n",
    "    Kane\n",
    "    Millard\n",
    "    Morgan\n",
    "    Piute\n",
    "    Rich\n",
    "    Salt Lake\n",
    "    San Juan\n",
    "    Sanpete\n",
    "    Sevier\n",
    "    Summit\n",
    "    Tooele\n",
    "    Uintah\n",
    "    Utah\n",
    "    Wasatch\n",
    "    Washington\n",
    "    Wayne\n",
    "    Weber\n",
    " \n",
    "Define an array named `utahCounties` and initialize it to these counties. Use a `for` loop to display these counties side by side with their memory locations."
   ]
  },
  {
   "cell_type": "code",
   "execution_count": 26,
   "metadata": {},
   "outputs": [],
   "source": [
    "//TODO"
   ]
  },
  {
   "cell_type": "markdown",
   "metadata": {},
   "source": [
    "## Passing arguments by pointer\n",
    "Pointers are also used to efficiently pass large data to functions. Functions with pointer parameters such as the `centimizeByPtr` function here is said to be **passing arguments by pointer**. This is similar to passing by reference in the sense that the original value is accessible from the function and if the function changes that value, that change is seen by the calling program. Here is an example with the three ways of passing arguments to functions side by side: \n",
    "* by value, \n",
    "* by reference, and \n",
    "* by pointer."
   ]
  },
  {
   "cell_type": "code",
   "execution_count": 27,
   "metadata": {
    "scrolled": true
   },
   "outputs": [],
   "source": [
    "double centimizeByVal(double len){ \n",
    "    return len * 2.54; \n",
    "}"
   ]
  },
  {
   "cell_type": "code",
   "execution_count": 28,
   "metadata": {},
   "outputs": [],
   "source": [
    "void centimizeByRef(double& len){ \n",
    "    len = len * 2.54; \n",
    "}"
   ]
  },
  {
   "cell_type": "code",
   "execution_count": 29,
   "metadata": {},
   "outputs": [],
   "source": [
    "void centimizeByPtr(double* len){ \n",
    "    *len = *len * 2.54; \n",
    "}"
   ]
  },
  {
   "cell_type": "markdown",
   "metadata": {},
   "source": [
    "Here is an example of using these functions:"
   ]
  },
  {
   "cell_type": "code",
   "execution_count": 30,
   "metadata": {},
   "outputs": [
    {
     "name": "stdout",
     "output_type": "stream",
     "text": [
      "11\n",
      "27.94\n",
      "11\n",
      "\n",
      "27.94\n",
      "\n",
      "12\n",
      "30.48\n"
     ]
    }
   ],
   "source": [
    "double n = 11;\n",
    "cout << n << endl;\n",
    "cout << centimizeByVal(n) << endl << n << \"\\n\\n\";\n",
    "\n",
    "centimizeByRef(n);\n",
    "cout << n << endl;\n",
    "\n",
    "n = 12; cout << \"\\n\" << n << endl;\n",
    "centimizeByPtr(&n);\n",
    "cout << n << endl;"
   ]
  },
  {
   "cell_type": "markdown",
   "metadata": {},
   "source": [
    "The rule of thumb here is to use:\n",
    "* passing by value for simple arguments (integers, characters, booleans, floats, and doubles)\n",
    "* passing by pointer for arrays. Remember: array names are themselves pointers.\n",
    "* passing by reference or by pointer for complex arguments (strings, objects, structures, and so on)\n",
    "* and given a choice between by reference and by pointer, choose by reference because references are safer than pointers."
   ]
  },
  {
   "cell_type": "markdown",
   "metadata": {},
   "source": [
    "### CODING CHALLENGE 3\n",
    "In the code cell below, define the following function.\n",
    "``` c++\n",
    "void swapValues(double*, double*);\n",
    "```\n",
    "\n",
    "In the cell after that, test your function."
   ]
  },
  {
   "cell_type": "code",
   "execution_count": 31,
   "metadata": {},
   "outputs": [],
   "source": [
    "//TODO: definition"
   ]
  },
  {
   "cell_type": "code",
   "execution_count": 32,
   "metadata": {},
   "outputs": [],
   "source": [
    "//TODO: testing"
   ]
  },
  {
   "cell_type": "markdown",
   "metadata": {},
   "source": [
    "## Passing arrays to functions\n",
    "Arrays in C++ are passed to functions by pointer. With array names being simply pointers to their first elements, we can pass arrays to functions using two different but equivalent syntaxes:\n",
    "* using the array syntax\n",
    "* using the pointer syntax\n",
    "\n",
    "\n",
    "Here is an example. We start by defining an array of two double values:"
   ]
  },
  {
   "cell_type": "code",
   "execution_count": 33,
   "metadata": {},
   "outputs": [],
   "source": [
    "double vals[] = { 11.5, 17.1, 10.6, 9.78 };"
   ]
  },
  {
   "cell_type": "markdown",
   "metadata": {},
   "source": [
    "We want to be able to reverse (swap) the first two elements of this array. So we create two functions: one using the array syntax and the other using the pointer syntax. Here is the first function:"
   ]
  },
  {
   "cell_type": "code",
   "execution_count": 34,
   "metadata": {},
   "outputs": [],
   "source": [
    "// Function definition using the array syntax\n",
    "void swapFirstTwoElements1(double arr[]){\n",
    " double temp = arr[0];\n",
    " arr[0] = arr[1];\n",
    " arr[1] = temp;\n",
    "}"
   ]
  },
  {
   "cell_type": "markdown",
   "metadata": {},
   "source": [
    "And here is the second function using the pointer syntax:"
   ]
  },
  {
   "cell_type": "code",
   "execution_count": 35,
   "metadata": {},
   "outputs": [],
   "source": [
    "// Function definition using the pointer syntax\n",
    "void swapFirstTwoElements2(double* arr){\n",
    " double temp = *arr;\n",
    " *arr = *(arr + 1);\n",
    " *(arr + 1) = temp;\n",
    "}"
   ]
  },
  {
   "cell_type": "markdown",
   "metadata": {},
   "source": [
    "We can can test both functions:"
   ]
  },
  {
   "cell_type": "code",
   "execution_count": 36,
   "metadata": {},
   "outputs": [
    {
     "name": "stdout",
     "output_type": "stream",
     "text": [
      "Initially:\n",
      "11.5, 17.1\n",
      "After swapFirstTwoElements1:\n",
      "17.1, 11.5\n",
      "After swapFirstTwoElements2:\n",
      "11.5, 17.1\n"
     ]
    }
   ],
   "source": [
    "// Testing\n",
    "cout << \"Initially:\" << endl;\n",
    "cout << *vals << \", \" << *(vals + 1) << endl;\n",
    "\n",
    "// Calling first function\n",
    "swapFirstTwoElements1(vals);\n",
    "cout << \"After swapFirstTwoElements1:\" << endl;\n",
    "cout << *vals << \", \" << *(vals + 1) << endl;\n",
    "\n",
    "// Calling second function\n",
    "swapFirstTwoElements2(vals);\n",
    "cout << \"After swapFirstTwoElements2:\" << endl;\n",
    "cout << *vals << \", \" << *(vals + 1) << endl;"
   ]
  },
  {
   "cell_type": "markdown",
   "metadata": {},
   "source": [
    "Notice in both function calls, we used the array name `vals`.\n",
    "\n",
    "Notice also how the second function uses pointer arithmetic in expressions such as `*(arr + 1)`. We can make it simpler by using array indexing (using brackets `[]`) to replace `*(arr + 1)` with `arr[1]`. This allows us to refactor the second function into a simpler third version that has the best features of both versions 1 and 2."
   ]
  },
  {
   "cell_type": "code",
   "execution_count": 37,
   "metadata": {},
   "outputs": [],
   "source": [
    "void swapFirstTwoElements3(double* arr){\n",
    "  double temp = arr[0];\n",
    "  arr[0] = arr[1];\n",
    "  arr[1] = temp;\n",
    "}"
   ]
  },
  {
   "cell_type": "code",
   "execution_count": 38,
   "metadata": {},
   "outputs": [
    {
     "name": "stdout",
     "output_type": "stream",
     "text": [
      "Initially:\n",
      "11.5, 17.1\n",
      "After swapFirstTwoElements1:\n",
      "17.1, 11.5\n",
      "After swapFirstTwoElements2:\n",
      "11.5, 17.1\n",
      "After swapFirstTwoElements2:\n",
      "17.1, 11.5\n"
     ]
    }
   ],
   "source": [
    "// Testing\n",
    "cout << \"Initially:\" << endl;\n",
    "cout << *vals << \", \" << *(vals + 1) << endl;\n",
    "\n",
    "// Calling first function\n",
    "swapFirstTwoElements1(vals);\n",
    "cout << \"After swapFirstTwoElements1:\" << endl;\n",
    "cout << *vals << \", \" << *(vals + 1) << endl;\n",
    "\n",
    "// Calling second function\n",
    "swapFirstTwoElements2(vals);\n",
    "cout << \"After swapFirstTwoElements2:\" << endl;\n",
    "cout << *vals << \", \" << *(vals + 1) << endl;\n",
    "\n",
    "// Calling third function\n",
    "swapFirstTwoElements2(vals);\n",
    "cout << \"After swapFirstTwoElements2:\" << endl;\n",
    "cout << *vals << \", \" << *(vals + 1) << endl;"
   ]
  },
  {
   "cell_type": "markdown",
   "metadata": {},
   "source": [
    "## Memory management\n",
    "When a program is loaded into memory, that memory is organized into three segments: \n",
    "* the text segment is where the actual executable program code is loaded,\n",
    "* the stack segment is where local variables are allocated, and\n",
    "* finally the heap segment, where global variables and dynamic memory are allocated.\n",
    "\n",
    "And all the variables we've seen so far have been local variables created inside functions, whether it's the main function or other functions. These variables are known to the compiler before the program runs and are allocated in the stack segment. Stack variables are limited by the fact that the sizes of their memory footprints must be known before the program runs. They, however, have the advantage of automatic memory management which means we don't need to worry about cleaning up after them.\n",
    "\n",
    "Here are some examples of stack variables."
   ]
  },
  {
   "cell_type": "code",
   "execution_count": 39,
   "metadata": {},
   "outputs": [],
   "source": [
    "#include <vector>\n",
    "int xvar;\n",
    "string str = \"Good morning!\";\n",
    "double scores[100];\n",
    "vector<char> choices;"
   ]
  },
  {
   "cell_type": "markdown",
   "metadata": {},
   "source": [
    "But often it is not easy, or even possible, for a program to know how much memory it will need before it runs. These programs require the ability to request memory dynamically at run-time. C++ gives us the keyword `new` to do that. This **new operator** allocates memory dynamically by requesting it from the operating system and returns a pointer to it.\n",
    "\n",
    "However, these dynamically allocated memory locations are not automatically returned to the operating system when the program is done with them. It's up to us, the programmers, to do that or risk leaking memory. For cleaning up after these dynamically allocated memory locations, C++ provides us with the keyword `delete`. \n",
    "\n",
    "Here is an example of dynamically allocating memory for a double variable using the `new` operator and returning it back to the operating system using the `delete` operator."
   ]
  },
  {
   "cell_type": "code",
   "execution_count": 40,
   "metadata": {},
   "outputs": [
    {
     "name": "stdout",
     "output_type": "stream",
     "text": [
      "Enter score:\n",
      "89\n",
      "The entered score is 89 is stored at 0x7ff1a2ac2ae0\n"
     ]
    }
   ],
   "source": [
    "double* score = new double;\n",
    "\n",
    "cout << \"Enter score:\" << endl;\n",
    "cin >> *score;\n",
    "\n",
    "cout << \"The entered score is \" << *score << \" is stored at \" << score << endl;\n",
    "\n",
    "// Cleaning after score\n",
    "delete score;"
   ]
  },
  {
   "cell_type": "markdown",
   "metadata": {},
   "source": [
    "The above example uses the `new` and `delete` operators to allocates and clean up after a single value. What if we want a big memory chunk that accommodates an array of values? Well, C++ provides the `new[]` and `delete[]` operators for that. Here is an example of allocating memory for 5 integers, reading the values of those integers from the keyboard, printing them, and finally returning their allocated memory back to the operating system."
   ]
  },
  {
   "cell_type": "code",
   "execution_count": 41,
   "metadata": {
    "scrolled": false
   },
   "outputs": [
    {
     "name": "stdout",
     "output_type": "stream",
     "text": [
      "Enter number 1: 5\n",
      "Enter number 2: 3\n",
      "Enter number 3: 7\n",
      "Enter number 4: 8\n",
      "Enter number 5: 2\n",
      "   INDEX    NUMBER\n",
      "       0         5\n",
      "       1         3\n",
      "       2         7\n",
      "       3         8\n",
      "       4         2\n"
     ]
    }
   ],
   "source": [
    "int *numbers = new int[5];\n",
    "\n",
    "for(int i = 0; i < 5; i++){\n",
    "    cout << \"Enter number \"<< i + 1 << \": \";\n",
    "    cin >> numbers[i];\n",
    "}\n",
    "\n",
    "cout << setw(8) << \"INDEX\" << setw(10) << \"NUMBER\" << endl;\n",
    "for(int i = 0; i < 5; i++){\n",
    "    cout << setw(8) << i << setw(10) << numbers[i] << endl;\n",
    "}\n",
    "// Clean after numbers; return them to the OS\n",
    "delete[] numbers;"
   ]
  },
  {
   "cell_type": "markdown",
   "metadata": {},
   "source": [
    "And once an object or array is deleted, it's considered trash and must not be used again.\n",
    "\n",
    "### CODING CHALLENGE 4\n",
    "Define a float pointer and use the `new` operator to allocate memory for it. Prompt the user to enter a value for it and print the entered value. When done, clean up after it using the `delete` operator."
   ]
  },
  {
   "cell_type": "code",
   "execution_count": 42,
   "metadata": {},
   "outputs": [],
   "source": [
    "//TODO"
   ]
  },
  {
   "cell_type": "markdown",
   "metadata": {},
   "source": [
    "## The arrow `->` operator\n",
    "\n",
    "The above `new`, `new[]`, `delete`, and `delete[]` operators work the same for structures and classes. For example, given the following structure:"
   ]
  },
  {
   "cell_type": "code",
   "execution_count": 43,
   "metadata": {},
   "outputs": [],
   "source": [
    "struct Time {\n",
    "    int hrs;\n",
    "    int min;\n",
    "    int sec; \n",
    "};"
   ]
  },
  {
   "cell_type": "markdown",
   "metadata": {},
   "source": [
    "We can create a dynamically allocated structure object using the `new` operator like this."
   ]
  },
  {
   "cell_type": "code",
   "execution_count": 44,
   "metadata": {},
   "outputs": [],
   "source": [
    "Time *t = new Time;"
   ]
  },
  {
   "cell_type": "markdown",
   "metadata": {},
   "source": [
    "And because `t` is a pointer, we can use the **dereference operator** `*` to access the actual structure object and make changes to it."
   ]
  },
  {
   "cell_type": "code",
   "execution_count": 45,
   "metadata": {},
   "outputs": [
    {
     "name": "stdout",
     "output_type": "stream",
     "text": [
      "11:45:17\n"
     ]
    }
   ],
   "source": [
    "(*t).hrs = 11;\n",
    "(*t).min = 45;\n",
    "(*t).sec = 17;\n",
    "\n",
    "cout << (*t).hrs << \":\" << (*t).min << \":\" << (*t).sec << endl;"
   ]
  },
  {
   "cell_type": "markdown",
   "metadata": {},
   "source": [
    "But having to keep typing `(*t)` every time we want to access the structure value is too much. So C++ provides a better alternative called the arrow `->` operator, which allows us to rewrite the above code as:"
   ]
  },
  {
   "cell_type": "code",
   "execution_count": 46,
   "metadata": {},
   "outputs": [
    {
     "name": "stdout",
     "output_type": "stream",
     "text": [
      "11:45:17\n"
     ]
    }
   ],
   "source": [
    "t->hrs = 11;\n",
    "t->min = 45;\n",
    "t->sec = 17;\n",
    "\n",
    "cout << t->hrs << \":\" << t->min << \":\" << t->sec << endl;"
   ]
  },
  {
   "cell_type": "markdown",
   "metadata": {},
   "source": [
    "which is much cleaner. Just remember that the arrow `->` operator can only be used after pointers to structure and/or class objects.\n",
    "\n",
    "To return the allocated memory back to the operating system we run:"
   ]
  },
  {
   "cell_type": "code",
   "execution_count": 47,
   "metadata": {},
   "outputs": [],
   "source": [
    "delete t;"
   ]
  },
  {
   "cell_type": "markdown",
   "metadata": {},
   "source": [
    "Finally, here is an example defining and initializing a dynamically allocated array of 3 times."
   ]
  },
  {
   "cell_type": "code",
   "execution_count": 48,
   "metadata": {},
   "outputs": [],
   "source": [
    "Time* times = new Time[3] {\n",
    "    { 11, 45, 17 },\n",
    "    { 22, 50, 15 },\n",
    "    { 19, 30, 10 },\n",
    "}"
   ]
  },
  {
   "cell_type": "markdown",
   "metadata": {},
   "source": [
    "Then we display these times with and without the `->` operators."
   ]
  },
  {
   "cell_type": "code",
   "execution_count": 49,
   "metadata": {
    "scrolled": true
   },
   "outputs": [
    {
     "name": "stdout",
     "output_type": "stream",
     "text": [
      "11:45:17\n",
      "22:50:15\n",
      "19:30:10\n"
     ]
    }
   ],
   "source": [
    "for(int i = 0; i < 3; i++) {\n",
    "    cout << (times + i)->hrs << \":\" << (times + i)->min << \":\" << (times + i)->sec << endl;\n",
    "}"
   ]
  },
  {
   "cell_type": "markdown",
   "metadata": {},
   "source": [
    "and here is the same loop without the `->` operators (using array indexing and dot operators)."
   ]
  },
  {
   "cell_type": "code",
   "execution_count": 50,
   "metadata": {},
   "outputs": [
    {
     "name": "stdout",
     "output_type": "stream",
     "text": [
      "11:45:17\n",
      "22:50:15\n",
      "19:30:10\n"
     ]
    }
   ],
   "source": [
    "for(int i = 0; i < 3; i++) {\n",
    "    cout << times[i].hrs << \":\" << times[i].min << \":\" << times[i].sec << endl;\n",
    "}"
   ]
  },
  {
   "cell_type": "markdown",
   "metadata": {},
   "source": [
    "### CODING CHALLENGE 5\n",
    "\n",
    "Define a `Date` structure with day, month, and year members and use it to define and initialize dynamically allocated array of 5 holidays of your choice using the `new []` operator. Print these holiday dates and return the allocated memory back to the operating system using the `delete []` operator."
   ]
  },
  {
   "cell_type": "code",
   "execution_count": 51,
   "metadata": {},
   "outputs": [],
   "source": [
    "//TODO"
   ]
  },
  {
   "cell_type": "markdown",
   "metadata": {},
   "source": [
    "## A data structure example: A singly-linked list\n",
    "\n",
    "Pointers are essential to implementing efficient data structures and their algorithms. You will see this in more detail when you take the **data structures and algorithms** course. Here we look at a simple fundamental data structure named **singly-linked list** and we implement it using pointers. \n",
    "\n",
    "While built-in arrays are fast, they suffer from three limitations:\n",
    "- They are fixed in size and their sizes must be known at compile-time.\n",
    "- They are contiguous which can make it difficult to create very large arrays in fragmented or limited memory.\n",
    "- It is not efficient to insert an item in the middle of an array because that would require moving some existing items by one location.\n",
    "\n",
    "Arrays are made of a set of adjacent items like the following:\n",
    "\n",
    "```\n",
    "    +---+---+---+-----+---+\n",
    "    | 8 | 5 | 9 | ... | 4 |\n",
    "    +---+---+---+-----+---+\n",
    "```\n",
    "which means that going from one item to the next involves incrementing the current index by one.\n",
    "\n",
    "Linked lists on the other hand have their items scattered all over as you see below.\n",
    "\n",
    "\n",
    "```\n",
    "                   +---+                                       +---+\n",
    "                   | 5 |                                       | 4 |\n",
    "                   +---+       +---+                           +---+\n",
    "                               | 9 |                    \n",
    "                               +---+                      \n",
    "        +---+                                    +-----+    \n",
    "        | 8 |                                    | ... |\n",
    "        +---+                                    +-----+\n",
    "```\n",
    "\n",
    "For these scattered items to be made into a list, we have to link them together and indicate for each one of them what and where the next item is. We also need to mark where the beginning and end of this list are.\n",
    "\n",
    "We call the data structure that maintains all these links and marks a **linked list**. Such data structure gives us something like this:\n",
    "\n",
    "```\n",
    "                   +---+                                         +---+\n",
    "               +-->| 5 |---+                               +---->| 4 |--> nullptr\n",
    "               |   +---+   |    +---+                      |     +---+\n",
    "               |           +--->| 9 |-----+                |       ▲\n",
    "               |                +---+     |                |       |\n",
    "        +---+  |                          |     +-----+    |      tail\n",
    " head-->| 8 |--+                          +---->| ... |----+\n",
    "        +---+                                   +-----+\n",
    "```\n",
    "\n",
    "with `head` marking the start of the list, `tail` marking the end of it, and arrow pointers emitting from one item and pointing to the next. This will be a **singly-linked list** in which every item has a single pointer to the item that comes after it. This list allows us to iterate over its items starting with the `head` until we reach the tail. It does not however allow for going the opposite direction: `tail` to `head`.\n",
    "\n",
    "Let's see what implementing this singly-linked list looks like. This implementation will, again, show you how the topics you've been learning for the past few weeks (loops and conditionals, functions, structures, and pointers) are brought together nicely to make something as essential as a singly-linked list.\n",
    "\n",
    "We start with a structure named `Item` representing the items on this list. Each item has two members: the value of the item and a pointer to the next item."
   ]
  },
  {
   "cell_type": "code",
   "execution_count": 52,
   "metadata": {},
   "outputs": [],
   "source": [
    "struct Item {\n",
    "    int value;\n",
    "    Item* next;\n",
    "};"
   ]
  },
  {
   "cell_type": "markdown",
   "metadata": {},
   "source": [
    "We also need a structure to represent the list with three members: `head` which is a pointer to the first item in the list, `tail` which points to the last item in the list, and `size` for keeping track of how many items are in the list."
   ]
  },
  {
   "cell_type": "code",
   "execution_count": 53,
   "metadata": {},
   "outputs": [],
   "source": [
    "struct List {\n",
    "    Item* head;\n",
    "    Item* tail;\n",
    "    int size;\n",
    "};"
   ]
  },
  {
   "cell_type": "markdown",
   "metadata": {},
   "source": [
    "We then define four functions to operate on and maintain the list:\n",
    "* One function is for adding a new item to the end of the list. Here we create an item using the given value and add it to the end of the list. If the list is empty, the item becomes both the head and tail of the list. Else, it is only the tail of the list."
   ]
  },
  {
   "cell_type": "code",
   "execution_count": 54,
   "metadata": {},
   "outputs": [],
   "source": [
    "void addItem(List* list, int val){\n",
    "    // Create the item first\n",
    "    Item* item = new Item;\n",
    "    item->value = val;\n",
    "    item->next = nullptr;\n",
    "\n",
    "    if(list->head){// if list is not empty\n",
    "        list->tail->next = item; // adds item to the tail of the list\n",
    "    }else{ // if list is empty\n",
    "        list->head =item; // The added item will be the head of the list\n",
    "    }\n",
    "\n",
    "    list->tail = item; // Making the item the tail of the list\n",
    "    list->size++;\n",
    "}"
   ]
  },
  {
   "cell_type": "markdown",
   "metadata": {},
   "source": [
    "* Another one is for searching whether an item with a given value is in the list. We start at the head of the list and use a `while` loop (you can use other loops if you want to, but the `while` loop works best here) to iterate over all the items until the value is found. Notice here how when the while loop reaches the `nullptr` link at the end, it stops. This is because C++, conveniently, converts null pointers to false in loops and if statements. "
   ]
  },
  {
   "cell_type": "code",
   "execution_count": 55,
   "metadata": {},
   "outputs": [],
   "source": [
    "bool searchForItem(List* list, int val){\n",
    "    Item* current = list->head;\n",
    "    while(current){\n",
    "        if(current->value == val){\n",
    "            return true; // Found\n",
    "        }\n",
    "\n",
    "        current = current->next;\n",
    "    }\n",
    "\n",
    "    return false; // Not found\n",
    "}"
   ]
  },
  {
   "cell_type": "markdown",
   "metadata": {},
   "source": [
    "* Another function is for removing an item from the list. This is the most complex function of all four functions. First, we search for an item using the given value. If not found we do nothing. If found, we have multiple cases to consider. Is the item to be removed the head of the list? If so, we remove it and make its next item the new head. If not, we need to iterate over the items and find the one to be removed along with the item before it. Then we link the item before to the item after completely bypassing the item to be removed. Before returning we decrement the size by one and return the memory of the removed item back to the operating system."
   ]
  },
  {
   "cell_type": "code",
   "execution_count": 56,
   "metadata": {},
   "outputs": [],
   "source": [
    "void removeItem(List* list, int val){\n",
    "    if(searchForItem(list, val)){ \n",
    "        Item* to_be_removed = nullptr;\n",
    "        if(list->head->value == val){ // If the item to be removed is the head\n",
    "            to_be_removed = list->head;\n",
    "            list->head = to_be_removed->next;\n",
    "        } else { // If it is not the head\n",
    "            Item* before_item = list->head;\n",
    "            Item* current = list->head->next;\n",
    "            while(current){\n",
    "                if(current->value == val){\n",
    "                    to_be_removed = current;\n",
    "                    \n",
    "                    before_item->next = current->next; // Bypassing the item to be removed\n",
    "                    \n",
    "                    if(to_be_removed == list->tail){ // If the item to be removed is the tail\n",
    "                        list->tail = before_item; // Make the item before the new tail\n",
    "                    }\n",
    "\n",
    "                    break;\n",
    "                }\n",
    "\n",
    "                before_item = current;\n",
    "                current = current->next;\n",
    "            }\n",
    "        }\n",
    "        \n",
    "        list->size--;\n",
    "        delete to_be_removed;           \n",
    "    }\n",
    "}"
   ]
  },
  {
   "cell_type": "markdown",
   "metadata": {},
   "source": [
    "* Finally one function is for printing the items on the list.\n"
   ]
  },
  {
   "cell_type": "code",
   "execution_count": 57,
   "metadata": {},
   "outputs": [],
   "source": [
    "void printList(List* list){\n",
    "    Item* current = list->head;\n",
    "    while(current){\n",
    "        cout << current->value;\n",
    "        if(current == list->head){\n",
    "            cout << \"(head)->\";\n",
    "        } else if(current == list->tail){\n",
    "            cout << \"(tail)->\";\n",
    "        } else {\n",
    "            cout << \"->\";\n",
    "        } \n",
    "        \n",
    "        current = current->next;\n",
    "    }\n",
    "    \n",
    "    cout << \"nullptr -- \" << list->size << \" items found.\"<< endl;\n",
    "}"
   ]
  },
  {
   "cell_type": "markdown",
   "metadata": {},
   "source": [
    "That is it. Having implemented these functions, we test our implementation. First, we create an empty list."
   ]
  },
  {
   "cell_type": "code",
   "execution_count": 58,
   "metadata": {},
   "outputs": [],
   "source": [
    "List lst = { nullptr, nullptr, 0 };"
   ]
  },
  {
   "cell_type": "markdown",
   "metadata": {},
   "source": [
    "We then add a few items and print the list. Notice the use of the address of `&` operator to pass the list to the `addItem` function by pointer."
   ]
  },
  {
   "cell_type": "code",
   "execution_count": 59,
   "metadata": {
    "scrolled": true
   },
   "outputs": [
    {
     "name": "stdout",
     "output_type": "stream",
     "text": [
      "12(head)->23->56->94->88->77(tail)->nullptr -- 6 items found.\n"
     ]
    }
   ],
   "source": [
    "addItem(&lst, 12);\n",
    "addItem(&lst, 23);\n",
    "addItem(&lst, 56);\n",
    "addItem(&lst, 94);\n",
    "addItem(&lst, 88);\n",
    "addItem(&lst, 77);\n",
    "\n",
    "printList(&lst);"
   ]
  },
  {
   "cell_type": "markdown",
   "metadata": {},
   "source": [
    "Let's search for 13 which should not be found (0 is printed for false)."
   ]
  },
  {
   "cell_type": "code",
   "execution_count": 60,
   "metadata": {},
   "outputs": [
    {
     "name": "stdout",
     "output_type": "stream",
     "text": [
      "0"
     ]
    }
   ],
   "source": [
    "cout << searchForItem(&lst, 13);"
   ]
  },
  {
   "cell_type": "markdown",
   "metadata": {},
   "source": [
    "Let's also search for 23 which should be found (1 is printed for true)."
   ]
  },
  {
   "cell_type": "code",
   "execution_count": 61,
   "metadata": {},
   "outputs": [
    {
     "name": "stdout",
     "output_type": "stream",
     "text": [
      "1"
     ]
    }
   ],
   "source": [
    "cout << searchForItem(&lst, 23);"
   ]
  },
  {
   "cell_type": "markdown",
   "metadata": {},
   "source": [
    "We then remove a couple of items: the head item 12, the tail item 77, and an item in the middle 56. We print the list before and after each removal."
   ]
  },
  {
   "cell_type": "code",
   "execution_count": 62,
   "metadata": {},
   "outputs": [
    {
     "name": "stdout",
     "output_type": "stream",
     "text": [
      "        Originally: 12(head)->23->56->94->88->77(tail)->nullptr -- 6 items found.\n",
      " After removing 12: 23(head)->56->94->88->77(tail)->nullptr -- 5 items found.\n",
      " After removing 77: 23(head)->56->94->88(tail)->nullptr -- 4 items found.\n",
      " After removing 56: 23(head)->94->88(tail)->nullptr -- 3 items found.\n"
     ]
    }
   ],
   "source": [
    "cout << setw(20) << \"Originally: \";\n",
    "printList(&lst);\n",
    "\n",
    "removeItem(&lst, 12);\n",
    "cout << setw(20) <<  \"After removing 12: \";\n",
    "printList(&lst);\n",
    "\n",
    "removeItem(&lst, 77);\n",
    "cout << setw(20) << \"After removing 77: \";\n",
    "printList(&lst);\n",
    "\n",
    "removeItem(&lst, 56);\n",
    "cout << setw(20) << \"After removing 56: \";\n",
    "printList(&lst);"
   ]
  },
  {
   "cell_type": "markdown",
   "metadata": {},
   "source": [
    "Finally, can we use the `new` operator to create the list? Of course!"
   ]
  },
  {
   "cell_type": "code",
   "execution_count": 63,
   "metadata": {},
   "outputs": [
    {
     "name": "stdout",
     "output_type": "stream",
     "text": [
      "204(head)->230->516->100(tail)->nullptr -- 4 items found.\n"
     ]
    }
   ],
   "source": [
    "List *anotherList = new List {nullptr, nullptr, 0};\n",
    "addItem(anotherList, 204);\n",
    "addItem(anotherList, 230);\n",
    "addItem(anotherList, 516);\n",
    "addItem(anotherList, 100);\n",
    "printList(anotherList);"
   ]
  },
  {
   "cell_type": "markdown",
   "metadata": {},
   "source": [
    "### CODING CHALLENGE 6\n",
    "\n",
    "Call the `removeItem` function enough times to delete all items from the above `anotherList`. Print the list after each item removal. Use the `delete` operator to return the memory of `anotherList` back to the operating system."
   ]
  },
  {
   "cell_type": "code",
   "execution_count": 64,
   "metadata": {},
   "outputs": [],
   "source": [
    "// TODO"
   ]
  }
 ],
 "metadata": {
  "kernelspec": {
   "display_name": "C++14",
   "language": "C++14",
   "name": "xcpp14"
  },
  "language_info": {
   "codemirror_mode": "text/x-c++src",
   "file_extension": ".cpp",
   "mimetype": "text/x-c++src",
   "name": "c++",
   "version": "14"
  }
 },
 "nbformat": 4,
 "nbformat_minor": 2
}
