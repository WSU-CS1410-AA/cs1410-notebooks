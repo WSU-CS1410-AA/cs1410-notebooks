{
  "cells": [
    {
      "cell_type": "markdown",
      "metadata": {
        "id": "L13XPVzJwW4m"
      },
      "source": [
        "<a target=\"_blank\" href=\"https://colab.research.google.com/github/WSU-CS1410-AA/cs1410-notebooks/blob/main/Notebook11-streams_and_files.ipynb\">\n",
        "  <img src=\"https://colab.research.google.com/assets/colab-badge.svg\" alt=\"Open In Colab\"/>\n",
        "</a>"
      ]
    },
    {
      "cell_type": "markdown",
      "metadata": {
        "id": "KI9_ZPs3wW4s"
      },
      "source": [
        "# Streams and Files\n",
        "\n",
        "A stream is a flow of data into or out of a program. It is a metaphor to help visualize data produced by and/or consumed by a program. When data flows into a program we call that an input stream and when data flows out of a program we call it an output stream.\n",
        "\n",
        "Streams are ubiquitous in C++. And we have been using them since the very beginning. This is because `cout` is an output stream and `cin` is an input stream.\n",
        "\n",
        "In addition to the standard output stream `cout`, C++ has a standard error stream named `cerr`, which is used to report errors. Compare the following two output messages: one using `cout` and the other using `cerr`."
      ]
    },
    {
      "cell_type": "code",
      "execution_count": 5,
      "metadata": {
        "id": "Lm7XGJfnwW4s",
        "outputId": "ee4db042-3194-4ce8-adb0-d61f2214e70f",
        "colab": {
          "base_uri": "https://localhost:8080/"
        }
      },
      "outputs": [
        {
          "output_type": "stream",
          "name": "stdout",
          "text": [
            "Overwriting ex01.cpp\n"
          ]
        }
      ],
      "source": [
        "%%writefile ex01.cpp\n",
        "\n",
        "#include <iostream>\n",
        "#include <iomanip>\n",
        "#include <string>\n",
        "#include <cmath>\n",
        "\n",
        "using namespace std;\n",
        "\n",
        "int main(){\n",
        "  cout << \"Welcome to C++\" << endl;\n",
        "  cerr << \"An error has happened\";\n",
        "\n",
        "  return 0;\n",
        "}"
      ]
    },
    {
      "cell_type": "code",
      "execution_count": 6,
      "metadata": {
        "id": "bLNZgNcmwW4t",
        "outputId": "5727af79-66ce-474d-c2ed-1528ec72a85b",
        "colab": {
          "base_uri": "https://localhost:8080/"
        }
      },
      "outputs": [
        {
          "output_type": "stream",
          "name": "stdout",
          "text": [
            "Welcome to C++\n",
            "An error has happened"
          ]
        }
      ],
      "source": [
        "!g++ -std=c++17 ex01.cpp -o ex01\n",
        "!./ex01"
      ]
    },
    {
      "cell_type": "markdown",
      "metadata": {
        "id": "kxvfyVcfwW4v"
      },
      "source": [
        "Here is the hierarchy of the most popular streams in C++. This hierarchy of classes is an example of what a good object-oriented programming design involving multiple inheritance looks like.\n",
        "\n",
        "```text\n",
        "                   ios_base\n",
        "                      △\n",
        "                      |\n",
        "                      |\n",
        "        +----------▷ ios ◁-------------+    \n",
        "        |                              |\n",
        "        |                              |\n",
        "     istream ◁------+    +------▷ ostream\n",
        "        △           \\    /             △\n",
        "        |            \\  /              |\n",
        "        |             \\/               |\n",
        "     ifstream      iostream        ofstream\n",
        "                    △    △\n",
        "                    |    |\n",
        "           +--------+    +--------+\n",
        "           |                      |\n",
        "           |                      |\n",
        "        fstream             stringstream\n",
        "```\n",
        "\n",
        "As you can see, the `ios_base` class is the grandparent of all stream classes. It is subclassed by the `ios` class, which stands for input-output-stream and has nothing to do with the iOS operating system from Apple. The `ios` class is the parent of both the `istream` class, which is the input stream class of `cin`, and the `ostream` class, which is the output stream class of `cout` and `cerr`. The `iostream` class is an example of multiple inheritances with its two parents: `istream` and `ostream`. All of these classes are for the standard input and output (keyboard and console screen).\n",
        "\n",
        "For working with files, we have three stream classes: the input file stream `ifstream` class for reading data from a file, the output file stream `ofstream` class for writing data to a file, and the input and output file stream `fstream` class for reading data from and writing data to the same file.\n",
        "\n",
        "Going down the hierarchy, we can also see that the `stringstream` class is both an input and an output stream.\n",
        "\n",
        "Having a hierarchy like this showcases the importance of object-oriented programming. It brings simplicity and consistency to how we handle input and output and makes working with file and string streams identical to using `cout` and `cin`.\n",
        "\n",
        "To get started working with files, we must first include the `<fstream>` header file.\n",
        "\n",
        "```cpp\n",
        "#include <fstream>\n",
        "```"
      ]
    },
    {
      "cell_type": "markdown",
      "metadata": {
        "id": "DAvG4DuwwW41"
      },
      "source": [
        "## Writing to a file\n",
        "\n",
        "To write to a file we use the `ofstream` class. Here is a simple example of writing the string `\"Hello, World!\"` to a text file named `hello.txt`."
      ]
    },
    {
      "cell_type": "code",
      "execution_count": null,
      "metadata": {
        "id": "kJddnJG1wW41"
      },
      "outputs": [],
      "source": [
        "%%writefile ex02.cpp\n",
        "\n",
        "#include <fstream>\n",
        "\n",
        "using namespace std;\n",
        "\n",
        "int main(){\n",
        "  ofstream out(\"hello.txt\");\n",
        "\n",
        "  out << \"Hello World!\" << endl;\n",
        "\n",
        "  out.close();\n",
        "\n",
        "  return 0;\n",
        "}"
      ]
    },
    {
      "cell_type": "code",
      "source": [],
      "metadata": {
        "id": "KsqGdtCHxwEK"
      },
      "execution_count": null,
      "outputs": []
    },
    {
      "cell_type": "markdown",
      "metadata": {
        "id": "EP31EUL6wW41"
      },
      "source": [
        "As you can see, creating a file involves nothing more than creating an object of the `ofstream` and passing the name of the file as an argument to its constructor. We called this object `out` but it could be any valid C++ identifier. Having done that, the variable `out` is now an output stream just like `cout` is, and we can use it exactly the same way.\n",
        "\n",
        "And when we are done writing to the file, it is important to close the file by calling `out.close()`.\n",
        "\n",
        "After running the code above, go to the folder where this notebook is saved, you will find a file named `hello.txt`. This file did not exist before and was created by running the above cell code. Open it to see its contents.\n",
        "\n",
        "## Appending text to an existing file\n",
        "\n",
        "If you have an existing file that you want to add contents to, you can open it in the same way as before except for adding the extra constructor argument (`ios::app`) to tell C++ to append to the file if it exists instead of writing over it. Since we already have the `hello.txt` file from the example above, let us open this file and append some new text to it. Here we'll prompt the user for a name, read that name from the standard input, and then append the line `\"Welcome <name> to C++ programming!\"` to the end of the file. Run the following code cell and then open the `hello.txt` file again to make sure that it now has the appended new text line at the end."
      ]
    },
    {
      "cell_type": "code",
      "execution_count": null,
      "metadata": {
        "id": "CAW24tyEwW42",
        "outputId": "e457faa4-bf9f-4554-abcb-43cbe1cbf73b"
      },
      "outputs": [
        {
          "name": "stdout",
          "output_type": "stream",
          "text": [
            "Enter your first name: John\n"
          ]
        }
      ],
      "source": [
        "cout << \"Enter your first name: \";\n",
        "string name;\n",
        "cin >> name;\n",
        "\n",
        "ofstream out2(\"hello.txt\", ios::app);\n",
        "out2 << \"Welcome \" << name << \" to C++ programming!\" << endl;\n",
        "out2.close();"
      ]
    },
    {
      "cell_type": "markdown",
      "metadata": {
        "id": "48pJlGhIwW42"
      },
      "source": [
        "### CODING CHALLENGE 1\n",
        "\n",
        "In the code cell below, write a program that prompts the user for words (until they type STOP), reads these words from the keyboard, and saves them one word per line to a file named `words.txt`."
      ]
    },
    {
      "cell_type": "code",
      "execution_count": null,
      "metadata": {
        "id": "3LP-sARzwW42"
      },
      "outputs": [],
      "source": [
        "//TODO"
      ]
    },
    {
      "cell_type": "markdown",
      "metadata": {
        "id": "q_hpOZs7wW42"
      },
      "source": [
        "### CODING CHALLENGE 2\n",
        "\n",
        "In the code cell below, write a program that prompts the user for two more words, reads these two words from the keyboard, and saves them one word per line at the bottom the `words.txt` file that was created by the previous coding challenge."
      ]
    },
    {
      "cell_type": "code",
      "execution_count": null,
      "metadata": {
        "id": "YnG5UWgAwW43"
      },
      "outputs": [],
      "source": [
        "//TODO"
      ]
    },
    {
      "cell_type": "markdown",
      "metadata": {
        "id": "oNheul7_wW43"
      },
      "source": [
        "## Using `setw` to organize file output into tables\n",
        "\n",
        "Because  `ofstream` is an output stream, we can use `setw` with it just like we did with `cout`. The code cell below uses `setw` to generate a data table like this and save it into a file named `multable.txt`:\n",
        "\n",
        "| x | 2 * x | 3 * x | 4 * x | 5 * x |\n",
        "| - | ----- | ----- | ----- | ----- |\n",
        "| 1 | 2     | 3     | 4     | 5     |\n",
        "| 2 | 4     | 6     | 8     | 10    |\n",
        "| 3 | 6     | 9     | 12    | 15    |\n",
        "| 4 | 8     | 12    | 16    | 20    |\n",
        "| 5 | 10    | 15    | 20    | 25    |"
      ]
    },
    {
      "cell_type": "code",
      "execution_count": null,
      "metadata": {
        "id": "bi95aLIMwW43"
      },
      "outputs": [],
      "source": [
        "ofstream mt_out(\"multable.txt\");\n",
        "mt_out << setw(4) << \"x\" << setw(6) << \"2*x\" << setw(6) <<\"3*x\" << setw(6) <<\"4*x\" << setw(6) << \"5*x\" << endl;\n",
        "for(int x = 1; x <= 5; x++){\n",
        "  mt_out << setw(4) << x;\n",
        "  for(int y = 2; y <= 5; y++){\n",
        "      mt_out << setw(6) << x * y;\n",
        "  }\n",
        "\n",
        "  mt_out << endl;\n",
        "}\n",
        "mt_out.close();"
      ]
    },
    {
      "cell_type": "markdown",
      "metadata": {
        "id": "Ki1mlyu6wW43"
      },
      "source": [
        "Under the folder where this notebook is saved, there should be a file named `multable.txt`. Open it to see its formatted table-like contents."
      ]
    },
    {
      "cell_type": "markdown",
      "metadata": {
        "id": "4l-lxxmMwW44"
      },
      "source": [
        "### CODING CHALLENGE 3\n",
        "\n",
        "In the code cell below, write a program that prompts the user for a year (say 2019, for instance) and output a file named `daysNmonths.txt` containing a table of how many days in each month for that given year in a format like this:\n",
        "\n",
        "| YEAR | MONTH     | DAYS |\n",
        "| ---- | --------- | ---- |\n",
        "| 2019 | January   | 31   |\n",
        "| 2019 | February  | 28   |\n",
        "| 2019 | March     | 31   |\n",
        "| 2019 | April     | 30   |\n",
        "| 2019 | May       | 31   |\n",
        "| 2019 | June      | 30   |\n",
        "| 2019 | July      | 31   |\n",
        "| 2019 | August    | 31   |\n",
        "| 2019 | September | 30   |\n",
        "| 2019 | October   | 31   |\n",
        "| 2019 | November  | 30   |\n",
        "| 2019 | December  | 31   |\n",
        "\n",
        "Remember that February has 29 on leap years and 28 days on other years. A leap year is a year that is divisible by 4 and is not divisible by 100. That is:"
      ]
    },
    {
      "cell_type": "code",
      "execution_count": null,
      "metadata": {
        "id": "6wDNajVHwW44"
      },
      "outputs": [],
      "source": [
        "//TODO"
      ]
    },
    {
      "cell_type": "markdown",
      "metadata": {
        "id": "W40GwpZTwW44"
      },
      "source": [
        "## Reading from a file\n",
        "\n",
        "Reading from a text file is simple too. It starts with creating an `ifstream` object and passing the name of the file we want to read from as argument to its constructor. The file we are trying to read must exist already. This new input file stream object can then used in the same way we use `cin`, because both of them are input streams.\n",
        "\n",
        "Here is an example program reading the contents of the previously created `multable.txt` file line by line and displaying them to the screen."
      ]
    },
    {
      "cell_type": "code",
      "execution_count": null,
      "metadata": {
        "id": "gAyj3w7LwW44",
        "outputId": "822fb29b-7fb2-43a1-db0b-d256cdb2843b"
      },
      "outputs": [
        {
          "name": "stdout",
          "output_type": "stream",
          "text": [
            "   x   2*x   3*x   4*x   5*x\n",
            "   1     2     3     4     5\n",
            "   2     4     6     8    10\n",
            "   3     6     9    12    15\n",
            "   4     8    12    16    20\n",
            "   5    10    15    20    25\n"
          ]
        }
      ],
      "source": [
        "ifstream in(\"multable.txt\");\n",
        "string line;\n",
        "\n",
        "while(getline(in, line)){\n",
        "    cout << line << endl;\n",
        "}\n",
        "\n",
        "in.close();"
      ]
    },
    {
      "cell_type": "markdown",
      "metadata": {
        "id": "avHfuRAxwW45"
      },
      "source": [
        "Here, we use the `while` loop to make sure we read everything in the file, and we use the `getline()` function to read it line by line. Notice how we use the `getline(in, line)` as a condition for this loop. This `getline()` function will keep returning `true` until end of file is encountered.\n",
        "\n",
        "But what if, instead of reading this file line by line, we want to read it a value by value. To do this, we need to pay attention to the following:\n",
        "* the data type of each value. The header row is all strings while the subsequent rows are all integers.\n",
        "* how many values per row (5 in this example)\n",
        "\n",
        "Here is a simple program for doing that."
      ]
    },
    {
      "cell_type": "code",
      "execution_count": null,
      "metadata": {
        "id": "rDvhULi8wW45",
        "outputId": "5ac9da94-3dbf-4a31-ca31-adc4145b3393"
      },
      "outputs": [
        {
          "name": "stdout",
          "output_type": "stream",
          "text": [
            "   x   2*x   3*x   4*x   5*x\n",
            "   1     2     3     4     5\n",
            "   2     4     6     8    10\n",
            "   3     6     9    12    15\n",
            "   4     8    12    16    20\n",
            "   5    10    15    20    25\n"
          ]
        }
      ],
      "source": [
        "ifstream mt_in(\"multable.txt\");\n",
        "string hx, h2x, h3x, h4x, h5x; // one per header; five headers total.\n",
        "int x, x2, x3, x4, x5; // one per value per row: five values per row total;\n",
        "\n",
        "// Read the headers\n",
        "mt_in >> hx >> h2x >> h3x >> h4x >> h5x;\n",
        "// Outout the headers\n",
        "cout << setw(4) << hx << setw(6) << h2x << setw(6) << h3x << setw(6) << h4x << setw(6) << h5x << endl;\n",
        "\n",
        "// Read and output the numbers one row at a time\n",
        "while(mt_in >> x >> x2 >> x3 >> x4 >> x5){\n",
        "    cout << setw(4) << x << setw(6) << x2 << setw(6) << x3 << setw(6) << x4 << setw(6) << x5 << endl;\n",
        "}\n",
        "\n",
        "mt_in.close();"
      ]
    },
    {
      "cell_type": "markdown",
      "metadata": {
        "id": "vxj1UfMfwW45"
      },
      "source": [
        "Notice how we but the `mt_in >> x >> x2 >> x3 >> x4 >> x5` expression as a condition to the `while` loop. This is, again, to instruct c++ to keep reading from the file until end of file is reached. When end of file is encountered, this expression will evaluate to `false` causing the while loop to terminate.\n",
        "\n",
        "### CODING CHALLENGE 4\n",
        "\n",
        "Write a program that reads the contents of the `daysNmonths.txt` file created by the previous coding challenge value by value and displays only the second and third columns to the screen."
      ]
    },
    {
      "cell_type": "code",
      "execution_count": null,
      "metadata": {
        "id": "6YRSmu6iwW45"
      },
      "outputs": [],
      "source": [
        "//TODO"
      ]
    },
    {
      "cell_type": "markdown",
      "metadata": {
        "id": "yEiwXUgYwW45"
      },
      "source": [
        "## Working with errors\n",
        "\n",
        "Working with files can result in errors, We might be trying to read from a file the does not exist or write to a file that we don't have permission to write to. All stream objects come with error states that we can check to make sure that these streams are in good condition. We can use the `eof()` function to check if the end of file has been reached. We can use the `fail()` function to see if the attempted stream operation fails. Similarly, the `bad()` function can be called to check if an invalid operation was attempted and the `good()` function can be used to make sure the stream is in good condition.\n",
        "\n",
        "Here is an example program using the error-checking functions above to read and display the contents of the previously created `hello.txt` file. First, we changed the while loop condition to the `eof()` function instead. This means keep reading data from the input file as long as it is not end of file. Second, we make sure that the stream is in good condition using the `good()` function before we printed out the results."
      ]
    },
    {
      "cell_type": "code",
      "execution_count": null,
      "metadata": {
        "id": "UMvCFIVwwW46",
        "outputId": "23aa72d1-c961-4797-fb77-caca8a469d56"
      },
      "outputs": [
        {
          "name": "stdout",
          "output_type": "stream",
          "text": [
            "Hello World!\n",
            "Welcome John to C++ programming!\n"
          ]
        }
      ],
      "source": [
        "ifstream h_in(\"hello.txt\");\n",
        "string text;\n",
        "while(!h_in.eof()){\n",
        "    getline(h_in, text);\n",
        "    if(h_in.good()){\n",
        "         cout << text << endl;\n",
        "    }\n",
        "}\n",
        "h_in.close();"
      ]
    },
    {
      "cell_type": "markdown",
      "metadata": {
        "id": "ObKIXzRBwW46"
      },
      "source": [
        "## Output manipulators\n",
        "\n",
        "To support streams, C++ provides many manipulators to control and format the data that goes into these streams.  One such manipulator is the `setw` manipulator we have been using all along. But `setw` is not the only manipulator we can use. There are many more manipulators to take advantage of and all these manipulators require the header file `<iomanip>`.\n",
        "\n",
        "To start, we can use `setfill` to change the fill character used by `setw` to something other than the space character, which is the default. This manipulator takes a single filling character as an argument. Here is an example using the `setfill` manipulator to replace the spaces in the previous multiplication table with periods `.`. Notice how, unlike `setw`, we only had to call `setfill` once; subsequent `setw` calls will use the new filling character.\n",
        "\n",
        "Run the following code cell multiple times and each time change the fill character to something else."
      ]
    },
    {
      "cell_type": "code",
      "execution_count": null,
      "metadata": {
        "scrolled": true,
        "id": "_Oz04XeEwW46",
        "outputId": "cb67cdf1-d000-4683-a94d-5e410b758294"
      },
      "outputs": [
        {
          "name": "stdout",
          "output_type": "stream",
          "text": [
            "...x...2*x...3*x...4*x...5*x\n",
            "...1.....2.....3.....4.....5\n",
            "...2.....4.....6.....8....10\n",
            "...3.....6.....9....12....15\n",
            "...4.....8....12....16....20\n",
            "...5....10....15....20....25\n"
          ]
        }
      ],
      "source": [
        "cout << setfill('.');\n",
        "cout << setw(4) << \"x\" << setw(6) << \"2*x\" << setw(6) <<\"3*x\" << setw(6) <<\"4*x\" << setw(6) << \"5*x\" << endl;\n",
        "for(int x = 1; x <= 5; x++){\n",
        "  cout << setw(4) << x;\n",
        "  for(int y = 2; y <= 5; y++){\n",
        "      cout << setw(6) << x * y;\n",
        "  }\n",
        "\n",
        "  cout << endl;\n",
        "}"
      ]
    },
    {
      "cell_type": "markdown",
      "metadata": {
        "id": "G0uPOGRmwW46"
      },
      "source": [
        "To go back to using spaces, we call `setfill(' ')`:"
      ]
    },
    {
      "cell_type": "code",
      "execution_count": null,
      "metadata": {
        "id": "J_adHjLYwW47"
      },
      "outputs": [],
      "source": [
        "cout << setfill(' ');"
      ]
    },
    {
      "cell_type": "markdown",
      "metadata": {
        "id": "k5L1v0fGwW47"
      },
      "source": [
        "We can also use the `fixed` and `setprecision`  manipulators to format `double` and/or `float` numbers. `fixed` instructs C++ to display numbers in fixed-point notation (using the decimal point). `setprecision`, on the other hand, sets the precision of the numbers. It takes an integer argument which can mean one of two things depending on whether the manipulator `fixed` is also used :\n",
        "* If `fixed` is not used, it specifies the number of digits to display including both the digits before and after the point.\n",
        "* If `fixed` is used, it specifies the number of decimal points after the point.\n",
        "\n",
        "The cell code below displays, in a table, the numbers 1 through 10 along with their square roots; no `setprecision` and no `fixed` yet. Notice that to use the `sqrt()` function for calculating the square root, we need to include the `<cmath>` header file."
      ]
    },
    {
      "cell_type": "code",
      "execution_count": null,
      "metadata": {
        "scrolled": true,
        "id": "lqVQJhGmwW47",
        "outputId": "2d3a421e-487f-43a1-cf02-5e673b0d9d8f"
      },
      "outputs": [
        {
          "name": "stdout",
          "output_type": "stream",
          "text": [
            "  1:          1\n",
            "  2:    1.41421\n",
            "  3:    1.73205\n",
            "  4:          2\n",
            "  5:    2.23607\n",
            "  6:    2.44949\n",
            "  7:    2.64575\n",
            "  8:    2.82843\n",
            "  9:          3\n",
            " 10:    3.16228\n"
          ]
        }
      ],
      "source": [
        "for(double i = 1; i <= 10; i++) {\n",
        "    cout << setw(3) << i << \": \" << setw(10) << sqrt(i) << endl;\n",
        "}"
      ]
    },
    {
      "cell_type": "markdown",
      "metadata": {
        "id": "tRa0nigJwW48"
      },
      "source": [
        "Here is the code above with precision set to 4; no `fixed`."
      ]
    },
    {
      "cell_type": "code",
      "execution_count": null,
      "metadata": {
        "id": "jt96UmSuwW49",
        "outputId": "b1366684-afc2-456f-f980-7c1f89293af6"
      },
      "outputs": [
        {
          "name": "stdout",
          "output_type": "stream",
          "text": [
            "  1:          1\n",
            "  2:      1.414\n",
            "  3:      1.732\n",
            "  4:          2\n",
            "  5:      2.236\n",
            "  6:      2.449\n",
            "  7:      2.646\n",
            "  8:      2.828\n",
            "  9:          3\n",
            " 10:      3.162\n"
          ]
        }
      ],
      "source": [
        "cout << setprecision(4);\n",
        "for(double i = 1; i <= 10; i++) {\n",
        "    cout << setw(3) << i << \": \" << setw(10) << sqrt(i) << endl;\n",
        "}"
      ]
    },
    {
      "cell_type": "markdown",
      "metadata": {
        "id": "d0OBqxICwW49"
      },
      "source": [
        "Here is the code above using `fixed` and with precision set to 4."
      ]
    },
    {
      "cell_type": "code",
      "execution_count": null,
      "metadata": {
        "scrolled": true,
        "id": "2qMMVhyDwW4-",
        "outputId": "cea16f9b-3f54-4123-ae26-0723b518bd97"
      },
      "outputs": [
        {
          "name": "stdout",
          "output_type": "stream",
          "text": [
            "1.0000:     1.0000\n",
            "2.0000:     1.4142\n",
            "3.0000:     1.7321\n",
            "4.0000:     2.0000\n",
            "5.0000:     2.2361\n",
            "6.0000:     2.4495\n",
            "7.0000:     2.6458\n",
            "8.0000:     2.8284\n",
            "9.0000:     3.0000\n",
            "10.0000:     3.1623\n"
          ]
        }
      ],
      "source": [
        "cout << setprecision(4) << fixed;\n",
        "for(double i = 1; i <= 10; i++) {\n",
        "    cout << setw(3) << i << \": \" << setw(10) << sqrt(i) << endl;\n",
        "}"
      ]
    },
    {
      "cell_type": "markdown",
      "metadata": {
        "id": "j0fdwaGAwW4-"
      },
      "source": [
        "Now all numbers have exactly 4 decimal places. To turn `fixed` off, we call:"
      ]
    },
    {
      "cell_type": "code",
      "execution_count": null,
      "metadata": {
        "id": "K4t1JA_7wW4-"
      },
      "outputs": [],
      "source": [
        "cout << resetiosflags(ios::fixed);"
      ]
    },
    {
      "cell_type": "markdown",
      "metadata": {
        "id": "woJ3WI55wW4-"
      },
      "source": [
        "Unless the precision changes for one number to the next, we only needed to call `setprecision` once. Here is another example where we display the square root of 2 in increasing precisions."
      ]
    },
    {
      "cell_type": "code",
      "execution_count": null,
      "metadata": {
        "scrolled": true,
        "id": "ovdt4Qf_wW4-",
        "outputId": "4efc1325-fa34-49a9-ce7c-d78b1ff54027"
      },
      "outputs": [
        {
          "name": "stdout",
          "output_type": "stream",
          "text": [
            "  1              1\n",
            "  2            1.4\n",
            "  3           1.41\n",
            "  4          1.414\n",
            "  5         1.4142\n",
            "  6        1.41421\n",
            "  7       1.414214\n",
            "  8      1.4142136\n",
            "  9     1.41421356\n",
            " 10    1.414213562\n"
          ]
        }
      ],
      "source": [
        "for(int i = 1; i <= 10; i++) {\n",
        "    cout << setw(3) << i << setw(15) << setprecision(i) << sqrt(2.0) << endl;\n",
        "}"
      ]
    },
    {
      "cell_type": "markdown",
      "metadata": {
        "id": "kmltgvbOwW4_"
      },
      "source": [
        "By default, the columns above are right-aligned. We can use the manipulators `left` and `right` to change that. Here is the example above with left-aligned columns."
      ]
    },
    {
      "cell_type": "code",
      "execution_count": null,
      "metadata": {
        "id": "mVQQMak7wW4_",
        "outputId": "4cdf6074-24a5-49f6-e89b-2c38aa44862b"
      },
      "outputs": [
        {
          "name": "stdout",
          "output_type": "stream",
          "text": [
            "1  1              \n",
            "2  1.4            \n",
            "3  1.41           \n",
            "4  1.414          \n",
            "5  1.4142         \n",
            "6  1.41421        \n",
            "7  1.414214       \n",
            "8  1.4142136      \n",
            "9  1.41421356     \n",
            "10 1.414213562    \n"
          ]
        }
      ],
      "source": [
        "cout << left;\n",
        "for(int i = 1; i <= 10; i++) {\n",
        "    cout << setw(3) << i << setw(15) << setprecision(i) << sqrt(2.0) << endl;\n",
        "}"
      ]
    },
    {
      "cell_type": "markdown",
      "metadata": {
        "id": "I8KXbGFRwW4_"
      },
      "source": [
        "To switch back to right-alignment we use the `right` manipulator."
      ]
    },
    {
      "cell_type": "code",
      "execution_count": null,
      "metadata": {
        "scrolled": true,
        "id": "wmhoz7jAwW4_",
        "outputId": "208798e8-9f5b-45c2-873e-e7449edddf68"
      },
      "outputs": [
        {
          "name": "stdout",
          "output_type": "stream",
          "text": [
            "  1              1\n",
            "  2            1.4\n",
            "  3           1.41\n",
            "  4          1.414\n",
            "  5         1.4142\n",
            "  6        1.41421\n",
            "  7       1.414214\n",
            "  8      1.4142136\n",
            "  9     1.41421356\n",
            " 10    1.414213562\n"
          ]
        }
      ],
      "source": [
        "cout << right;\n",
        "for(int i = 1; i <= 10; i++) {\n",
        "    cout << setw(3) << i << setw(15) << setprecision(i) << sqrt(2.0) << endl;\n",
        "}"
      ]
    },
    {
      "cell_type": "markdown",
      "metadata": {
        "id": "XQvIjxAHwW4_"
      },
      "source": [
        "Moreover, we can use the `dec`, `oct`, and `hex` manipulators to display integers in **decimal**, **octal**, and **hexadecimal** formats respectively.  Here is an example displaying the integers 1 through 20 in decimal, octal, lowercase hexadecimal, and uppercase hexadecimal formats."
      ]
    },
    {
      "cell_type": "code",
      "execution_count": null,
      "metadata": {
        "scrolled": true,
        "id": "GTaZic8ewW5A",
        "outputId": "ee78987c-2c96-4d16-9af3-ef9231e88f15"
      },
      "outputs": [
        {
          "name": "stdout",
          "output_type": "stream",
          "text": [
            "DEC   OCT   hex   HEX   \n",
            "1     1     1     1     \n",
            "3     3     3     3     \n",
            "5     5     5     5     \n",
            "7     7     7     7     \n",
            "9     11    9     9     \n",
            "11    13    b     B     \n",
            "13    15    d     D     \n",
            "15    17    f     F     \n",
            "17    21    11    11    \n",
            "19    23    13    13    \n"
          ]
        }
      ],
      "source": [
        "cout << left << setw(6) << \"DEC\"\n",
        "     << setw(6) << \"OCT\"\n",
        "     << setw(6) << \"hex\"\n",
        "     << setw(6) << \"HEX\" << endl;\n",
        "\n",
        "for(int i = 1; i <= 20; i += 2){\n",
        "  cout << setw(6) << dec << i\n",
        "       << setw(6) << oct << i\n",
        "       << setw(6) << nouppercase << hex << i\n",
        "       << setw(6) << uppercase << hex << i << endl;\n",
        "}"
      ]
    },
    {
      "cell_type": "markdown",
      "metadata": {
        "id": "Szj2lvRJwW5A"
      },
      "source": [
        "Notice that the `uppercase` and `nouppercase` manipulators are not for converting arbitrary strings to uppercase or lowercase. They are rather for changing the letters in the hexadecimal number system to uppercase or lowercase, respectively.\n",
        "\n",
        "It is important to finally remember that all these manipulators work the same for any output stream regardless of whether it is a standard output stream like `cout`,  an output file stream, or even a stringstream. Such consistency across all streams is extremely important and useful.\n",
        "\n",
        "### CODING CHALLENGE 5\n",
        "\n",
        "Write a program that writes the above decimal/octal/hexadecimal table to a file named `numbers.txt`."
      ]
    },
    {
      "cell_type": "code",
      "execution_count": null,
      "metadata": {
        "id": "YGhmraikwW5A"
      },
      "outputs": [],
      "source": [
        "//TODO"
      ]
    },
    {
      "cell_type": "markdown",
      "metadata": {
        "id": "BTcyncKVwW5A"
      },
      "source": [
        "## Putting it all together\n",
        "\n",
        "Let's have a final example that shows how to combine as many of these manipulators as possible. In this example, we have the following structure that represents digital colors. A digital color has three components: red, green, and blue. Each of these components takes a value between 0 and 255. We also define an array of the seven colors of the rainbow."
      ]
    },
    {
      "cell_type": "code",
      "execution_count": null,
      "metadata": {
        "id": "RryotwnIwW5A"
      },
      "outputs": [],
      "source": [
        "struct Color {\n",
        "    int r, g, b;\n",
        "    string name;\n",
        "};\n",
        "\n",
        "Color rainbow[] = {\n",
        "    {255, 0, 0, \"Red\"},\n",
        "    {255, 127, 0, \"Orange\"},\n",
        "    {255, 255, 0, \"Yello\"},\n",
        "    {0, 255, 0, \"Green\"},\n",
        "    {0, 0, 255, \"Blue\"},\n",
        "    {75, 0, 130, \"Indigo\"},\n",
        "    {143, 0, 255, \"Violet\"}\n",
        "};"
      ]
    },
    {
      "cell_type": "markdown",
      "metadata": {
        "id": "WrFwgRVUwW5A"
      },
      "source": [
        "Here is a loop that displays these colors with their decimal and hexadecimal representations in the following format.\n",
        "\n",
        "```text\n",
        "COLOR      DECIMAL(rgb)          HEXADECIMAL(rgb)\n",
        "========== ===================== ================\n",
        "Red....... 255   0   0 ......... FF 0  0  \n",
        "Orange.... 255 127   0 ......... FF 7F 0  \n",
        "Yello..... 255 255   0 ......... FF FF 0  \n",
        "Green.....   0 255   0 ......... 0  FF 0  \n",
        "Blue......   0   0 255 ......... 0  0  FF\n",
        "Indigo....  75   0 130 ......... 4B 0  82\n",
        "Violet.... 143   0 255 ......... 8F 0  FF\n",
        "```"
      ]
    },
    {
      "cell_type": "code",
      "execution_count": null,
      "metadata": {
        "id": "Y9rYUzOKwW5B",
        "outputId": "3e177133-c965-4e73-80c5-a17d4bd72098"
      },
      "outputs": [
        {
          "name": "stdout",
          "output_type": "stream",
          "text": [
            "COLOR      DECIMAL(rgb)          HEXADECIMAL(rgb)\n",
            "========== ===================== ================ \n",
            "Red....... 255   0   0 ......... FF 0  0  \n",
            "Orange.... 255 127   0 ......... FF 7F 0  \n",
            "Yello..... 255 255   0 ......... FF FF 0  \n",
            "Green.....   0 255   0 ......... 0  FF 0  \n",
            "Blue......   0   0 255 ......... 0  0  FF \n",
            "Indigo....  75   0 130 ......... 4B 0  82 \n",
            "Violet.... 143   0 255 ......... 8F 0  FF \n"
          ]
        }
      ],
      "source": [
        "\n",
        "cout << left << setw(10) << \"COLOR\" << ' ' << setw(11)\n",
        "     << \"DECIMAL(rgb)\" << setw(10) << ' ' << setw(8) << \"HEXADECIMAL(rgb)\" << endl;\n",
        "cout << right << setfill('=') << setw(11) << \"= \"\n",
        "     << setfill('=') << setw(22) << \"= \"\n",
        "     << setfill('=') << setw(17) << \"= \" << endl;\n",
        "\n",
        "for(Color c : rainbow){\n",
        "    cout << left << setfill('.') << setw(10) << c.name << ' '\n",
        "         << dec << setfill(' ') << right << setw(3) << c.r // Decimal\n",
        "         << right << setw(4) << c.g\n",
        "         << right << setw(4) << c.b << ' '\n",
        "         << hex << setfill('.') << right << setw(10) << ' ' << setfill(' ') <<  left << setw(3) << c.r // Hexadecimal\n",
        "         << setfill(' ') << setw(3) << c.g\n",
        "         << setw(3) << c.b\n",
        "         << endl;\n",
        "}"
      ]
    },
    {
      "cell_type": "markdown",
      "metadata": {
        "id": "ISqZGhSlwW5B"
      },
      "source": [
        "Notice that the color names and the decimal numbers are right-aligned while the hexadecimal numbers are left-aligned.\n",
        "\n",
        "### CODING CHALLENGE 6\n",
        "Copy the code cell above to the code cell below and refactor it such that:\n",
        "* the `.` filling characters are replaced by underscores `_`.\n",
        "* the alignment of the decimal numbers is changed to left.\n",
        "* the alignment of the hexadecimal numbers is changed to right."
      ]
    },
    {
      "cell_type": "code",
      "execution_count": null,
      "metadata": {
        "id": "HWRlDHZFwW5B"
      },
      "outputs": [],
      "source": [
        "//TODO"
      ]
    },
    {
      "cell_type": "markdown",
      "metadata": {
        "id": "pLXDP5IxwW5B"
      },
      "source": [
        "### CODING CHALLENGE 7\n",
        "\n",
        "Refactor the code of the previous coding challenge to save the output to a file named `rainbow.txt` instead of printing it to the console."
      ]
    },
    {
      "cell_type": "code",
      "execution_count": null,
      "metadata": {
        "id": "RMOlWpYxwW5B"
      },
      "outputs": [],
      "source": [
        "//TODO"
      ]
    },
    {
      "cell_type": "markdown",
      "metadata": {
        "id": "iCW69ys0wW5B"
      },
      "source": [
        "## One more example of reading from and writing to TXT files\n",
        "\n",
        "We have a text file named `top10.txt` containing the top 10 movies of all time according to IMDB. It looks like this (for simplicity, the spaces in the titles are replaced with underscores):\n",
        "\n",
        "```\n",
        "    id title\t                          year\t rated  rating\t  votes\n",
        "102091 The_Shawshank_Redemption           1994\t     R     9.3\t1078045\n",
        "102092 The_Godfather                      1972\t     R     9.2\t 762332\n",
        "102093 The_Godfather:_Part_II             1974\t     R     9.0\t 496772\n",
        "102094 Pulp_Fiction                       1994\t     R     9.0\t 843376\n",
        "102095 The_Good_the_Bad_and_the_Ugly      1966\t     M     9.0\t 325579\n",
        "102096 The_Dark_Knight                    2008\t PG-13     9.0\t1050810\n",
        "102097 12_Angry_Men                       1957\t PG-13     8.9\t 266350\n",
        "102098 Schindler's_List                   1993\t     R     8.9\t 553804\n",
        "102099 The_Return_of_the_King             2003\t PG-13     8.9\t 767958\n",
        "102100 Fight_Club                         1999\t     R     8.8\t 819812\n",
        "```\n",
        "You'll need to download this file from Canvas and save it into the same folder as this notebook.\n",
        "\n",
        "In this example, we'll see how we can read formatted files like this. Let's start by opening the file for reading using the `ifstream` class. We'll also need to include `<vector>`."
      ]
    },
    {
      "cell_type": "code",
      "execution_count": null,
      "metadata": {
        "id": "nRmKBJ0_wW5C"
      },
      "outputs": [],
      "source": [
        "#include <vector>\n",
        "\n",
        "using namespace std;\n",
        "\n",
        "ifstream fin(\"top10.txt\");"
      ]
    },
    {
      "cell_type": "markdown",
      "metadata": {
        "id": "d3j4iEHAwW5C"
      },
      "source": [
        "We can now read the contents of the file one row at a time. But to do so, we need to think about where we are going to save them, and that will depend on the structure of the file. Looking at the file content we see a table of six columns and eleven rows. The first row contains the column headers which are all strings. The rest is the top 10 movies one per line. We need to keep this structure in mind as we move forward.\n",
        "\n",
        "Since the headers are all strings, we just need an array or a vector of six strings to store them. Let's create a vector for these headers, fill it up with actual headers from the file, and print them to the console:"
      ]
    },
    {
      "cell_type": "code",
      "execution_count": null,
      "metadata": {
        "id": "s5hGLSZ1wW5C",
        "outputId": "fe711370-f185-48c8-839b-2283b1d83e3e"
      },
      "outputs": [
        {
          "name": "stdout",
          "output_type": "stream",
          "text": [
            "id title year rated rating votes "
          ]
        }
      ],
      "source": [
        "vector<string> hdrs(6);\n",
        "fin >> hdrs[0] >> hdrs[1] >> hdrs[2] >> hdrs[3] >> hdrs[4] >> hdrs[5];\n",
        "\n",
        "for(string h : hdrs) {\n",
        "    cout << h << \" \";\n",
        "}"
      ]
    },
    {
      "cell_type": "markdown",
      "metadata": {
        "id": "RZVxQqyXwW5C"
      },
      "source": [
        "Similarly, we need to have an array or a vector to store the 10 movies. We'll use an array this time (you can change that to a vector if you want to), but an array of what? It cannot be an array of strings since some columns are strings and some are not. So we need a way to represent each movie and that is what classes are for. So we create a class named `Movie` with six data members one for each column. The types of these members will need to match the movie columns on the file. Here is one implementation of such a class;"
      ]
    },
    {
      "cell_type": "code",
      "execution_count": null,
      "metadata": {
        "id": "eTiwC5s2wW5C"
      },
      "outputs": [],
      "source": [
        "class Movie {\n",
        "private:\n",
        "    int id, year;\n",
        "    long votes;\n",
        "    string title, rated;\n",
        "    double rating;\n",
        "\n",
        "public:\n",
        "    // Constructor\n",
        "    Movie() {}\n",
        "    Movie(int id, string t, int y, string r, double rtng, long v) :\n",
        "        id(id), title(t), year(y), rated(r), rating(rtng), votes(v){}\n",
        "\n",
        "    // Accessors and mutators\n",
        "    int getId() const { return id; }\n",
        "    void setId(int id){ this->id = id; }\n",
        "\n",
        "    int getYear() const { return year; }\n",
        "    void setYear(int y){ this->year = y; }\n",
        "\n",
        "    long getVotes() const { return votes; }\n",
        "    void setVotes(long v){ this->votes = v; }\n",
        "\n",
        "    const string getTitle() const { return title; }\n",
        "    void setTitle(const string& t){ this->title = t; }\n",
        "\n",
        "    const string getRated() const { return rated; }\n",
        "    void setRated(const string& r){ this->rated = r; }\n",
        "\n",
        "    double getRating() const{ return rating; }\n",
        "    void setRating(double r){ this->rating = r; }\n",
        "\n",
        "    friend ostream& operator<<(ostream& out, const Movie& m){\n",
        "        out << \"ID: \" << m.id << '\\n'\n",
        "            << \"TITLE: \" << m.title << '\\n'\n",
        "            << \"YEAR: \" << m.year << '\\n'\n",
        "            << \"RATED: \" << m.rated << '\\n'\n",
        "            << \"RATING: \" << m.rating << '\\n'\n",
        "            << \"VOTES: \" << m.votes << '\\n';\n",
        "        return out;\n",
        "    }\n",
        "\n",
        "    // Destructor\n",
        "    ~Movie(){}\n",
        "};"
      ]
    },
    {
      "cell_type": "markdown",
      "metadata": {
        "id": "Na3sonWZwW5D"
      },
      "source": [
        "Having this class, we can use it to create movie objects; one object for each row in the file. Now we can define the array of 10 movies we talked about earlier. We also need to define six variables (one per column) to temporarily read the movie info into."
      ]
    },
    {
      "cell_type": "code",
      "execution_count": null,
      "metadata": {
        "id": "OnSqnoZNwW5D"
      },
      "outputs": [],
      "source": [
        "Movie movies[10];\n",
        "int id, year;\n",
        "long votes;\n",
        "string title, rated;\n",
        "double rating;"
      ]
    },
    {
      "cell_type": "markdown",
      "metadata": {
        "id": "Eu07xFKfwW5D"
      },
      "source": [
        "Let's read the top 10 movies one at a time and store their information into the `movies` array."
      ]
    },
    {
      "cell_type": "code",
      "execution_count": null,
      "metadata": {
        "id": "sd4bIZ0UwW5D"
      },
      "outputs": [],
      "source": [
        "for(Movie& m : movies){\n",
        "    // Read the movie data into the temporary variables\n",
        "    fin >> id >> title >> year >> rated >> rating >> votes;\n",
        "\n",
        "    // Store the read data into the movie object m\n",
        "    m.setId(id);\n",
        "    m.setTitle(title);\n",
        "    m.setYear(year);\n",
        "    m.setRated(rated);\n",
        "    m.setRating(rating);\n",
        "    m.setVotes(votes);\n",
        "}"
      ]
    },
    {
      "cell_type": "markdown",
      "metadata": {
        "id": "6jHqzEyAwW5D"
      },
      "source": [
        "Since we are finished with the file, we should close it."
      ]
    },
    {
      "cell_type": "code",
      "execution_count": null,
      "metadata": {
        "id": "02cAKmKDwW5D"
      },
      "outputs": [],
      "source": [
        "fin.close();"
      ]
    },
    {
      "cell_type": "markdown",
      "metadata": {
        "id": "O-8JzEwCwW5E"
      },
      "source": [
        "Finally, we'll print the movies to the console and write them to a file named `top10_out.txt`. We'll use the `ofstream` class for that. Notice that the `Movie` class defined the `operator<<` function which implments how we want the movies to be displayed. You can change that function to format the output differently."
      ]
    },
    {
      "cell_type": "code",
      "execution_count": null,
      "metadata": {
        "id": "-DSU5T6FwW5E",
        "outputId": "81b64c2c-4fc1-449d-b9d0-45bfaf8efce5"
      },
      "outputs": [
        {
          "name": "stdout",
          "output_type": "stream",
          "text": [
            "ID: 18ECB\n",
            "TITLE: The_Shawshank_Redemption\n",
            "YEAR: 7CA\n",
            "RATED: R\n",
            "RATING: 9.3\n",
            "VOTES: 10731D\n",
            "\n",
            "ID: 18ECC\n",
            "TITLE: The_Godfather\n",
            "YEAR: 7B4\n",
            "RATED: R\n",
            "RATING: 9.2\n",
            "VOTES: BA1DC\n",
            "\n",
            "ID: 18ECD\n",
            "TITLE: The_Godfather:_Part_II\n",
            "YEAR: 7B6\n",
            "RATED: R\n",
            "RATING: 9\n",
            "VOTES: 79484\n",
            "\n",
            "ID: 18ECE\n",
            "TITLE: Pulp_Fiction\n",
            "YEAR: 7CA\n",
            "RATED: R\n",
            "RATING: 9\n",
            "VOTES: CDE70\n",
            "\n",
            "ID: 18ECF\n",
            "TITLE: The_Good_the_Bad_and_the_Ugly\n",
            "YEAR: 7AE\n",
            "RATED: M\n",
            "RATING: 9\n",
            "VOTES: 4F7CB\n",
            "\n",
            "ID: 18ED0\n",
            "TITLE: The_Dark_Knight\n",
            "YEAR: 7D8\n",
            "RATED: PG-13\n",
            "RATING: 9\n",
            "VOTES: 1008BA\n",
            "\n",
            "ID: 18ED1\n",
            "TITLE: 12_Angry_Men\n",
            "YEAR: 7A5\n",
            "RATED: PG-13\n",
            "RATING: 8.9\n",
            "VOTES: 4106E\n",
            "\n",
            "ID: 18ED2\n",
            "TITLE: Schindler's_List\n",
            "YEAR: 7C9\n",
            "RATED: R\n",
            "RATING: 8.9\n",
            "VOTES: 8734C\n",
            "\n",
            "ID: 18ED3\n",
            "TITLE: The_Return_of_the_King\n",
            "YEAR: 7D3\n",
            "RATED: PG-13\n",
            "RATING: 8.9\n",
            "VOTES: BB7D6\n",
            "\n",
            "ID: 18ED4\n",
            "TITLE: Fight_Club\n",
            "YEAR: 7CF\n",
            "RATED: R\n",
            "RATING: 8.8\n",
            "VOTES: C8264\n",
            "\n"
          ]
        }
      ],
      "source": [
        "ofstream fout(\"top10_out.txt\");\n",
        "\n",
        "for(Movie& m : movies){\n",
        "    cout << m << endl;\n",
        "    fout << m << endl;\n",
        "}\n",
        "\n",
        "fout.close();"
      ]
    },
    {
      "cell_type": "markdown",
      "metadata": {
        "id": "CtJoDKhTwW5E"
      },
      "source": [
        "If you check your directory, you'll find a file named `top10_out.txt` in it. If you open it, it will look like the output of the cell above."
      ]
    }
  ],
  "metadata": {
    "kernelspec": {
      "display_name": "Python 3",
      "name": "python3"
    },
    "language_info": {
      "name": "python"
    },
    "colab": {
      "provenance": []
    }
  },
  "nbformat": 4,
  "nbformat_minor": 0
}